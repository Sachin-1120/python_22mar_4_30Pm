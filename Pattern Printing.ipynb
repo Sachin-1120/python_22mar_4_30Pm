{
 "cells": [
  {
   "cell_type": "code",
   "execution_count": 3,
   "id": "403f7ebc",
   "metadata": {},
   "outputs": [
    {
     "name": "stdout",
     "output_type": "stream",
     "text": [
      "Enter name\n"
     ]
    }
   ],
   "source": [
    "a=list(input('Enter name').split())\n",
    "for i in a:\n",
    "    print(i.lower())"
   ]
  },
  {
   "cell_type": "code",
   "execution_count": null,
   "id": "fd70d6c0",
   "metadata": {},
   "outputs": [],
   "source": []
  },
  {
   "cell_type": "code",
   "execution_count": 5,
   "id": "2c36e607",
   "metadata": {},
   "outputs": [
    {
     "name": "stdout",
     "output_type": "stream",
     "text": [
      "Not Prime\n",
      "Prime\n",
      "Prime\n",
      "Not Prime\n",
      "Not Prime\n",
      "Not Prime\n"
     ]
    }
   ],
   "source": [
    "l=[10,11,13,15,18,25]\n",
    "for i in l:\n",
    "    for j in range(2,i):\n",
    "        if i%j==0:\n",
    "            print('Not Prime')\n",
    "            break\n",
    "    else:\n",
    "        print('Prime')"
   ]
  },
  {
   "cell_type": "code",
   "execution_count": null,
   "id": "d5607f99",
   "metadata": {},
   "outputs": [],
   "source": []
  }
 ],
 "metadata": {
  "kernelspec": {
   "display_name": "Python 3 (ipykernel)",
   "language": "python",
   "name": "python3"
  },
  "language_info": {
   "codemirror_mode": {
    "name": "ipython",
    "version": 3
   },
   "file_extension": ".py",
   "mimetype": "text/x-python",
   "name": "python",
   "nbconvert_exporter": "python",
   "pygments_lexer": "ipython3",
   "version": "3.11.5"
  }
 },
 "nbformat": 4,
 "nbformat_minor": 5
}
