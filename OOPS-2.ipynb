{
 "cells": [
  {
   "cell_type": "code",
   "execution_count": 19,
   "id": "1ae9f8f7",
   "metadata": {},
   "outputs": [
    {
     "name": "stdout",
     "output_type": "stream",
     "text": [
      "Enter age23\n",
      "name -->sachin\n",
      "age -->23\n",
      "name -->sachin\n"
     ]
    }
   ],
   "source": [
    "class A:\n",
    "    name='sachin'\n",
    "    def print_alpha():\n",
    "        name='varun'\n",
    "        age=int(input('Enter age'))\n",
    "        print(f'name -->{A.name}')\n",
    "        print(f'age -->{age}')\n",
    "    def print_beta():\n",
    "        print(f'name -->{A.name}')\n",
    "\n",
    "A.print_alpha()\n",
    "A.print_beta()\n"
   ]
  },
  {
   "cell_type": "code",
   "execution_count": null,
   "id": "2ea497a2",
   "metadata": {},
   "outputs": [],
   "source": [
    "'.'----> access Specifier"
   ]
  },
  {
   "cell_type": "code",
   "execution_count": 6,
   "id": "b402f94d",
   "metadata": {},
   "outputs": [
    {
     "name": "stdout",
     "output_type": "stream",
     "text": [
      "<class 'list'>\n"
     ]
    }
   ],
   "source": [
    "l=[1,2]\n",
    "print(type(l))"
   ]
  },
  {
   "cell_type": "code",
   "execution_count": 9,
   "id": "094b48ce",
   "metadata": {},
   "outputs": [],
   "source": [
    "l1=[]\n",
    "list.append(l1,[1,2])"
   ]
  },
  {
   "cell_type": "code",
   "execution_count": 10,
   "id": "f225d493",
   "metadata": {},
   "outputs": [
    {
     "data": {
      "text/plain": [
       "[[1, 2]]"
      ]
     },
     "execution_count": 10,
     "metadata": {},
     "output_type": "execute_result"
    }
   ],
   "source": [
    "l1"
   ]
  },
  {
   "cell_type": "code",
   "execution_count": null,
   "id": "86199330",
   "metadata": {},
   "outputs": [],
   "source": [
    "class A:\n",
    "    name='sachin'\n",
    "    def print_alpha():\n",
    "        name='varun'\n",
    "        age=int(input('Enter age'))\n",
    "        print(f'name -->{A.name}')\n",
    "        print(f'age -->{age}')\n",
    "    def print_beta():\n",
    "        print(f'name -->{A.name}')"
   ]
  },
  {
   "cell_type": "code",
   "execution_count": 21,
   "id": "941f351d",
   "metadata": {},
   "outputs": [],
   "source": [
    "l=list([1,2,234,4])\n",
    "l1=[12,22,455,6]"
   ]
  },
  {
   "cell_type": "code",
   "execution_count": 22,
   "id": "52a1a60e",
   "metadata": {},
   "outputs": [
    {
     "data": {
      "text/plain": [
       "list"
      ]
     },
     "execution_count": 22,
     "metadata": {},
     "output_type": "execute_result"
    }
   ],
   "source": [
    "type(l)"
   ]
  },
  {
   "cell_type": "code",
   "execution_count": 62,
   "id": "4e5d4a1f",
   "metadata": {},
   "outputs": [],
   "source": [
    "class A:\n",
    "    def get_alpha(self,name,age):\n",
    "        self.f_name=name\n",
    "        self.age=age\n",
    "    def print_alpha(self):\n",
    "        print(self.f_name)\n",
    "        print(self.age)\n"
   ]
  },
  {
   "cell_type": "code",
   "execution_count": 64,
   "id": "718c5ea2",
   "metadata": {},
   "outputs": [
    {
     "name": "stdout",
     "output_type": "stream",
     "text": [
      "Sachin\n",
      "23\n"
     ]
    }
   ],
   "source": [
    "#ob=A()\n",
    "#ob.get_alpha('Sachin',23)\n",
    "#ob.print_alpha()\n",
    "#ob2=A()\n",
    "#ob2.get_alpha('Varun',23)\n",
    "#ob2.print_alpha()\n",
    "A.get_alpha(A,'Sachin',23)\n",
    "A.print_alpha(A)"
   ]
  },
  {
   "cell_type": "code",
   "execution_count": 59,
   "id": "cfc6bb1c",
   "metadata": {},
   "outputs": [
    {
     "data": {
      "text/plain": [
       "mappingproxy({'__module__': '__main__',\n",
       "              'get_alpha': <function __main__.A.get_alpha(self=<class '__main__.A'>, name='', age=0)>,\n",
       "              'print_alpha': <function __main__.A.print_alpha(self=<class '__main__.A'>)>,\n",
       "              '__dict__': <attribute '__dict__' of 'A' objects>,\n",
       "              '__weakref__': <attribute '__weakref__' of 'A' objects>,\n",
       "              '__doc__': None,\n",
       "              'f_name': 'Sachin',\n",
       "              'age': 23})"
      ]
     },
     "execution_count": 59,
     "metadata": {},
     "output_type": "execute_result"
    }
   ],
   "source": [
    "A.__dict__"
   ]
  },
  {
   "cell_type": "code",
   "execution_count": 36,
   "id": "fed6d737",
   "metadata": {},
   "outputs": [
    {
     "data": {
      "text/plain": [
       "2261358676048"
      ]
     },
     "execution_count": 36,
     "metadata": {},
     "output_type": "execute_result"
    }
   ],
   "source": [
    "id(ob)"
   ]
  },
  {
   "cell_type": "code",
   "execution_count": 37,
   "id": "2fc4ad2a",
   "metadata": {},
   "outputs": [
    {
     "data": {
      "text/plain": [
       "2261357125584"
      ]
     },
     "execution_count": 37,
     "metadata": {},
     "output_type": "execute_result"
    }
   ],
   "source": [
    "id(ob2)"
   ]
  },
  {
   "cell_type": "code",
   "execution_count": 69,
   "id": "43528b27",
   "metadata": {},
   "outputs": [],
   "source": [
    "import random"
   ]
  },
  {
   "cell_type": "code",
   "execution_count": 71,
   "id": "08ff5276",
   "metadata": {},
   "outputs": [
    {
     "name": "stdout",
     "output_type": "stream",
     "text": [
      "<class 'module'>\n"
     ]
    }
   ],
   "source": [
    "print(type(random))"
   ]
  },
  {
   "cell_type": "code",
   "execution_count": null,
   "id": "5a99423c",
   "metadata": {},
   "outputs": [],
   "source": []
  },
  {
   "cell_type": "code",
   "execution_count": 72,
   "id": "7018799d",
   "metadata": {},
   "outputs": [
    {
     "name": "stdout",
     "output_type": "stream",
     "text": [
      "hello\n"
     ]
    }
   ],
   "source": [
    "class A:\n",
    "    def print_i():\n",
    "        print('hello')\n",
    "A.print_i()"
   ]
  },
  {
   "cell_type": "code",
   "execution_count": null,
   "id": "bed8021d",
   "metadata": {},
   "outputs": [],
   "source": []
  },
  {
   "cell_type": "code",
   "execution_count": null,
   "id": "c79769f2",
   "metadata": {},
   "outputs": [],
   "source": []
  },
  {
   "cell_type": "code",
   "execution_count": 81,
   "id": "1b4386af",
   "metadata": {},
   "outputs": [
    {
     "name": "stdout",
     "output_type": "stream",
     "text": [
      "f_name : Sachin\n",
      "age : 23\n",
      "city : Jaipur\n",
      "f_name : Varun\n",
      "age : 23\n",
      "score : 89\n"
     ]
    }
   ],
   "source": [
    "class A:\n",
    "    def get_alpha(self,name,age):\n",
    "        self.f_name=name\n",
    "        self.age=age\n",
    "    def print_alpha(self):\n",
    "        d=self.__dict__\n",
    "        for key,value in d.items():\n",
    "            print(f'{key} : {value}')\n",
    "ob=A()\n",
    "ob.get_alpha('Sachin',23)\n",
    "ob.city='Jaipur'\n",
    "ob1=A()\n",
    "ob1.get_alpha('Varun',23)\n",
    "ob1.score=89\n",
    "ob.print_alpha()\n",
    "ob1.print_alpha()"
   ]
  },
  {
   "cell_type": "code",
   "execution_count": 74,
   "id": "5aa78a2d",
   "metadata": {},
   "outputs": [],
   "source": [
    "ob.city='Jaipur'"
   ]
  },
  {
   "cell_type": "code",
   "execution_count": 75,
   "id": "5787da7a",
   "metadata": {},
   "outputs": [
    {
     "data": {
      "text/plain": [
       "'Jaipur'"
      ]
     },
     "execution_count": 75,
     "metadata": {},
     "output_type": "execute_result"
    }
   ],
   "source": [
    "ob.city"
   ]
  },
  {
   "cell_type": "code",
   "execution_count": 77,
   "id": "dbb70432",
   "metadata": {},
   "outputs": [
    {
     "data": {
      "text/plain": [
       "mappingproxy({'__module__': '__main__',\n",
       "              'get_alpha': <function __main__.A.get_alpha(self, name, age)>,\n",
       "              'print_alpha': <function __main__.A.print_alpha(self)>,\n",
       "              '__dict__': <attribute '__dict__' of 'A' objects>,\n",
       "              '__weakref__': <attribute '__weakref__' of 'A' objects>,\n",
       "              '__doc__': None})"
      ]
     },
     "execution_count": 77,
     "metadata": {},
     "output_type": "execute_result"
    }
   ],
   "source": [
    "A.__dict__"
   ]
  },
  {
   "cell_type": "code",
   "execution_count": 78,
   "id": "3c7e5b94",
   "metadata": {},
   "outputs": [
    {
     "data": {
      "text/plain": [
       "{'f_name': 'Sachin', 'age': 23, 'city': 'Jaipur'}"
      ]
     },
     "execution_count": 78,
     "metadata": {},
     "output_type": "execute_result"
    }
   ],
   "source": [
    "ob.__dict__"
   ]
  },
  {
   "cell_type": "code",
   "execution_count": 89,
   "id": "12c65cef",
   "metadata": {},
   "outputs": [],
   "source": [
    "class A:\n",
    "    #class Variable\n",
    "    team ='Developer'\n",
    "    def get_info(self,name,age):\n",
    "        self.name=name\n",
    "        self.age=age\n",
    "    def print_info(self):\n",
    "        message='ByeBye'\n",
    "        print('team-->',self.team)\n",
    "        print('name-->',self.name)\n",
    "        print('age-->',self.age)\n",
    "        print(message)\n",
    "        "
   ]
  },
  {
   "cell_type": "code",
   "execution_count": 90,
   "id": "d777109b",
   "metadata": {},
   "outputs": [],
   "source": [
    "ob=A()"
   ]
  },
  {
   "cell_type": "code",
   "execution_count": 91,
   "id": "256b5cbc",
   "metadata": {},
   "outputs": [
    {
     "name": "stdout",
     "output_type": "stream",
     "text": [
      "team--> Developer\n",
      "name--> sachin\n",
      "age--> 23\n",
      "ByeBye\n"
     ]
    }
   ],
   "source": [
    "ob.get_info('sachin',23)\n",
    "ob.print_info()"
   ]
  },
  {
   "cell_type": "code",
   "execution_count": null,
   "id": "d78a0705",
   "metadata": {},
   "outputs": [],
   "source": []
  }
 ],
 "metadata": {
  "kernelspec": {
   "display_name": "Python 3 (ipykernel)",
   "language": "python",
   "name": "python3"
  },
  "language_info": {
   "codemirror_mode": {
    "name": "ipython",
    "version": 3
   },
   "file_extension": ".py",
   "mimetype": "text/x-python",
   "name": "python",
   "nbconvert_exporter": "python",
   "pygments_lexer": "ipython3",
   "version": "3.11.5"
  }
 },
 "nbformat": 4,
 "nbformat_minor": 5
}
