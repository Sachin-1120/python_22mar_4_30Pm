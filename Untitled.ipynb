{
 "cells": [
  {
   "cell_type": "code",
   "execution_count": 7,
   "id": "ab618ac1",
   "metadata": {},
   "outputs": [
    {
     "ename": "TypeError",
     "evalue": "'int' object is not iterable",
     "output_type": "error",
     "traceback": [
      "\u001b[1;31m---------------------------------------------------------------------------\u001b[0m",
      "\u001b[1;31mTypeError\u001b[0m                                 Traceback (most recent call last)",
      "Cell \u001b[1;32mIn[7], line 2\u001b[0m\n\u001b[0;32m      1\u001b[0m l\u001b[38;5;241m=\u001b[39m[\u001b[38;5;241m1\u001b[39m,\u001b[38;5;241m2\u001b[39m,\u001b[38;5;241m3\u001b[39m,[\u001b[38;5;241m4\u001b[39m,\u001b[38;5;241m5\u001b[39m],\u001b[38;5;241m7\u001b[39m,\u001b[38;5;241m8\u001b[39m,[\u001b[38;5;241m9\u001b[39m,\u001b[38;5;241m10\u001b[39m]]\n\u001b[1;32m----> 2\u001b[0m [j \u001b[38;5;28;01mfor\u001b[39;00m j \u001b[38;5;129;01min\u001b[39;00m l \u001b[38;5;28;01mfor\u001b[39;00m i \u001b[38;5;129;01min\u001b[39;00m (j \u001b[38;5;28;01mif\u001b[39;00m \u001b[38;5;28mtype\u001b[39m(j)\u001b[38;5;241m!=\u001b[39m\u001b[38;5;28mlist\u001b[39m \u001b[38;5;28;01melse\u001b[39;00m j) ]\n",
      "Cell \u001b[1;32mIn[7], line 2\u001b[0m, in \u001b[0;36m<listcomp>\u001b[1;34m(.0)\u001b[0m\n\u001b[0;32m      1\u001b[0m l\u001b[38;5;241m=\u001b[39m[\u001b[38;5;241m1\u001b[39m,\u001b[38;5;241m2\u001b[39m,\u001b[38;5;241m3\u001b[39m,[\u001b[38;5;241m4\u001b[39m,\u001b[38;5;241m5\u001b[39m],\u001b[38;5;241m7\u001b[39m,\u001b[38;5;241m8\u001b[39m,[\u001b[38;5;241m9\u001b[39m,\u001b[38;5;241m10\u001b[39m]]\n\u001b[1;32m----> 2\u001b[0m [j \u001b[38;5;28;01mfor\u001b[39;00m j \u001b[38;5;129;01min\u001b[39;00m l \u001b[38;5;28;01mfor\u001b[39;00m i \u001b[38;5;129;01min\u001b[39;00m (j \u001b[38;5;28;01mif\u001b[39;00m \u001b[38;5;28mtype\u001b[39m(j)\u001b[38;5;241m!=\u001b[39m\u001b[38;5;28mlist\u001b[39m \u001b[38;5;28;01melse\u001b[39;00m j) ]\n",
      "\u001b[1;31mTypeError\u001b[0m: 'int' object is not iterable"
     ]
    }
   ],
   "source": [
    "l=[1,2,3,[4,5],7,8,[9,10]]\n",
    "[j for j in l for i in (j if type(j)!=list else j) ]"
   ]
  },
  {
   "cell_type": "code",
   "execution_count": 29,
   "id": "cdad1151",
   "metadata": {},
   "outputs": [
    {
     "data": {
      "text/plain": [
       "[1, 2]"
      ]
     },
     "execution_count": 29,
     "metadata": {},
     "output_type": "execute_result"
    }
   ],
   "source": [
    "#l=[1,2,3,[4,5]]\n",
    "#[i for i in l if type(i)!=list]\n",
    "l=[[1,2]]\n",
    "[j for i in l for j in i if type(i)==list]"
   ]
  },
  {
   "cell_type": "code",
   "execution_count": null,
   "id": "a1b27b35",
   "metadata": {},
   "outputs": [],
   "source": []
  },
  {
   "cell_type": "code",
   "execution_count": 24,
   "id": "9ddd2724",
   "metadata": {},
   "outputs": [],
   "source": [
    "ls = [0, [1,2], 1, [3,4], 2, [5,6], 3]"
   ]
  },
  {
   "cell_type": "code",
   "execution_count": 25,
   "id": "a9df5bd2",
   "metadata": {},
   "outputs": [
    {
     "data": {
      "text/plain": [
       "[0, [1, 2], 1, [3, 4], 2, [5, 6], 3]"
      ]
     },
     "execution_count": 25,
     "metadata": {},
     "output_type": "execute_result"
    }
   ],
   "source": [
    "ls"
   ]
  },
  {
   "cell_type": "code",
   "execution_count": null,
   "id": "ada4cfdd",
   "metadata": {},
   "outputs": [],
   "source": [
    "[[i for i in j if type(i)!=] ]"
   ]
  }
 ],
 "metadata": {
  "kernelspec": {
   "display_name": "Python 3 (ipykernel)",
   "language": "python",
   "name": "python3"
  },
  "language_info": {
   "codemirror_mode": {
    "name": "ipython",
    "version": 3
   },
   "file_extension": ".py",
   "mimetype": "text/x-python",
   "name": "python",
   "nbconvert_exporter": "python",
   "pygments_lexer": "ipython3",
   "version": "3.11.5"
  }
 },
 "nbformat": 4,
 "nbformat_minor": 5
}
