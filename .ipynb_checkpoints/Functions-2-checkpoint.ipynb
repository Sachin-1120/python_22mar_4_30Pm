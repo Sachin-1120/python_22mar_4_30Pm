{
 "cells": [
  {
   "cell_type": "code",
   "execution_count": 4,
   "id": "e6a9b146",
   "metadata": {},
   "outputs": [
    {
     "data": {
      "text/plain": [
       "'Palindrome'"
      ]
     },
     "execution_count": 4,
     "metadata": {},
     "output_type": "execute_result"
    }
   ],
   "source": [
    "def palindrome(n):\n",
    "    n=str(n)\n",
    "    if n==n[::-1]:\n",
    "        return 'Palindrome'\n",
    "    else:\n",
    "        return 'Not Palindrome'\n",
    "palindrome(121)  "
   ]
  },
  {
   "cell_type": "code",
   "execution_count": 5,
   "id": "10abfcfc",
   "metadata": {},
   "outputs": [
    {
     "name": "stdout",
     "output_type": "stream",
     "text": [
      "hello\n",
      "Hi\n"
     ]
    },
    {
     "data": {
      "text/plain": [
       "'Not Palindrome'"
      ]
     },
     "execution_count": 5,
     "metadata": {},
     "output_type": "execute_result"
    }
   ],
   "source": [
    "print('hello')\n",
    "print('Hi')\n",
    "\n",
    "a='150'\n",
    "palindrome(a)"
   ]
  },
  {
   "cell_type": "code",
   "execution_count": 3,
   "id": "f8589a82",
   "metadata": {},
   "outputs": [
    {
     "data": {
      "text/plain": [
       "'Prime'"
      ]
     },
     "execution_count": 3,
     "metadata": {},
     "output_type": "execute_result"
    }
   ],
   "source": [
    "def prime(n):\n",
    "    i=2\n",
    "    while i<n:\n",
    "        if n%i==0:\n",
    "            return 'Not Prime'\n",
    "        i+=1\n",
    "    else:\n",
    "        return 'Prime'\n",
    "prime(7)"
   ]
  },
  {
   "cell_type": "code",
   "execution_count": 6,
   "id": "62abdf66",
   "metadata": {},
   "outputs": [
    {
     "data": {
      "text/plain": [
       "'Armstrong'"
      ]
     },
     "execution_count": 6,
     "metadata": {},
     "output_type": "execute_result"
    }
   ],
   "source": [
    "#Armstrong Number\n",
    "\n",
    "def Armstrong(n):\n",
    "    i=n\n",
    "    k=0\n",
    "    while i!=0:\n",
    "        k=k+(i%10)**len(str(n))\n",
    "        i//=10\n",
    "    if n==k:\n",
    "        return 'Armstrong'\n",
    "    else:\n",
    "        return 'Not Armstrong'\n",
    "        \n",
    "Armstrong(153)"
   ]
  },
  {
   "cell_type": "code",
   "execution_count": null,
   "id": "82f78b82",
   "metadata": {},
   "outputs": [],
   "source": [
    "l=0,1,1,2,3,5,8,13,\n"
   ]
  },
  {
   "cell_type": "code",
   "execution_count": 7,
   "id": "b08f6353",
   "metadata": {},
   "outputs": [],
   "source": [
    "def Fabionnici(n):\n",
    "    i=0\n",
    "    j=1\n",
    "    k=1\n",
    "    while i<n:\n",
    "        if i<=1:\n",
    "            print(i)\n",
    "        else:\n",
    "            print(j)\n",
    "            j,k=j+k,j\n",
    "        i+=1"
   ]
  },
  {
   "cell_type": "code",
   "execution_count": 8,
   "id": "1f60c148",
   "metadata": {},
   "outputs": [
    {
     "name": "stdout",
     "output_type": "stream",
     "text": [
      "0\n",
      "1\n",
      "1\n",
      "2\n",
      "3\n",
      "5\n",
      "8\n",
      "13\n",
      "21\n",
      "34\n"
     ]
    }
   ],
   "source": [
    "Fabionnici(10)"
   ]
  },
  {
   "cell_type": "code",
   "execution_count": null,
   "id": "a7f29a22",
   "metadata": {},
   "outputs": [],
   "source": []
  }
 ],
 "metadata": {
  "kernelspec": {
   "display_name": "Python 3 (ipykernel)",
   "language": "python",
   "name": "python3"
  },
  "language_info": {
   "codemirror_mode": {
    "name": "ipython",
    "version": 3
   },
   "file_extension": ".py",
   "mimetype": "text/x-python",
   "name": "python",
   "nbconvert_exporter": "python",
   "pygments_lexer": "ipython3",
   "version": "3.11.5"
  }
 },
 "nbformat": 4,
 "nbformat_minor": 5
}
