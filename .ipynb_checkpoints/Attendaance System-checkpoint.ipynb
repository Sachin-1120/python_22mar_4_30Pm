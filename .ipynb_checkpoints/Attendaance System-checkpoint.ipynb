{
 "cells": [
  {
   "cell_type": "code",
   "execution_count": 17,
   "id": "004754b4",
   "metadata": {},
   "outputs": [],
   "source": [
    "with open('student.csv','w') as fp:\n",
    "    l='Date,Sachin,Ravi,Simran'\n",
    "    fp.write(l)"
   ]
  },
  {
   "cell_type": "code",
   "execution_count": 18,
   "id": "a4d33849",
   "metadata": {},
   "outputs": [
    {
     "name": "stdout",
     "output_type": "stream",
     "text": [
      "Date,Sachin,Ravi,Simran\n"
     ]
    }
   ],
   "source": [
    "with open('student.csv','r') as fp:\n",
    "    l=fp.readline()\n",
    "print(l)"
   ]
  },
  {
   "cell_type": "code",
   "execution_count": 19,
   "id": "a1b4804a",
   "metadata": {},
   "outputs": [],
   "source": [
    "import datetime"
   ]
  },
  {
   "cell_type": "code",
   "execution_count": 22,
   "id": "e618bc31",
   "metadata": {},
   "outputs": [
    {
     "name": "stdout",
     "output_type": "stream",
     "text": [
      "Mark Sachin Presence : -->a\n",
      "Mark Ravi Presence : -->a\n",
      "Mark Simran Presence : -->a\n"
     ]
    }
   ],
   "source": [
    "import datetime\n",
    "with open('student.csv','w') as fp:\n",
    "    l='Date,Sachin,Ravi,Simran'\n",
    "    fp.write(l)\n",
    "with open('student.csv','r') as fp:\n",
    "    l=fp.readline()\n",
    "b=[]\n",
    "for i in l.split(','):\n",
    "    if i=='Date':\n",
    "        b.append(str(datetime.date.today()) )\n",
    "    else:\n",
    "        n=input(f'Mark {i} Presence : -->')\n",
    "        b.append(n.upper())\n",
    "b=','.join(b)\n",
    "with open('student.csv','a') as fp:\n",
    "    fp.write('\\n')\n",
    "    fp.write(b)\n",
    "\n",
    "    "
   ]
  },
  {
   "cell_type": "code",
   "execution_count": null,
   "id": "6e09629d",
   "metadata": {},
   "outputs": [],
   "source": []
  }
 ],
 "metadata": {
  "kernelspec": {
   "display_name": "Python 3 (ipykernel)",
   "language": "python",
   "name": "python3"
  },
  "language_info": {
   "codemirror_mode": {
    "name": "ipython",
    "version": 3
   },
   "file_extension": ".py",
   "mimetype": "text/x-python",
   "name": "python",
   "nbconvert_exporter": "python",
   "pygments_lexer": "ipython3",
   "version": "3.11.5"
  }
 },
 "nbformat": 4,
 "nbformat_minor": 5
}
