{
 "cells": [
  {
   "cell_type": "code",
   "execution_count": 11,
   "id": "045f4ef6",
   "metadata": {},
   "outputs": [
    {
     "name": "stdout",
     "output_type": "stream",
     "text": [
      "Walking\n",
      "Eating\n",
      "Walking\n"
     ]
    }
   ],
   "source": [
    "class Person:\n",
    "    def walk(self):\n",
    "        print('Walking')\n",
    "    def eat(self):\n",
    "        print('Eating')\n",
    "p1=Person()\n",
    "p2=Person()\n",
    "Person.walk(p2)\n",
    "p1.eat()\n",
    "p3=''\n",
    "Person.walk('hello')"
   ]
  },
  {
   "cell_type": "code",
   "execution_count": 12,
   "id": "b67c26a7",
   "metadata": {},
   "outputs": [
    {
     "data": {
      "text/plain": [
       "False"
      ]
     },
     "execution_count": 12,
     "metadata": {},
     "output_type": "execute_result"
    }
   ],
   "source": [
    "isinstance(p3,Person)"
   ]
  },
  {
   "cell_type": "code",
   "execution_count": 17,
   "id": "8809f505",
   "metadata": {},
   "outputs": [
    {
     "data": {
      "text/plain": [
       "False"
      ]
     },
     "execution_count": 17,
     "metadata": {},
     "output_type": "execute_result"
    }
   ],
   "source": [
    "p3.__class__==Person"
   ]
  },
  {
   "cell_type": "code",
   "execution_count": 18,
   "id": "3a85b22a",
   "metadata": {},
   "outputs": [
    {
     "name": "stdout",
     "output_type": "stream",
     "text": [
      "Hello from  1326963810384\n",
      "Hello from  1326963813648\n"
     ]
    }
   ],
   "source": [
    "class A:\n",
    "    def __init__(self):\n",
    "            print('Hello from ',id(self))\n",
    "p1=A()\n",
    "p2=A()"
   ]
  },
  {
   "cell_type": "code",
   "execution_count": 19,
   "id": "8ec70cc5",
   "metadata": {},
   "outputs": [
    {
     "data": {
      "text/plain": [
       "1326963810384"
      ]
     },
     "execution_count": 19,
     "metadata": {},
     "output_type": "execute_result"
    }
   ],
   "source": [
    "id(p1)"
   ]
  },
  {
   "cell_type": "code",
   "execution_count": 20,
   "id": "ffcdacee",
   "metadata": {},
   "outputs": [
    {
     "data": {
      "text/plain": [
       "1326963813648"
      ]
     },
     "execution_count": 20,
     "metadata": {},
     "output_type": "execute_result"
    }
   ],
   "source": [
    "id(p2)"
   ]
  },
  {
   "cell_type": "code",
   "execution_count": 22,
   "id": "b0e50db1",
   "metadata": {},
   "outputs": [
    {
     "name": "stdout",
     "output_type": "stream",
     "text": [
      "Hello  Sachin\n",
      "Hello  Vansh\n"
     ]
    }
   ],
   "source": [
    "class A:\n",
    "    def __init__(self,name,number):\n",
    "        self.name=name\n",
    "        self.number=number\n",
    "        print('Hello ',self.name)\n",
    "p1=A('Sachin',7878012779)\n",
    "p2=A('Vansh',7878012779)\n"
   ]
  },
  {
   "cell_type": "code",
   "execution_count": 23,
   "id": "f910f234",
   "metadata": {},
   "outputs": [
    {
     "data": {
      "text/plain": [
       "'Sachin'"
      ]
     },
     "execution_count": 23,
     "metadata": {},
     "output_type": "execute_result"
    }
   ],
   "source": [
    "p1.name"
   ]
  },
  {
   "cell_type": "code",
   "execution_count": 24,
   "id": "44cbe253",
   "metadata": {},
   "outputs": [
    {
     "data": {
      "text/plain": [
       "7878012779"
      ]
     },
     "execution_count": 24,
     "metadata": {},
     "output_type": "execute_result"
    }
   ],
   "source": [
    "p2.number"
   ]
  },
  {
   "cell_type": "code",
   "execution_count": 25,
   "id": "f948ceef",
   "metadata": {},
   "outputs": [
    {
     "data": {
      "text/plain": [
       "'Vansh'"
      ]
     },
     "execution_count": 25,
     "metadata": {},
     "output_type": "execute_result"
    }
   ],
   "source": [
    "p2.name"
   ]
  },
  {
   "cell_type": "code",
   "execution_count": 26,
   "id": "f90afd5e",
   "metadata": {},
   "outputs": [],
   "source": [
    "p1.name='Arun'"
   ]
  },
  {
   "cell_type": "code",
   "execution_count": 27,
   "id": "6f69e0aa",
   "metadata": {},
   "outputs": [
    {
     "data": {
      "text/plain": [
       "'Vansh'"
      ]
     },
     "execution_count": 27,
     "metadata": {},
     "output_type": "execute_result"
    }
   ],
   "source": [
    "p2.name"
   ]
  },
  {
   "cell_type": "code",
   "execution_count": 28,
   "id": "d1b8eaf2",
   "metadata": {},
   "outputs": [
    {
     "data": {
      "text/plain": [
       "'Arun'"
      ]
     },
     "execution_count": 28,
     "metadata": {},
     "output_type": "execute_result"
    }
   ],
   "source": [
    "p1.name"
   ]
  },
  {
   "cell_type": "code",
   "execution_count": 29,
   "id": "af492334",
   "metadata": {},
   "outputs": [],
   "source": [
    "p1.city='Jaipur'"
   ]
  },
  {
   "cell_type": "code",
   "execution_count": 30,
   "id": "c481d6ae",
   "metadata": {},
   "outputs": [
    {
     "data": {
      "text/plain": [
       "'Vansh'"
      ]
     },
     "execution_count": 30,
     "metadata": {},
     "output_type": "execute_result"
    }
   ],
   "source": [
    "p2.name"
   ]
  },
  {
   "cell_type": "code",
   "execution_count": 31,
   "id": "e49f2470",
   "metadata": {},
   "outputs": [
    {
     "data": {
      "text/plain": [
       "mappingproxy({'__module__': '__main__',\n",
       "              '__init__': <function __main__.A.__init__(self, name, number)>,\n",
       "              '__dict__': <attribute '__dict__' of 'A' objects>,\n",
       "              '__weakref__': <attribute '__weakref__' of 'A' objects>,\n",
       "              '__doc__': None})"
      ]
     },
     "execution_count": 31,
     "metadata": {},
     "output_type": "execute_result"
    }
   ],
   "source": [
    "A.__dict__"
   ]
  },
  {
   "cell_type": "code",
   "execution_count": 32,
   "id": "094e6d78",
   "metadata": {},
   "outputs": [
    {
     "data": {
      "text/plain": [
       "{'name': 'Arun', 'number': 7878012779, 'city': 'Jaipur'}"
      ]
     },
     "execution_count": 32,
     "metadata": {},
     "output_type": "execute_result"
    }
   ],
   "source": [
    "p1.__dict__"
   ]
  },
  {
   "cell_type": "code",
   "execution_count": 34,
   "id": "d64d1589",
   "metadata": {},
   "outputs": [
    {
     "data": {
      "text/plain": [
       "{'name': 'Vansh', 'number': 7878012779}"
      ]
     },
     "execution_count": 34,
     "metadata": {},
     "output_type": "execute_result"
    }
   ],
   "source": [
    "p2.__dict__"
   ]
  },
  {
   "cell_type": "code",
   "execution_count": 49,
   "id": "d7f75d6f",
   "metadata": {},
   "outputs": [
    {
     "name": "stdout",
     "output_type": "stream",
     "text": [
      "Hello sachin\n",
      "bye sachin\n",
      "Hello sachin\n"
     ]
    }
   ],
   "source": [
    "class A:\n",
    "    def __init__(self):\n",
    "        self.name='sachin'\n",
    "        self.print_alpha()\n",
    "        self.get_alpha()\n",
    "        self.print_alpha()\n",
    "    def print_alpha(self=None):\n",
    "        print('Hello',self.name)\n",
    "    def get_alpha(self):\n",
    "        print('bye',self.name)\n",
    "        \n",
    "ob1=A()"
   ]
  },
  {
   "cell_type": "markdown",
   "id": "d01dfd24",
   "metadata": {},
   "source": []
  },
  {
   "cell_type": "code",
   "execution_count": 50,
   "id": "bd4b9db2",
   "metadata": {},
   "outputs": [
    {
     "name": "stdout",
     "output_type": "stream",
     "text": [
      "Welcome to grras solution\n"
     ]
    }
   ],
   "source": [
    "class A:\n",
    "    def hello(self):\n",
    "        print('Welcome to grras solution')\n",
    "ob1=A()\n",
    "ob1.hello()"
   ]
  },
  {
   "cell_type": "markdown",
   "id": "3e062469",
   "metadata": {},
   "source": [
    "`class method`"
   ]
  },
  {
   "cell_type": "code",
   "execution_count": 61,
   "id": "bb0d9bd7",
   "metadata": {},
   "outputs": [
    {
     "name": "stdout",
     "output_type": "stream",
     "text": [
      "1326926618272\n",
      "Hello sachin\n"
     ]
    },
    {
     "data": {
      "text/plain": [
       "'Varun'"
      ]
     },
     "execution_count": 61,
     "metadata": {},
     "output_type": "execute_result"
    }
   ],
   "source": [
    "class A:\n",
    "    name='sachin'\n",
    "    @classmethod\n",
    "    def print_alpha(cls):\n",
    "        print(id(cls))\n",
    "        print('Hello',cls.name)\n",
    "        cls.name='Varun'\n",
    "ob=A()\n",
    "ob.print_alpha()\n",
    "A.name"
   ]
  },
  {
   "cell_type": "code",
   "execution_count": 55,
   "id": "db903e93",
   "metadata": {},
   "outputs": [
    {
     "name": "stdout",
     "output_type": "stream",
     "text": [
      "1326926592896\n",
      "Hello sachin\n"
     ]
    }
   ],
   "source": [
    "ob.print_alpha()"
   ]
  },
  {
   "cell_type": "code",
   "execution_count": 53,
   "id": "706cb400",
   "metadata": {},
   "outputs": [
    {
     "data": {
      "text/plain": [
       "1326967835408"
      ]
     },
     "execution_count": 53,
     "metadata": {},
     "output_type": "execute_result"
    }
   ],
   "source": [
    "id(ob)"
   ]
  },
  {
   "cell_type": "code",
   "execution_count": 56,
   "id": "8e9167a7",
   "metadata": {},
   "outputs": [
    {
     "data": {
      "text/plain": [
       "1326926592896"
      ]
     },
     "execution_count": 56,
     "metadata": {},
     "output_type": "execute_result"
    }
   ],
   "source": [
    "id(A)"
   ]
  },
  {
   "cell_type": "code",
   "execution_count": 59,
   "id": "754e1269",
   "metadata": {},
   "outputs": [
    {
     "name": "stdout",
     "output_type": "stream",
     "text": [
      "name Sachin\n",
      "name Varun\n"
     ]
    },
    {
     "data": {
      "text/plain": [
       "'Sachin'"
      ]
     },
     "execution_count": 59,
     "metadata": {},
     "output_type": "execute_result"
    }
   ],
   "source": [
    "class A:\n",
    "    name='Sachin'\n",
    "    def print_alpha(self):\n",
    "        print('name',self.name)\n",
    "        self.name='Varun'\n",
    "    def get_alpha(self):\n",
    "        print('name',self.name)\n",
    "ob=A()\n",
    "ob.print_alpha()\n",
    "ob.get_alpha()\n",
    "A.name"
   ]
  },
  {
   "cell_type": "code",
   "execution_count": null,
   "id": "2e8b9fb9",
   "metadata": {},
   "outputs": [],
   "source": []
  },
  {
   "cell_type": "code",
   "execution_count": 68,
   "id": "00be65cb",
   "metadata": {},
   "outputs": [
    {
     "name": "stdout",
     "output_type": "stream",
     "text": [
      "name --> sachin\n",
      "age --> 23\n"
     ]
    }
   ],
   "source": [
    "class A:\n",
    "    def __init__(self,name,age):\n",
    "        self.name=name\n",
    "        self.age=age\n",
    "        self.print_alpha()\n",
    "    def print_alpha(self):\n",
    "        print('name -->',self.name)\n",
    "        print('age -->',self.age)\n",
    "    @classmethod\n",
    "    def gen(cls):\n",
    "        print('hello i am in class method ')\n",
    "        return cls('Varun',24)\n",
    "ob=A('sachin',23)"
   ]
  },
  {
   "cell_type": "code",
   "execution_count": 71,
   "id": "87efb4a6",
   "metadata": {},
   "outputs": [
    {
     "name": "stdout",
     "output_type": "stream",
     "text": [
      "hello i am in class method \n",
      "name --> Varun\n",
      "age --> 24\n"
     ]
    }
   ],
   "source": [
    "a=ob.gen()"
   ]
  },
  {
   "cell_type": "code",
   "execution_count": 72,
   "id": "e0975991",
   "metadata": {},
   "outputs": [
    {
     "data": {
      "text/plain": [
       "24"
      ]
     },
     "execution_count": 72,
     "metadata": {},
     "output_type": "execute_result"
    }
   ],
   "source": [
    "a.age"
   ]
  },
  {
   "cell_type": "code",
   "execution_count": 73,
   "id": "c6a3b8b1",
   "metadata": {},
   "outputs": [
    {
     "data": {
      "text/plain": [
       "'Varun'"
      ]
     },
     "execution_count": 73,
     "metadata": {},
     "output_type": "execute_result"
    }
   ],
   "source": [
    "a.name"
   ]
  },
  {
   "cell_type": "code",
   "execution_count": null,
   "id": "2799d1a5",
   "metadata": {},
   "outputs": [],
   "source": []
  }
 ],
 "metadata": {
  "kernelspec": {
   "display_name": "Python 3 (ipykernel)",
   "language": "python",
   "name": "python3"
  },
  "language_info": {
   "codemirror_mode": {
    "name": "ipython",
    "version": 3
   },
   "file_extension": ".py",
   "mimetype": "text/x-python",
   "name": "python",
   "nbconvert_exporter": "python",
   "pygments_lexer": "ipython3",
   "version": "3.11.5"
  }
 },
 "nbformat": 4,
 "nbformat_minor": 5
}
