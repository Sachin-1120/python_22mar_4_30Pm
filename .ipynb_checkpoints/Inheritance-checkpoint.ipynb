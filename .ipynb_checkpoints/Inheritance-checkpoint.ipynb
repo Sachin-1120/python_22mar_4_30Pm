{
 "cells": [
  {
   "cell_type": "markdown",
   "id": "f34fb35a",
   "metadata": {},
   "source": [
    "Types Of `Inheritance`\n",
    "\n",
    "1. `Single Level Inheritance`\n",
    "2. `Multi Level Inheritance`\n",
    "3. `Multiple Inheritance`\n",
    "4. `Heirarichal  Inheritance`\n",
    "5. `Hybrid Inheritance`\n"
   ]
  },
  {
   "cell_type": "markdown",
   "id": "b925d334",
   "metadata": {},
   "source": [
    "`Single Level Inheritance` "
   ]
  },
  {
   "cell_type": "markdown",
   "id": "96e4cac1",
   "metadata": {},
   "source": [
    "`Syntax`\n",
    "\n",
    "class A:\n",
    "\n",
    "    feature 1\n",
    "\n",
    "    feature 2\n",
    "\n",
    "class B(A):\n",
    "        \n",
    "      pass\n",
    "    "
   ]
  },
  {
   "cell_type": "code",
   "execution_count": 7,
   "id": "15abb506",
   "metadata": {},
   "outputs": [
    {
     "name": "stdout",
     "output_type": "stream",
     "text": [
      "From Class B\n"
     ]
    }
   ],
   "source": [
    "class A:\n",
    "    name='Sachin'\n",
    "    def print_alpha(self):\n",
    "        print('Hello')\n",
    "    def print_hi(self):\n",
    "        print('hi')\n",
    "class B(A):\n",
    "    def __init__(self):\n",
    "        print('From Class B')\n",
    "ob=B()"
   ]
  },
  {
   "cell_type": "code",
   "execution_count": 2,
   "id": "577895e7",
   "metadata": {},
   "outputs": [
    {
     "data": {
      "text/plain": [
       "mappingproxy({'__module__': '__main__',\n",
       "              '__init__': <function __main__.B.__init__(self)>,\n",
       "              '__doc__': None})"
      ]
     },
     "execution_count": 2,
     "metadata": {},
     "output_type": "execute_result"
    }
   ],
   "source": [
    "B.__dict__"
   ]
  },
  {
   "cell_type": "code",
   "execution_count": 3,
   "id": "0578d1bc",
   "metadata": {},
   "outputs": [
    {
     "data": {
      "text/plain": [
       "{}"
      ]
     },
     "execution_count": 3,
     "metadata": {},
     "output_type": "execute_result"
    }
   ],
   "source": [
    "ob.__dict__"
   ]
  },
  {
   "cell_type": "code",
   "execution_count": 4,
   "id": "cc55110f",
   "metadata": {},
   "outputs": [
    {
     "data": {
      "text/plain": [
       "mappingproxy({'__module__': '__main__',\n",
       "              'print_alpha': <function __main__.A.print_alpha(self)>,\n",
       "              'print_hi': <function __main__.A.print_hi(self)>,\n",
       "              '__dict__': <attribute '__dict__' of 'A' objects>,\n",
       "              '__weakref__': <attribute '__weakref__' of 'A' objects>,\n",
       "              '__doc__': None})"
      ]
     },
     "execution_count": 4,
     "metadata": {},
     "output_type": "execute_result"
    }
   ],
   "source": [
    "A.__dict__"
   ]
  },
  {
   "cell_type": "code",
   "execution_count": 5,
   "id": "0cc1fb1c",
   "metadata": {},
   "outputs": [
    {
     "name": "stdout",
     "output_type": "stream",
     "text": [
      "Hello\n"
     ]
    }
   ],
   "source": [
    "ob.print_alpha()"
   ]
  },
  {
   "cell_type": "code",
   "execution_count": 6,
   "id": "148ac1fa",
   "metadata": {},
   "outputs": [
    {
     "name": "stdout",
     "output_type": "stream",
     "text": [
      "hi\n"
     ]
    }
   ],
   "source": [
    "ob.print_hi()"
   ]
  },
  {
   "cell_type": "code",
   "execution_count": 8,
   "id": "e8c133d4",
   "metadata": {},
   "outputs": [
    {
     "data": {
      "text/plain": [
       "'Sachin'"
      ]
     },
     "execution_count": 8,
     "metadata": {},
     "output_type": "execute_result"
    }
   ],
   "source": [
    "ob.name"
   ]
  },
  {
   "cell_type": "code",
   "execution_count": 9,
   "id": "8d3a555b",
   "metadata": {},
   "outputs": [
    {
     "name": "stdout",
     "output_type": "stream",
     "text": [
      "In C Class\n"
     ]
    }
   ],
   "source": [
    "class A:\n",
    "    name='Sachin'\n",
    "    def print_alpha(self):\n",
    "        print('Hello')\n",
    "    def print_hi(self):\n",
    "        print('hi')\n",
    "class B(A):\n",
    "    def __init__(self):\n",
    "        print('From Class B')\n",
    "    def print_bye(self):\n",
    "        print('Bye')\n",
    "class C(B):\n",
    "    def __init__(self):\n",
    "        print('In C Class')\n",
    "ob=C()"
   ]
  },
  {
   "cell_type": "code",
   "execution_count": 11,
   "id": "c13a2544",
   "metadata": {},
   "outputs": [
    {
     "name": "stdout",
     "output_type": "stream",
     "text": [
      "Bye\n"
     ]
    }
   ],
   "source": [
    "ob.print_bye()"
   ]
  },
  {
   "cell_type": "code",
   "execution_count": 13,
   "id": "36541a7f",
   "metadata": {},
   "outputs": [],
   "source": [
    "# Slots"
   ]
  },
  {
   "cell_type": "code",
   "execution_count": 27,
   "id": "e6293037",
   "metadata": {},
   "outputs": [],
   "source": [
    "class A:\n",
    "    __slots__='a','b','c'\n",
    "ob=A()\n",
    "#ob.name='Sachin'"
   ]
  },
  {
   "cell_type": "code",
   "execution_count": 25,
   "id": "913c752c",
   "metadata": {},
   "outputs": [
    {
     "data": {
      "text/plain": [
       "mappingproxy({'__module__': '__main__',\n",
       "              '__slots__': ('a', 'b', 'c'),\n",
       "              'a': <member 'a' of 'A' objects>,\n",
       "              'b': <member 'b' of 'A' objects>,\n",
       "              'c': <member 'c' of 'A' objects>,\n",
       "              '__doc__': None})"
      ]
     },
     "execution_count": 25,
     "metadata": {},
     "output_type": "execute_result"
    }
   ],
   "source": [
    "A.__dict__"
   ]
  },
  {
   "cell_type": "code",
   "execution_count": 28,
   "id": "7ef0d7dc",
   "metadata": {},
   "outputs": [],
   "source": [
    "ob.a='sachin'"
   ]
  },
  {
   "cell_type": "code",
   "execution_count": 29,
   "id": "a97f43e8",
   "metadata": {},
   "outputs": [
    {
     "data": {
      "text/plain": [
       "'sachin'"
      ]
     },
     "execution_count": 29,
     "metadata": {},
     "output_type": "execute_result"
    }
   ],
   "source": [
    "ob.a"
   ]
  },
  {
   "cell_type": "code",
   "execution_count": 30,
   "id": "07152619",
   "metadata": {},
   "outputs": [
    {
     "data": {
      "text/plain": [
       "mappingproxy({'__module__': '__main__',\n",
       "              '__slots__': ('a', 'b', 'c'),\n",
       "              'a': <member 'a' of 'A' objects>,\n",
       "              'b': <member 'b' of 'A' objects>,\n",
       "              'c': <member 'c' of 'A' objects>,\n",
       "              '__doc__': None})"
      ]
     },
     "execution_count": 30,
     "metadata": {},
     "output_type": "execute_result"
    }
   ],
   "source": [
    "A.__dict__"
   ]
  },
  {
   "cell_type": "code",
   "execution_count": 32,
   "id": "27d4cedb",
   "metadata": {},
   "outputs": [
    {
     "data": {
      "text/plain": [
       "('a', 'b', 'c')"
      ]
     },
     "execution_count": 32,
     "metadata": {},
     "output_type": "execute_result"
    }
   ],
   "source": [
    "A.__slots__"
   ]
  },
  {
   "cell_type": "code",
   "execution_count": 34,
   "id": "6381106b",
   "metadata": {},
   "outputs": [
    {
     "data": {
      "text/plain": [
       "'sachin'"
      ]
     },
     "execution_count": 34,
     "metadata": {},
     "output_type": "execute_result"
    }
   ],
   "source": [
    "ob.a"
   ]
  },
  {
   "cell_type": "code",
   "execution_count": 12,
   "id": "2fe224de",
   "metadata": {
    "scrolled": false
   },
   "outputs": [
    {
     "name": "stdout",
     "output_type": "stream",
     "text": [
      "Name :Arijit Sharma\n"
     ]
    }
   ],
   "source": [
    "class Father:\n",
    "    def __init__(self,fname,lname):\n",
    "        self.fname=fname\n",
    "        self.lname=lname\n",
    "class Child(Father):\n",
    "    def __init__(self,cname):\n",
    "        self.cname=cname\n",
    "        super().__init__('Sachin','Sharma')\n",
    "    def show_detail(self):\n",
    "        print(f'Name :{self.cname} {self.lname}')\n",
    "\n",
    "\n",
    "ob=Child('Arijit')\n",
    "ob.show_detail()\n"
   ]
  },
  {
   "cell_type": "code",
   "execution_count": 6,
   "id": "d5bd6b2d",
   "metadata": {
    "scrolled": true
   },
   "outputs": [
    {
     "data": {
      "text/plain": [
       "{'cname': 'A'}"
      ]
     },
     "execution_count": 6,
     "metadata": {},
     "output_type": "execute_result"
    }
   ],
   "source": [
    "ob.__dict__"
   ]
  },
  {
   "cell_type": "code",
   "execution_count": 8,
   "id": "5c1fefdd",
   "metadata": {},
   "outputs": [
    {
     "data": {
      "text/plain": [
       "{'fname': 'Sachin', 'lname': 'Sharma'}"
      ]
     },
     "execution_count": 8,
     "metadata": {},
     "output_type": "execute_result"
    }
   ],
   "source": [
    "a.__dict__"
   ]
  },
  {
   "cell_type": "code",
   "execution_count": 21,
   "id": "d0da1a20",
   "metadata": {},
   "outputs": [
    {
     "name": "stdout",
     "output_type": "stream",
     "text": [
      "In Parent Class\n"
     ]
    }
   ],
   "source": [
    "class Father:\n",
    "    def show_detail(self):\n",
    "        print('In Parent Class')\n",
    "\n",
    "\n",
    "class Child(Father):\n",
    "    def __init__(self):\n",
    "        super().show_detail()\n",
    "    def print_alpha(self):\n",
    "        print('hi')\n",
    "    def show_detail(self):\n",
    "        print('In Child Class')\n",
    "\n",
    "\n",
    "ob=Child()\n"
   ]
  },
  {
   "cell_type": "code",
   "execution_count": 36,
   "id": "932a2cce",
   "metadata": {},
   "outputs": [
    {
     "name": "stdout",
     "output_type": "stream",
     "text": [
      "In GrandFather Class\n"
     ]
    }
   ],
   "source": [
    "class  GrandFather:\n",
    "    def show_detail_1(self):\n",
    "        print('In GrandFather Class')\n",
    "\n",
    "class Father(GrandFather):\n",
    "    def show_detail_2(self):\n",
    "        print('In Father Class')\n",
    "\n",
    "class Child(Father):\n",
    "    def __init__(self):\n",
    "        super().show_detail_1()\n",
    "    def show_detail_3(self):\n",
    "        print('In Child Class')\n",
    "ob=Child()"
   ]
  },
  {
   "cell_type": "code",
   "execution_count": 31,
   "id": "6e81f71a",
   "metadata": {},
   "outputs": [
    {
     "name": "stdout",
     "output_type": "stream",
     "text": [
      "In GrandFather Class\n"
     ]
    }
   ],
   "source": [
    "class  GrandFather:\n",
    "    def show_detail(self):\n",
    "        print('In GrandFather Class')\n",
    "\n",
    "class Father(GrandFather):\n",
    "    pass\n",
    "\n",
    "class Child(Father):\n",
    "    def __init__(self):\n",
    "        super().show_detail()\n",
    "    def show_detail(self):\n",
    "        print('In Child Class')\n",
    "ob=Child()"
   ]
  },
  {
   "cell_type": "code",
   "execution_count": 27,
   "id": "437931ac",
   "metadata": {},
   "outputs": [
    {
     "name": "stdout",
     "output_type": "stream",
     "text": [
      "20\n"
     ]
    }
   ],
   "source": [
    "a=10\n",
    "a=20\n",
    "print(a)"
   ]
  },
  {
   "cell_type": "code",
   "execution_count": 32,
   "id": "ff0027ef",
   "metadata": {},
   "outputs": [
    {
     "data": {
      "text/plain": [
       "mappingproxy({'__module__': '__main__', '__doc__': None})"
      ]
     },
     "execution_count": 32,
     "metadata": {},
     "output_type": "execute_result"
    }
   ],
   "source": [
    "Father.__dict__"
   ]
  },
  {
   "cell_type": "code",
   "execution_count": null,
   "id": "6f50f931",
   "metadata": {},
   "outputs": [],
   "source": []
  },
  {
   "cell_type": "code",
   "execution_count": null,
   "id": "4c4de88d",
   "metadata": {},
   "outputs": [],
   "source": []
  },
  {
   "cell_type": "markdown",
   "id": "2baaf705",
   "metadata": {},
   "source": [
    "`Multiple Inheritance`"
   ]
  },
  {
   "cell_type": "code",
   "execution_count": 45,
   "id": "932ffd64",
   "metadata": {},
   "outputs": [],
   "source": [
    "class Father:\n",
    "    def print_a(self):\n",
    "        print('In Father Class')\n",
    "class Mother:\n",
    "    def print_a(self):\n",
    "        print('In Mother Class')\n",
    "class Child(Mother,Father):\n",
    "    def print_a(self):\n",
    "        print('In Child Class')\n",
    "\n",
    "ob=Child()"
   ]
  },
  {
   "cell_type": "code",
   "execution_count": 46,
   "id": "3da2f915",
   "metadata": {},
   "outputs": [
    {
     "name": "stdout",
     "output_type": "stream",
     "text": [
      "In Child Class\n"
     ]
    }
   ],
   "source": [
    "ob.print_a()"
   ]
  },
  {
   "cell_type": "code",
   "execution_count": 44,
   "id": "f631b397",
   "metadata": {},
   "outputs": [
    {
     "data": {
      "text/plain": [
       "(__main__.Child, __main__.Mother, __main__.Father, object)"
      ]
     },
     "execution_count": 44,
     "metadata": {},
     "output_type": "execute_result"
    }
   ],
   "source": [
    "Child.__mro__"
   ]
  },
  {
   "cell_type": "markdown",
   "id": "82b829d8",
   "metadata": {},
   "source": [
    "`Heirarichal Inheritance`"
   ]
  },
  {
   "cell_type": "code",
   "execution_count": 47,
   "id": "2392dc17",
   "metadata": {},
   "outputs": [],
   "source": [
    "class A:\n",
    "    def print_alpha(self):\n",
    "        print('In Class A')\n",
    "class B(A):\n",
    "    def show_alpha(self):\n",
    "        print('In Class B')\n",
    "class C(A):\n",
    "    def show_beta(self):\n",
    "        print('In Class C')\n",
    "ob=C()"
   ]
  },
  {
   "cell_type": "code",
   "execution_count": 48,
   "id": "1d8c3864",
   "metadata": {},
   "outputs": [
    {
     "name": "stdout",
     "output_type": "stream",
     "text": [
      "In Class A\n"
     ]
    }
   ],
   "source": [
    "ob.print_alpha()"
   ]
  },
  {
   "cell_type": "code",
   "execution_count": 49,
   "id": "311c1f12",
   "metadata": {},
   "outputs": [
    {
     "name": "stdout",
     "output_type": "stream",
     "text": [
      "In Class C\n"
     ]
    }
   ],
   "source": [
    "ob.show_beta()"
   ]
  },
  {
   "cell_type": "code",
   "execution_count": 50,
   "id": "c6db82c4",
   "metadata": {},
   "outputs": [],
   "source": [
    "b=B()"
   ]
  },
  {
   "cell_type": "code",
   "execution_count": 51,
   "id": "6941d119",
   "metadata": {},
   "outputs": [
    {
     "name": "stdout",
     "output_type": "stream",
     "text": [
      "In Class B\n"
     ]
    }
   ],
   "source": [
    "b.show_alpha()"
   ]
  },
  {
   "cell_type": "code",
   "execution_count": 57,
   "id": "3fd4a8f0",
   "metadata": {},
   "outputs": [],
   "source": [
    "class Calculation:\n",
    "    def area(self,length,width):\n",
    "        return length*width\n",
    "    def perimeter(self,length,width):\n",
    "        return 2*(length+width)\n",
    "class Rectangle(Calculation):\n",
    "    def Calculate_info(self,length,width):\n",
    "        print('Area of Rectangle is',self.area(length,width))\n",
    "        print('Perimeter of Rectangle is',self.perimeter(length,width))\n",
    "class Square(Calculation):\n",
    "        def Calculate_info(self,length,width):\n",
    "            print('Area of Square is',self.area(length,width))\n",
    "            print('Perimeter of Square is',self.perimeter(length,width))\n",
    "ob=Rectangle()"
   ]
  },
  {
   "cell_type": "code",
   "execution_count": 58,
   "id": "7e52fad3",
   "metadata": {},
   "outputs": [
    {
     "name": "stdout",
     "output_type": "stream",
     "text": [
      "Area of Rectangle is 20\n",
      "Perimeter of Rectangle is 18\n"
     ]
    }
   ],
   "source": [
    "ob.Calculate_info(5,4)"
   ]
  },
  {
   "cell_type": "code",
   "execution_count": null,
   "id": "88a67686",
   "metadata": {},
   "outputs": [],
   "source": []
  }
 ],
 "metadata": {
  "kernelspec": {
   "display_name": "Python 3 (ipykernel)",
   "language": "python",
   "name": "python3"
  },
  "language_info": {
   "codemirror_mode": {
    "name": "ipython",
    "version": 3
   },
   "file_extension": ".py",
   "mimetype": "text/x-python",
   "name": "python",
   "nbconvert_exporter": "python",
   "pygments_lexer": "ipython3",
   "version": "3.11.5"
  }
 },
 "nbformat": 4,
 "nbformat_minor": 5
}
