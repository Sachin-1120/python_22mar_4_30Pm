{
 "cells": [
  {
   "cell_type": "code",
   "execution_count": 3,
   "id": "3e7423bd",
   "metadata": {},
   "outputs": [
    {
     "ename": "KeyboardInterrupt",
     "evalue": "",
     "output_type": "error",
     "traceback": [
      "\u001b[1;31m---------------------------------------------------------------------------\u001b[0m",
      "\u001b[1;31mKeyboardInterrupt\u001b[0m                         Traceback (most recent call last)",
      "Cell \u001b[1;32mIn[3], line 1\u001b[0m\n\u001b[1;32m----> 1\u001b[0m \u001b[38;5;28;01mwhile\u001b[39;00m \u001b[38;5;28;01mTrue\u001b[39;00m:\n\u001b[0;32m      2\u001b[0m     \u001b[38;5;28;01mpass\u001b[39;00m\n",
      "\u001b[1;31mKeyboardInterrupt\u001b[0m: "
     ]
    }
   ],
   "source": [
    "while True:\n",
    "    pass"
   ]
  },
  {
   "cell_type": "markdown",
   "id": "58abb3d2",
   "metadata": {},
   "source": [
    "# Python First Code"
   ]
  },
  {
   "cell_type": "code",
   "execution_count": 5,
   "id": "58b56833",
   "metadata": {},
   "outputs": [
    {
     "name": "stdout",
     "output_type": "stream",
     "text": [
      "Hello\n"
     ]
    }
   ],
   "source": [
    "print('Hello')"
   ]
  },
  {
   "cell_type": "code",
   "execution_count": null,
   "id": "c7388543",
   "metadata": {},
   "outputs": [],
   "source": []
  },
  {
   "cell_type": "code",
   "execution_count": null,
   "id": "b5e773d4",
   "metadata": {},
   "outputs": [],
   "source": []
  },
  {
   "cell_type": "code",
   "execution_count": 3,
   "id": "014269d9",
   "metadata": {},
   "outputs": [
    {
     "name": "stdout",
     "output_type": "stream",
     "text": [
      "Sachin Sharma\n"
     ]
    }
   ],
   "source": [
    "print('Sachin Sharma')"
   ]
  },
  {
   "cell_type": "code",
   "execution_count": 4,
   "id": "f43a41c5",
   "metadata": {},
   "outputs": [
    {
     "name": "stdout",
     "output_type": "stream",
     "text": [
      "5\n"
     ]
    }
   ],
   "source": [
    "print(5)"
   ]
  },
  {
   "cell_type": "code",
   "execution_count": 5,
   "id": "0625739f",
   "metadata": {},
   "outputs": [
    {
     "name": "stdout",
     "output_type": "stream",
     "text": [
      "-50\n"
     ]
    }
   ],
   "source": [
    "print(-50)"
   ]
  },
  {
   "cell_type": "code",
   "execution_count": null,
   "id": "8536e57c",
   "metadata": {},
   "outputs": [],
   "source": [
    "\" \" , ''"
   ]
  },
  {
   "cell_type": "code",
   "execution_count": 14,
   "id": "f8b9f02c",
   "metadata": {},
   "outputs": [
    {
     "name": "stdout",
     "output_type": "stream",
     "text": [
      "Sachin Sharma Grras Solution 7878012779\n"
     ]
    }
   ],
   "source": [
    "print('Sachin Sharma',7878012779,sep=' Grras Solution ')"
   ]
  },
  {
   "cell_type": "code",
   "execution_count": 7,
   "id": "7183a83f",
   "metadata": {},
   "outputs": [
    {
     "data": {
      "text/plain": [
       "'Prints the values to a stream, or to sys.stdout by default.\\n\\n  sep\\n    string inserted between values, default a space.\\n  end\\n    string appended after the last value, default a newline.\\n  file\\n    a file-like object (stream); defaults to the current sys.stdout.\\n  flush\\n    whether to forcibly flush the stream.'"
      ]
     },
     "execution_count": 7,
     "metadata": {},
     "output_type": "execute_result"
    }
   ],
   "source": [
    "print.__doc__"
   ]
  },
  {
   "cell_type": "code",
   "execution_count": 3,
   "id": "fcc0dfdf",
   "metadata": {},
   "outputs": [
    {
     "name": "stdout",
     "output_type": "stream",
     "text": [
      "Sachin SharmaGrras Solution 7878012779 "
     ]
    }
   ],
   "source": [
    "print('Sachin Sharma',end='')\n",
    "print('Grras Solution',end=' ')\n",
    "print(7878012779,end=' ')\n"
   ]
  },
  {
   "cell_type": "code",
   "execution_count": 16,
   "id": "f092fe17",
   "metadata": {},
   "outputs": [
    {
     "name": "stdout",
     "output_type": "stream",
     "text": [
      "Sachin Sharma Grras Solution 7878012779\n"
     ]
    }
   ],
   "source": [
    "print('Sachin Sharma','Grras Solution',7878012779)"
   ]
  },
  {
   "cell_type": "code",
   "execution_count": 9,
   "id": "38968ca9",
   "metadata": {},
   "outputs": [
    {
     "name": "stdout",
     "output_type": "stream",
     "text": [
      "Sachin Sharma\n",
      "7878012779\n"
     ]
    }
   ],
   "source": [
    "print('Sachin Sharma',7878012779,sep='\\n')"
   ]
  },
  {
   "cell_type": "code",
   "execution_count": null,
   "id": "eab64e0c",
   "metadata": {},
   "outputs": [],
   "source": []
  },
  {
   "cell_type": "code",
   "execution_count": 10,
   "id": "edfb9ee3",
   "metadata": {},
   "outputs": [
    {
     "name": "stdout",
     "output_type": "stream",
     "text": [
      "Hello Everyone\n",
      " WelcomeHiiTo Python Programming***In this Course we areWhatDiscussing various ConceptsPython\\ Rocks"
     ]
    }
   ],
   "source": [
    "print('Hello Everyone\\n Welcome','To Python Programming',end='***',sep='Hii')\n",
    "print('In this Course we are' , 'Discussing various Concepts',sep='What' ,end='Python\\ Rocks')"
   ]
  },
  {
   "cell_type": "code",
   "execution_count": null,
   "id": "e019be30",
   "metadata": {},
   "outputs": [],
   "source": []
  },
  {
   "cell_type": "code",
   "execution_count": null,
   "id": "0d32be13",
   "metadata": {},
   "outputs": [],
   "source": []
  },
  {
   "cell_type": "code",
   "execution_count": 1,
   "id": "b50c63d3",
   "metadata": {},
   "outputs": [
    {
     "name": "stdout",
     "output_type": "stream",
     "text": [
      "Hello Everyone \\we are today learning\n",
      "how to take input in python\n"
     ]
    }
   ],
   "source": [
    "print('Hello Everyone \\we are today learning\\nhow to take input in python')\n"
   ]
  },
  {
   "cell_type": "code",
   "execution_count": 2,
   "id": "63497758",
   "metadata": {},
   "outputs": [
    {
     "name": "stdout",
     "output_type": "stream",
     "text": [
      "Hello\tEveryone\n"
     ]
    }
   ],
   "source": [
    "print('Hello\\tEveryone')"
   ]
  },
  {
   "cell_type": "code",
   "execution_count": 3,
   "id": "fc74dd98",
   "metadata": {},
   "outputs": [],
   "source": [
    "# How to take inputs in Python ?"
   ]
  },
  {
   "cell_type": "code",
   "execution_count": 5,
   "id": "ba3e49c7",
   "metadata": {},
   "outputs": [
    {
     "name": "stdout",
     "output_type": "stream",
     "text": [
      "Enter your nameGrras\n"
     ]
    }
   ],
   "source": [
    "a=input('Enter your name')"
   ]
  },
  {
   "cell_type": "code",
   "execution_count": 6,
   "id": "f0e72678",
   "metadata": {},
   "outputs": [
    {
     "name": "stdout",
     "output_type": "stream",
     "text": [
      "Good Evening Grras\n"
     ]
    }
   ],
   "source": [
    "print('Good Evening',a)"
   ]
  },
  {
   "cell_type": "code",
   "execution_count": 14,
   "id": "4b41a469",
   "metadata": {},
   "outputs": [],
   "source": [
    "a='Sachin'"
   ]
  },
  {
   "cell_type": "code",
   "execution_count": 16,
   "id": "a7f77ac8",
   "metadata": {},
   "outputs": [],
   "source": [
    "_a=100"
   ]
  },
  {
   "cell_type": "code",
   "execution_count": 17,
   "id": "c178d3c7",
   "metadata": {},
   "outputs": [],
   "source": [
    "A_A=150\n"
   ]
  },
  {
   "cell_type": "code",
   "execution_count": 18,
   "id": "a221359e",
   "metadata": {},
   "outputs": [],
   "source": [
    "__='Sachin'"
   ]
  },
  {
   "cell_type": "code",
   "execution_count": 20,
   "id": "7e3a1480",
   "metadata": {},
   "outputs": [],
   "source": [
    "first_name='Sachin'"
   ]
  },
  {
   "cell_type": "code",
   "execution_count": null,
   "id": "44b75f94",
   "metadata": {},
   "outputs": [],
   "source": [
    "last_name='Shatrma'"
   ]
  },
  {
   "cell_type": "code",
   "execution_count": 21,
   "id": "63361c88",
   "metadata": {},
   "outputs": [
    {
     "name": "stdout",
     "output_type": "stream",
     "text": [
      "Enter your nameSachin\n"
     ]
    }
   ],
   "source": [
    "a=input('Enter your name')"
   ]
  },
  {
   "cell_type": "code",
   "execution_count": 22,
   "id": "766ba65f",
   "metadata": {},
   "outputs": [
    {
     "name": "stdout",
     "output_type": "stream",
     "text": [
      "Welcome Sachin\n"
     ]
    }
   ],
   "source": [
    "print('Welcome',a)"
   ]
  },
  {
   "cell_type": "code",
   "execution_count": 23,
   "id": "9b4dbd88",
   "metadata": {},
   "outputs": [
    {
     "name": "stdout",
     "output_type": "stream",
     "text": [
      "Enter Your nameSachin Sharma\n",
      "Enter Your CompanyGrras Solution\n"
     ]
    }
   ],
   "source": [
    "name=input('Enter Your name')\n",
    "company=input('Enter Your Company')"
   ]
  },
  {
   "cell_type": "code",
   "execution_count": 24,
   "id": "acc88d21",
   "metadata": {},
   "outputs": [
    {
     "name": "stdout",
     "output_type": "stream",
     "text": [
      "name is --> Sachin Sharma\n",
      "Company is --> Grras Solution\n"
     ]
    }
   ],
   "source": [
    "print('name is -->',name)\n",
    "print('Company is -->',company)\n"
   ]
  },
  {
   "cell_type": "code",
   "execution_count": 25,
   "id": "6fb60e34",
   "metadata": {},
   "outputs": [
    {
     "name": "stdout",
     "output_type": "stream",
     "text": [
      "Enter your nameSachin Sharma\n",
      "name is --> Sachin Sharma\n",
      "Enter Your CompanyGrras\n",
      "Company is --> Grras\n"
     ]
    }
   ],
   "source": [
    "print('name is -->',input('Enter your name'))\n",
    "print('Company is -->',input('Enter Your Company'))"
   ]
  },
  {
   "cell_type": "code",
   "execution_count": null,
   "id": "73f8d91d",
   "metadata": {},
   "outputs": [],
   "source": []
  },
  {
   "cell_type": "code",
   "execution_count": 26,
   "id": "4797eb1b",
   "metadata": {},
   "outputs": [
    {
     "data": {
      "text/plain": [
       "8"
      ]
     },
     "execution_count": 26,
     "metadata": {},
     "output_type": "execute_result"
    }
   ],
   "source": [
    "5+3"
   ]
  },
  {
   "cell_type": "code",
   "execution_count": 27,
   "id": "4dde507b",
   "metadata": {},
   "outputs": [
    {
     "data": {
      "text/plain": [
       "2"
      ]
     },
     "execution_count": 27,
     "metadata": {},
     "output_type": "execute_result"
    }
   ],
   "source": [
    "5-3"
   ]
  },
  {
   "cell_type": "code",
   "execution_count": 28,
   "id": "db79a869",
   "metadata": {},
   "outputs": [
    {
     "data": {
      "text/plain": [
       "15"
      ]
     },
     "execution_count": 28,
     "metadata": {},
     "output_type": "execute_result"
    }
   ],
   "source": [
    "5*3"
   ]
  },
  {
   "cell_type": "code",
   "execution_count": 29,
   "id": "a095af94",
   "metadata": {},
   "outputs": [
    {
     "data": {
      "text/plain": [
       "1.6666666666666667"
      ]
     },
     "execution_count": 29,
     "metadata": {},
     "output_type": "execute_result"
    }
   ],
   "source": [
    "5/3"
   ]
  },
  {
   "cell_type": "code",
   "execution_count": 31,
   "id": "ced52dba",
   "metadata": {},
   "outputs": [
    {
     "data": {
      "text/plain": [
       "1.6774193548387097"
      ]
     },
     "execution_count": 31,
     "metadata": {},
     "output_type": "execute_result"
    }
   ],
   "source": [
    "5.2/3.1"
   ]
  },
  {
   "cell_type": "code",
   "execution_count": 34,
   "id": "fa38fd69",
   "metadata": {},
   "outputs": [
    {
     "name": "stdout",
     "output_type": "stream",
     "text": [
      "Enter Number5\n",
      "Enter Number3\n"
     ]
    },
    {
     "data": {
      "text/plain": [
       "8"
      ]
     },
     "execution_count": 34,
     "metadata": {},
     "output_type": "execute_result"
    }
   ],
   "source": [
    "a=int(input('Enter Number'))\n",
    "b=int(input('Enter Number'))\n",
    "a+b"
   ]
  },
  {
   "cell_type": "code",
   "execution_count": 33,
   "id": "e532a881",
   "metadata": {},
   "outputs": [
    {
     "data": {
      "text/plain": [
       "'SachinSharma'"
      ]
     },
     "execution_count": 33,
     "metadata": {},
     "output_type": "execute_result"
    }
   ],
   "source": [
    "'Sachin'+'Sharma'"
   ]
  },
  {
   "cell_type": "code",
   "execution_count": null,
   "id": "dc7a18bd",
   "metadata": {},
   "outputs": [],
   "source": [
    "int('3')-->3"
   ]
  },
  {
   "cell_type": "code",
   "execution_count": 36,
   "id": "d238a5e2",
   "metadata": {},
   "outputs": [
    {
     "data": {
      "text/plain": [
       "'53'"
      ]
     },
     "execution_count": 36,
     "metadata": {},
     "output_type": "execute_result"
    }
   ],
   "source": [
    "'5'+'3'"
   ]
  },
  {
   "cell_type": "code",
   "execution_count": 38,
   "id": "6b1c3eb6",
   "metadata": {},
   "outputs": [
    {
     "data": {
      "text/plain": [
       "'5.33.5'"
      ]
     },
     "execution_count": 38,
     "metadata": {},
     "output_type": "execute_result"
    }
   ],
   "source": [
    "'5.3'+'3.5'"
   ]
  },
  {
   "cell_type": "code",
   "execution_count": 39,
   "id": "a0863019",
   "metadata": {},
   "outputs": [
    {
     "data": {
      "text/plain": [
       "8.8"
      ]
     },
     "execution_count": 39,
     "metadata": {},
     "output_type": "execute_result"
    }
   ],
   "source": [
    "5.3+3.5"
   ]
  },
  {
   "cell_type": "code",
   "execution_count": 41,
   "id": "77e8070a",
   "metadata": {},
   "outputs": [
    {
     "data": {
      "text/plain": [
       "8.8"
      ]
     },
     "execution_count": 41,
     "metadata": {},
     "output_type": "execute_result"
    }
   ],
   "source": [
    "float('5.3')+float('3.5')"
   ]
  },
  {
   "cell_type": "code",
   "execution_count": 44,
   "id": "28788aa7",
   "metadata": {},
   "outputs": [
    {
     "name": "stdout",
     "output_type": "stream",
     "text": [
      "Enter Number5\n",
      "Enter Number3\n",
      "Multiply --> 15.0\n"
     ]
    }
   ],
   "source": [
    "a=float(input('Enter Number'))\n",
    "b=float(input('Enter Number'))\n",
    "print('Multiply -->',a*b)"
   ]
  },
  {
   "cell_type": "code",
   "execution_count": null,
   "id": "6bf7bbbc",
   "metadata": {},
   "outputs": [],
   "source": []
  },
  {
   "cell_type": "code",
   "execution_count": 4,
   "id": "c3e97339",
   "metadata": {},
   "outputs": [
    {
     "name": "stdout",
     "output_type": "stream",
     "text": [
      "Addition--> 115.5\n"
     ]
    }
   ],
   "source": [
    "a=5\n",
    "b=10.5\n",
    "c=100\n",
    "result=a+b+c\n",
    "print('Addition-->',result)"
   ]
  },
  {
   "cell_type": "code",
   "execution_count": 2,
   "id": "86c06022",
   "metadata": {
    "scrolled": true
   },
   "outputs": [
    {
     "name": "stdout",
     "output_type": "stream",
     "text": [
      "Sachin Sharma\n"
     ]
    }
   ],
   "source": [
    "print('Sachin '+'Sharma')"
   ]
  },
  {
   "cell_type": "code",
   "execution_count": 6,
   "id": "054fc488",
   "metadata": {},
   "outputs": [],
   "source": [
    "a=int('5')"
   ]
  },
  {
   "cell_type": "code",
   "execution_count": 9,
   "id": "0f00b9e3",
   "metadata": {},
   "outputs": [
    {
     "data": {
      "text/plain": [
       "59"
      ]
     },
     "execution_count": 9,
     "metadata": {},
     "output_type": "execute_result"
    }
   ],
   "source": [
    "a+54"
   ]
  },
  {
   "cell_type": "code",
   "execution_count": 11,
   "id": "6d910ae2",
   "metadata": {},
   "outputs": [
    {
     "name": "stdout",
     "output_type": "stream",
     "text": [
      "['__abs__', '__add__', '__and__', '__bool__', '__ceil__', '__class__', '__delattr__', '__dir__', '__divmod__', '__doc__', '__eq__', '__float__', '__floor__', '__floordiv__', '__format__', '__ge__', '__getattribute__', '__getnewargs__', '__getstate__', '__gt__', '__hash__', '__index__', '__init__', '__init_subclass__', '__int__', '__invert__', '__le__', '__lshift__', '__lt__', '__mod__', '__mul__', '__ne__', '__neg__', '__new__', '__or__', '__pos__', '__pow__', '__radd__', '__rand__', '__rdivmod__', '__reduce__', '__reduce_ex__', '__repr__', '__rfloordiv__', '__rlshift__', '__rmod__', '__rmul__', '__ror__', '__round__', '__rpow__', '__rrshift__', '__rshift__', '__rsub__', '__rtruediv__', '__rxor__', '__setattr__', '__sizeof__', '__str__', '__sub__', '__subclasshook__', '__truediv__', '__trunc__', '__xor__', 'as_integer_ratio', 'bit_count', 'bit_length', 'conjugate', 'denominator', 'from_bytes', 'imag', 'numerator', 'real', 'to_bytes']\n"
     ]
    }
   ],
   "source": [
    "print(dir(int))"
   ]
  },
  {
   "cell_type": "code",
   "execution_count": 12,
   "id": "e9f5195b",
   "metadata": {},
   "outputs": [
    {
     "data": {
      "text/plain": [
       "8"
      ]
     },
     "execution_count": 12,
     "metadata": {},
     "output_type": "execute_result"
    }
   ],
   "source": [
    "5+3"
   ]
  },
  {
   "cell_type": "code",
   "execution_count": 15,
   "id": "893b02a1",
   "metadata": {},
   "outputs": [
    {
     "data": {
      "text/plain": [
       "8"
      ]
     },
     "execution_count": 15,
     "metadata": {},
     "output_type": "execute_result"
    }
   ],
   "source": [
    "a=5\n",
    "a.__add__(3)"
   ]
  },
  {
   "cell_type": "code",
   "execution_count": 16,
   "id": "b94fcb9e",
   "metadata": {},
   "outputs": [
    {
     "data": {
      "text/plain": [
       "2"
      ]
     },
     "execution_count": 16,
     "metadata": {},
     "output_type": "execute_result"
    }
   ],
   "source": [
    "a=5\n",
    "a.__sub__(3)"
   ]
  },
  {
   "cell_type": "code",
   "execution_count": 17,
   "id": "6967880a",
   "metadata": {},
   "outputs": [
    {
     "data": {
      "text/plain": [
       "15"
      ]
     },
     "execution_count": 17,
     "metadata": {},
     "output_type": "execute_result"
    }
   ],
   "source": [
    "a=5\n",
    "a.__mul__(3)"
   ]
  },
  {
   "cell_type": "code",
   "execution_count": 18,
   "id": "2e480bca",
   "metadata": {},
   "outputs": [
    {
     "data": {
      "text/plain": [
       "15"
      ]
     },
     "execution_count": 18,
     "metadata": {},
     "output_type": "execute_result"
    }
   ],
   "source": [
    "a*3"
   ]
  },
  {
   "cell_type": "code",
   "execution_count": 19,
   "id": "c9001ddb",
   "metadata": {},
   "outputs": [
    {
     "data": {
      "text/plain": [
       "8"
      ]
     },
     "execution_count": 19,
     "metadata": {},
     "output_type": "execute_result"
    }
   ],
   "source": [
    "5+3"
   ]
  },
  {
   "cell_type": "code",
   "execution_count": 20,
   "id": "b7059851",
   "metadata": {},
   "outputs": [
    {
     "data": {
      "text/plain": [
       "1.6666666666666667"
      ]
     },
     "execution_count": 20,
     "metadata": {},
     "output_type": "execute_result"
    }
   ],
   "source": [
    "5/3"
   ]
  },
  {
   "cell_type": "code",
   "execution_count": 21,
   "id": "14601ab2",
   "metadata": {},
   "outputs": [
    {
     "data": {
      "text/plain": [
       "1"
      ]
     },
     "execution_count": 21,
     "metadata": {},
     "output_type": "execute_result"
    }
   ],
   "source": [
    "5//3"
   ]
  },
  {
   "cell_type": "code",
   "execution_count": 22,
   "id": "338577e2",
   "metadata": {},
   "outputs": [
    {
     "data": {
      "text/plain": [
       "2"
      ]
     },
     "execution_count": 22,
     "metadata": {},
     "output_type": "execute_result"
    }
   ],
   "source": [
    "5%3"
   ]
  },
  {
   "cell_type": "code",
   "execution_count": 23,
   "id": "03dea45a",
   "metadata": {},
   "outputs": [
    {
     "data": {
      "text/plain": [
       "0"
      ]
     },
     "execution_count": 23,
     "metadata": {},
     "output_type": "execute_result"
    }
   ],
   "source": [
    "10%5"
   ]
  },
  {
   "cell_type": "code",
   "execution_count": 24,
   "id": "f7167f07",
   "metadata": {},
   "outputs": [
    {
     "data": {
      "text/plain": [
       "3"
      ]
     },
     "execution_count": 24,
     "metadata": {},
     "output_type": "execute_result"
    }
   ],
   "source": [
    "10%7"
   ]
  },
  {
   "cell_type": "code",
   "execution_count": 25,
   "id": "86e7ca73",
   "metadata": {},
   "outputs": [
    {
     "data": {
      "text/plain": [
       "243"
      ]
     },
     "execution_count": 25,
     "metadata": {},
     "output_type": "execute_result"
    }
   ],
   "source": [
    "3**5"
   ]
  },
  {
   "cell_type": "code",
   "execution_count": 26,
   "id": "320a3d54",
   "metadata": {},
   "outputs": [
    {
     "data": {
      "text/plain": [
       "32"
      ]
     },
     "execution_count": 26,
     "metadata": {},
     "output_type": "execute_result"
    }
   ],
   "source": [
    "2**5"
   ]
  },
  {
   "cell_type": "code",
   "execution_count": 27,
   "id": "e74a8bb1",
   "metadata": {},
   "outputs": [
    {
     "data": {
      "text/plain": [
       "1267650600228229401496703205376"
      ]
     },
     "execution_count": 27,
     "metadata": {},
     "output_type": "execute_result"
    }
   ],
   "source": [
    "2**100"
   ]
  },
  {
   "cell_type": "code",
   "execution_count": 28,
   "id": "5604ad4b",
   "metadata": {},
   "outputs": [
    {
     "data": {
      "text/plain": [
       "1267650600228229401496703205376"
      ]
     },
     "execution_count": 28,
     "metadata": {},
     "output_type": "execute_result"
    }
   ],
   "source": [
    "a=2\n",
    "a.__pow__(100)"
   ]
  },
  {
   "cell_type": "code",
   "execution_count": 29,
   "id": "d2ac8057",
   "metadata": {},
   "outputs": [
    {
     "data": {
      "text/plain": [
       "10"
      ]
     },
     "execution_count": 29,
     "metadata": {},
     "output_type": "execute_result"
    }
   ],
   "source": [
    "a=10\n",
    "a.numerator"
   ]
  },
  {
   "cell_type": "code",
   "execution_count": 30,
   "id": "86f0ab5e",
   "metadata": {},
   "outputs": [
    {
     "data": {
      "text/plain": [
       "1"
      ]
     },
     "execution_count": 30,
     "metadata": {},
     "output_type": "execute_result"
    }
   ],
   "source": [
    "a.denominator"
   ]
  },
  {
   "cell_type": "code",
   "execution_count": 33,
   "id": "70a86eb3",
   "metadata": {},
   "outputs": [
    {
     "data": {
      "text/plain": [
       "'0b1000'"
      ]
     },
     "execution_count": 33,
     "metadata": {},
     "output_type": "execute_result"
    }
   ],
   "source": [
    "a=8\n",
    "bin(a)"
   ]
  },
  {
   "cell_type": "code",
   "execution_count": 34,
   "id": "9be20311",
   "metadata": {},
   "outputs": [
    {
     "data": {
      "text/plain": [
       "'0b100011'"
      ]
     },
     "execution_count": 34,
     "metadata": {},
     "output_type": "execute_result"
    }
   ],
   "source": [
    "a=35\n",
    "bin(a)"
   ]
  },
  {
   "cell_type": "code",
   "execution_count": 35,
   "id": "de959ffb",
   "metadata": {},
   "outputs": [
    {
     "data": {
      "text/plain": [
       "3"
      ]
     },
     "execution_count": 35,
     "metadata": {},
     "output_type": "execute_result"
    }
   ],
   "source": [
    "a.bit_count()"
   ]
  },
  {
   "cell_type": "code",
   "execution_count": 38,
   "id": "9c489fa8",
   "metadata": {},
   "outputs": [],
   "source": [
    "# Float"
   ]
  },
  {
   "cell_type": "code",
   "execution_count": null,
   "id": "eaa5ac66",
   "metadata": {},
   "outputs": [],
   "source": [
    "float()\n"
   ]
  },
  {
   "cell_type": "code",
   "execution_count": 40,
   "id": "26ae480c",
   "metadata": {},
   "outputs": [
    {
     "data": {
      "text/plain": [
       "5.6"
      ]
     },
     "execution_count": 40,
     "metadata": {},
     "output_type": "execute_result"
    }
   ],
   "source": [
    "float('5.6')"
   ]
  },
  {
   "cell_type": "code",
   "execution_count": 41,
   "id": "d830cc55",
   "metadata": {},
   "outputs": [
    {
     "name": "stdout",
     "output_type": "stream",
     "text": [
      "['__abs__', '__add__', '__bool__', '__ceil__', '__class__', '__delattr__', '__dir__', '__divmod__', '__doc__', '__eq__', '__float__', '__floor__', '__floordiv__', '__format__', '__ge__', '__getattribute__', '__getformat__', '__getnewargs__', '__getstate__', '__gt__', '__hash__', '__init__', '__init_subclass__', '__int__', '__le__', '__lt__', '__mod__', '__mul__', '__ne__', '__neg__', '__new__', '__pos__', '__pow__', '__radd__', '__rdivmod__', '__reduce__', '__reduce_ex__', '__repr__', '__rfloordiv__', '__rmod__', '__rmul__', '__round__', '__rpow__', '__rsub__', '__rtruediv__', '__setattr__', '__sizeof__', '__str__', '__sub__', '__subclasshook__', '__truediv__', '__trunc__', 'as_integer_ratio', 'conjugate', 'fromhex', 'hex', 'imag', 'is_integer', 'real']\n"
     ]
    }
   ],
   "source": [
    "print(dir(float))"
   ]
  },
  {
   "cell_type": "code",
   "execution_count": null,
   "id": "ac8b366a",
   "metadata": {},
   "outputs": [],
   "source": []
  }
 ],
 "metadata": {
  "kernelspec": {
   "display_name": "Python 3 (ipykernel)",
   "language": "python",
   "name": "python3"
  },
  "language_info": {
   "codemirror_mode": {
    "name": "ipython",
    "version": 3
   },
   "file_extension": ".py",
   "mimetype": "text/x-python",
   "name": "python",
   "nbconvert_exporter": "python",
   "pygments_lexer": "ipython3",
   "version": "3.11.5"
  }
 },
 "nbformat": 4,
 "nbformat_minor": 5
}
