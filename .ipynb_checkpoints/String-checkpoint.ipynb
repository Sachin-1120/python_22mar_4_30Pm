{
 "cells": [
  {
   "cell_type": "code",
   "execution_count": 3,
   "id": "a330e2ac",
   "metadata": {},
   "outputs": [
    {
     "name": "stdout",
     "output_type": "stream",
     "text": [
      "Sachin\tSharma\n"
     ]
    }
   ],
   "source": [
    "print('Sachin\\tSharma')"
   ]
  },
  {
   "cell_type": "code",
   "execution_count": 4,
   "id": "e4bc1017",
   "metadata": {},
   "outputs": [],
   "source": [
    "#string\n",
    "#split()  and Join()\n"
   ]
  },
  {
   "cell_type": "code",
   "execution_count": 5,
   "id": "4938a1bf",
   "metadata": {},
   "outputs": [
    {
     "data": {
      "text/plain": [
       "['H', 'llo Ev', 'ryon', '']"
      ]
     },
     "execution_count": 5,
     "metadata": {},
     "output_type": "execute_result"
    }
   ],
   "source": [
    "#split()\n",
    "s='Hello Everyone'\n",
    "s.split('e')"
   ]
  },
  {
   "cell_type": "code",
   "execution_count": 9,
   "id": "633f8bc6",
   "metadata": {},
   "outputs": [
    {
     "data": {
      "text/plain": [
       "['Hello', 'Everyone', 'welcome', 'to', 'grras']"
      ]
     },
     "execution_count": 9,
     "metadata": {},
     "output_type": "execute_result"
    }
   ],
   "source": [
    "s='Hello Everyone welcome to grras'\n",
    "s.split(' ')\n"
   ]
  },
  {
   "cell_type": "code",
   "execution_count": 10,
   "id": "f127620f",
   "metadata": {},
   "outputs": [
    {
     "data": {
      "text/plain": [
       "['Sachin Sharma', 'Sachin@grras', '24', 'positive']"
      ]
     },
     "execution_count": 10,
     "metadata": {},
     "output_type": "execute_result"
    }
   ],
   "source": [
    "s='Sachin Sharma#Sachin@grras#24#positive'\n",
    "s.split('#')"
   ]
  },
  {
   "cell_type": "code",
   "execution_count": 11,
   "id": "5080d551",
   "metadata": {},
   "outputs": [
    {
     "data": {
      "text/plain": [
       "'Sachin Sharma#Sachin@grras#24#positive'"
      ]
     },
     "execution_count": 11,
     "metadata": {},
     "output_type": "execute_result"
    }
   ],
   "source": [
    "'#'.join(['Sachin Sharma', 'Sachin@grras', '24', 'positive'])"
   ]
  },
  {
   "cell_type": "code",
   "execution_count": null,
   "id": "73d1c5f9",
   "metadata": {},
   "outputs": [],
   "source": []
  },
  {
   "cell_type": "code",
   "execution_count": null,
   "id": "ec8fa892",
   "metadata": {},
   "outputs": [],
   "source": []
  },
  {
   "cell_type": "code",
   "execution_count": null,
   "id": "995d3c0f",
   "metadata": {},
   "outputs": [],
   "source": []
  },
  {
   "cell_type": "code",
   "execution_count": 12,
   "id": "30ec2165",
   "metadata": {},
   "outputs": [
    {
     "data": {
      "text/plain": [
       "[' ps nnn', ' \\nis ehe', 'i hi', \" \\ns tikybr t'g\", 'se']"
      ]
     },
     "execution_count": 12,
     "metadata": {},
     "output_type": "execute_result"
    }
   ],
   "source": [
    "a='''\n",
    "It was a simple tip of the hat. Grace didn't think that \n",
    "anyone else besides her had even noticed it. It wasn't anything that \n",
    "\n",
    "'''\n",
    "a=a[20: :-7]+' ' +a[-20::5]+' '+a[::-10]+' '+a[::10]+a[5:20:5]\n",
    "a.split('a')"
   ]
  },
  {
   "cell_type": "code",
   "execution_count": 8,
   "id": "a09bcefc",
   "metadata": {},
   "outputs": [],
   "source": [
    "a='sAchin SHarma'"
   ]
  },
  {
   "cell_type": "code",
   "execution_count": 9,
   "id": "61064b76",
   "metadata": {},
   "outputs": [
    {
     "data": {
      "text/plain": [
       "'Sachin sharma'"
      ]
     },
     "execution_count": 9,
     "metadata": {},
     "output_type": "execute_result"
    }
   ],
   "source": [
    "a.capitalize() # only capitalize first letter of the string"
   ]
  },
  {
   "cell_type": "code",
   "execution_count": 10,
   "id": "b1c9ec2c",
   "metadata": {},
   "outputs": [
    {
     "data": {
      "text/plain": [
       "'SACHIN SHARMA'"
      ]
     },
     "execution_count": 10,
     "metadata": {},
     "output_type": "execute_result"
    }
   ],
   "source": [
    "a.upper() # Converts  all Characters in Capital"
   ]
  },
  {
   "cell_type": "code",
   "execution_count": 11,
   "id": "b3b3cb10",
   "metadata": {},
   "outputs": [
    {
     "data": {
      "text/plain": [
       "'sachin sharma'"
      ]
     },
     "execution_count": 11,
     "metadata": {},
     "output_type": "execute_result"
    }
   ],
   "source": [
    "a.lower() #Convert all Characters into Lower"
   ]
  },
  {
   "cell_type": "code",
   "execution_count": 15,
   "id": "d90c7867",
   "metadata": {},
   "outputs": [
    {
     "data": {
      "text/plain": [
       "'Sachin Sharma'"
      ]
     },
     "execution_count": 15,
     "metadata": {},
     "output_type": "execute_result"
    }
   ],
   "source": [
    "a='sachin sharma'\n",
    "a.title() # convert each word first letter to upper case"
   ]
  },
  {
   "cell_type": "code",
   "execution_count": 19,
   "id": "c2107d6e",
   "metadata": {},
   "outputs": [
    {
     "data": {
      "text/plain": [
       "'sachin sharma'"
      ]
     },
     "execution_count": 19,
     "metadata": {},
     "output_type": "execute_result"
    }
   ],
   "source": [
    "a='SaChIN ShaRma'\n",
    "a.casefold()"
   ]
  },
  {
   "cell_type": "code",
   "execution_count": 18,
   "id": "9c965f19",
   "metadata": {},
   "outputs": [
    {
     "data": {
      "text/plain": [
       "'sachin sharma'"
      ]
     },
     "execution_count": 18,
     "metadata": {},
     "output_type": "execute_result"
    }
   ],
   "source": [
    "a='SaChIN ShaRma'\n",
    "a.lower()"
   ]
  },
  {
   "cell_type": "code",
   "execution_count": 20,
   "id": "4ccc20b2",
   "metadata": {},
   "outputs": [
    {
     "data": {
      "text/plain": [
       "True"
      ]
     },
     "execution_count": 20,
     "metadata": {},
     "output_type": "execute_result"
    }
   ],
   "source": [
    "'SaChIn'.casefold()=='SACHIN'.casefold()"
   ]
  },
  {
   "cell_type": "code",
   "execution_count": 21,
   "id": "e28014d6",
   "metadata": {},
   "outputs": [
    {
     "data": {
      "text/plain": [
       "False"
      ]
     },
     "execution_count": 21,
     "metadata": {},
     "output_type": "execute_result"
    }
   ],
   "source": [
    "'SaChIn'=='SACHIN'"
   ]
  },
  {
   "cell_type": "code",
   "execution_count": 24,
   "id": "4678a6ea",
   "metadata": {},
   "outputs": [
    {
     "data": {
      "text/plain": [
       "2"
      ]
     },
     "execution_count": 24,
     "metadata": {},
     "output_type": "execute_result"
    }
   ],
   "source": [
    "'Sachin Sharma'.count('S')"
   ]
  },
  {
   "cell_type": "code",
   "execution_count": 25,
   "id": "e97f1c67",
   "metadata": {},
   "outputs": [
    {
     "data": {
      "text/plain": [
       "'sAcHIN shaRMA'"
      ]
     },
     "execution_count": 25,
     "metadata": {},
     "output_type": "execute_result"
    }
   ],
   "source": [
    "a='SaChin SHArma'\n",
    "a.swapcase() #swap the case of character"
   ]
  },
  {
   "cell_type": "code",
   "execution_count": 26,
   "id": "7871746a",
   "metadata": {},
   "outputs": [
    {
     "data": {
      "text/plain": [
       "3"
      ]
     },
     "execution_count": 26,
     "metadata": {},
     "output_type": "execute_result"
    }
   ],
   "source": [
    "a='Sachin'\n",
    "a.index('h')"
   ]
  },
  {
   "cell_type": "code",
   "execution_count": 38,
   "id": "605c07b4",
   "metadata": {},
   "outputs": [],
   "source": [
    "a='''It was a simple tip of the hat. Grace didn't think that \n",
    "anyone else besides her had even noticed it. It wasn't simple anything that \n",
    "\n",
    "\n",
    "\n",
    "'''"
   ]
  },
  {
   "cell_type": "code",
   "execution_count": 39,
   "id": "8dcd1a99",
   "metadata": {},
   "outputs": [
    {
     "data": {
      "text/plain": [
       "112"
      ]
     },
     "execution_count": 39,
     "metadata": {},
     "output_type": "execute_result"
    }
   ],
   "source": [
    "a.index('simple anything')"
   ]
  },
  {
   "cell_type": "code",
   "execution_count": 41,
   "id": "000cd9be",
   "metadata": {},
   "outputs": [
    {
     "data": {
      "text/plain": [
       "112"
      ]
     },
     "execution_count": 41,
     "metadata": {},
     "output_type": "execute_result"
    }
   ],
   "source": [
    "a.find('simple anything')"
   ]
  },
  {
   "cell_type": "code",
   "execution_count": 42,
   "id": "5719801d",
   "metadata": {},
   "outputs": [
    {
     "ename": "ValueError",
     "evalue": "substring not found",
     "output_type": "error",
     "traceback": [
      "\u001b[1;31m---------------------------------------------------------------------------\u001b[0m",
      "\u001b[1;31mValueError\u001b[0m                                Traceback (most recent call last)",
      "Cell \u001b[1;32mIn[42], line 1\u001b[0m\n\u001b[1;32m----> 1\u001b[0m a\u001b[38;5;241m.\u001b[39mindex(\u001b[38;5;124m'\u001b[39m\u001b[38;5;124mIPL\u001b[39m\u001b[38;5;124m'\u001b[39m)\n",
      "\u001b[1;31mValueError\u001b[0m: substring not found"
     ]
    }
   ],
   "source": [
    "a.index('IPL')"
   ]
  },
  {
   "cell_type": "code",
   "execution_count": 43,
   "id": "de06ff0a",
   "metadata": {},
   "outputs": [
    {
     "data": {
      "text/plain": [
       "-1"
      ]
     },
     "execution_count": 43,
     "metadata": {},
     "output_type": "execute_result"
    }
   ],
   "source": [
    "a.find('IPL')"
   ]
  },
  {
   "cell_type": "code",
   "execution_count": 44,
   "id": "76999df3",
   "metadata": {},
   "outputs": [
    {
     "data": {
      "text/plain": [
       "'Sachin'"
      ]
     },
     "execution_count": 44,
     "metadata": {},
     "output_type": "execute_result"
    }
   ],
   "source": [
    "a='     Sachin     '\n",
    "a.strip()"
   ]
  },
  {
   "cell_type": "code",
   "execution_count": 45,
   "id": "fa812e92",
   "metadata": {},
   "outputs": [
    {
     "data": {
      "text/plain": [
       "'Sachin     '"
      ]
     },
     "execution_count": 45,
     "metadata": {},
     "output_type": "execute_result"
    }
   ],
   "source": [
    "a.lstrip()"
   ]
  },
  {
   "cell_type": "code",
   "execution_count": 46,
   "id": "a6c28672",
   "metadata": {},
   "outputs": [
    {
     "data": {
      "text/plain": [
       "'     Sachin'"
      ]
     },
     "execution_count": 46,
     "metadata": {},
     "output_type": "execute_result"
    }
   ],
   "source": [
    "a.rstrip()"
   ]
  },
  {
   "cell_type": "code",
   "execution_count": 47,
   "id": "297b412e",
   "metadata": {},
   "outputs": [
    {
     "data": {
      "text/plain": [
       "-1"
      ]
     },
     "execution_count": 47,
     "metadata": {},
     "output_type": "execute_result"
    }
   ],
   "source": [
    "'   WelCOMee to GRRRAs SoluTion'.title().strip().find('R')"
   ]
  },
  {
   "cell_type": "code",
   "execution_count": 48,
   "id": "71d31f7e",
   "metadata": {},
   "outputs": [
    {
     "data": {
      "text/plain": [
       "'   Welcomee To Grrras Solution'"
      ]
     },
     "execution_count": 48,
     "metadata": {},
     "output_type": "execute_result"
    }
   ],
   "source": [
    "'   WelCOMee to GRRRAs SoluTion'.title()"
   ]
  },
  {
   "cell_type": "code",
   "execution_count": 49,
   "id": "7430c468",
   "metadata": {},
   "outputs": [
    {
     "data": {
      "text/plain": [
       "'Welcomee To Grrras Solution'"
      ]
     },
     "execution_count": 49,
     "metadata": {},
     "output_type": "execute_result"
    }
   ],
   "source": [
    "'   Welcomee To Grrras Solution'.strip()"
   ]
  },
  {
   "cell_type": "code",
   "execution_count": 50,
   "id": "acc92e0f",
   "metadata": {},
   "outputs": [
    {
     "data": {
      "text/plain": [
       "-1"
      ]
     },
     "execution_count": 50,
     "metadata": {},
     "output_type": "execute_result"
    }
   ],
   "source": [
    "'Welcomee To Grrras Solution'.find('R')"
   ]
  },
  {
   "cell_type": "code",
   "execution_count": null,
   "id": "e585f496",
   "metadata": {},
   "outputs": [],
   "source": []
  }
 ],
 "metadata": {
  "kernelspec": {
   "display_name": "Python 3 (ipykernel)",
   "language": "python",
   "name": "python3"
  },
  "language_info": {
   "codemirror_mode": {
    "name": "ipython",
    "version": 3
   },
   "file_extension": ".py",
   "mimetype": "text/x-python",
   "name": "python",
   "nbconvert_exporter": "python",
   "pygments_lexer": "ipython3",
   "version": "3.11.5"
  }
 },
 "nbformat": 4,
 "nbformat_minor": 5
}
