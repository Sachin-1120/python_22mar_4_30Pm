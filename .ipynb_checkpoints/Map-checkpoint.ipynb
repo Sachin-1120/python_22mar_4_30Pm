{
 "cells": [
  {
   "cell_type": "code",
   "execution_count": 8,
   "id": "9e98dd17",
   "metadata": {},
   "outputs": [
    {
     "name": "stdout",
     "output_type": "stream",
     "text": [
      "[0, 1, 4, 9, 16, 25, 36, 49, 64, 81, 100]\n"
     ]
    }
   ],
   "source": [
    "l=[i for i in range(11)]\n",
    "def square(n):\n",
    "    return n*n\n",
    "print(list(map(square,l)))"
   ]
  },
  {
   "cell_type": "code",
   "execution_count": 9,
   "id": "a49a768c",
   "metadata": {},
   "outputs": [
    {
     "data": {
      "text/plain": [
       "[0, 1, 2, 3, 4, 5, 6, 7, 8, 9, 10]"
      ]
     },
     "execution_count": 9,
     "metadata": {},
     "output_type": "execute_result"
    }
   ],
   "source": [
    "l"
   ]
  },
  {
   "cell_type": "code",
   "execution_count": 11,
   "id": "e4dd77c0",
   "metadata": {},
   "outputs": [
    {
     "name": "stdout",
     "output_type": "stream",
     "text": [
      "0 1 2 3 4 5 6 7 8 9 10\n"
     ]
    }
   ],
   "source": [
    "print(*l)"
   ]
  },
  {
   "cell_type": "code",
   "execution_count": 13,
   "id": "eb153c53",
   "metadata": {},
   "outputs": [
    {
     "name": "stdout",
     "output_type": "stream",
     "text": [
      "s a c h i n\n"
     ]
    }
   ],
   "source": [
    "print(*'sachin')"
   ]
  },
  {
   "cell_type": "code",
   "execution_count": 14,
   "id": "8b408f33",
   "metadata": {},
   "outputs": [
    {
     "data": {
      "text/plain": [
       "[1, 4, 9, 16]"
      ]
     },
     "execution_count": 14,
     "metadata": {},
     "output_type": "execute_result"
    }
   ],
   "source": [
    "def square(n):\n",
    "    return n*n\n",
    "def mapl(func,itr):\n",
    "    l=[]\n",
    "    for i in itr:\n",
    "        l.append(func(i))\n",
    "    return l\n",
    "mapl(square,[1,2,3,4])"
   ]
  },
  {
   "cell_type": "code",
   "execution_count": null,
   "id": "4d3e1d0b",
   "metadata": {},
   "outputs": [],
   "source": [
    "10 numbers "
   ]
  },
  {
   "cell_type": "code",
   "execution_count": 15,
   "id": "94c131ac",
   "metadata": {},
   "outputs": [
    {
     "name": "stdout",
     "output_type": "stream",
     "text": [
      "Enter number1 2 3 4 \n"
     ]
    }
   ],
   "source": [
    "a=input('Enter number').split()"
   ]
  },
  {
   "cell_type": "code",
   "execution_count": 16,
   "id": "52d9237f",
   "metadata": {},
   "outputs": [
    {
     "data": {
      "text/plain": [
       "['1', '2', '3', '4']"
      ]
     },
     "execution_count": 16,
     "metadata": {},
     "output_type": "execute_result"
    }
   ],
   "source": [
    "a"
   ]
  },
  {
   "cell_type": "code",
   "execution_count": 17,
   "id": "f4ebb2e4",
   "metadata": {},
   "outputs": [
    {
     "data": {
      "text/plain": [
       "5"
      ]
     },
     "execution_count": 17,
     "metadata": {},
     "output_type": "execute_result"
    }
   ],
   "source": [
    "int('5')"
   ]
  },
  {
   "cell_type": "code",
   "execution_count": 19,
   "id": "9047e7e2",
   "metadata": {},
   "outputs": [
    {
     "data": {
      "text/plain": [
       "[1, 2, 3, 4]"
      ]
     },
     "execution_count": 19,
     "metadata": {},
     "output_type": "execute_result"
    }
   ],
   "source": [
    "list(map(int,a))"
   ]
  },
  {
   "cell_type": "code",
   "execution_count": 20,
   "id": "7491319e",
   "metadata": {},
   "outputs": [
    {
     "name": "stdout",
     "output_type": "stream",
     "text": [
      "Enter number1 2 3 4 5 6 7 8 9\n"
     ]
    }
   ],
   "source": [
    "a=list(map(int,input('Enter number').split()))"
   ]
  },
  {
   "cell_type": "code",
   "execution_count": 21,
   "id": "3c0db333",
   "metadata": {},
   "outputs": [
    {
     "data": {
      "text/plain": [
       "[1, 2, 3, 4, 5, 6, 7, 8, 9]"
      ]
     },
     "execution_count": 21,
     "metadata": {},
     "output_type": "execute_result"
    }
   ],
   "source": [
    "a"
   ]
  },
  {
   "cell_type": "code",
   "execution_count": 23,
   "id": "3432b447",
   "metadata": {},
   "outputs": [
    {
     "name": "stdout",
     "output_type": "stream",
     "text": [
      "Enter number1 2 8 7 4 5 9\n"
     ]
    },
    {
     "data": {
      "text/plain": [
       "['Odd', 'Even', 'Even', 'Odd', 'Even', 'Odd', 'Odd']"
      ]
     },
     "execution_count": 23,
     "metadata": {},
     "output_type": "execute_result"
    }
   ],
   "source": [
    "# list of numbers \n",
    "#-->check nos even odd\n",
    "a=list(map(int,input('Enter number').split()))\n",
    "#b=lambda i:'Even' if i%2==0 else 'Odd'\n",
    "def b(n):\n",
    "    if n%2==0:\n",
    "        return 'Even'\n",
    "    else:\n",
    "        return 'Odd'\n",
    "    \n",
    "list(map(b,a))"
   ]
  },
  {
   "cell_type": "code",
   "execution_count": 27,
   "id": "c9641bbf",
   "metadata": {
    "scrolled": true
   },
   "outputs": [
    {
     "data": {
      "text/plain": [
       "[False, False, False, True, False, True, True]"
      ]
     },
     "execution_count": 27,
     "metadata": {},
     "output_type": "execute_result"
    }
   ],
   "source": [
    "#filter\n",
    "l=[1,2,3,5,7,6,5]\n",
    "a=lambda i:i>4 and i<=6\n",
    "list(map(a,l))"
   ]
  },
  {
   "cell_type": "code",
   "execution_count": 28,
   "id": "3e1f36ff",
   "metadata": {},
   "outputs": [
    {
     "data": {
      "text/plain": [
       "[5, 6, 5]"
      ]
     },
     "execution_count": 28,
     "metadata": {},
     "output_type": "execute_result"
    }
   ],
   "source": [
    "#filter\n",
    "l=[1,2,3,5,7,6,5]\n",
    "a=lambda i:i>4 and i<=6\n",
    "list(filter(a,l))"
   ]
  },
  {
   "cell_type": "code",
   "execution_count": 31,
   "id": "ce03c513",
   "metadata": {},
   "outputs": [
    {
     "data": {
      "text/plain": [
       "[2, 4, 6, 8, 10]"
      ]
     },
     "execution_count": 31,
     "metadata": {},
     "output_type": "execute_result"
    }
   ],
   "source": [
    "a=[1,2,3,4,5,6,7,8,9,10]\n",
    "b=lambda i:'Even' if i%2==0 else ''\n",
    "list(filter(b,a))"
   ]
  },
  {
   "cell_type": "code",
   "execution_count": 33,
   "id": "8939c29b",
   "metadata": {},
   "outputs": [
    {
     "data": {
      "text/plain": [
       "['', 'Even', '', 'Even', '', 'Even', '', 'Even', '', 'Even']"
      ]
     },
     "execution_count": 33,
     "metadata": {},
     "output_type": "execute_result"
    }
   ],
   "source": [
    "a=[1,2,3,4,5,6,7,8,9,10]\n",
    "b=lambda i:'Even' if i%2==0 else ''\n",
    "list(map(b,a))"
   ]
  },
  {
   "cell_type": "code",
   "execution_count": 43,
   "id": "40ff83cc",
   "metadata": {},
   "outputs": [
    {
     "name": "stdout",
     "output_type": "stream",
     "text": [
      "Enter total no of studrents5\n",
      "Enter marks of subject separated by space10 70 80\n",
      "Enter marks of subject separated by space20 10 20\n",
      "Enter marks of subject separated by space70 78 95\n",
      "Enter marks of subject separated by space58 45 65\n",
      "Enter marks of subject separated by space20 30 10\n",
      "1\n"
     ]
    }
   ],
   "source": [
    "l=[\n",
    "    list(map(int,input('Enter marks of subject separated by space').split()))\n",
    "for i in range(int(input('Enter total no of studrents')))\n",
    "]\n",
    "b=lambda i:'A'if (sum(i)/3)>=90 else 'B' if (sum(i)/3)>=80 else 'C' if (sum(i)/3)>=70 else 'Fail'\n",
    "a=list(map(b,l))\n",
    "z=lambda i:True if i=='B' else False\n",
    "print(len(list(filter(z,a))))"
   ]
  },
  {
   "cell_type": "code",
   "execution_count": 44,
   "id": "aa06eb35",
   "metadata": {},
   "outputs": [
    {
     "data": {
      "text/plain": [
       "['Fail', 'Fail', 'B', 'Fail', 'Fail']"
      ]
     },
     "execution_count": 44,
     "metadata": {},
     "output_type": "execute_result"
    }
   ],
   "source": [
    "a"
   ]
  },
  {
   "cell_type": "code",
   "execution_count": null,
   "id": "cdfa9194",
   "metadata": {},
   "outputs": [],
   "source": [
    "l=[1,2,3,4,5]\n"
   ]
  }
 ],
 "metadata": {
  "kernelspec": {
   "display_name": "Python 3 (ipykernel)",
   "language": "python",
   "name": "python3"
  },
  "language_info": {
   "codemirror_mode": {
    "name": "ipython",
    "version": 3
   },
   "file_extension": ".py",
   "mimetype": "text/x-python",
   "name": "python",
   "nbconvert_exporter": "python",
   "pygments_lexer": "ipython3",
   "version": "3.11.5"
  }
 },
 "nbformat": 4,
 "nbformat_minor": 5
}
