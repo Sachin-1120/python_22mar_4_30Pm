{
 "cells": [
  {
   "cell_type": "code",
   "execution_count": 1,
   "id": "829f02b3",
   "metadata": {},
   "outputs": [],
   "source": [
    "a=lambda i,j:i+j"
   ]
  },
  {
   "cell_type": "code",
   "execution_count": 2,
   "id": "9bc5e6a0",
   "metadata": {},
   "outputs": [],
   "source": [
    "def add(i,j):\n",
    "    return i+j"
   ]
  },
  {
   "cell_type": "code",
   "execution_count": 3,
   "id": "32db2a4f",
   "metadata": {},
   "outputs": [
    {
     "data": {
      "text/plain": [
       "8"
      ]
     },
     "execution_count": 3,
     "metadata": {},
     "output_type": "execute_result"
    }
   ],
   "source": [
    "a(5,3)"
   ]
  },
  {
   "cell_type": "code",
   "execution_count": 4,
   "id": "b93b7d4b",
   "metadata": {},
   "outputs": [
    {
     "data": {
      "text/plain": [
       "8"
      ]
     },
     "execution_count": 4,
     "metadata": {},
     "output_type": "execute_result"
    }
   ],
   "source": [
    "add(5,3)"
   ]
  },
  {
   "cell_type": "code",
   "execution_count": 5,
   "id": "4d814486",
   "metadata": {},
   "outputs": [],
   "source": [
    "#Even/Odd        "
   ]
  },
  {
   "cell_type": "code",
   "execution_count": 6,
   "id": "b481a530",
   "metadata": {},
   "outputs": [
    {
     "data": {
      "text/plain": [
       "'Even'"
      ]
     },
     "execution_count": 6,
     "metadata": {},
     "output_type": "execute_result"
    }
   ],
   "source": [
    "def even(n):\n",
    "    if n%2==0:\n",
    "        return 'Even'\n",
    "    else:\n",
    "        return 'Odd'\n",
    "even(10)"
   ]
  },
  {
   "cell_type": "code",
   "execution_count": 7,
   "id": "2ac6dfbe",
   "metadata": {},
   "outputs": [
    {
     "data": {
      "text/plain": [
       "'Even'"
      ]
     },
     "execution_count": 7,
     "metadata": {},
     "output_type": "execute_result"
    }
   ],
   "source": [
    "a=lambda i:'Even' if i%2==0 else 'Odd'\n",
    "a(10)"
   ]
  },
  {
   "cell_type": "code",
   "execution_count": 8,
   "id": "866b772f",
   "metadata": {},
   "outputs": [],
   "source": [
    "a=lambda i:'A' if i>90 else 'B' if i>80 else 'C' if i >70 else 'Fail'"
   ]
  },
  {
   "cell_type": "code",
   "execution_count": 12,
   "id": "8be2c0d2",
   "metadata": {},
   "outputs": [
    {
     "name": "stdout",
     "output_type": "stream",
     "text": [
      "Enter Percentage75\n"
     ]
    },
    {
     "data": {
      "text/plain": [
       "'C'"
      ]
     },
     "execution_count": 12,
     "metadata": {},
     "output_type": "execute_result"
    }
   ],
   "source": [
    "a(int(input('Enter Percentage')))"
   ]
  },
  {
   "cell_type": "code",
   "execution_count": 16,
   "id": "5191371f",
   "metadata": {},
   "outputs": [
    {
     "name": "stdout",
     "output_type": "stream",
     "text": [
      "Enter String123\n"
     ]
    },
    {
     "data": {
      "text/plain": [
       "'Not Palindrome'"
      ]
     },
     "execution_count": 16,
     "metadata": {},
     "output_type": "execute_result"
    }
   ],
   "source": [
    "a=lambda i:'Palindrome' if i==i[::-1] else 'Not Palindrome'\n",
    "a(input('Enter String'))"
   ]
  },
  {
   "cell_type": "markdown",
   "id": "c14c9c60",
   "metadata": {},
   "source": [
    "### Que\n",
    "d={'a':100,'b':200,'c':300}\n",
    "\n",
    "\n",
    "who earn maximum with the help of lambda function"
   ]
  },
  {
   "cell_type": "code",
   "execution_count": 17,
   "id": "31c76ef6",
   "metadata": {},
   "outputs": [
    {
     "name": "stdout",
     "output_type": "stream",
     "text": [
      "Help on built-in function sort:\n",
      "\n",
      "sort(*, key=None, reverse=False) method of builtins.list instance\n",
      "    Sort the list in ascending order and return None.\n",
      "    \n",
      "    The sort is in-place (i.e. the list itself is modified) and stable (i.e. the\n",
      "    order of two equal elements is maintained).\n",
      "    \n",
      "    If a key function is given, apply it once to each list item and sort them,\n",
      "    ascending or descending, according to their function values.\n",
      "    \n",
      "    The reverse flag can be set to sort in descending order.\n",
      "\n"
     ]
    }
   ],
   "source": [
    "a=[]\n",
    "help(a.sort)"
   ]
  },
  {
   "cell_type": "code",
   "execution_count": null,
   "id": "debcaa06",
   "metadata": {},
   "outputs": [],
   "source": [
    "max()"
   ]
  },
  {
   "cell_type": "code",
   "execution_count": 21,
   "id": "30ffc3b0",
   "metadata": {},
   "outputs": [],
   "source": [
    "d={'a':100,'b':200,'c':50}"
   ]
  },
  {
   "cell_type": "code",
   "execution_count": 24,
   "id": "c8935b94",
   "metadata": {
    "scrolled": true
   },
   "outputs": [
    {
     "data": {
      "text/plain": [
       "'b'"
      ]
     },
     "execution_count": 24,
     "metadata": {},
     "output_type": "execute_result"
    }
   ],
   "source": [
    "max(d,key=lambda i:d[i])"
   ]
  },
  {
   "cell_type": "code",
   "execution_count": 25,
   "id": "212f01f8",
   "metadata": {},
   "outputs": [
    {
     "data": {
      "text/plain": [
       "'c'"
      ]
     },
     "execution_count": 25,
     "metadata": {},
     "output_type": "execute_result"
    }
   ],
   "source": [
    "\n",
    "min(d,key=lambda i:d[i])"
   ]
  },
  {
   "cell_type": "code",
   "execution_count": 27,
   "id": "3aa09d1f",
   "metadata": {},
   "outputs": [
    {
     "data": {
      "text/plain": [
       "{'a': 100, 'b': 200, 'c': 50}"
      ]
     },
     "execution_count": 27,
     "metadata": {},
     "output_type": "execute_result"
    }
   ],
   "source": [
    "d"
   ]
  },
  {
   "cell_type": "code",
   "execution_count": null,
   "id": "cee899fd",
   "metadata": {},
   "outputs": [],
   "source": [
    "#Que1\n",
    "#sort on the basis of value \n",
    "#values are same \n",
    "#to sort karna hai on the basis of key\n",
    "#sorted()\n"
   ]
  },
  {
   "cell_type": "code",
   "execution_count": 2,
   "id": "68145a97",
   "metadata": {},
   "outputs": [],
   "source": [
    "#list comprehension\n",
    "l=[\n",
    "    ['Sachin',70,80,90],\n",
    "    ['Deepratan',60,50,40],\n",
    "    ['Ravi',10,20,30]\n",
    "]\n",
    "#Output-->[['Sachin',85],['Deepratan',56]]"
   ]
  },
  {
   "cell_type": "code",
   "execution_count": 3,
   "id": "64fd25aa",
   "metadata": {},
   "outputs": [
    {
     "data": {
      "text/plain": [
       "[['Sachin', 70, 80, 90], ['Deepratan', 60, 50, 40], ['Ravi', 10, 20, 30]]"
      ]
     },
     "execution_count": 3,
     "metadata": {},
     "output_type": "execute_result"
    }
   ],
   "source": [
    "[i for i in l]"
   ]
  },
  {
   "cell_type": "code",
   "execution_count": 12,
   "id": "af32688e",
   "metadata": {},
   "outputs": [
    {
     "data": {
      "text/plain": [
       "[['Sachin', '33.33'], ['Ravi', '60.00']]"
      ]
     },
     "execution_count": 12,
     "metadata": {},
     "output_type": "execute_result"
    }
   ],
   "source": [
    "#a=lambda i:sum(i)/3\n",
    "def per(i):\n",
    "    return f'{sum(i)/3:.2f}'\n",
    "[[i[0],per(i[1:])] for i in l]"
   ]
  },
  {
   "cell_type": "code",
   "execution_count": 13,
   "id": "502d20c9",
   "metadata": {},
   "outputs": [
    {
     "name": "stdout",
     "output_type": "stream",
     "text": [
      "Enter Total No of Students1\n",
      "Name[1]sachin\n",
      "Math20\n",
      "Physics50\n",
      "Chemistry70\n"
     ]
    },
    {
     "data": {
      "text/plain": [
       "[['sachin', '46.67']]"
      ]
     },
     "execution_count": 13,
     "metadata": {},
     "output_type": "execute_result"
    }
   ],
   "source": [
    "#a=lambda i:sum(i)/3\n",
    "def per(i):\n",
    "    return f'{sum(i)/3:.2f}'\n",
    "[[i[0],per(i[1:])] for i in l]\n",
    "l=[\n",
    "    [input(f'Name[{i+1}]'),int(input('Math')),int(input('Physics')),int(input('Chemistry'))]\n",
    "for i in range(int(input('Enter Total No of Students')))\n",
    "]\n",
    "[[i[0],per(i[1:])] for i in l]"
   ]
  },
  {
   "cell_type": "code",
   "execution_count": 17,
   "id": "58188bcb",
   "metadata": {},
   "outputs": [
    {
     "name": "stdout",
     "output_type": "stream",
     "text": [
      "______________\n",
      "| Sachin | 52 |\n"
     ]
    }
   ],
   "source": [
    "print('_'*14)\n",
    "print('|','Sachin','|','52','|' )"
   ]
  },
  {
   "cell_type": "code",
   "execution_count": null,
   "id": "62359385",
   "metadata": {},
   "outputs": [],
   "source": []
  }
 ],
 "metadata": {
  "kernelspec": {
   "display_name": "Python 3 (ipykernel)",
   "language": "python",
   "name": "python3"
  },
  "language_info": {
   "codemirror_mode": {
    "name": "ipython",
    "version": 3
   },
   "file_extension": ".py",
   "mimetype": "text/x-python",
   "name": "python",
   "nbconvert_exporter": "python",
   "pygments_lexer": "ipython3",
   "version": "3.11.5"
  }
 },
 "nbformat": 4,
 "nbformat_minor": 5
}
