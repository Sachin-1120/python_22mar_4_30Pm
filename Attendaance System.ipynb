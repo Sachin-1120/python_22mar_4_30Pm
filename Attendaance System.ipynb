{
 "cells": [
  {
   "cell_type": "code",
   "execution_count": 17,
   "id": "09fb3506",
   "metadata": {},
   "outputs": [],
   "source": [
    "with open('student.csv','w') as fp:\n",
    "    l='Date,Sachin,Ravi,Simran'\n",
    "    fp.write(l)"
   ]
  },
  {
   "cell_type": "code",
   "execution_count": 18,
   "id": "ebd819b0",
   "metadata": {},
   "outputs": [
    {
     "name": "stdout",
     "output_type": "stream",
     "text": [
      "Date,Sachin,Ravi,Simran\n"
     ]
    }
   ],
   "source": [
    "with open('student.csv','r') as fp:\n",
    "    l=fp.readline()\n",
    "print(l)"
   ]
  },
  {
   "cell_type": "code",
   "execution_count": 19,
   "id": "ab967290",
   "metadata": {},
   "outputs": [],
   "source": [
    "import datetime"
   ]
  },
  {
   "cell_type": "code",
   "execution_count": 22,
   "id": "79be1c44",
   "metadata": {},
   "outputs": [
    {
     "name": "stdout",
     "output_type": "stream",
     "text": [
      "Mark Sachin Presence : -->a\n",
      "Mark Ravi Presence : -->a\n",
      "Mark Simran Presence : -->a\n"
     ]
    }
   ],
   "source": [
    "import datetime\n",
    "with open('student.csv','w') as fp:\n",
    "    l='Date,Sachin,Ravi,Simran'\n",
    "    fp.write(l)\n",
    "with open('student.csv','r') as fp:\n",
    "    l=fp.readline()\n",
    "b=[]\n",
    "for i in l.split(','):\n",
    "    if i=='Date':\n",
    "        b.append(str(datetime.date.today()) )\n",
    "    else:\n",
    "        n=input(f'Mark {i} Presence : -->')\n",
    "        b.append(n.upper())\n",
    "b=','.join(b)\n",
    "with open('student.csv','a') as fp:\n",
    "    fp.write('\\n')\n",
    "    fp.write(b)\n",
    "\n",
    "    "
   ]
  },
  {
   "cell_type": "code",
   "execution_count": 28,
   "id": "b29014b8",
   "metadata": {},
   "outputs": [
    {
     "name": "stdout",
     "output_type": "stream",
     "text": [
      "Enter Total Students2\n",
      "Enter nameravi\n",
      "Physics Marks90\n",
      "chemistry Marks87\n",
      "Maths Marks65\n",
      "Enter namesachin\n",
      "Physics Marks12\n",
      "chemistry Marks324\n",
      "Maths Marks21\n"
     ]
    }
   ],
   "source": [
    "import datetime\n",
    "with open('student1.csv','w') as fp:\n",
    "    l='Name,Physics,chemistry,maths,Grade'\n",
    "    fp.write(l)\n",
    "with open('student1.csv','a') as fp:\n",
    "    n=int(input('Enter Total Students'))\n",
    "    \n",
    "    for i in range(n):\n",
    "        l=[]\n",
    "        l.extend([input('Enter name'),int(input('Physics Marks')),int(input('chemistry Marks')),int(input('Maths Marks'))])\n",
    "        if sum(l[1:])/3>90:\n",
    "            l.append('A')\n",
    "        elif sum(l[1:])/3>80:\n",
    "            l.append('B')\n",
    "        elif sum(l[1:])/3>70:\n",
    "            l.append('C')\n",
    "        elif sum(l[1:])/3>60:\n",
    "            l.append('D')\n",
    "        else:\n",
    "            l.append('FAIL')\n",
    "        l=list(map(str,l))\n",
    "        l=','.join(l)\n",
    "        fp.write('\\n')\n",
    "        fp.write(l)\n"
   ]
  },
  {
   "cell_type": "code",
   "execution_count": null,
   "id": "8e732c17",
   "metadata": {},
   "outputs": [],
   "source": []
  }
 ],
 "metadata": {
  "kernelspec": {
   "display_name": "Python 3 (ipykernel)",
   "language": "python",
   "name": "python3"
  },
  "language_info": {
   "codemirror_mode": {
    "name": "ipython",
    "version": 3
   },
   "file_extension": ".py",
   "mimetype": "text/x-python",
   "name": "python",
   "nbconvert_exporter": "python",
   "pygments_lexer": "ipython3",
   "version": "3.11.5"
  }
 },
 "nbformat": 4,
 "nbformat_minor": 5
}
