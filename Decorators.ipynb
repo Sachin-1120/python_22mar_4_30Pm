{
 "cells": [
  {
   "cell_type": "code",
   "execution_count": 1,
   "id": "f85b29bb",
   "metadata": {},
   "outputs": [],
   "source": [
    "def add(a,b):\n",
    "    return a+b\n",
    "def sub(a,b):\n",
    "    return a-b\n",
    "def mul(a,b):\n",
    "    return a*b\n",
    "def div(a,b):\n",
    "    return a/b\n",
    "def calculator(a,b):\n",
    "    print('Addition -->',add(a,b))\n",
    "    print('Subtraction -->',sub(a,b))\n",
    "    print('Multiplication -->',mul(a,b))\n",
    "    print('Division -->',div(a,b))\n",
    "    "
   ]
  },
  {
   "cell_type": "code",
   "execution_count": 2,
   "id": "ea199f2e",
   "metadata": {},
   "outputs": [
    {
     "name": "stdout",
     "output_type": "stream",
     "text": [
      "Addition --> 11\n",
      "Subtraction --> -1\n",
      "Multiplication --> 30\n",
      "Division --> 0.8333333333333334\n"
     ]
    }
   ],
   "source": [
    "calculator(5,6)"
   ]
  },
  {
   "cell_type": "code",
   "execution_count": 6,
   "id": "1acd9d36",
   "metadata": {},
   "outputs": [
    {
     "name": "stdout",
     "output_type": "stream",
     "text": [
      "sachin\n",
      "name inside hello Varun\n",
      "inside hi Varun\n"
     ]
    }
   ],
   "source": [
    "name='sachin'# Global\n",
    "def hello():\n",
    "    name='Varun'\n",
    "    print('name inside hello',name)\n",
    "    def hi():\n",
    "        print('inside hi',name)\n",
    "    hi()\n",
    "print(name)\n",
    "hello()\n"
   ]
  },
  {
   "cell_type": "code",
   "execution_count": 9,
   "id": "571f2c25",
   "metadata": {},
   "outputs": [
    {
     "name": "stdout",
     "output_type": "stream",
     "text": [
      "sachin\n",
      "name inside hello Varun\n",
      "inside hi varsha\n",
      "name inside hello Varun\n",
      "varsha\n"
     ]
    }
   ],
   "source": [
    "name='sachin'# Global\n",
    "def hello():\n",
    "    name='Varun'\n",
    "    print('name inside hello',name)\n",
    "    def hi():\n",
    "        global name \n",
    "        name='varsha'\n",
    "        print('inside hi',name)\n",
    "    hi()\n",
    "    print('name inside hello',name)\n",
    "print(name)\n",
    "hello()\n",
    "print(name)"
   ]
  },
  {
   "cell_type": "code",
   "execution_count": 10,
   "id": "66fb94ab",
   "metadata": {},
   "outputs": [
    {
     "data": {
      "text/plain": [
       "120"
      ]
     },
     "execution_count": 10,
     "metadata": {},
     "output_type": "execute_result"
    }
   ],
   "source": [
    "def factorial(n):\n",
    "    if n==1:\n",
    "        return 1\n",
    "    return n*factorial(n-1)\n",
    "factorial(5)"
   ]
  },
  {
   "cell_type": "markdown",
   "id": "c3e747cb",
   "metadata": {},
   "source": [
    "# Closure"
   ]
  },
  {
   "cell_type": "raw",
   "id": "bb829b61",
   "metadata": {},
   "source": [
    "something is about to close"
   ]
  },
  {
   "cell_type": "code",
   "execution_count": 12,
   "id": "c9edec12",
   "metadata": {},
   "outputs": [
    {
     "name": "stdout",
     "output_type": "stream",
     "text": [
      "<function outer.<locals>.inner at 0x0000017A052877E0>\n"
     ]
    }
   ],
   "source": [
    "def outer(name):\n",
    "    def inner():\n",
    "        print('welcome',name)\n",
    "        print('welcome to closure')\n",
    "    return inner\n",
    "x=outer('sachin sharma')\n",
    "print(x)"
   ]
  },
  {
   "cell_type": "code",
   "execution_count": 13,
   "id": "a72b9ecc",
   "metadata": {},
   "outputs": [
    {
     "name": "stdout",
     "output_type": "stream",
     "text": [
      "welcome sachin sharma\n",
      "welcome to closure\n"
     ]
    }
   ],
   "source": [
    "x()"
   ]
  },
  {
   "cell_type": "code",
   "execution_count": 14,
   "id": "a1c312ed",
   "metadata": {},
   "outputs": [
    {
     "name": "stdout",
     "output_type": "stream",
     "text": [
      "<function outer.<locals>.inner at 0x0000017A05284B80>\n"
     ]
    }
   ],
   "source": [
    "def outer(name):\n",
    "    def inner(age):\n",
    "        print('welcome',name,age)\n",
    "        print('welcome to closure')\n",
    "    return inner\n",
    "x=outer('sachin sharma')\n",
    "print(x)"
   ]
  },
  {
   "cell_type": "code",
   "execution_count": 17,
   "id": "801523dc",
   "metadata": {},
   "outputs": [
    {
     "name": "stdout",
     "output_type": "stream",
     "text": [
      "welcome sachin sharma 15\n",
      "welcome to closure\n"
     ]
    }
   ],
   "source": [
    "x(15)"
   ]
  },
  {
   "cell_type": "code",
   "execution_count": 19,
   "id": "64f987bd",
   "metadata": {},
   "outputs": [
    {
     "data": {
      "text/plain": [
       "0.5"
      ]
     },
     "execution_count": 19,
     "metadata": {},
     "output_type": "execute_result"
    }
   ],
   "source": [
    "def div(a,b):\n",
    "    return a/b\n",
    "div(2,4)"
   ]
  },
  {
   "cell_type": "code",
   "execution_count": 27,
   "id": "cb73bd4e",
   "metadata": {},
   "outputs": [
    {
     "data": {
      "text/plain": [
       "2.0"
      ]
     },
     "execution_count": 27,
     "metadata": {},
     "output_type": "execute_result"
    }
   ],
   "source": [
    "def div(a,b):\n",
    "    return a/b\n",
    "def div1(func):\n",
    "    def inner(a,b):\n",
    "        if a>b:\n",
    "            return func(a,b)\n",
    "        else:\n",
    "            return func(b,a)\n",
    "    return inner\n",
    "        \n",
    "div2=div1(div)\n",
    "div2(2,4)"
   ]
  },
  {
   "cell_type": "code",
   "execution_count": 30,
   "id": "a0e169b6",
   "metadata": {},
   "outputs": [
    {
     "name": "stdout",
     "output_type": "stream",
     "text": [
      "**********\n",
      "welcome  sachin\n",
      "**********\n"
     ]
    }
   ],
   "source": [
    "def print_alpha(name):\n",
    "    print('welcome ',name)\n",
    "def animated_print(func):\n",
    "    \n",
    "    def inner(name):\n",
    "        print('*'*10)\n",
    "        func(name)\n",
    "        print('*'*10)\n",
    "    return inner\n",
    "animated_print=animated_print(print_alpha)\n",
    "animated_print('sachin')"
   ]
  },
  {
   "cell_type": "code",
   "execution_count": 32,
   "id": "f951007b",
   "metadata": {},
   "outputs": [
    {
     "data": {
      "text/plain": [
       "'Not Palindrome'"
      ]
     },
     "execution_count": 32,
     "metadata": {},
     "output_type": "execute_result"
    }
   ],
   "source": [
    "def palindrome(n):\n",
    "    if n==n[::-1]:\n",
    "        return 'Palindrome'\n",
    "    else :\n",
    "        return 'Not Palindrome'\n",
    "palindrome('Madam')"
   ]
  },
  {
   "cell_type": "code",
   "execution_count": 33,
   "id": "b04919bb",
   "metadata": {},
   "outputs": [
    {
     "name": "stdout",
     "output_type": "stream",
     "text": [
      "Enter string \n",
      "Madam\n"
     ]
    },
    {
     "data": {
      "text/plain": [
       "'Palindrome'"
      ]
     },
     "execution_count": 33,
     "metadata": {},
     "output_type": "execute_result"
    }
   ],
   "source": [
    "def smart_palindrome(func):\n",
    "    def inner(n):\n",
    "        n=n.lower()\n",
    "        return func(n)\n",
    "    return inner\n",
    "a1=smart_palindrome(palindrome)\n",
    "a1(input('Enter string \\n'))"
   ]
  },
  {
   "cell_type": "code",
   "execution_count": 34,
   "id": "65d8a5df",
   "metadata": {},
   "outputs": [],
   "source": [
    "def print_alpha(name):\n",
    "    print('welcome ',name)\n",
    "def animated_print(func):\n",
    "    \n",
    "    def inner(name):\n",
    "        print('*'*10)\n",
    "        func(name)\n",
    "        print('*'*10)\n",
    "    return inner\n",
    "\n"
   ]
  },
  {
   "cell_type": "code",
   "execution_count": 35,
   "id": "8336ff23",
   "metadata": {},
   "outputs": [
    {
     "name": "stdout",
     "output_type": "stream",
     "text": [
      "**********\n",
      "welcome  sachin\n",
      "**********\n"
     ]
    }
   ],
   "source": [
    "@animated_print\n",
    "def print_alpha(name):\n",
    "    print('welcome ',name)\n",
    "print_alpha('sachin')"
   ]
  },
  {
   "cell_type": "code",
   "execution_count": null,
   "id": "882d2cca",
   "metadata": {},
   "outputs": [],
   "source": []
  }
 ],
 "metadata": {
  "kernelspec": {
   "display_name": "Python 3 (ipykernel)",
   "language": "python",
   "name": "python3"
  },
  "language_info": {
   "codemirror_mode": {
    "name": "ipython",
    "version": 3
   },
   "file_extension": ".py",
   "mimetype": "text/x-python",
   "name": "python",
   "nbconvert_exporter": "python",
   "pygments_lexer": "ipython3",
   "version": "3.11.5"
  }
 },
 "nbformat": 4,
 "nbformat_minor": 5
}
