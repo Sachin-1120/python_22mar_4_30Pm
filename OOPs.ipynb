{
 "cells": [
  {
   "cell_type": "raw",
   "id": "c42c5333",
   "metadata": {},
   "source": [
    "#syntax\n",
    "'''\n",
    "class Class_name:\n",
    "    code\n",
    "'''\n"
   ]
  },
  {
   "cell_type": "code",
   "execution_count": 27,
   "id": "b1fd4205",
   "metadata": {},
   "outputs": [],
   "source": [
    "class Alpha:\n",
    "    '''\n",
    "    Welcome to alpha\n",
    "    \n",
    "    '''\n",
    "    def hello(self,name):\n",
    "        #print(a)\n",
    "        print('Hello',name)\n",
    "    def bye():\n",
    "        print('Bye')\n"
   ]
  },
  {
   "cell_type": "code",
   "execution_count": 28,
   "id": "585c9a38",
   "metadata": {},
   "outputs": [
    {
     "data": {
      "text/plain": [
       "'\\n    Welcome to alpha\\n    \\n    '"
      ]
     },
     "execution_count": 28,
     "metadata": {},
     "output_type": "execute_result"
    }
   ],
   "source": [
    "Alpha.__doc__"
   ]
  },
  {
   "cell_type": "code",
   "execution_count": 29,
   "id": "c7241e5d",
   "metadata": {},
   "outputs": [],
   "source": [
    "ob1=Alpha()"
   ]
  },
  {
   "cell_type": "code",
   "execution_count": 30,
   "id": "4b9a36cc",
   "metadata": {},
   "outputs": [
    {
     "name": "stdout",
     "output_type": "stream",
     "text": [
      "Hello Sachin\n"
     ]
    }
   ],
   "source": [
    "ob1.hello('Sachin')"
   ]
  },
  {
   "cell_type": "code",
   "execution_count": 31,
   "id": "a0dfb8b8",
   "metadata": {},
   "outputs": [
    {
     "ename": "TypeError",
     "evalue": "Alpha.bye() takes 0 positional arguments but 1 was given",
     "output_type": "error",
     "traceback": [
      "\u001b[1;31m---------------------------------------------------------------------------\u001b[0m",
      "\u001b[1;31mTypeError\u001b[0m                                 Traceback (most recent call last)",
      "Cell \u001b[1;32mIn[31], line 1\u001b[0m\n\u001b[1;32m----> 1\u001b[0m ob1\u001b[38;5;241m.\u001b[39mbye()\n",
      "\u001b[1;31mTypeError\u001b[0m: Alpha.bye() takes 0 positional arguments but 1 was given"
     ]
    }
   ],
   "source": [
    "ob1.bye()"
   ]
  },
  {
   "cell_type": "code",
   "execution_count": 32,
   "id": "cd8453cd",
   "metadata": {},
   "outputs": [
    {
     "name": "stdout",
     "output_type": "stream",
     "text": [
      "Bye\n"
     ]
    }
   ],
   "source": [
    "Alpha.bye()"
   ]
  },
  {
   "cell_type": "code",
   "execution_count": 33,
   "id": "b04129a6",
   "metadata": {},
   "outputs": [
    {
     "name": "stdout",
     "output_type": "stream",
     "text": [
      "6\n",
      "-4\n",
      "5\n",
      "0.2\n"
     ]
    }
   ],
   "source": [
    "class Calculator:\n",
    "    '''\n",
    "    Used to perform Calculation operation on class\n",
    "    '''\n",
    "    def add(self,a,b):\n",
    "        return a+b\n",
    "    def sub(self,a,b):\n",
    "        return a-b\n",
    "    def mul(self,a,b):\n",
    "        return a*b\n",
    "    def div(self,a,b):\n",
    "        return a/b\n",
    "ob=Calculator()\n",
    "print(ob.add(1,5))\n",
    "print(ob.sub(1,5))\n",
    "print(ob.mul(1,5))\n",
    "print(ob.div(1,5))\n"
   ]
  },
  {
   "cell_type": "code",
   "execution_count": null,
   "id": "3bc13480",
   "metadata": {},
   "outputs": [],
   "source": []
  }
 ],
 "metadata": {
  "kernelspec": {
   "display_name": "Python 3 (ipykernel)",
   "language": "python",
   "name": "python3"
  },
  "language_info": {
   "codemirror_mode": {
    "name": "ipython",
    "version": 3
   },
   "file_extension": ".py",
   "mimetype": "text/x-python",
   "name": "python",
   "nbconvert_exporter": "python",
   "pygments_lexer": "ipython3",
   "version": "3.11.5"
  }
 },
 "nbformat": 4,
 "nbformat_minor": 5
}
