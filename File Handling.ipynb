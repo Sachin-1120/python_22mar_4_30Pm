{
 "cells": [
  {
   "cell_type": "markdown",
   "id": "037d37f7",
   "metadata": {},
   "source": [
    "permanent storage of data\n"
   ]
  },
  {
   "cell_type": "code",
   "execution_count": null,
   "id": "5e8d2a2d",
   "metadata": {},
   "outputs": [],
   "source": [
    "file handling:\n",
    "    1. Human readable Format\n",
    "    2. Machine Readable Format"
   ]
  },
  {
   "cell_type": "code",
   "execution_count": 1,
   "id": "e0721989",
   "metadata": {},
   "outputs": [],
   "source": [
    "import os"
   ]
  },
  {
   "cell_type": "code",
   "execution_count": 2,
   "id": "d5e72055",
   "metadata": {},
   "outputs": [
    {
     "name": "stdout",
     "output_type": "stream",
     "text": [
      "['DirEntry', 'EX_OK', 'F_OK', 'GenericAlias', 'Mapping', 'MutableMapping', 'O_APPEND', 'O_BINARY', 'O_CREAT', 'O_EXCL', 'O_NOINHERIT', 'O_RANDOM', 'O_RDONLY', 'O_RDWR', 'O_SEQUENTIAL', 'O_SHORT_LIVED', 'O_TEMPORARY', 'O_TEXT', 'O_TRUNC', 'O_WRONLY', 'P_DETACH', 'P_NOWAIT', 'P_NOWAITO', 'P_OVERLAY', 'P_WAIT', 'PathLike', 'R_OK', 'SEEK_CUR', 'SEEK_END', 'SEEK_SET', 'TMP_MAX', 'W_OK', 'X_OK', '_AddedDllDirectory', '_Environ', '__all__', '__builtins__', '__doc__', '__file__', '__loader__', '__name__', '__package__', '__spec__', '_check_methods', '_execvpe', '_exists', '_exit', '_fspath', '_get_exports_list', '_walk', '_wrap_close', 'abc', 'abort', 'access', 'add_dll_directory', 'altsep', 'chdir', 'chmod', 'close', 'closerange', 'cpu_count', 'curdir', 'defpath', 'device_encoding', 'devnull', 'dup', 'dup2', 'environ', 'error', 'execl', 'execle', 'execlp', 'execlpe', 'execv', 'execve', 'execvp', 'execvpe', 'extsep', 'fdopen', 'fsdecode', 'fsencode', 'fspath', 'fstat', 'fsync', 'ftruncate', 'get_exec_path', 'get_handle_inheritable', 'get_inheritable', 'get_terminal_size', 'getcwd', 'getcwdb', 'getenv', 'getlogin', 'getpid', 'getppid', 'isatty', 'kill', 'linesep', 'link', 'listdir', 'lseek', 'lstat', 'makedirs', 'mkdir', 'name', 'open', 'pardir', 'path', 'pathsep', 'pipe', 'popen', 'putenv', 'read', 'readlink', 'remove', 'removedirs', 'rename', 'renames', 'replace', 'rmdir', 'scandir', 'sep', 'set_handle_inheritable', 'set_inheritable', 'spawnl', 'spawnle', 'spawnv', 'spawnve', 'st', 'startfile', 'stat', 'stat_result', 'statvfs_result', 'strerror', 'supports_bytes_environ', 'supports_dir_fd', 'supports_effective_ids', 'supports_fd', 'supports_follow_symlinks', 'symlink', 'sys', 'system', 'terminal_size', 'times', 'times_result', 'truncate', 'umask', 'uname_result', 'unlink', 'unsetenv', 'urandom', 'utime', 'waitpid', 'waitstatus_to_exitcode', 'walk', 'write']\n"
     ]
    }
   ],
   "source": [
    "print(dir(os))"
   ]
  },
  {
   "cell_type": "code",
   "execution_count": 3,
   "id": "8973c591",
   "metadata": {},
   "outputs": [
    {
     "data": {
      "text/plain": [
       "'E:\\\\data science\\\\Python_4_30PM'"
      ]
     },
     "execution_count": 3,
     "metadata": {},
     "output_type": "execute_result"
    }
   ],
   "source": [
    "pwd"
   ]
  },
  {
   "cell_type": "code",
   "execution_count": 4,
   "id": "2585ed4c",
   "metadata": {},
   "outputs": [
    {
     "data": {
      "text/plain": [
       "'E:\\\\data science\\\\Python_4_30PM'"
      ]
     },
     "execution_count": 4,
     "metadata": {},
     "output_type": "execute_result"
    }
   ],
   "source": [
    "os.getcwd()"
   ]
  },
  {
   "cell_type": "code",
   "execution_count": 5,
   "id": "91400003",
   "metadata": {},
   "outputs": [
    {
     "name": "stdout",
     "output_type": "stream",
     "text": [
      " Volume in drive E has no label.\n",
      " Volume Serial Number is 3458-1D9C\n",
      "\n",
      " Directory of E:\\data science\\Python_4_30PM\n",
      "\n",
      "05/27/2024  05:17 PM    <DIR>          .\n",
      "05/27/2024  05:17 PM    <DIR>          ..\n",
      "04/10/2024  03:45 PM             8,993 .a.py.un~\n",
      "04/10/2024  03:37 PM             9,887 .a.txt.un~\n",
      "04/10/2024  03:42 PM               523 .b.txt.un~\n",
      "04/10/2024  03:41 PM               523 .c.txt.un~\n",
      "05/27/2024  04:56 PM    <DIR>          .ipynb_checkpoints\n",
      "04/10/2024  03:52 PM             4,080 .table.py.un~\n",
      "04/08/2024  04:58 PM               104 a.py~\n",
      "05/25/2024  03:27 PM            23,018 Bank Application.ipynb\n",
      "04/27/2024  05:32 PM            10,255 Conditional Statements.ipynb\n",
      "04/08/2024  05:51 PM            11,719 Data Type.ipynb\n",
      "04/22/2024  06:05 PM            28,934 Dictionary.ipynb\n",
      "05/27/2024  05:17 PM             3,251 File Handling.ipynb\n",
      "05/15/2024  06:56 PM             8,655 Functions Parameters.ipynb\n",
      "05/13/2024  05:49 PM             2,784 Functions.ipynb\n",
      "05/14/2024  06:36 PM             3,753 Functions-2.ipynb\n",
      "05/22/2024  05:08 PM             8,961 Lambda .ipynb\n",
      "05/09/2024  06:34 PM            11,110 List Comprehension.ipynb\n",
      "04/18/2024  03:37 PM            38,101 List.ipynb\n",
      "05/03/2024  06:09 PM            21,554 Loops.ipynb\n",
      "05/27/2024  04:56 PM            11,422 Map.ipynb\n",
      "05/08/2024  06:52 PM             6,724 Nested Loops.ipynb\n",
      "04/09/2024  03:32 PM    <DIR>          notes\n",
      "04/26/2024  05:56 PM            29,305 Operators.ipynb\n",
      "05/04/2024  05:20 PM             1,638 Pattern Printing.ipynb\n",
      "04/05/2024  05:43 PM            25,327 Python Intro.ipynb\n",
      "05/10/2024  05:29 PM            10,665 Random Guessing Game.ipynb\n",
      "05/24/2024  04:47 PM            10,376 Recursion.ipynb\n",
      "04/25/2024  04:57 PM            18,251 Sets.ipynb\n",
      "04/12/2024  05:30 PM            32,991 String.ipynb\n",
      "04/11/2024  04:00 PM            19,532 String-2.ipynb\n",
      "04/10/2024  03:49 PM                56 table.py~\n",
      "05/09/2024  03:43 PM             3,878 Untitled.ipynb\n",
      "05/11/2024  05:36 PM             6,128 Untitled1.ipynb\n",
      "05/14/2024  04:37 PM               589 Untitled2.ipynb\n",
      "              32 File(s)        373,087 bytes\n",
      "               4 Dir(s)  234,862,755,840 bytes free\n"
     ]
    }
   ],
   "source": [
    "ls"
   ]
  },
  {
   "cell_type": "code",
   "execution_count": 6,
   "id": "55274cca",
   "metadata": {},
   "outputs": [
    {
     "data": {
      "text/plain": [
       "['.a.py.swp',\n",
       " '.a.py.un~',\n",
       " '.a.txt.swp',\n",
       " '.a.txt.un~',\n",
       " '.b.txt.un~',\n",
       " '.c.txt.un~',\n",
       " '.ipynb_checkpoints',\n",
       " '.table.py.un~',\n",
       " 'a.py~',\n",
       " 'Bank Application.ipynb',\n",
       " 'Conditional Statements.ipynb',\n",
       " 'Data Type.ipynb',\n",
       " 'Dictionary.ipynb',\n",
       " 'File Handling.ipynb',\n",
       " 'Functions Parameters.ipynb',\n",
       " 'Functions-2.ipynb',\n",
       " 'Functions.ipynb',\n",
       " 'Lambda .ipynb',\n",
       " 'List Comprehension.ipynb',\n",
       " 'List.ipynb',\n",
       " 'Loops.ipynb',\n",
       " 'Map.ipynb',\n",
       " 'Nested Loops.ipynb',\n",
       " 'notes',\n",
       " 'Operators.ipynb',\n",
       " 'Pattern Printing.ipynb',\n",
       " 'Python Intro.ipynb',\n",
       " 'Random Guessing Game.ipynb',\n",
       " 'Recursion.ipynb',\n",
       " 'Sets.ipynb',\n",
       " 'String-2.ipynb',\n",
       " 'String.ipynb',\n",
       " 'table.py~',\n",
       " 'Untitled.ipynb',\n",
       " 'Untitled1.ipynb',\n",
       " 'Untitled2.ipynb']"
      ]
     },
     "execution_count": 6,
     "metadata": {},
     "output_type": "execute_result"
    }
   ],
   "source": [
    "os.listdir()"
   ]
  },
  {
   "cell_type": "code",
   "execution_count": 7,
   "id": "e4ffd928",
   "metadata": {},
   "outputs": [
    {
     "data": {
      "text/plain": [
       "'E:\\\\data science\\\\Python_4_30PM\\\\notes'"
      ]
     },
     "execution_count": 7,
     "metadata": {},
     "output_type": "execute_result"
    }
   ],
   "source": [
    "os.path.abspath('./notes')"
   ]
  },
  {
   "cell_type": "code",
   "execution_count": 9,
   "id": "d33abb18",
   "metadata": {},
   "outputs": [
    {
     "data": {
      "text/plain": [
       "True"
      ]
     },
     "execution_count": 9,
     "metadata": {},
     "output_type": "execute_result"
    }
   ],
   "source": [
    "os.path.exists('./notes')"
   ]
  },
  {
   "cell_type": "code",
   "execution_count": 10,
   "id": "6c73ac45",
   "metadata": {},
   "outputs": [
    {
     "data": {
      "text/plain": [
       "'E:\\\\data science\\\\Python_4_30PM'"
      ]
     },
     "execution_count": 10,
     "metadata": {},
     "output_type": "execute_result"
    }
   ],
   "source": [
    "pwd"
   ]
  },
  {
   "cell_type": "code",
   "execution_count": 11,
   "id": "0f439592",
   "metadata": {},
   "outputs": [
    {
     "name": "stdout",
     "output_type": "stream",
     "text": [
      "True\n",
      "True\n"
     ]
    }
   ],
   "source": [
    "print(os.path.exists('./File Handling.ipynb'))\n",
    "print(os.path.exists('./notes'))\n",
    "\n"
   ]
  },
  {
   "cell_type": "code",
   "execution_count": 12,
   "id": "4d364721",
   "metadata": {},
   "outputs": [
    {
     "data": {
      "text/plain": [
       "False"
      ]
     },
     "execution_count": 12,
     "metadata": {},
     "output_type": "execute_result"
    }
   ],
   "source": [
    "os.path.isdir('./File Handling.ipynb')"
   ]
  },
  {
   "cell_type": "code",
   "execution_count": 13,
   "id": "651fa5c8",
   "metadata": {},
   "outputs": [
    {
     "data": {
      "text/plain": [
       "True"
      ]
     },
     "execution_count": 13,
     "metadata": {},
     "output_type": "execute_result"
    }
   ],
   "source": [
    "os.path.isdir('./notes')"
   ]
  },
  {
   "cell_type": "code",
   "execution_count": 14,
   "id": "e231567d",
   "metadata": {},
   "outputs": [
    {
     "data": {
      "text/plain": [
       "True"
      ]
     },
     "execution_count": 14,
     "metadata": {},
     "output_type": "execute_result"
    }
   ],
   "source": [
    "os.path.isfile('./File Handling.ipynb')"
   ]
  },
  {
   "cell_type": "code",
   "execution_count": 23,
   "id": "1432c54c",
   "metadata": {},
   "outputs": [
    {
     "name": "stdout",
     "output_type": "stream",
     "text": [
      "Enter LocationE:/data science\n",
      "Folders at that particular Location are : \n",
      "\n",
      "-->.dist\n",
      "-->.ipynb_checkpoints\n",
      "-->Data Analyst\n",
      "-->Data Science 9Pm\n",
      "-->grras assignments\n",
      "-->Matplotlib\n",
      "-->ML\n",
      "-->ML Recordings\n",
      "-->ML-foundations-master\n",
      "-->notes\n",
      "-->Numpy\n",
      "-->OneDrive_1_13-03-2024\n",
      "-->Pandas\n",
      "-->Practice\n",
      "-->Projects\n",
      "-->Python 10AM\n",
      "-->Python_4_30PM\n",
      "-->Stats\n",
      "-->subodh\n",
      "-->Test_16Mar_10AM\n",
      "-->__pycache__\n",
      "Files at that particular Location are : \n",
      "\n",
      "-->28.File handling - 1.ipynb\n",
      "-->29.File handling - 2.ipynb\n",
      "-->30.File handling - 3.ipynb\n",
      "-->amazon.csv\n",
      "-->arbitrary.pdf\n",
      "-->Automatic.pdf\n",
      "-->CCA.pdf\n",
      "-->clean_data.csv\n",
      "-->company.csv\n",
      "-->Data Science(workshop).pptx\n",
      "-->DataScience9am_Pandas_Test_soln.ipynb\n",
      "-->Detailed Content.pdf\n",
      "-->gdp.csv\n",
      "-->git-cheat-sheet-education.pdf\n",
      "-->Image Processing.ipynb\n",
      "-->k1.jpg\n",
      "-->k11.jpg\n",
      "-->leaves-80-classes-transfer-learning-97-accuracy (1).ipynb\n",
      "-->Web_Scraping.ipynb\n"
     ]
    }
   ],
   "source": [
    "def create(n):\n",
    "    if os.path.exists(n):\n",
    "        folder=[]\n",
    "        file=[]\n",
    "        z=os.listdir(n)\n",
    "        for i in z:\n",
    "            if os.path.isfile(f'{n}/{i}'):\n",
    "                file.append(i)\n",
    "            elif os.path.isdir(f'{n}/{i}'):\n",
    "                folder.append(i)\n",
    "        print('Folders at that particular Location are : \\n')\n",
    "        for i in folder:\n",
    "            print(f'-->{i}')\n",
    "        print('Files at that particular Location are : \\n')    \n",
    "        for i in file:\n",
    "            print(f'-->{i}')\n",
    "    else:\n",
    "        return 'Path Not Exists'\n",
    "create(input('Enter Location'))"
   ]
  },
  {
   "cell_type": "code",
   "execution_count": 3,
   "id": "945caaba",
   "metadata": {},
   "outputs": [
    {
     "data": {
      "text/plain": [
       "'E:\\\\data science\\\\Python_4_30PM'"
      ]
     },
     "execution_count": 3,
     "metadata": {},
     "output_type": "execute_result"
    }
   ],
   "source": [
    "pwd"
   ]
  },
  {
   "cell_type": "code",
   "execution_count": 5,
   "id": "e246c21d",
   "metadata": {},
   "outputs": [
    {
     "data": {
      "text/plain": [
       "['.a.py.swp',\n",
       " '.a.py.un~',\n",
       " '.a.txt.swp',\n",
       " '.a.txt.un~',\n",
       " '.b.txt.un~',\n",
       " '.c.txt.un~',\n",
       " '.ipynb_checkpoints',\n",
       " '.table.py.un~',\n",
       " 'a.py~',\n",
       " 'Bank Application.ipynb',\n",
       " 'Conditional Statements.ipynb',\n",
       " 'Data Type.ipynb',\n",
       " 'Dictionary.ipynb',\n",
       " 'File Handling.ipynb',\n",
       " 'Functions Parameters.ipynb',\n",
       " 'Functions-2.ipynb',\n",
       " 'Functions.ipynb',\n",
       " 'Lambda .ipynb',\n",
       " 'List Comprehension.ipynb',\n",
       " 'List.ipynb',\n",
       " 'Loops.ipynb',\n",
       " 'Map.ipynb',\n",
       " 'Nested Loops.ipynb',\n",
       " 'notes',\n",
       " 'Operators.ipynb',\n",
       " 'Pattern Printing.ipynb',\n",
       " 'Python Intro.ipynb',\n",
       " 'Random Guessing Game.ipynb',\n",
       " 'Recursion.ipynb',\n",
       " 'Sets.ipynb',\n",
       " 'String-2.ipynb',\n",
       " 'String.ipynb',\n",
       " 'table.py~',\n",
       " 'Untitled.ipynb',\n",
       " 'Untitled1.ipynb',\n",
       " 'Untitled2.ipynb']"
      ]
     },
     "execution_count": 5,
     "metadata": {},
     "output_type": "execute_result"
    }
   ],
   "source": [
    "os.listdir('E:/data science/Python_4_30PM')"
   ]
  },
  {
   "cell_type": "code",
   "execution_count": 6,
   "id": "b8082ed6",
   "metadata": {},
   "outputs": [],
   "source": [
    "os.chdir('./notes/')"
   ]
  },
  {
   "cell_type": "code",
   "execution_count": 7,
   "id": "0c029a43",
   "metadata": {},
   "outputs": [
    {
     "data": {
      "text/plain": [
       "[]"
      ]
     },
     "execution_count": 7,
     "metadata": {},
     "output_type": "execute_result"
    }
   ],
   "source": [
    "os.listdir()"
   ]
  },
  {
   "cell_type": "code",
   "execution_count": null,
   "id": "7d32e098",
   "metadata": {},
   "outputs": [],
   "source": []
  },
  {
   "cell_type": "code",
   "execution_count": null,
   "id": "457a7048",
   "metadata": {},
   "outputs": [],
   "source": []
  },
  {
   "cell_type": "code",
   "execution_count": 27,
   "id": "b23f866b",
   "metadata": {},
   "outputs": [
    {
     "data": {
      "text/plain": [
       "'E:\\\\data science\\\\Practice\\\\notes'"
      ]
     },
     "execution_count": 27,
     "metadata": {},
     "output_type": "execute_result"
    }
   ],
   "source": [
    "os.path.join('E:\\\\','data science','Practice','notes')"
   ]
  },
  {
   "cell_type": "code",
   "execution_count": null,
   "id": "479529d3",
   "metadata": {},
   "outputs": [],
   "source": []
  },
  {
   "cell_type": "code",
   "execution_count": null,
   "id": "88a2c69c",
   "metadata": {},
   "outputs": [],
   "source": [
    "# File handling \n",
    "1) human Readable -->text \n",
    "2) Machine readable --> Byte\n"
   ]
  },
  {
   "cell_type": "code",
   "execution_count": 29,
   "id": "c1187085",
   "metadata": {},
   "outputs": [
    {
     "ename": "FileNotFoundError",
     "evalue": "[Errno 2] No such file or directory: 'a.txt'",
     "output_type": "error",
     "traceback": [
      "\u001b[1;31m---------------------------------------------------------------------------\u001b[0m",
      "\u001b[1;31mFileNotFoundError\u001b[0m                         Traceback (most recent call last)",
      "Cell \u001b[1;32mIn[29], line 7\u001b[0m\n\u001b[0;32m      1\u001b[0m \u001b[38;5;66;03m# modes of file \u001b[39;00m\n\u001b[0;32m      2\u001b[0m   \u001b[38;5;66;03m#  r --> read mode\u001b[39;00m\n\u001b[0;32m      3\u001b[0m   \u001b[38;5;66;03m#  w---> Write mode\u001b[39;00m\n\u001b[0;32m      4\u001b[0m   \u001b[38;5;66;03m#  a----> Append Mode\u001b[39;00m\n\u001b[0;32m      5\u001b[0m     \n\u001b[0;32m      6\u001b[0m \u001b[38;5;66;03m# open Function\u001b[39;00m\n\u001b[1;32m----> 7\u001b[0m file\u001b[38;5;241m=\u001b[39m\u001b[38;5;28mopen\u001b[39m(\u001b[38;5;124m'\u001b[39m\u001b[38;5;124ma.txt\u001b[39m\u001b[38;5;124m'\u001b[39m)\n",
      "File \u001b[1;32m~\\anaconda3\\Lib\\site-packages\\IPython\\core\\interactiveshell.py:286\u001b[0m, in \u001b[0;36m_modified_open\u001b[1;34m(file, *args, **kwargs)\u001b[0m\n\u001b[0;32m    279\u001b[0m \u001b[38;5;28;01mif\u001b[39;00m file \u001b[38;5;129;01min\u001b[39;00m {\u001b[38;5;241m0\u001b[39m, \u001b[38;5;241m1\u001b[39m, \u001b[38;5;241m2\u001b[39m}:\n\u001b[0;32m    280\u001b[0m     \u001b[38;5;28;01mraise\u001b[39;00m \u001b[38;5;167;01mValueError\u001b[39;00m(\n\u001b[0;32m    281\u001b[0m         \u001b[38;5;124mf\u001b[39m\u001b[38;5;124m\"\u001b[39m\u001b[38;5;124mIPython won\u001b[39m\u001b[38;5;124m'\u001b[39m\u001b[38;5;124mt let you open fd=\u001b[39m\u001b[38;5;132;01m{\u001b[39;00mfile\u001b[38;5;132;01m}\u001b[39;00m\u001b[38;5;124m by default \u001b[39m\u001b[38;5;124m\"\u001b[39m\n\u001b[0;32m    282\u001b[0m         \u001b[38;5;124m\"\u001b[39m\u001b[38;5;124mas it is likely to crash IPython. If you know what you are doing, \u001b[39m\u001b[38;5;124m\"\u001b[39m\n\u001b[0;32m    283\u001b[0m         \u001b[38;5;124m\"\u001b[39m\u001b[38;5;124myou can use builtins\u001b[39m\u001b[38;5;124m'\u001b[39m\u001b[38;5;124m open.\u001b[39m\u001b[38;5;124m\"\u001b[39m\n\u001b[0;32m    284\u001b[0m     )\n\u001b[1;32m--> 286\u001b[0m \u001b[38;5;28;01mreturn\u001b[39;00m io_open(file, \u001b[38;5;241m*\u001b[39margs, \u001b[38;5;241m*\u001b[39m\u001b[38;5;241m*\u001b[39mkwargs)\n",
      "\u001b[1;31mFileNotFoundError\u001b[0m: [Errno 2] No such file or directory: 'a.txt'"
     ]
    }
   ],
   "source": [
    "# modes of file \n",
    "  #  r --> read mode\n",
    "  #  w---> Write mode\n",
    "  #  a----> Append Mode\n",
    "    \n",
    "# open Function\n",
    "file=open('a.txt')"
   ]
  },
  {
   "cell_type": "code",
   "execution_count": 30,
   "id": "65005242",
   "metadata": {},
   "outputs": [
    {
     "data": {
      "text/plain": [
       "'E:\\\\data science\\\\Python_4_30PM\\\\notes'"
      ]
     },
     "execution_count": 30,
     "metadata": {},
     "output_type": "execute_result"
    }
   ],
   "source": [
    "pwd"
   ]
  },
  {
   "cell_type": "code",
   "execution_count": 31,
   "id": "e28860ae",
   "metadata": {},
   "outputs": [],
   "source": [
    "os.chdir('..')"
   ]
  },
  {
   "cell_type": "code",
   "execution_count": 32,
   "id": "50f5ae64",
   "metadata": {},
   "outputs": [
    {
     "data": {
      "text/plain": [
       "'E:\\\\data science\\\\Python_4_30PM'"
      ]
     },
     "execution_count": 32,
     "metadata": {},
     "output_type": "execute_result"
    }
   ],
   "source": [
    "pwd"
   ]
  },
  {
   "cell_type": "code",
   "execution_count": 33,
   "id": "449c8881",
   "metadata": {},
   "outputs": [],
   "source": [
    "file=open('hello.txt')"
   ]
  },
  {
   "cell_type": "code",
   "execution_count": 34,
   "id": "e2ab8c41",
   "metadata": {},
   "outputs": [
    {
     "data": {
      "text/plain": [
       "<_io.TextIOWrapper name='hello.txt' mode='r' encoding='cp1252'>"
      ]
     },
     "execution_count": 34,
     "metadata": {},
     "output_type": "execute_result"
    }
   ],
   "source": [
    "file"
   ]
  },
  {
   "cell_type": "code",
   "execution_count": 35,
   "id": "6054da33",
   "metadata": {},
   "outputs": [
    {
     "data": {
      "text/plain": [
       "'hello.txt'"
      ]
     },
     "execution_count": 35,
     "metadata": {},
     "output_type": "execute_result"
    }
   ],
   "source": [
    "file.name"
   ]
  },
  {
   "cell_type": "code",
   "execution_count": 36,
   "id": "e9326c4f",
   "metadata": {},
   "outputs": [
    {
     "data": {
      "text/plain": [
       "'r'"
      ]
     },
     "execution_count": 36,
     "metadata": {},
     "output_type": "execute_result"
    }
   ],
   "source": [
    "file.mode"
   ]
  },
  {
   "cell_type": "code",
   "execution_count": 38,
   "id": "7df2045d",
   "metadata": {},
   "outputs": [
    {
     "data": {
      "text/plain": [
       "'cp1252'"
      ]
     },
     "execution_count": 38,
     "metadata": {},
     "output_type": "execute_result"
    }
   ],
   "source": [
    "file.encoding"
   ]
  },
  {
   "cell_type": "code",
   "execution_count": 39,
   "id": "28160c27",
   "metadata": {},
   "outputs": [
    {
     "data": {
      "text/plain": [
       "True"
      ]
     },
     "execution_count": 39,
     "metadata": {},
     "output_type": "execute_result"
    }
   ],
   "source": [
    "file.readable()"
   ]
  },
  {
   "cell_type": "code",
   "execution_count": 40,
   "id": "e43bb682",
   "metadata": {},
   "outputs": [
    {
     "data": {
      "text/plain": [
       "False"
      ]
     },
     "execution_count": 40,
     "metadata": {},
     "output_type": "execute_result"
    }
   ],
   "source": [
    "file.writable()"
   ]
  },
  {
   "cell_type": "code",
   "execution_count": 44,
   "id": "ac2fa42a",
   "metadata": {},
   "outputs": [],
   "source": [
    "file.close()"
   ]
  },
  {
   "cell_type": "code",
   "execution_count": 51,
   "id": "ec8ffdaf",
   "metadata": {},
   "outputs": [],
   "source": [
    "file=open('hello.txt')"
   ]
  },
  {
   "cell_type": "code",
   "execution_count": 54,
   "id": "c7dd78f0",
   "metadata": {},
   "outputs": [],
   "source": [
    "data=file.read()"
   ]
  },
  {
   "cell_type": "code",
   "execution_count": 55,
   "id": "3f76961d",
   "metadata": {},
   "outputs": [
    {
     "name": "stdout",
     "output_type": "stream",
     "text": [
      "\n"
     ]
    }
   ],
   "source": [
    "print(data)"
   ]
  },
  {
   "cell_type": "code",
   "execution_count": 50,
   "id": "fea50f46",
   "metadata": {},
   "outputs": [],
   "source": [
    "file.close()"
   ]
  },
  {
   "cell_type": "code",
   "execution_count": 57,
   "id": "a729f75a",
   "metadata": {},
   "outputs": [
    {
     "data": {
      "text/plain": [
       "44"
      ]
     },
     "execution_count": 57,
     "metadata": {},
     "output_type": "execute_result"
    }
   ],
   "source": [
    "file.tell()"
   ]
  },
  {
   "cell_type": "code",
   "execution_count": 58,
   "id": "fd567e3b",
   "metadata": {},
   "outputs": [
    {
     "data": {
      "text/plain": [
       "0"
      ]
     },
     "execution_count": 58,
     "metadata": {},
     "output_type": "execute_result"
    }
   ],
   "source": [
    "file.seek(0)"
   ]
  },
  {
   "cell_type": "code",
   "execution_count": 59,
   "id": "6f7ca44d",
   "metadata": {},
   "outputs": [
    {
     "name": "stdout",
     "output_type": "stream",
     "text": [
      "Hello Everyone\n",
      "Welcome To Grras Solution'\n",
      "\n"
     ]
    }
   ],
   "source": [
    "data=file.read()\n",
    "print(data)"
   ]
  },
  {
   "cell_type": "code",
   "execution_count": 61,
   "id": "e2d5f1f3",
   "metadata": {},
   "outputs": [
    {
     "data": {
      "text/plain": [
       "False"
      ]
     },
     "execution_count": 61,
     "metadata": {},
     "output_type": "execute_result"
    }
   ],
   "source": [
    "file.closed"
   ]
  },
  {
   "cell_type": "code",
   "execution_count": 62,
   "id": "407c6997",
   "metadata": {},
   "outputs": [],
   "source": [
    "file.close()"
   ]
  },
  {
   "cell_type": "code",
   "execution_count": null,
   "id": "41518a94",
   "metadata": {},
   "outputs": [],
   "source": []
  },
  {
   "cell_type": "code",
   "execution_count": null,
   "id": "98d3df5d",
   "metadata": {},
   "outputs": [],
   "source": []
  },
  {
   "cell_type": "code",
   "execution_count": 63,
   "id": "b2b50271",
   "metadata": {},
   "outputs": [],
   "source": [
    "#write"
   ]
  },
  {
   "cell_type": "code",
   "execution_count": 64,
   "id": "ceb28755",
   "metadata": {},
   "outputs": [],
   "source": [
    "file=open('hello.txt','w')"
   ]
  },
  {
   "cell_type": "code",
   "execution_count": 66,
   "id": "604c833d",
   "metadata": {},
   "outputs": [
    {
     "data": {
      "text/plain": [
       "True"
      ]
     },
     "execution_count": 66,
     "metadata": {},
     "output_type": "execute_result"
    }
   ],
   "source": [
    "file.writable()"
   ]
  },
  {
   "cell_type": "code",
   "execution_count": 68,
   "id": "176d462b",
   "metadata": {},
   "outputs": [],
   "source": [
    "data='''\n",
    "welcome to Python Programming\n",
    "Sachin Sharma\n",
    "7878012779\n",
    "'''\n",
    "file.write(data)\n",
    "file.close()"
   ]
  },
  {
   "cell_type": "code",
   "execution_count": 70,
   "id": "6d50190e",
   "metadata": {},
   "outputs": [],
   "source": [
    "file =open('hello.txt')"
   ]
  },
  {
   "cell_type": "code",
   "execution_count": 71,
   "id": "4adefb9f",
   "metadata": {},
   "outputs": [],
   "source": [
    "data=file.read()"
   ]
  },
  {
   "cell_type": "code",
   "execution_count": 72,
   "id": "ac58f75e",
   "metadata": {
    "scrolled": true
   },
   "outputs": [
    {
     "name": "stdout",
     "output_type": "stream",
     "text": [
      "welcome to Python Programming\n",
      "Sachin Sharma\n",
      "7878012779\n"
     ]
    }
   ],
   "source": [
    "for i in data.split('\\n'):\n",
    "    print(i)"
   ]
  },
  {
   "cell_type": "code",
   "execution_count": 73,
   "id": "5551e3b0",
   "metadata": {},
   "outputs": [
    {
     "data": {
      "text/plain": [
       "['welcome to Python Programming', 'Sachin Sharma', '7878012779']"
      ]
     },
     "execution_count": 73,
     "metadata": {},
     "output_type": "execute_result"
    }
   ],
   "source": [
    "data.split('\\n')"
   ]
  },
  {
   "cell_type": "code",
   "execution_count": null,
   "id": "35c34d90",
   "metadata": {},
   "outputs": [],
   "source": [
    "#name,physics,maths,chemistry\n",
    "data='''\n",
    "sachin,15,20,100\n",
    "ravi,50,60,70\n",
    "simran,55,65,12\n",
    "'''\n"
   ]
  },
  {
   "cell_type": "code",
   "execution_count": 1,
   "id": "8379d02d",
   "metadata": {},
   "outputs": [
    {
     "ename": "TypeError",
     "evalue": "write() argument must be str, not dict",
     "output_type": "error",
     "traceback": [
      "\u001b[1;31m---------------------------------------------------------------------------\u001b[0m",
      "\u001b[1;31mTypeError\u001b[0m                                 Traceback (most recent call last)",
      "Cell \u001b[1;32mIn[1], line 3\u001b[0m\n\u001b[0;32m      1\u001b[0m d\u001b[38;5;241m=\u001b[39m{\u001b[38;5;124m'\u001b[39m\u001b[38;5;124ma\u001b[39m\u001b[38;5;124m'\u001b[39m:\u001b[38;5;241m1\u001b[39m,\u001b[38;5;124m'\u001b[39m\u001b[38;5;124mb\u001b[39m\u001b[38;5;124m'\u001b[39m:\u001b[38;5;241m2\u001b[39m}\n\u001b[0;32m      2\u001b[0m file\u001b[38;5;241m=\u001b[39m\u001b[38;5;28mopen\u001b[39m(\u001b[38;5;124m'\u001b[39m\u001b[38;5;124mhello.txt\u001b[39m\u001b[38;5;124m'\u001b[39m,\u001b[38;5;124m'\u001b[39m\u001b[38;5;124mw\u001b[39m\u001b[38;5;124m'\u001b[39m)\n\u001b[1;32m----> 3\u001b[0m file\u001b[38;5;241m.\u001b[39mwrite(d)\n\u001b[0;32m      4\u001b[0m file\u001b[38;5;241m.\u001b[39mclose()\n",
      "\u001b[1;31mTypeError\u001b[0m: write() argument must be str, not dict"
     ]
    }
   ],
   "source": [
    "d={'a':1,'b':2}\n",
    "file=open('hello.txt','w')\n",
    "file.write(d)\n",
    "file.close()"
   ]
  },
  {
   "cell_type": "code",
   "execution_count": 2,
   "id": "b122a588",
   "metadata": {},
   "outputs": [
    {
     "data": {
      "text/plain": [
       "'sachin@ravi@simran'"
      ]
     },
     "execution_count": 2,
     "metadata": {},
     "output_type": "execute_result"
    }
   ],
   "source": [
    "l=['sachin','ravi','simran']\n",
    "'@'.join(l)"
   ]
  },
  {
   "cell_type": "code",
   "execution_count": 3,
   "id": "d780580a",
   "metadata": {},
   "outputs": [],
   "source": [
    "data='''\n",
    "sachin,15,20,100\n",
    "ravi,50,60,70\n",
    "simran,55,65,12\n",
    "'''\n",
    "file=open('hello.txt','w')\n",
    "file.write(data)\n",
    "file.close()"
   ]
  },
  {
   "cell_type": "code",
   "execution_count": 6,
   "id": "5966fec8",
   "metadata": {},
   "outputs": [],
   "source": [
    "file=open('hello.txt')\n",
    "data=file.read()\n",
    "data=data.strip().split('\\n')\n"
   ]
  },
  {
   "cell_type": "code",
   "execution_count": 9,
   "id": "5e56ca52",
   "metadata": {
    "scrolled": true
   },
   "outputs": [],
   "source": [
    "a=lambda i:i.split(',')\n",
    "l=list(map(a,data))"
   ]
  },
  {
   "cell_type": "code",
   "execution_count": 10,
   "id": "fd46ff81",
   "metadata": {},
   "outputs": [
    {
     "data": {
      "text/plain": [
       "[['sachin', '15', '20', '100'],\n",
       " ['ravi', '50', '60', '70'],\n",
       " ['simran', '55', '65', '12'],\n",
       " ['gourav', '45', '55', '52'],\n",
       " ['deepratan', '25', '45', '65']]"
      ]
     },
     "execution_count": 10,
     "metadata": {},
     "output_type": "execute_result"
    }
   ],
   "source": [
    "l"
   ]
  },
  {
   "cell_type": "code",
   "execution_count": 13,
   "id": "a1cd012e",
   "metadata": {},
   "outputs": [
    {
     "name": "stdout",
     "output_type": "stream",
     "text": [
      "sachin,15,20,100\n",
      "ravi,50,60,70\n",
      "simran,55,65,12\n",
      "gourav,45,55,52\n",
      "deepratan,25,45,65\n",
      "False\n",
      "True\n"
     ]
    }
   ],
   "source": [
    "#context managers \n",
    "with open('hello.txt') as file:\n",
    "    data=file.read()\n",
    "    print(data)\n",
    "    print(file.closed)\n",
    "print(file.closed)"
   ]
  },
  {
   "cell_type": "code",
   "execution_count": 14,
   "id": "d8810b49",
   "metadata": {},
   "outputs": [],
   "source": [
    "import json"
   ]
  },
  {
   "cell_type": "code",
   "execution_count": 15,
   "id": "0b450779",
   "metadata": {},
   "outputs": [],
   "source": [
    "d={\n",
    "    'sachin':[20,50,70],\n",
    "    'Ravi':[60,70,90],\n",
    "    'Simran':[80,85,90]\n",
    "}\n",
    "with open('hello.txt','w') as file:\n",
    "    json.dump(d,file)"
   ]
  },
  {
   "cell_type": "code",
   "execution_count": 16,
   "id": "d3181365",
   "metadata": {},
   "outputs": [
    {
     "name": "stdout",
     "output_type": "stream",
     "text": [
      "{'sachin': [20, 50, 70], 'Ravi': [60, 70, 90], 'Simran': [80, 85, 90]}\n"
     ]
    }
   ],
   "source": [
    "with open('hello.txt') as file:\n",
    "    data=json.load(file)\n",
    "    print(data)"
   ]
  },
  {
   "cell_type": "code",
   "execution_count": 37,
   "id": "5a5a48b1",
   "metadata": {},
   "outputs": [],
   "source": [
    "file=open('hello.txt','w')\n",
    "json.dump([1,2,3,34],file)\n",
    "file.close()"
   ]
  },
  {
   "cell_type": "code",
   "execution_count": null,
   "id": "585de078",
   "metadata": {},
   "outputs": [],
   "source": []
  },
  {
   "cell_type": "code",
   "execution_count": 39,
   "id": "4f1558ce",
   "metadata": {},
   "outputs": [],
   "source": [
    "data=json.dumps([('a',[1,2,3,3]),('b',[1,2,3,4])])"
   ]
  },
  {
   "cell_type": "code",
   "execution_count": 40,
   "id": "1debc3df",
   "metadata": {},
   "outputs": [
    {
     "data": {
      "text/plain": [
       "[['a', [1, 2, 3, 3]], ['b', [1, 2, 3, 4]]]"
      ]
     },
     "execution_count": 40,
     "metadata": {},
     "output_type": "execute_result"
    }
   ],
   "source": [
    "json.loads(data)"
   ]
  },
  {
   "cell_type": "code",
   "execution_count": null,
   "id": "4eecbca3",
   "metadata": {},
   "outputs": [],
   "source": []
  },
  {
   "cell_type": "code",
   "execution_count": 17,
   "id": "eb66e2cd",
   "metadata": {},
   "outputs": [],
   "source": [
    "import pickle"
   ]
  },
  {
   "cell_type": "code",
   "execution_count": 30,
   "id": "f33ee8d9",
   "metadata": {},
   "outputs": [],
   "source": [
    "with open('hello.pickle','wb') as file:\n",
    "    data=[12,4,3435,34]\n",
    "    pickle.dump(data,file)\n",
    "    "
   ]
  },
  {
   "cell_type": "code",
   "execution_count": 33,
   "id": "88b5017c",
   "metadata": {},
   "outputs": [
    {
     "name": "stdout",
     "output_type": "stream",
     "text": [
      "[12, 4, 3435, 34]\n"
     ]
    }
   ],
   "source": [
    "with open('hello.pickle','rb') as file:\n",
    "    data=[12,4,3435,34]\n",
    "    data=pickle.load(file)\n",
    "    print(data)"
   ]
  },
  {
   "cell_type": "code",
   "execution_count": 44,
   "id": "3ef0c13e",
   "metadata": {},
   "outputs": [
    {
     "name": "stdout",
     "output_type": "stream",
     "text": [
      "Name,test1,test2,test3,assignment\n",
      "ravi,52,42,62,yes\n",
      "simran,25,65,27,no\n",
      "sachin,14,52,78,yes\n",
      "\n"
     ]
    }
   ],
   "source": [
    "with open('data.csv') as file :\n",
    "    data=file.read()\n",
    "    print(data)"
   ]
  },
  {
   "cell_type": "code",
   "execution_count": 53,
   "id": "6b07ea46",
   "metadata": {},
   "outputs": [
    {
     "name": "stdout",
     "output_type": "stream",
     "text": [
      "hello World\n"
     ]
    }
   ],
   "source": [
    "file=open('hello.txt','wt+')\n",
    "file.write('hello World')\n",
    "file.seek(0)\n",
    "data=file.read()\n",
    "print(data)"
   ]
  },
  {
   "cell_type": "code",
   "execution_count": 55,
   "id": "2dc3a639",
   "metadata": {},
   "outputs": [],
   "source": [
    "file.close()"
   ]
  },
  {
   "cell_type": "code",
   "execution_count": null,
   "id": "71d48230",
   "metadata": {},
   "outputs": [],
   "source": []
  }
 ],
 "metadata": {
  "kernelspec": {
   "display_name": "Python 3 (ipykernel)",
   "language": "python",
   "name": "python3"
  },
  "language_info": {
   "codemirror_mode": {
    "name": "ipython",
    "version": 3
   },
   "file_extension": ".py",
   "mimetype": "text/x-python",
   "name": "python",
   "nbconvert_exporter": "python",
   "pygments_lexer": "ipython3",
   "version": "3.11.5"
  }
 },
 "nbformat": 4,
 "nbformat_minor": 5
}
