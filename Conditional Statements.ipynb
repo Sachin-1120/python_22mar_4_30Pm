{
 "cells": [
  {
   "cell_type": "code",
   "execution_count": 1,
   "id": "048571ae",
   "metadata": {},
   "outputs": [
    {
     "name": "stdout",
     "output_type": "stream",
     "text": [
      "enter number5\n",
      "enter number3\n",
      "8\n"
     ]
    }
   ],
   "source": [
    "a=int(input('enter number'))\n",
    "b=int(input('enter number'))\n",
    "c=a+b\n",
    "print(c)"
   ]
  },
  {
   "cell_type": "code",
   "execution_count": null,
   "id": "eba9f589",
   "metadata": {},
   "outputs": [],
   "source": [
    "a=int(input('Enter a number'))\n",
    "b=input('enter name')\n",
    "a=a**3\n",
    "\n",
    "print(a)\n",
    "print(b[:-5:2])"
   ]
  },
  {
   "cell_type": "code",
   "execution_count": 2,
   "id": "46ea6fe3",
   "metadata": {},
   "outputs": [
    {
     "name": "stdout",
     "output_type": "stream",
     "text": [
      "bye\n"
     ]
    }
   ],
   "source": [
    "if 5>6:\n",
    "    print('hi')\n",
    "else:\n",
    "    print('bye')\n",
    "\n"
   ]
  },
  {
   "cell_type": "code",
   "execution_count": 3,
   "id": "ebbb05df",
   "metadata": {},
   "outputs": [
    {
     "name": "stdout",
     "output_type": "stream",
     "text": [
      "H\n"
     ]
    }
   ],
   "source": [
    "if True:\n",
    "    print('H')"
   ]
  },
  {
   "cell_type": "code",
   "execution_count": 4,
   "id": "24bb8dd0",
   "metadata": {},
   "outputs": [
    {
     "ename": "SyntaxError",
     "evalue": "invalid syntax (4233291036.py, line 1)",
     "output_type": "error",
     "traceback": [
      "\u001b[1;36m  Cell \u001b[1;32mIn[4], line 1\u001b[1;36m\u001b[0m\n\u001b[1;33m    else:\u001b[0m\n\u001b[1;37m    ^\u001b[0m\n\u001b[1;31mSyntaxError\u001b[0m\u001b[1;31m:\u001b[0m invalid syntax\n"
     ]
    }
   ],
   "source": [
    "else:\n",
    "    print('Bye')"
   ]
  },
  {
   "cell_type": "code",
   "execution_count": 5,
   "id": "9500ce69",
   "metadata": {},
   "outputs": [],
   "source": [
    "if 10>5 and 11<8:\n",
    "    print('hi')"
   ]
  },
  {
   "cell_type": "code",
   "execution_count": 7,
   "id": "7504c429",
   "metadata": {},
   "outputs": [
    {
     "ename": "TypeError",
     "evalue": "unsupported operand type(s) for &: 'list' and 'str'",
     "output_type": "error",
     "traceback": [
      "\u001b[1;31m---------------------------------------------------------------------------\u001b[0m",
      "\u001b[1;31mTypeError\u001b[0m                                 Traceback (most recent call last)",
      "Cell \u001b[1;32mIn[7], line 1\u001b[0m\n\u001b[1;32m----> 1\u001b[0m \u001b[38;5;28;01mif\u001b[39;00m [] \u001b[38;5;241m&\u001b[39m \u001b[38;5;124m'\u001b[39m\u001b[38;5;124m'\u001b[39m:\n\u001b[0;32m      2\u001b[0m     \u001b[38;5;28mprint\u001b[39m(\u001b[38;5;124m'\u001b[39m\u001b[38;5;124mHi\u001b[39m\u001b[38;5;124m'\u001b[39m)\n",
      "\u001b[1;31mTypeError\u001b[0m: unsupported operand type(s) for &: 'list' and 'str'"
     ]
    }
   ],
   "source": [
    "if [] & '':\n",
    "    print('Hi')\n",
    "    \n",
    "    "
   ]
  },
  {
   "cell_type": "code",
   "execution_count": 10,
   "id": "ab622550",
   "metadata": {},
   "outputs": [
    {
     "name": "stdout",
     "output_type": "stream",
     "text": [
      "Enter your age17\n",
      "Not Eligible\n"
     ]
    }
   ],
   "source": [
    "#voting\n",
    "age=int(input('Enter your age'))\n",
    "if age>=18:\n",
    "    print('you are eligible to vote')\n",
    "else:\n",
    "    print('Not Eligible')"
   ]
  },
  {
   "cell_type": "code",
   "execution_count": 14,
   "id": "1a4cbd7e",
   "metadata": {},
   "outputs": [
    {
     "name": "stdout",
     "output_type": "stream",
     "text": [
      "enter number3\n",
      "enter number5\n",
      "5 is greatest\n"
     ]
    }
   ],
   "source": [
    "a=int(input('enter number'))\n",
    "b=int(input('enter number'))\n",
    "if a>b:\n",
    "    print(f'{a} is greatest')\n",
    "else:\n",
    "    print(f'{b} is greatest')"
   ]
  },
  {
   "cell_type": "code",
   "execution_count": 15,
   "id": "d2d2a94d",
   "metadata": {},
   "outputs": [
    {
     "name": "stdout",
     "output_type": "stream",
     "text": [
      "bye\n"
     ]
    }
   ],
   "source": [
    "if 5>6:\n",
    "    print('hi')\n",
    "elif 6>5:\n",
    "    print('bye')\n",
    "else:\n",
    "    print('ByeBye')"
   ]
  },
  {
   "cell_type": "code",
   "execution_count": 16,
   "id": "4399449c",
   "metadata": {},
   "outputs": [],
   "source": [
    "if 5>6:\n",
    "    print('hi')\n",
    "elif 6>6:\n",
    "    print('bye')"
   ]
  },
  {
   "cell_type": "code",
   "execution_count": 17,
   "id": "fda246ef",
   "metadata": {},
   "outputs": [],
   "source": [
    "#wap to check greatest of 3no's"
   ]
  },
  {
   "cell_type": "code",
   "execution_count": 19,
   "id": "a643156e",
   "metadata": {},
   "outputs": [
    {
     "name": "stdout",
     "output_type": "stream",
     "text": [
      "enter number5\n",
      "enter number7\n",
      "enter number8\n",
      "8 is greatest\n"
     ]
    }
   ],
   "source": [
    "a=int(input('enter number'))\n",
    "b=int(input('enter number'))\n",
    "c=int(input('enter number'))\n",
    "if a>b and a>c:\n",
    "    print(f'{a} is greatest')\n",
    "elif b>a and b>c:\n",
    "    print(f'{b} is greatest')\n",
    "else:\n",
    "    print(f'{c} is greatest')"
   ]
  },
  {
   "cell_type": "code",
   "execution_count": 20,
   "id": "c407265e",
   "metadata": {},
   "outputs": [
    {
     "data": {
      "text/plain": [
       "5"
      ]
     },
     "execution_count": 20,
     "metadata": {},
     "output_type": "execute_result"
    }
   ],
   "source": [
    "a"
   ]
  },
  {
   "cell_type": "code",
   "execution_count": 21,
   "id": "e92fb70a",
   "metadata": {},
   "outputs": [
    {
     "data": {
      "text/plain": [
       "7"
      ]
     },
     "execution_count": 21,
     "metadata": {},
     "output_type": "execute_result"
    }
   ],
   "source": [
    "b"
   ]
  },
  {
   "cell_type": "code",
   "execution_count": 22,
   "id": "c6930def",
   "metadata": {},
   "outputs": [
    {
     "data": {
      "text/plain": [
       "8"
      ]
     },
     "execution_count": 22,
     "metadata": {},
     "output_type": "execute_result"
    }
   ],
   "source": [
    "c"
   ]
  },
  {
   "cell_type": "code",
   "execution_count": null,
   "id": "4208edec",
   "metadata": {},
   "outputs": [],
   "source": [
    "if a>b:\n",
    "    if a>c:\n",
    "        print(f'{a} is greatest')\n",
    "    else:\n",
    "        print(f'{c} is greatest')\n",
    "else:\n",
    "    if b>c:\n",
    "        print(f'{b} is greatest')\n",
    "    else:\n",
    "        print(f'{c} is greatest')\n",
    "        "
   ]
  },
  {
   "cell_type": "code",
   "execution_count": null,
   "id": "3bbfab87",
   "metadata": {},
   "outputs": [],
   "source": [
    "#subjects [maths Science English]\n",
    "\n",
    "if-elif-else\n",
    "if-else nesting\n",
    "\n",
    "per >90    A\n",
    "80         B\n",
    "70         C\n",
    "else       fail"
   ]
  },
  {
   "cell_type": "code",
   "execution_count": 27,
   "id": "0a345fde",
   "metadata": {},
   "outputs": [
    {
     "name": "stdout",
     "output_type": "stream",
     "text": [
      "Fail\n"
     ]
    }
   ],
   "source": [
    "a=[100,80,60]\n",
    "per=sum(a)/3\n",
    "per=65\n",
    "if per>90:\n",
    "    print('A')\n",
    "elif per>80:\n",
    "    print('B')\n",
    "elif per>70:\n",
    "    print('C')\n",
    "else:\n",
    "    print('Fail')\n",
    "    \n"
   ]
  },
  {
   "cell_type": "code",
   "execution_count": 34,
   "id": "4ccadc05",
   "metadata": {},
   "outputs": [
    {
     "name": "stdout",
     "output_type": "stream",
     "text": [
      "FAIL\n"
     ]
    }
   ],
   "source": [
    "per=65\n",
    "if per>90:\n",
    "    print('A')\n",
    "else:\n",
    "    if per>80:\n",
    "        print('B')\n",
    "    else:\n",
    "        if per>70:\n",
    "            print('C')\n",
    "        else:\n",
    "            print('FAIL')\n"
   ]
  },
  {
   "cell_type": "code",
   "execution_count": 38,
   "id": "614f5d26",
   "metadata": {},
   "outputs": [
    {
     "name": "stdout",
     "output_type": "stream",
     "text": [
      "Palindrom string\n"
     ]
    }
   ],
   "source": [
    "s='woaw'\n",
    "if s.startswith()==s.endswith('w'):\n",
    "    print('Palindrom string')\n",
    "else:\n",
    "    print('Not Palindrom string')"
   ]
  },
  {
   "cell_type": "code",
   "execution_count": 40,
   "id": "9a982dc5",
   "metadata": {},
   "outputs": [
    {
     "name": "stdout",
     "output_type": "stream",
     "text": [
      "Palindrome\n"
     ]
    }
   ],
   "source": [
    "s='madam'\n",
    "if s==s[::-1]:\n",
    "    print('Palindrome')\n",
    "else:\n",
    "    print('Not Palindrome')"
   ]
  },
  {
   "cell_type": "code",
   "execution_count": 48,
   "id": "a60f28dc",
   "metadata": {},
   "outputs": [
    {
     "name": "stdout",
     "output_type": "stream",
     "text": [
      "Enter a StringThe quick brown fox jumps over the lazy dog.\n",
      "Pangram\n"
     ]
    }
   ],
   "source": [
    "#pangram\n",
    "a=set(input('Enter a String'))\n",
    "b=set('abcdefghijklmnopqrstuvwxyz')\n",
    "if a.issuperset(b):\n",
    "    print('Pangram')\n",
    "else:\n",
    "    print('Not Pangram')\n",
    "    "
   ]
  },
  {
   "cell_type": "code",
   "execution_count": null,
   "id": "95c1be9d",
   "metadata": {},
   "outputs": [],
   "source": []
  },
  {
   "cell_type": "code",
   "execution_count": null,
   "id": "79917b92",
   "metadata": {},
   "outputs": [],
   "source": []
  },
  {
   "cell_type": "code",
   "execution_count": null,
   "id": "a9ebeb8e",
   "metadata": {},
   "outputs": [],
   "source": []
  }
 ],
 "metadata": {
  "kernelspec": {
   "display_name": "Python 3 (ipykernel)",
   "language": "python",
   "name": "python3"
  },
  "language_info": {
   "codemirror_mode": {
    "name": "ipython",
    "version": 3
   },
   "file_extension": ".py",
   "mimetype": "text/x-python",
   "name": "python",
   "nbconvert_exporter": "python",
   "pygments_lexer": "ipython3",
   "version": "3.11.5"
  }
 },
 "nbformat": 4,
 "nbformat_minor": 5
}
