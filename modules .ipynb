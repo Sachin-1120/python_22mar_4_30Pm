{
 "cells": [
  {
   "cell_type": "code",
   "execution_count": 1,
   "id": "4e203006",
   "metadata": {},
   "outputs": [
    {
     "name": "stdout",
     "output_type": "stream",
     "text": [
      "Overwriting password.py\n"
     ]
    }
   ],
   "source": [
    "%%writefile password.py\n",
    "'''import string\n",
    "lower=string.ascii_lowercase\n",
    "upper=string.ascii_uppercase\n",
    "digit=string.digits\n",
    "symbol=string.punctuation\n",
    "while True:\n",
    "    n=input('Enter Password')\n",
    "    l=[0,0,0,0,0]\n",
    "    for i in  n:\n",
    "        if i in lower:\n",
    "            l[0]=1\n",
    "        elif i in upper:\n",
    "            l[1]=1\n",
    "        elif i in digit:\n",
    "            l[2]=1\n",
    "        elif i in symbol:\n",
    "            l[3]=1\n",
    "\n",
    "    if len(n)>=8:\n",
    "        l[-1]=1\n",
    "    if sum(l)==5:\n",
    "        print('Password is Strong')\n",
    "        break\n",
    "    else:\n",
    "        print('Password is not strong')\n",
    "        i=0\n",
    "        while i<5:\n",
    "            if l[i]==0:\n",
    "                if i==0:\n",
    "                    print('Add Lower Characters')\n",
    "                if i==1:\n",
    "                    print('Add Upper Character')\n",
    "                if i==2:\n",
    "                    print('Add Digit')\n",
    "                if i==3:\n",
    "                    print('Add Symbol')\n",
    "            i+=1\n",
    "        if len(n)<8:\n",
    "            print('Password length is small')\n",
    "\n",
    "'''"
   ]
  },
  {
   "cell_type": "code",
   "execution_count": 2,
   "id": "1630f001",
   "metadata": {},
   "outputs": [
    {
     "data": {
      "text/plain": [
       "'abcdefghijklmnopqrstuvwxyz'"
      ]
     },
     "execution_count": 2,
     "metadata": {},
     "output_type": "execute_result"
    }
   ],
   "source": [
    "import string\n",
    "string.ascii_lowercase"
   ]
  },
  {
   "cell_type": "code",
   "execution_count": 3,
   "id": "697271aa",
   "metadata": {},
   "outputs": [
    {
     "data": {
      "text/plain": [
       "'abcdefghijklmnopqrstuvwxyz'"
      ]
     },
     "execution_count": 3,
     "metadata": {},
     "output_type": "execute_result"
    }
   ],
   "source": [
    "from string import ascii_lowercase\n",
    "ascii_lowercase"
   ]
  },
  {
   "cell_type": "code",
   "execution_count": 4,
   "id": "d40e3be5",
   "metadata": {},
   "outputs": [
    {
     "name": "stdout",
     "output_type": "stream",
     "text": [
      "hi\n",
      "__main__\n",
      "Hello Everyone\n"
     ]
    }
   ],
   "source": [
    "def hello():\n",
    "    print(__name__)\n",
    "    print('Hello Everyone')\n",
    "if __name__=='__main__':\n",
    "    print('hi')\n",
    "    hello()"
   ]
  },
  {
   "cell_type": "code",
   "execution_count": 5,
   "id": "4ae5dd28",
   "metadata": {},
   "outputs": [
    {
     "name": "stdout",
     "output_type": "stream",
     "text": [
      "Overwriting hello.py\n"
     ]
    }
   ],
   "source": [
    "%%writefile hello.py\n",
    "'''\n",
    "A collection of string constants.\\n\\nPublic module variables:\\n\\nwhitespace -- a \n",
    "string containing all ASCII whitespace\\nascii_lowercase -- a string containing all ASCII lowercase \n",
    "letters\\nascii_uppercase -- a string containing all ASCII uppercase letters\\nascii_letters -- a string \n",
    "containing all ASCII letters\\ndigits -- a\n",
    "string containing all ASCII decimal digits\\nhexdigits -- a string containing all ASCII hexadecimal digits\\noctdigits -- \n",
    "\n",
    "'''\n",
    "def hello():\n",
    "    '''\n",
    "    it is used to print hello \n",
    "    >>hello.hello()\n",
    "    hello\n",
    "    '''\n",
    "    print('hello')\n",
    "def alpha():\n",
    "    print('bye')\n"
   ]
  },
  {
   "cell_type": "code",
   "execution_count": 6,
   "id": "a259fe4d",
   "metadata": {},
   "outputs": [],
   "source": [
    "import sys"
   ]
  },
  {
   "cell_type": "code",
   "execution_count": 7,
   "id": "8d93f744",
   "metadata": {},
   "outputs": [
    {
     "name": "stdout",
     "output_type": "stream",
     "text": [
      "['C:\\\\Python\\\\Python_4_30PM', 'C:\\\\Users\\\\hello\\\\anaconda3\\\\python311.zip', 'C:\\\\Users\\\\hello\\\\anaconda3\\\\DLLs', 'C:\\\\Users\\\\hello\\\\anaconda3\\\\Lib', 'C:\\\\Users\\\\hello\\\\anaconda3', '', 'C:\\\\Users\\\\hello\\\\anaconda3\\\\Lib\\\\site-packages', 'C:\\\\Users\\\\hello\\\\anaconda3\\\\Lib\\\\site-packages\\\\win32', 'C:\\\\Users\\\\hello\\\\anaconda3\\\\Lib\\\\site-packages\\\\win32\\\\lib', 'C:\\\\Users\\\\hello\\\\anaconda3\\\\Lib\\\\site-packages\\\\Pythonwin']\n"
     ]
    }
   ],
   "source": [
    "print(sys.path)"
   ]
  },
  {
   "cell_type": "code",
   "execution_count": 8,
   "id": "af5c4ee0",
   "metadata": {},
   "outputs": [],
   "source": [
    "import hello"
   ]
  },
  {
   "cell_type": "code",
   "execution_count": 9,
   "id": "edfaffa2",
   "metadata": {},
   "outputs": [
    {
     "name": "stdout",
     "output_type": "stream",
     "text": [
      "bye\n"
     ]
    }
   ],
   "source": [
    "hello.alpha()"
   ]
  },
  {
   "cell_type": "code",
   "execution_count": 10,
   "id": "df3250ab",
   "metadata": {},
   "outputs": [
    {
     "data": {
      "text/plain": [
       "\"str(object='') -> str\\nstr(bytes_or_buffer[, encoding[, errors]]) -> str\\n\\nCreate a new string object from the given object. If encoding or\\nerrors is specified, then the object must expose a data buffer\\nthat will be decoded using the given encoding and error handler.\\nOtherwise, returns the result of object.__str__() (if defined)\\nor repr(object).\\nencoding defaults to sys.getdefaultencoding().\\nerrors defaults to 'strict'.\""
      ]
     },
     "execution_count": 10,
     "metadata": {},
     "output_type": "execute_result"
    }
   ],
   "source": [
    "string.ascii_letters.__doc__"
   ]
  },
  {
   "cell_type": "code",
   "execution_count": 11,
   "id": "f17131ae",
   "metadata": {},
   "outputs": [
    {
     "name": "stdout",
     "output_type": "stream",
     "text": [
      "\n",
      "    it is used to print hello \n",
      "    >>hello.hello()\n",
      "    hello\n",
      "    \n"
     ]
    }
   ],
   "source": [
    "print(hello.hello.__doc__)"
   ]
  },
  {
   "cell_type": "code",
   "execution_count": 12,
   "id": "2787da38",
   "metadata": {},
   "outputs": [
    {
     "data": {
      "text/plain": [
       "<module 'hello' from 'C:\\\\Python\\\\Python_4_30PM\\\\hello.py'>"
      ]
     },
     "execution_count": 12,
     "metadata": {},
     "output_type": "execute_result"
    }
   ],
   "source": [
    "from importlib import reload\n",
    "reload(hello)"
   ]
  },
  {
   "cell_type": "code",
   "execution_count": 13,
   "id": "e6251ef6",
   "metadata": {},
   "outputs": [
    {
     "name": "stdout",
     "output_type": "stream",
     "text": [
      "Overwriting password.py\n"
     ]
    }
   ],
   "source": [
    "%%writefile password.py\n",
    "import string\n",
    "def pass_checker():\n",
    "    lower=string.ascii_lowercase\n",
    "    upper=string.ascii_uppercase\n",
    "    digit=string.digits\n",
    "    symbol=string.punctuation\n",
    "    print(__name__)\n",
    "    while True:\n",
    "        n=input('Enter Password')\n",
    "        l=[0,0,0,0,0]\n",
    "        for i in  n:\n",
    "            if i in lower:\n",
    "                l[0]=1\n",
    "            elif i in upper:\n",
    "                l[1]=1\n",
    "            elif i in digit:\n",
    "                l[2]=1\n",
    "            elif i in symbol:\n",
    "                l[3]=1\n",
    "\n",
    "        if len(n)>=8:\n",
    "            l[-1]=1\n",
    "        if sum(l)==5:\n",
    "            print('Password is Strong')\n",
    "            break\n",
    "        else:\n",
    "            print('Password is not strong')\n",
    "            i=0\n",
    "            while i<5:\n",
    "                if l[i]==0:\n",
    "                    if i==0:\n",
    "                        print('Add Lower Characters')\n",
    "                    if i==1:\n",
    "                        print('Add Upper Character')\n",
    "                    if i==2:\n",
    "                        print('Add Digit')\n",
    "                    if i==3:\n",
    "                        print('Add Symbol')\n",
    "                i+=1\n",
    "            if len(n)<8:\n",
    "                print('Password length is small')\n",
    "if __name__=='__main__':\n",
    "    pass_checker()"
   ]
  },
  {
   "cell_type": "code",
   "execution_count": null,
   "id": "c72df400",
   "metadata": {},
   "outputs": [],
   "source": [
    "!python password.py"
   ]
  },
  {
   "cell_type": "code",
   "execution_count": null,
   "id": "5786dd01",
   "metadata": {},
   "outputs": [],
   "source": [
    "import password"
   ]
  },
  {
   "cell_type": "code",
   "execution_count": null,
   "id": "27156262",
   "metadata": {},
   "outputs": [],
   "source": [
    "password.pass_checker()"
   ]
  },
  {
   "cell_type": "code",
   "execution_count": null,
   "id": "d4f8b649",
   "metadata": {},
   "outputs": [],
   "source": [
    "import numpy"
   ]
  },
  {
   "cell_type": "code",
   "execution_count": null,
   "id": "7ef53198",
   "metadata": {},
   "outputs": [],
   "source": [
    "numpy.random.randint(1,100)"
   ]
  },
  {
   "cell_type": "code",
   "execution_count": null,
   "id": "61cd4f0c",
   "metadata": {},
   "outputs": [],
   "source": [
    "dir(numpy)"
   ]
  },
  {
   "cell_type": "code",
   "execution_count": null,
   "id": "74f2fd17",
   "metadata": {},
   "outputs": [],
   "source": [
    "dir(hello)"
   ]
  },
  {
   "cell_type": "code",
   "execution_count": null,
   "id": "f69a7dbb",
   "metadata": {},
   "outputs": [],
   "source": [
    "dir(password)"
   ]
  },
  {
   "cell_type": "code",
   "execution_count": null,
   "id": "1531c940",
   "metadata": {},
   "outputs": [],
   "source": [
    "%%writefile check.py\n",
    "def check(out,res):\n",
    "    if out==res:\n",
    "        print('Congratulation Test case Passes Successfully and You Score 20 Points')\n",
    "    else:\n",
    "        j=0\n",
    "        point=0\n",
    "        for i in out:\n",
    "            if i==res[j]:\n",
    "                point+=1\n",
    "            j+=1\n",
    "        print(f'You Failed But Total Point Scores={20*(point/len(out))}')\n",
    "if __name__=='__main__':\n",
    "    check(input('Enter Output').split(),input('Enter Expected Output'))\n",
    "    "
   ]
  },
  {
   "cell_type": "code",
   "execution_count": null,
   "id": "c74d6195",
   "metadata": {},
   "outputs": [],
   "source": [
    "import check"
   ]
  },
  {
   "cell_type": "code",
   "execution_count": null,
   "id": "ea1924d4",
   "metadata": {},
   "outputs": [],
   "source": [
    "check.check([1,2,3,4],[1,2,3,4])"
   ]
  },
  {
   "cell_type": "code",
   "execution_count": null,
   "id": "429a852c",
   "metadata": {},
   "outputs": [],
   "source": [
    "import numpy as np"
   ]
  },
  {
   "cell_type": "code",
   "execution_count": null,
   "id": "1ddf4fc7",
   "metadata": {},
   "outputs": [],
   "source": [
    "pwd"
   ]
  },
  {
   "cell_type": "code",
   "execution_count": null,
   "id": "d1398072",
   "metadata": {},
   "outputs": [],
   "source": [
    "cd ./my_package/"
   ]
  },
  {
   "cell_type": "code",
   "execution_count": 15,
   "id": "7bf02f73",
   "metadata": {},
   "outputs": [
    {
     "name": "stdout",
     "output_type": "stream",
     "text": [
      "Writing ./my_package/_init_.py\n"
     ]
    }
   ],
   "source": [
    "%%writefile ./my_package/_init_.py\n",
    "print('Package created successfully')\n"
   ]
  },
  {
   "cell_type": "code",
   "execution_count": 16,
   "id": "0bf4de07",
   "metadata": {},
   "outputs": [
    {
     "name": "stdout",
     "output_type": "stream",
     "text": [
      "Overwriting password.py\n"
     ]
    }
   ],
   "source": [
    "%%writefile password.py\n",
    "import string\n",
    "def pass_checker():\n",
    "    lower=string.ascii_lowercase\n",
    "    upper=string.ascii_uppercase\n",
    "    digit=string.digits\n",
    "    symbol=string.punctuation\n",
    "    print(__name__)\n",
    "    while True:\n",
    "        n=input('Enter Password')\n",
    "        l=[0,0,0,0,0]\n",
    "        for i in  n:\n",
    "            if i in lower:\n",
    "                l[0]=1\n",
    "            elif i in upper:\n",
    "                l[1]=1\n",
    "            elif i in digit:\n",
    "                l[2]=1\n",
    "            elif i in symbol:\n",
    "                l[3]=1\n",
    "\n",
    "        if len(n)>=8:\n",
    "            l[-1]=1\n",
    "        if sum(l)==5:\n",
    "            print('Password is Strong')\n",
    "            break\n",
    "        else:\n",
    "            print('Password is not strong')\n",
    "            i=0\n",
    "            while i<5:\n",
    "                if l[i]==0:\n",
    "                    if i==0:\n",
    "                        print('Add Lower Characters')\n",
    "                    if i==1:\n",
    "                        print('Add Upper Character')\n",
    "                    if i==2:\n",
    "                        print('Add Digit')\n",
    "                    if i==3:\n",
    "                        print('Add Symbol')\n",
    "                i+=1\n",
    "            if len(n)<8:\n",
    "                print('Password length is small')\n",
    "if __name__=='__main__':\n",
    "    pass_checker()"
   ]
  },
  {
   "cell_type": "code",
   "execution_count": 17,
   "id": "b63d07e1",
   "metadata": {},
   "outputs": [],
   "source": [
    "import my_package"
   ]
  },
  {
   "cell_type": "code",
   "execution_count": 20,
   "id": "17583c3d",
   "metadata": {},
   "outputs": [
    {
     "data": {
      "text/plain": [
       "['__builtins__',\n",
       " '__cached__',\n",
       " '__doc__',\n",
       " '__file__',\n",
       " '__loader__',\n",
       " '__name__',\n",
       " '__package__',\n",
       " '__path__',\n",
       " '__spec__']"
      ]
     },
     "execution_count": 20,
     "metadata": {},
     "output_type": "execute_result"
    }
   ],
   "source": [
    "dir(my_package)"
   ]
  },
  {
   "cell_type": "code",
   "execution_count": 13,
   "id": "448245b6",
   "metadata": {},
   "outputs": [],
   "source": [
    "from importlib import reload"
   ]
  },
  {
   "cell_type": "code",
   "execution_count": 18,
   "id": "a87b8116",
   "metadata": {},
   "outputs": [
    {
     "data": {
      "text/plain": [
       "<module 'my_package' (<_frozen_importlib_external.NamespaceLoader object at 0x0000014527BCC0D0>)>"
      ]
     },
     "execution_count": 18,
     "metadata": {},
     "output_type": "execute_result"
    }
   ],
   "source": [
    "reload(my_package)"
   ]
  },
  {
   "cell_type": "code",
   "execution_count": 9,
   "id": "f80213bf",
   "metadata": {},
   "outputs": [],
   "source": [
    "import  my_package"
   ]
  },
  {
   "cell_type": "code",
   "execution_count": 19,
   "id": "2cf3c31c",
   "metadata": {},
   "outputs": [
    {
     "ename": "AttributeError",
     "evalue": "module 'my_package' has no attribute 'password'",
     "output_type": "error",
     "traceback": [
      "\u001b[1;31m---------------------------------------------------------------------------\u001b[0m",
      "\u001b[1;31mAttributeError\u001b[0m                            Traceback (most recent call last)",
      "Cell \u001b[1;32mIn[19], line 1\u001b[0m\n\u001b[1;32m----> 1\u001b[0m my_package\u001b[38;5;241m.\u001b[39mpassword\u001b[38;5;241m.\u001b[39mpass_checker()\n",
      "\u001b[1;31mAttributeError\u001b[0m: module 'my_package' has no attribute 'password'"
     ]
    }
   ],
   "source": [
    "my_package."
   ]
  },
  {
   "cell_type": "code",
   "execution_count": 1,
   "id": "21132a66",
   "metadata": {},
   "outputs": [
    {
     "name": "stdout",
     "output_type": "stream",
     "text": [
      "hello\n"
     ]
    }
   ],
   "source": [
    "import my_package"
   ]
  },
  {
   "cell_type": "code",
   "execution_count": 2,
   "id": "3ff6950d",
   "metadata": {},
   "outputs": [
    {
     "name": "stdout",
     "output_type": "stream",
     "text": [
      "Overwriting ./my_package/__init__.py\n"
     ]
    }
   ],
   "source": [
    "%%writefile ./my_package/__init__.py\n",
    "import password\n",
    "print('hello')"
   ]
  },
  {
   "cell_type": "code",
   "execution_count": null,
   "id": "77e75f40",
   "metadata": {},
   "outputs": [],
   "source": []
  },
  {
   "cell_type": "code",
   "execution_count": null,
   "id": "3dba3a7e",
   "metadata": {},
   "outputs": [],
   "source": []
  },
  {
   "cell_type": "code",
   "execution_count": null,
   "id": "52c20a32",
   "metadata": {},
   "outputs": [],
   "source": []
  },
  {
   "cell_type": "code",
   "execution_count": 1,
   "id": "3df6a226",
   "metadata": {},
   "outputs": [],
   "source": [
    "mkdir my_package"
   ]
  },
  {
   "cell_type": "code",
   "execution_count": 2,
   "id": "47f0d993",
   "metadata": {},
   "outputs": [
    {
     "name": "stdout",
     "output_type": "stream",
     "text": [
      "Writing ./my_package/password.py\n"
     ]
    }
   ],
   "source": [
    "%%writefile ./my_package/password.py\n",
    "import string\n",
    "def pass_checker():\n",
    "    lower=string.ascii_lowercase\n",
    "    upper=string.ascii_uppercase\n",
    "    digit=string.digits\n",
    "    symbol=string.punctuation\n",
    "    print(__name__)\n",
    "    while True:\n",
    "        n=input('Enter Password')\n",
    "        l=[0,0,0,0,0]\n",
    "        for i in  n:\n",
    "            if i in lower:\n",
    "                l[0]=1\n",
    "            elif i in upper:\n",
    "                l[1]=1\n",
    "            elif i in digit:\n",
    "                l[2]=1\n",
    "            elif i in symbol:\n",
    "                l[3]=1\n",
    "\n",
    "        if len(n)>=8:\n",
    "            l[-1]=1\n",
    "        if sum(l)==5:\n",
    "            print('Password is Strong')\n",
    "            break\n",
    "        else:\n",
    "            print('Password is not strong')\n",
    "            i=0\n",
    "            while i<5:\n",
    "                if l[i]==0:\n",
    "                    if i==0:\n",
    "                        print('Add Lower Characters')\n",
    "                    if i==1:\n",
    "                        print('Add Upper Character')\n",
    "                    if i==2:\n",
    "                        print('Add Digit')\n",
    "                    if i==3:\n",
    "                        print('Add Symbol')\n",
    "                i+=1\n",
    "            if len(n)<8:\n",
    "                print('Password length is small')\n",
    "if __name__=='__main__':\n",
    "    pass_checker()"
   ]
  },
  {
   "cell_type": "code",
   "execution_count": 3,
   "id": "527d602f",
   "metadata": {},
   "outputs": [
    {
     "name": "stdout",
     "output_type": "stream",
     "text": [
      "Overwriting __init__.py\n"
     ]
    }
   ],
   "source": [
    "%%writefile __init__.py\n",
    "print('Hello')\n"
   ]
  },
  {
   "cell_type": "code",
   "execution_count": 5,
   "id": "193054f8",
   "metadata": {},
   "outputs": [],
   "source": [
    "from  my_package import password"
   ]
  },
  {
   "cell_type": "code",
   "execution_count": 6,
   "id": "1aeaea49",
   "metadata": {},
   "outputs": [
    {
     "name": "stdout",
     "output_type": "stream",
     "text": [
      "my_package.password\n",
      "Enter PasswordSachin@9511!\n",
      "Password is Strong\n"
     ]
    }
   ],
   "source": [
    "password.pass_checker()"
   ]
  },
  {
   "cell_type": "code",
   "execution_count": null,
   "id": "8245154e",
   "metadata": {},
   "outputs": [],
   "source": []
  },
  {
   "cell_type": "code",
   "execution_count": 7,
   "id": "0d75b085",
   "metadata": {},
   "outputs": [
    {
     "name": "stdout",
     "output_type": "stream",
     "text": [
      "Overwriting __init__.py\n"
     ]
    }
   ],
   "source": [
    "%%writefile __init__.py\n",
    "import password\n",
    "print('Hello')\n"
   ]
  },
  {
   "cell_type": "code",
   "execution_count": 8,
   "id": "cfb83f72",
   "metadata": {},
   "outputs": [],
   "source": [
    "import importlib "
   ]
  },
  {
   "cell_type": "code",
   "execution_count": 9,
   "id": "bff56541",
   "metadata": {},
   "outputs": [
    {
     "data": {
      "text/plain": [
       "<module 'my_package' (<_frozen_importlib_external.NamespaceLoader object at 0x000001D6F4BF1ED0>)>"
      ]
     },
     "execution_count": 9,
     "metadata": {},
     "output_type": "execute_result"
    }
   ],
   "source": [
    "importlib.reload(my_package)"
   ]
  },
  {
   "cell_type": "code",
   "execution_count": 10,
   "id": "8a5cdded",
   "metadata": {},
   "outputs": [],
   "source": [
    "import my_package"
   ]
  },
  {
   "cell_type": "code",
   "execution_count": 14,
   "id": "75064f2c",
   "metadata": {},
   "outputs": [
    {
     "name": "stdout",
     "output_type": "stream",
     "text": [
      "my_package.password\n",
      "Enter PasswordSachin@9511!\n",
      "Password is Strong\n"
     ]
    }
   ],
   "source": [
    "my_package.password.pass_checker()"
   ]
  },
  {
   "cell_type": "code",
   "execution_count": null,
   "id": "6151272a",
   "metadata": {},
   "outputs": [],
   "source": [
    "my_package.pass"
   ]
  }
 ],
 "metadata": {
  "kernelspec": {
   "display_name": "Python 3 (ipykernel)",
   "language": "python",
   "name": "python3"
  },
  "language_info": {
   "codemirror_mode": {
    "name": "ipython",
    "version": 3
   },
   "file_extension": ".py",
   "mimetype": "text/x-python",
   "name": "python",
   "nbconvert_exporter": "python",
   "pygments_lexer": "ipython3",
   "version": "3.11.5"
  }
 },
 "nbformat": 4,
 "nbformat_minor": 5
}
