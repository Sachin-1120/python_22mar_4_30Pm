{
 "cells": [
  {
   "cell_type": "code",
   "execution_count": 3,
   "id": "a330e2ac",
   "metadata": {},
   "outputs": [
    {
     "name": "stdout",
     "output_type": "stream",
     "text": [
      "Sachin\tSharma\n"
     ]
    }
   ],
   "source": [
    "print('Sachin\\tSharma')"
   ]
  },
  {
   "cell_type": "code",
   "execution_count": 4,
   "id": "e4bc1017",
   "metadata": {},
   "outputs": [],
   "source": [
    "#string\n",
    "#split()  and Join()\n"
   ]
  },
  {
   "cell_type": "code",
   "execution_count": 5,
   "id": "4938a1bf",
   "metadata": {},
   "outputs": [
    {
     "data": {
      "text/plain": [
       "['H', 'llo Ev', 'ryon', '']"
      ]
     },
     "execution_count": 5,
     "metadata": {},
     "output_type": "execute_result"
    }
   ],
   "source": [
    "#split()\n",
    "s='Hello Everyone'\n",
    "s.split('e')"
   ]
  },
  {
   "cell_type": "code",
   "execution_count": 9,
   "id": "633f8bc6",
   "metadata": {},
   "outputs": [
    {
     "data": {
      "text/plain": [
       "['Hello', 'Everyone', 'welcome', 'to', 'grras']"
      ]
     },
     "execution_count": 9,
     "metadata": {},
     "output_type": "execute_result"
    }
   ],
   "source": [
    "s='Hello Everyone welcome to grras'\n",
    "s.split(' ')\n"
   ]
  },
  {
   "cell_type": "code",
   "execution_count": 10,
   "id": "f127620f",
   "metadata": {},
   "outputs": [
    {
     "data": {
      "text/plain": [
       "['Sachin Sharma', 'Sachin@grras', '24', 'positive']"
      ]
     },
     "execution_count": 10,
     "metadata": {},
     "output_type": "execute_result"
    }
   ],
   "source": [
    "s='Sachin Sharma#Sachin@grras#24#positive'\n",
    "s.split('#')"
   ]
  },
  {
   "cell_type": "code",
   "execution_count": 11,
   "id": "5080d551",
   "metadata": {},
   "outputs": [
    {
     "data": {
      "text/plain": [
       "'Sachin Sharma#Sachin@grras#24#positive'"
      ]
     },
     "execution_count": 11,
     "metadata": {},
     "output_type": "execute_result"
    }
   ],
   "source": [
    "'#'.join(['Sachin Sharma', 'Sachin@grras', '24', 'positive'])"
   ]
  },
  {
   "cell_type": "code",
   "execution_count": null,
   "id": "73d1c5f9",
   "metadata": {},
   "outputs": [],
   "source": []
  },
  {
   "cell_type": "code",
   "execution_count": null,
   "id": "ec8fa892",
   "metadata": {},
   "outputs": [],
   "source": []
  },
  {
   "cell_type": "code",
   "execution_count": null,
   "id": "995d3c0f",
   "metadata": {},
   "outputs": [],
   "source": []
  },
  {
   "cell_type": "code",
   "execution_count": 12,
   "id": "30ec2165",
   "metadata": {},
   "outputs": [
    {
     "data": {
      "text/plain": [
       "[' ps nnn', ' \\nis ehe', 'i hi', \" \\ns tikybr t'g\", 'se']"
      ]
     },
     "execution_count": 12,
     "metadata": {},
     "output_type": "execute_result"
    }
   ],
   "source": [
    "a='''\n",
    "It was a simple tip of the hat. Grace didn't think that \n",
    "anyone else besides her had even noticed it. It wasn't anything that \n",
    "\n",
    "'''\n",
    "a=a[20: :-7]+' ' +a[-20::5]+' '+a[::-10]+' '+a[::10]+a[5:20:5]\n",
    "a.split('a')"
   ]
  },
  {
   "cell_type": "code",
   "execution_count": 8,
   "id": "a09bcefc",
   "metadata": {},
   "outputs": [],
   "source": [
    "a='sAchin SHarma'"
   ]
  },
  {
   "cell_type": "code",
   "execution_count": 9,
   "id": "61064b76",
   "metadata": {},
   "outputs": [
    {
     "data": {
      "text/plain": [
       "'Sachin sharma'"
      ]
     },
     "execution_count": 9,
     "metadata": {},
     "output_type": "execute_result"
    }
   ],
   "source": [
    "a.capitalize() # only capitalize first letter of the string"
   ]
  },
  {
   "cell_type": "code",
   "execution_count": 10,
   "id": "b1c9ec2c",
   "metadata": {},
   "outputs": [
    {
     "data": {
      "text/plain": [
       "'SACHIN SHARMA'"
      ]
     },
     "execution_count": 10,
     "metadata": {},
     "output_type": "execute_result"
    }
   ],
   "source": [
    "a.upper() # Converts  all Characters in Capital"
   ]
  },
  {
   "cell_type": "code",
   "execution_count": 11,
   "id": "b3b3cb10",
   "metadata": {},
   "outputs": [
    {
     "data": {
      "text/plain": [
       "'sachin sharma'"
      ]
     },
     "execution_count": 11,
     "metadata": {},
     "output_type": "execute_result"
    }
   ],
   "source": [
    "a.lower() #Convert all Characters into Lower"
   ]
  },
  {
   "cell_type": "code",
   "execution_count": 15,
   "id": "d90c7867",
   "metadata": {},
   "outputs": [
    {
     "data": {
      "text/plain": [
       "'Sachin Sharma'"
      ]
     },
     "execution_count": 15,
     "metadata": {},
     "output_type": "execute_result"
    }
   ],
   "source": [
    "a='sachin sharma'\n",
    "a.title() # convert each word first letter to upper case"
   ]
  },
  {
   "cell_type": "code",
   "execution_count": 19,
   "id": "c2107d6e",
   "metadata": {},
   "outputs": [
    {
     "data": {
      "text/plain": [
       "'sachin sharma'"
      ]
     },
     "execution_count": 19,
     "metadata": {},
     "output_type": "execute_result"
    }
   ],
   "source": [
    "a='SaChIN ShaRma'\n",
    "a.casefold()"
   ]
  },
  {
   "cell_type": "code",
   "execution_count": 18,
   "id": "9c965f19",
   "metadata": {},
   "outputs": [
    {
     "data": {
      "text/plain": [
       "'sachin sharma'"
      ]
     },
     "execution_count": 18,
     "metadata": {},
     "output_type": "execute_result"
    }
   ],
   "source": [
    "a='SaChIN ShaRma'\n",
    "a.lower()"
   ]
  },
  {
   "cell_type": "code",
   "execution_count": 20,
   "id": "4ccc20b2",
   "metadata": {},
   "outputs": [
    {
     "data": {
      "text/plain": [
       "True"
      ]
     },
     "execution_count": 20,
     "metadata": {},
     "output_type": "execute_result"
    }
   ],
   "source": [
    "'SaChIn'.casefold()=='SACHIN'.casefold()"
   ]
  },
  {
   "cell_type": "code",
   "execution_count": 21,
   "id": "e28014d6",
   "metadata": {},
   "outputs": [
    {
     "data": {
      "text/plain": [
       "False"
      ]
     },
     "execution_count": 21,
     "metadata": {},
     "output_type": "execute_result"
    }
   ],
   "source": [
    "'SaChIn'=='SACHIN'"
   ]
  },
  {
   "cell_type": "code",
   "execution_count": 24,
   "id": "4678a6ea",
   "metadata": {},
   "outputs": [
    {
     "data": {
      "text/plain": [
       "2"
      ]
     },
     "execution_count": 24,
     "metadata": {},
     "output_type": "execute_result"
    }
   ],
   "source": [
    "'Sachin Sharma'.count('S')"
   ]
  },
  {
   "cell_type": "code",
   "execution_count": 25,
   "id": "e97f1c67",
   "metadata": {},
   "outputs": [
    {
     "data": {
      "text/plain": [
       "'sAcHIN shaRMA'"
      ]
     },
     "execution_count": 25,
     "metadata": {},
     "output_type": "execute_result"
    }
   ],
   "source": [
    "a='SaChin SHArma'\n",
    "a.swapcase() #swap the case of character"
   ]
  },
  {
   "cell_type": "code",
   "execution_count": 26,
   "id": "7871746a",
   "metadata": {},
   "outputs": [
    {
     "data": {
      "text/plain": [
       "3"
      ]
     },
     "execution_count": 26,
     "metadata": {},
     "output_type": "execute_result"
    }
   ],
   "source": [
    "a='Sachin'\n",
    "a.index('h')"
   ]
  },
  {
   "cell_type": "code",
   "execution_count": 38,
   "id": "605c07b4",
   "metadata": {},
   "outputs": [],
   "source": [
    "a='''It was a simple tip of the hat. Grace didn't think that \n",
    "anyone else besides her had even noticed it. It wasn't simple anything that \n",
    "'''"
   ]
  },
  {
   "cell_type": "code",
   "execution_count": 39,
   "id": "8dcd1a99",
   "metadata": {},
   "outputs": [
    {
     "data": {
      "text/plain": [
       "112"
      ]
     },
     "execution_count": 39,
     "metadata": {},
     "output_type": "execute_result"
    }
   ],
   "source": [
    "a.index('simple anything')"
   ]
  },
  {
   "cell_type": "code",
   "execution_count": 41,
   "id": "000cd9be",
   "metadata": {},
   "outputs": [
    {
     "data": {
      "text/plain": [
       "112"
      ]
     },
     "execution_count": 41,
     "metadata": {},
     "output_type": "execute_result"
    }
   ],
   "source": [
    "a.find('simple anything')"
   ]
  },
  {
   "cell_type": "code",
   "execution_count": 42,
   "id": "5719801d",
   "metadata": {},
   "outputs": [
    {
     "ename": "ValueError",
     "evalue": "substring not found",
     "output_type": "error",
     "traceback": [
      "\u001b[1;31m---------------------------------------------------------------------------\u001b[0m",
      "\u001b[1;31mValueError\u001b[0m                                Traceback (most recent call last)",
      "Cell \u001b[1;32mIn[42], line 1\u001b[0m\n\u001b[1;32m----> 1\u001b[0m a\u001b[38;5;241m.\u001b[39mindex(\u001b[38;5;124m'\u001b[39m\u001b[38;5;124mIPL\u001b[39m\u001b[38;5;124m'\u001b[39m)\n",
      "\u001b[1;31mValueError\u001b[0m: substring not found"
     ]
    }
   ],
   "source": [
    "a.index('IPL')"
   ]
  },
  {
   "cell_type": "code",
   "execution_count": 43,
   "id": "de06ff0a",
   "metadata": {},
   "outputs": [
    {
     "data": {
      "text/plain": [
       "-1"
      ]
     },
     "execution_count": 43,
     "metadata": {},
     "output_type": "execute_result"
    }
   ],
   "source": [
    "a.find('IPL')"
   ]
  },
  {
   "cell_type": "code",
   "execution_count": 44,
   "id": "76999df3",
   "metadata": {},
   "outputs": [
    {
     "data": {
      "text/plain": [
       "'Sachin'"
      ]
     },
     "execution_count": 44,
     "metadata": {},
     "output_type": "execute_result"
    }
   ],
   "source": [
    "a='     Sachin     '\n",
    "a.strip()"
   ]
  },
  {
   "cell_type": "code",
   "execution_count": 45,
   "id": "fa812e92",
   "metadata": {},
   "outputs": [
    {
     "data": {
      "text/plain": [
       "'Sachin     '"
      ]
     },
     "execution_count": 45,
     "metadata": {},
     "output_type": "execute_result"
    }
   ],
   "source": [
    "a.lstrip()"
   ]
  },
  {
   "cell_type": "code",
   "execution_count": 46,
   "id": "a6c28672",
   "metadata": {},
   "outputs": [
    {
     "data": {
      "text/plain": [
       "'     Sachin'"
      ]
     },
     "execution_count": 46,
     "metadata": {},
     "output_type": "execute_result"
    }
   ],
   "source": [
    "a.rstrip()"
   ]
  },
  {
   "cell_type": "code",
   "execution_count": 47,
   "id": "297b412e",
   "metadata": {},
   "outputs": [
    {
     "data": {
      "text/plain": [
       "-1"
      ]
     },
     "execution_count": 47,
     "metadata": {},
     "output_type": "execute_result"
    }
   ],
   "source": [
    "'   WelCOMee to GRRRAs SoluTion'.title().strip().find('R')"
   ]
  },
  {
   "cell_type": "code",
   "execution_count": 48,
   "id": "71d31f7e",
   "metadata": {},
   "outputs": [
    {
     "data": {
      "text/plain": [
       "'   Welcomee To Grrras Solution'"
      ]
     },
     "execution_count": 48,
     "metadata": {},
     "output_type": "execute_result"
    }
   ],
   "source": [
    "'   WelCOMee to GRRRAs SoluTion'.title()"
   ]
  },
  {
   "cell_type": "code",
   "execution_count": 49,
   "id": "7430c468",
   "metadata": {},
   "outputs": [
    {
     "data": {
      "text/plain": [
       "'Welcomee To Grrras Solution'"
      ]
     },
     "execution_count": 49,
     "metadata": {},
     "output_type": "execute_result"
    }
   ],
   "source": [
    "'   Welcomee To Grrras Solution'.strip()"
   ]
  },
  {
   "cell_type": "code",
   "execution_count": 50,
   "id": "acc92e0f",
   "metadata": {},
   "outputs": [
    {
     "data": {
      "text/plain": [
       "-1"
      ]
     },
     "execution_count": 50,
     "metadata": {},
     "output_type": "execute_result"
    }
   ],
   "source": [
    "'Welcomee To Grrras Solution'.find('R')"
   ]
  },
  {
   "cell_type": "code",
   "execution_count": 2,
   "id": "e585f496",
   "metadata": {},
   "outputs": [
    {
     "data": {
      "text/plain": [
       "70"
      ]
     },
     "execution_count": 2,
     "metadata": {},
     "output_type": "execute_result"
    }
   ],
   "source": [
    "'''It was a simple tip of the hat. Grace didn't think that \n",
    "anyone else besides her had even noticed it. It wasn't simple anything that \n",
    "'''.find('besides her had even noticed') + 'HeLlO EveRyOne  '.rstrip().casefold().upper().count('RY')\n"
   ]
  },
  {
   "cell_type": "code",
   "execution_count": 3,
   "id": "b95f8ab0",
   "metadata": {},
   "outputs": [
    {
     "data": {
      "text/plain": [
       "69"
      ]
     },
     "execution_count": 3,
     "metadata": {},
     "output_type": "execute_result"
    }
   ],
   "source": [
    "'''It was a simple tip of the hat. Grace didn't think that \n",
    "anyone else besides her had even noticed it. It wasn't simple anything that \n",
    "'''.find('besides her had even noticed') "
   ]
  },
  {
   "cell_type": "code",
   "execution_count": 8,
   "id": "ad796f4f",
   "metadata": {},
   "outputs": [
    {
     "data": {
      "text/plain": [
       "1"
      ]
     },
     "execution_count": 8,
     "metadata": {},
     "output_type": "execute_result"
    }
   ],
   "source": [
    "'HeLlO EveRyOne  '.rstrip().casefold().upper().count('LO')\n"
   ]
  },
  {
   "cell_type": "code",
   "execution_count": 9,
   "id": "43035c4f",
   "metadata": {},
   "outputs": [
    {
     "name": "stdout",
     "output_type": "stream",
     "text": [
      "sum of 5 and 6 is 11\n"
     ]
    }
   ],
   "source": [
    "a=5\n",
    "b=6\n",
    "c=a+b\n",
    "print('sum of',a,'and',b,'is',c)"
   ]
  },
  {
   "cell_type": "code",
   "execution_count": 18,
   "id": "3a10646a",
   "metadata": {},
   "outputs": [],
   "source": [
    "# format in string\n",
    "result=f'sum of {a} and {b} is {c}'"
   ]
  },
  {
   "cell_type": "code",
   "execution_count": 19,
   "id": "5dc0781b",
   "metadata": {},
   "outputs": [
    {
     "data": {
      "text/plain": [
       "'sum of 5 and 6 is 11'"
      ]
     },
     "execution_count": 19,
     "metadata": {},
     "output_type": "execute_result"
    }
   ],
   "source": [
    "result"
   ]
  },
  {
   "cell_type": "code",
   "execution_count": 20,
   "id": "c78cce48",
   "metadata": {},
   "outputs": [
    {
     "name": "stdout",
     "output_type": "stream",
     "text": [
      "sum of 5 and 6 is 11\n"
     ]
    }
   ],
   "source": [
    "print(f'sum of {a} and {b} is {c}')"
   ]
  },
  {
   "cell_type": "code",
   "execution_count": 21,
   "id": "37ef5adf",
   "metadata": {},
   "outputs": [
    {
     "name": "stdout",
     "output_type": "stream",
     "text": [
      "sum of 5 and 6 is 11\n"
     ]
    }
   ],
   "source": [
    "print('sum of {} and {} is {}'.format(a,b,c))"
   ]
  },
  {
   "cell_type": "code",
   "execution_count": 24,
   "id": "4cbf0926",
   "metadata": {},
   "outputs": [
    {
     "data": {
      "text/plain": [
       "'                                           Hello Everyone                                          '"
      ]
     },
     "execution_count": 24,
     "metadata": {},
     "output_type": "execute_result"
    }
   ],
   "source": [
    "a='Hello Everyone'\n",
    "a.center(99)"
   ]
  },
  {
   "cell_type": "code",
   "execution_count": 25,
   "id": "4cd9d545",
   "metadata": {},
   "outputs": [
    {
     "data": {
      "text/plain": [
       "'Hello Everyone                                                                                     '"
      ]
     },
     "execution_count": 25,
     "metadata": {},
     "output_type": "execute_result"
    }
   ],
   "source": [
    "a.ljust(99)"
   ]
  },
  {
   "cell_type": "code",
   "execution_count": 26,
   "id": "dc26f632",
   "metadata": {},
   "outputs": [
    {
     "data": {
      "text/plain": [
       "'                                                                                     Hello Everyone'"
      ]
     },
     "execution_count": 26,
     "metadata": {},
     "output_type": "execute_result"
    }
   ],
   "source": [
    "a.rjust(99)"
   ]
  },
  {
   "cell_type": "code",
   "execution_count": 30,
   "id": "4bd43abd",
   "metadata": {},
   "outputs": [
    {
     "data": {
      "text/plain": [
       "True"
      ]
     },
     "execution_count": 30,
     "metadata": {},
     "output_type": "execute_result"
    }
   ],
   "source": [
    "a='sachin'\n",
    "a.islower()"
   ]
  },
  {
   "cell_type": "code",
   "execution_count": 32,
   "id": "2f917654",
   "metadata": {},
   "outputs": [
    {
     "data": {
      "text/plain": [
       "False"
      ]
     },
     "execution_count": 32,
     "metadata": {},
     "output_type": "execute_result"
    }
   ],
   "source": [
    "a='SAc'\n",
    "a.isupper()"
   ]
  },
  {
   "cell_type": "code",
   "execution_count": 33,
   "id": "6589fedc",
   "metadata": {},
   "outputs": [
    {
     "data": {
      "text/plain": [
       "False"
      ]
     },
     "execution_count": 33,
     "metadata": {},
     "output_type": "execute_result"
    }
   ],
   "source": [
    "a='Sachin ShaRma'\n",
    "a.istitle()"
   ]
  },
  {
   "cell_type": "code",
   "execution_count": 38,
   "id": "7bed964d",
   "metadata": {},
   "outputs": [
    {
     "data": {
      "text/plain": [
       "False"
      ]
     },
     "execution_count": 38,
     "metadata": {},
     "output_type": "execute_result"
    }
   ],
   "source": [
    "a=' Sachin  Sharma '\n",
    "a.isspace()"
   ]
  },
  {
   "cell_type": "code",
   "execution_count": 46,
   "id": "282da368",
   "metadata": {},
   "outputs": [
    {
     "data": {
      "text/plain": [
       "False"
      ]
     },
     "execution_count": 46,
     "metadata": {},
     "output_type": "execute_result"
    }
   ],
   "source": [
    "a='Sachin Sharma'\n",
    "a.isalpha()"
   ]
  },
  {
   "cell_type": "code",
   "execution_count": 57,
   "id": "c0a2453a",
   "metadata": {},
   "outputs": [
    {
     "data": {
      "text/plain": [
       "True"
      ]
     },
     "execution_count": 57,
     "metadata": {},
     "output_type": "execute_result"
    }
   ],
   "source": [
    "a='sachin'\n",
    "a.isalnum()"
   ]
  },
  {
   "cell_type": "code",
   "execution_count": 55,
   "id": "8bc2f912",
   "metadata": {},
   "outputs": [
    {
     "name": "stdout",
     "output_type": "stream",
     "text": [
      "Help on built-in function isalnum:\n",
      "\n",
      "isalnum() method of builtins.str instance\n",
      "    Return True if the string is an alpha-numeric string, False otherwise.\n",
      "    \n",
      "    A string is alpha-numeric if all characters in the string are alpha-numeric and\n",
      "    there is at least one character in the string.\n",
      "\n"
     ]
    }
   ],
   "source": [
    "help(a.isalnum)"
   ]
  },
  {
   "cell_type": "code",
   "execution_count": 58,
   "id": "987cf2cb",
   "metadata": {},
   "outputs": [
    {
     "name": "stdout",
     "output_type": "stream",
     "text": [
      "Help on built-in function len in module builtins:\n",
      "\n",
      "len(obj, /)\n",
      "    Return the number of items in a container.\n",
      "\n"
     ]
    }
   ],
   "source": [
    "help(len)"
   ]
  },
  {
   "cell_type": "code",
   "execution_count": 64,
   "id": "5f47eee0",
   "metadata": {},
   "outputs": [
    {
     "data": {
      "text/plain": [
       "6"
      ]
     },
     "execution_count": 64,
     "metadata": {},
     "output_type": "execute_result"
    }
   ],
   "source": [
    "a='Sachin'\n",
    "len(a)"
   ]
  },
  {
   "cell_type": "code",
   "execution_count": 63,
   "id": "ab5b544d",
   "metadata": {},
   "outputs": [
    {
     "data": {
      "text/plain": [
       "True"
      ]
     },
     "execution_count": 63,
     "metadata": {},
     "output_type": "execute_result"
    }
   ],
   "source": [
    "a='Sachin'\n",
    "a.isascii()"
   ]
  },
  {
   "cell_type": "code",
   "execution_count": 65,
   "id": "0bf13eb6",
   "metadata": {},
   "outputs": [
    {
     "name": "stdout",
     "output_type": "stream",
     "text": [
      "Help on built-in function isnumeric:\n",
      "\n",
      "isnumeric() method of builtins.str instance\n",
      "    Return True if the string is a numeric string, False otherwise.\n",
      "    \n",
      "    A string is numeric if all characters in the string are numeric and there is at\n",
      "    least one character in the string.\n",
      "\n"
     ]
    }
   ],
   "source": [
    "help(a.isnumeric)"
   ]
  },
  {
   "cell_type": "code",
   "execution_count": 66,
   "id": "69ca7903",
   "metadata": {},
   "outputs": [
    {
     "name": "stdout",
     "output_type": "stream",
     "text": [
      "Help on built-in function isdecimal:\n",
      "\n",
      "isdecimal() method of builtins.str instance\n",
      "    Return True if the string is a decimal string, False otherwise.\n",
      "    \n",
      "    A string is a decimal string if all characters in the string are decimal and\n",
      "    there is at least one character in the string.\n",
      "\n"
     ]
    }
   ],
   "source": [
    "help(a.isdecimal)"
   ]
  },
  {
   "cell_type": "code",
   "execution_count": 67,
   "id": "061bda95",
   "metadata": {},
   "outputs": [
    {
     "name": "stdout",
     "output_type": "stream",
     "text": [
      "Help on built-in function isdigit:\n",
      "\n",
      "isdigit() method of builtins.str instance\n",
      "    Return True if the string is a digit string, False otherwise.\n",
      "    \n",
      "    A string is a digit string if all characters in the string are digits and there\n",
      "    is at least one character in the string.\n",
      "\n"
     ]
    }
   ],
   "source": [
    "help(a.isdigit)"
   ]
  },
  {
   "cell_type": "code",
   "execution_count": 72,
   "id": "9db49f6a",
   "metadata": {},
   "outputs": [
    {
     "data": {
      "text/plain": [
       "False"
      ]
     },
     "execution_count": 72,
     "metadata": {},
     "output_type": "execute_result"
    }
   ],
   "source": [
    "'8.2'.isdigit()"
   ]
  },
  {
   "cell_type": "code",
   "execution_count": 97,
   "id": "211331dc",
   "metadata": {},
   "outputs": [
    {
     "data": {
      "text/plain": [
       "False"
      ]
     },
     "execution_count": 97,
     "metadata": {},
     "output_type": "execute_result"
    }
   ],
   "source": [
    "'XI'.isnumeric()"
   ]
  },
  {
   "cell_type": "code",
   "execution_count": 98,
   "id": "bac2658a",
   "metadata": {},
   "outputs": [
    {
     "data": {
      "text/plain": [
       "False"
      ]
     },
     "execution_count": 98,
     "metadata": {},
     "output_type": "execute_result"
    }
   ],
   "source": [
    "'XI'.isdecimal()"
   ]
  },
  {
   "cell_type": "code",
   "execution_count": 95,
   "id": "4c752835",
   "metadata": {},
   "outputs": [
    {
     "data": {
      "text/plain": [
       "True"
      ]
     },
     "execution_count": 95,
     "metadata": {},
     "output_type": "execute_result"
    }
   ],
   "source": [
    "'①'.isdigit()"
   ]
  },
  {
   "cell_type": "code",
   "execution_count": null,
   "id": "cacc7ce9",
   "metadata": {},
   "outputs": [],
   "source": []
  },
  {
   "cell_type": "code",
   "execution_count": null,
   "id": "40a9ed03",
   "metadata": {},
   "outputs": [],
   "source": []
  },
  {
   "cell_type": "code",
   "execution_count": null,
   "id": "2ce312ea",
   "metadata": {},
   "outputs": [],
   "source": []
  },
  {
   "cell_type": "code",
   "execution_count": null,
   "id": "52097d74",
   "metadata": {},
   "outputs": [],
   "source": []
  },
  {
   "cell_type": "code",
   "execution_count": null,
   "id": "981fe364",
   "metadata": {},
   "outputs": [],
   "source": [
    "a=\n",
    "'''\n",
    "It's not only writers who can benefit from this free online tool.\n",
    "If you're a programmer who's working on a project where blocks of\n",
    "text are needed, this tool can be a great way to get that. It's \n",
    "a good way to test your programming and that the tool being created \n",
    "is working well.\n",
    "\n",
    "Above are a few examples of how the random paragraph generator \n",
    "can be beneficial. The best way to see if this random paragraph\n",
    "picker will be useful for your intended purposes is to give it \n",
    "a try. Generate a number of paragraphs to see if they are beneficial\n",
    "to your current project.\n",
    "\n",
    "If you do find this paragraph tool useful, please \n",
    "do us a favor and let us know how you're using it.\n",
    "It's greatly beneficial for us to know the different\n",
    "ways this tool is being used so we can improve it with updates.\n",
    "This is especially true since there are times when the \n",
    "generators we create get used in completely unanticipated\n",
    "ways from when we initially created them. If you \n",
    "have the time, please send us a quick note on what you'd \n",
    "like to see changed or added to make it better in the future.\n",
    "\n",
    "'''"
   ]
  },
  {
   "cell_type": "code",
   "execution_count": 99,
   "id": "3c8d47db",
   "metadata": {},
   "outputs": [],
   "source": [
    "a='Sachin'"
   ]
  },
  {
   "cell_type": "code",
   "execution_count": 110,
   "id": "e83c1b04",
   "metadata": {},
   "outputs": [
    {
     "name": "stdout",
     "output_type": "stream",
     "text": [
      "True\n",
      "False\n",
      "True\n"
     ]
    }
   ],
   "source": [
    "b='⓫'\n",
    "a='2²'\n",
    "print(a.isdigit())\n",
    "print(a.isdecimal())\n",
    "print(a.isnumeric())\n"
   ]
  },
  {
   "cell_type": "code",
   "execution_count": 111,
   "id": "7105e45e",
   "metadata": {},
   "outputs": [
    {
     "data": {
      "text/plain": [
       "b'Sachin'"
      ]
     },
     "execution_count": 111,
     "metadata": {},
     "output_type": "execute_result"
    }
   ],
   "source": [
    "a='Sachin'\n",
    "a.encode()"
   ]
  },
  {
   "cell_type": "code",
   "execution_count": 115,
   "id": "d67242ca",
   "metadata": {},
   "outputs": [
    {
     "data": {
      "text/plain": [
       "True"
      ]
     },
     "execution_count": 115,
     "metadata": {},
     "output_type": "execute_result"
    }
   ],
   "source": [
    "a='Sachin Sharma'\n",
    "a.startswith('Sachin Sharma')"
   ]
  },
  {
   "cell_type": "code",
   "execution_count": 116,
   "id": "7798d8f4",
   "metadata": {},
   "outputs": [
    {
     "data": {
      "text/plain": [
       "True"
      ]
     },
     "execution_count": 116,
     "metadata": {},
     "output_type": "execute_result"
    }
   ],
   "source": [
    "a.endswith('rma')"
   ]
  },
  {
   "cell_type": "code",
   "execution_count": 119,
   "id": "318313c9",
   "metadata": {},
   "outputs": [
    {
     "data": {
      "text/plain": [
       "True"
      ]
     },
     "execution_count": 119,
     "metadata": {},
     "output_type": "execute_result"
    }
   ],
   "source": [
    "'a2'.isidentifier()"
   ]
  },
  {
   "cell_type": "code",
   "execution_count": 120,
   "id": "b0d46f7f",
   "metadata": {},
   "outputs": [
    {
     "data": {
      "text/plain": [
       "'Sachin Sharma'"
      ]
     },
     "execution_count": 120,
     "metadata": {},
     "output_type": "execute_result"
    }
   ],
   "source": [
    "a='Sachin#Sharma'\n",
    "a.replace('#',' ')"
   ]
  },
  {
   "cell_type": "code",
   "execution_count": 121,
   "id": "ac1da4fc",
   "metadata": {},
   "outputs": [
    {
     "data": {
      "text/plain": [
       "'Bello BI Bow'"
      ]
     },
     "execution_count": 121,
     "metadata": {},
     "output_type": "execute_result"
    }
   ],
   "source": [
    "a='Hello HI How'\n",
    "a.replace('H','B')"
   ]
  },
  {
   "cell_type": "code",
   "execution_count": 123,
   "id": "b6d38625",
   "metadata": {},
   "outputs": [
    {
     "data": {
      "text/plain": [
       "False"
      ]
     },
     "execution_count": 123,
     "metadata": {},
     "output_type": "execute_result"
    }
   ],
   "source": [
    "a='Hello!\\n @s #w '\n",
    "a.isprintable()"
   ]
  },
  {
   "cell_type": "code",
   "execution_count": 124,
   "id": "6d808678",
   "metadata": {},
   "outputs": [],
   "source": [
    "a=True"
   ]
  },
  {
   "cell_type": "code",
   "execution_count": 125,
   "id": "8d321aad",
   "metadata": {},
   "outputs": [
    {
     "data": {
      "text/plain": [
       "bool"
      ]
     },
     "execution_count": 125,
     "metadata": {},
     "output_type": "execute_result"
    }
   ],
   "source": [
    "type(a)"
   ]
  },
  {
   "cell_type": "code",
   "execution_count": 126,
   "id": "31e3c812",
   "metadata": {},
   "outputs": [],
   "source": [
    "#important 0,False ,'',[],(),{},set()"
   ]
  },
  {
   "cell_type": "code",
   "execution_count": 127,
   "id": "f31369be",
   "metadata": {},
   "outputs": [
    {
     "name": "stdout",
     "output_type": "stream",
     "text": [
      "['__abs__', '__add__', '__and__', '__bool__', '__ceil__', '__class__', '__delattr__', '__dir__', '__divmod__', '__doc__', '__eq__', '__float__', '__floor__', '__floordiv__', '__format__', '__ge__', '__getattribute__', '__getnewargs__', '__getstate__', '__gt__', '__hash__', '__index__', '__init__', '__init_subclass__', '__int__', '__invert__', '__le__', '__lshift__', '__lt__', '__mod__', '__mul__', '__ne__', '__neg__', '__new__', '__or__', '__pos__', '__pow__', '__radd__', '__rand__', '__rdivmod__', '__reduce__', '__reduce_ex__', '__repr__', '__rfloordiv__', '__rlshift__', '__rmod__', '__rmul__', '__ror__', '__round__', '__rpow__', '__rrshift__', '__rshift__', '__rsub__', '__rtruediv__', '__rxor__', '__setattr__', '__sizeof__', '__str__', '__sub__', '__subclasshook__', '__truediv__', '__trunc__', '__xor__', 'as_integer_ratio', 'bit_count', 'bit_length', 'conjugate', 'denominator', 'from_bytes', 'imag', 'numerator', 'real', 'to_bytes']\n"
     ]
    }
   ],
   "source": [
    "print(dir(bool))"
   ]
  },
  {
   "cell_type": "code",
   "execution_count": null,
   "id": "ff7f3c60",
   "metadata": {},
   "outputs": [],
   "source": [
    "0-->False\n",
    "1-->True\n"
   ]
  },
  {
   "cell_type": "code",
   "execution_count": 128,
   "id": "e9f8b4bb",
   "metadata": {},
   "outputs": [],
   "source": [
    "#imag -->5\n",
    "#real -->7"
   ]
  },
  {
   "cell_type": "code",
   "execution_count": 129,
   "id": "63442a24",
   "metadata": {},
   "outputs": [],
   "source": [
    "a=7+5j"
   ]
  },
  {
   "cell_type": "code",
   "execution_count": 130,
   "id": "ca27f6cb",
   "metadata": {},
   "outputs": [
    {
     "data": {
      "text/plain": [
       "complex"
      ]
     },
     "execution_count": 130,
     "metadata": {},
     "output_type": "execute_result"
    }
   ],
   "source": [
    "type(a)"
   ]
  },
  {
   "cell_type": "code",
   "execution_count": 1,
   "id": "dc38f78b",
   "metadata": {},
   "outputs": [],
   "source": [
    "a=7+5j"
   ]
  },
  {
   "cell_type": "code",
   "execution_count": 132,
   "id": "1be00d65",
   "metadata": {},
   "outputs": [
    {
     "name": "stdout",
     "output_type": "stream",
     "text": [
      "['__abs__', '__add__', '__bool__', '__class__', '__complex__', '__delattr__', '__dir__', '__doc__', '__eq__', '__format__', '__ge__', '__getattribute__', '__getnewargs__', '__getstate__', '__gt__', '__hash__', '__init__', '__init_subclass__', '__le__', '__lt__', '__mul__', '__ne__', '__neg__', '__new__', '__pos__', '__pow__', '__radd__', '__reduce__', '__reduce_ex__', '__repr__', '__rmul__', '__rpow__', '__rsub__', '__rtruediv__', '__setattr__', '__sizeof__', '__str__', '__sub__', '__subclasshook__', '__truediv__', 'conjugate', 'imag', 'real']\n"
     ]
    }
   ],
   "source": [
    "print(dir(a))"
   ]
  },
  {
   "cell_type": "code",
   "execution_count": 3,
   "id": "0caa9159",
   "metadata": {},
   "outputs": [
    {
     "data": {
      "text/plain": [
       "5.0"
      ]
     },
     "execution_count": 3,
     "metadata": {},
     "output_type": "execute_result"
    }
   ],
   "source": [
    "a.imag"
   ]
  },
  {
   "cell_type": "code",
   "execution_count": 4,
   "id": "d006982a",
   "metadata": {},
   "outputs": [
    {
     "data": {
      "text/plain": [
       "7.0"
      ]
     },
     "execution_count": 4,
     "metadata": {},
     "output_type": "execute_result"
    }
   ],
   "source": [
    "a.real"
   ]
  },
  {
   "cell_type": "code",
   "execution_count": null,
   "id": "5fc8a194",
   "metadata": {},
   "outputs": [],
   "source": []
  }
 ],
 "metadata": {
  "kernelspec": {
   "display_name": "Python 3 (ipykernel)",
   "language": "python",
   "name": "python3"
  },
  "language_info": {
   "codemirror_mode": {
    "name": "ipython",
    "version": 3
   },
   "file_extension": ".py",
   "mimetype": "text/x-python",
   "name": "python",
   "nbconvert_exporter": "python",
   "pygments_lexer": "ipython3",
   "version": "3.11.5"
  }
 },
 "nbformat": 4,
 "nbformat_minor": 5
}
