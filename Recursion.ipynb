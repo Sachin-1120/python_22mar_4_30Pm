{
 "cells": [
  {
   "cell_type": "code",
   "execution_count": 15,
   "id": "571a6331",
   "metadata": {},
   "outputs": [
    {
     "data": {
      "text/plain": [
       "120"
      ]
     },
     "execution_count": 15,
     "metadata": {},
     "output_type": "execute_result"
    }
   ],
   "source": [
    "#5 -->5*fact(4)\n",
    "def factorial(n):\n",
    "    if n==1:\n",
    "        return 1\n",
    "    return n*factorial(n-1)\n",
    "factorial(5)"
   ]
  },
  {
   "cell_type": "code",
   "execution_count": 17,
   "id": "568f2956",
   "metadata": {},
   "outputs": [
    {
     "name": "stdout",
     "output_type": "stream",
     "text": [
      "Enter Stringsachin\n"
     ]
    },
    {
     "data": {
      "text/plain": [
       "'Not Palindrome'"
      ]
     },
     "execution_count": 17,
     "metadata": {},
     "output_type": "execute_result"
    }
   ],
   "source": [
    "n=input('Enter String')\n",
    "def Palindrome(n):\n",
    "    if len(n)<=1:\n",
    "        return 'Palindrome'\n",
    "    if n[0]==n[-1]:#MadaM\n",
    "        return Palindrome(n[1:-1])\n",
    "    else:\n",
    "        return 'Not Palindrome'\n",
    "Palindrome(n)"
   ]
  },
  {
   "cell_type": "code",
   "execution_count": 21,
   "id": "a0d841af",
   "metadata": {},
   "outputs": [
    {
     "name": "stdout",
     "output_type": "stream",
     "text": [
      "Enter Number10\n"
     ]
    },
    {
     "data": {
      "text/plain": [
       "'Not Prime'"
      ]
     },
     "execution_count": 21,
     "metadata": {},
     "output_type": "execute_result"
    }
   ],
   "source": [
    "n=int(input('Enter Number'))\n",
    "def prime(n,i=2):\n",
    "    if i==n:\n",
    "        return 'Prime'\n",
    "    if n%i==0:\n",
    "        return 'Not Prime'\n",
    "    return prime(n,i+1)\n",
    "prime(n)   "
   ]
  },
  {
   "cell_type": "code",
   "execution_count": null,
   "id": "270ef7bd",
   "metadata": {},
   "outputs": [],
   "source": [
    "#Fabonicci Series using Recursion \n"
   ]
  },
  {
   "cell_type": "code",
   "execution_count": 4,
   "id": "94f917f2",
   "metadata": {},
   "outputs": [
    {
     "name": "stdout",
     "output_type": "stream",
     "text": [
      "Enter Total Terms To Print10\n",
      "0\n",
      "1\n",
      "1\n",
      "2\n",
      "3\n",
      "5\n",
      "8\n",
      "13\n",
      "21\n",
      "34\n"
     ]
    }
   ],
   "source": [
    "#l=[1,[2,3],4,5,[6,7]]\n",
    "def fabonicci(n):\n",
    "    if n==0:\n",
    "        return 0\n",
    "    elif n==1:\n",
    "        return 1\n",
    "    else:\n",
    "        return fabonicci(n-1)+fabonicci(n-2)\n",
    "n=int(input('Enter Total Terms To Print'))\n",
    "for i in range(n):\n",
    "    print(fabonicci(i))"
   ]
  },
  {
   "cell_type": "code",
   "execution_count": 10,
   "id": "fd9f0e3f",
   "metadata": {},
   "outputs": [
    {
     "name": "stdout",
     "output_type": "stream",
     "text": [
      "a--> 90\n",
      "b--> 20\n",
      "Sum--> 110\n",
      "outside a--> 90\n",
      "outside b--> 20\n",
      "outside c--> 100\n"
     ]
    }
   ],
   "source": [
    "a=10\n",
    "b=20\n",
    "def add():\n",
    "    global c,a\n",
    "    c=100\n",
    "    a=90\n",
    "    print('a-->',a)\n",
    "    print('b-->',b)\n",
    "    print('Sum-->',a+b)\n",
    "add()   \n",
    "print('outside a-->',a)\n",
    "print('outside b-->',b)\n",
    "print('outside c-->',c)\n"
   ]
  },
  {
   "cell_type": "code",
   "execution_count": 12,
   "id": "2fc5248c",
   "metadata": {},
   "outputs": [
    {
     "name": "stdout",
     "output_type": "stream",
     "text": [
      "Enter no of terms10\n"
     ]
    },
    {
     "data": {
      "text/plain": [
       "[0, 1, 1, 2, 3, 5, 8, 13, 21, 34]"
      ]
     },
     "execution_count": 12,
     "metadata": {},
     "output_type": "execute_result"
    }
   ],
   "source": [
    "def fabonicci(n):\n",
    "    if n==0:\n",
    "        return 0\n",
    "    elif n==1:\n",
    "        return 1\n",
    "    else:\n",
    "        return fabonicci(n-1)+fabonicci(n-2)\n",
    "[fabonicci(i) for i in range(int(input('Enter no of terms')))]"
   ]
  },
  {
   "cell_type": "code",
   "execution_count": 39,
   "id": "cf14efde",
   "metadata": {},
   "outputs": [
    {
     "name": "stdout",
     "output_type": "stream",
     "text": [
      "Enter Total No of Students5\n",
      "Enter name and marks in subjects separated by spaceA 10 20 30\n",
      "Enter name and marks in subjects separated by spaceB 40 50 60\n",
      "Enter name and marks in subjects separated by spaceC 25 85 90\n",
      "Enter name and marks in subjects separated by spaceD 14 25 17\n",
      "Enter name and marks in subjects separated by spaceE 14 52 66\n",
      "__________________________________\n",
      "| Name          |          Marks |\n",
      "__________________________________\n",
      "| A             |          20.00 |\n",
      "__________________________________\n",
      "| B             |          50.00 |\n",
      "__________________________________\n",
      "| C             |          66.67 |\n",
      "__________________________________\n",
      "| D             |          18.67 |\n",
      "__________________________________\n",
      "| E             |          44.00 |\n",
      "__________________________________\n"
     ]
    }
   ],
   "source": [
    "#a=lambda i:sum(i)/3\n",
    "def per(i,j,k):\n",
    "    return f'{sum([i,j,k])/3:.2f}'\n",
    "l=[\n",
    "input('Enter name and marks in subjects separated by space').split()\n",
    "for i in range(int(input('Enter Total No of Students')))\n",
    "]\n",
    "print('_'*34)\n",
    "print(f'| {\"Name\":<10}    |     {\"Marks\":>10} |' )\n",
    "print('_'*34)        \n",
    "for i in l:\n",
    "        print(f'| {i[0]:<10}    |     {per(int(i[1]),int(i[2]),int(i[3])):>10} |')\n",
    "        print('_'*34)"
   ]
  },
  {
   "cell_type": "code",
   "execution_count": 13,
   "id": "32fb4249",
   "metadata": {},
   "outputs": [
    {
     "data": {
      "text/plain": [
       "['sachin', '10', '20', '30']"
      ]
     },
     "execution_count": 13,
     "metadata": {},
     "output_type": "execute_result"
    }
   ],
   "source": []
  },
  {
   "cell_type": "code",
   "execution_count": 2,
   "id": "c2739525",
   "metadata": {},
   "outputs": [
    {
     "data": {
      "text/plain": [
       "{'__name__': '__main__',\n",
       " '__doc__': 'Automatically created module for IPython interactive environment',\n",
       " '__package__': None,\n",
       " '__loader__': None,\n",
       " '__spec__': None,\n",
       " '__builtin__': <module 'builtins' (built-in)>,\n",
       " '__builtins__': <module 'builtins' (built-in)>,\n",
       " '_ih': ['', 'global()', 'globals()'],\n",
       " '_oh': {},\n",
       " '_dh': [WindowsPath('E:/data science/Python_4_30PM')],\n",
       " 'In': ['', 'global()', 'globals()'],\n",
       " 'Out': {},\n",
       " 'get_ipython': <bound method InteractiveShell.get_ipython of <ipykernel.zmqshell.ZMQInteractiveShell object at 0x0000025F30B0F810>>,\n",
       " 'exit': <IPython.core.autocall.ZMQExitAutocall at 0x25f30b504d0>,\n",
       " 'quit': <IPython.core.autocall.ZMQExitAutocall at 0x25f30b504d0>,\n",
       " 'open': <function io.open(file, mode='r', buffering=-1, encoding=None, errors=None, newline=None, closefd=True, opener=None)>,\n",
       " '_': '',\n",
       " '__': '',\n",
       " '___': '',\n",
       " '_i': 'global()',\n",
       " '_ii': '',\n",
       " '_iii': '',\n",
       " '_i1': 'global()',\n",
       " '_i2': 'globals()'}"
      ]
     },
     "execution_count": 2,
     "metadata": {},
     "output_type": "execute_result"
    }
   ],
   "source": [
    "globals()"
   ]
  },
  {
   "cell_type": "code",
   "execution_count": 3,
   "id": "7c096a05",
   "metadata": {},
   "outputs": [
    {
     "name": "stdout",
     "output_type": "stream",
     "text": [
      "{'__name__': '__main__', '__doc__': 'Automatically created module for IPython interactive environment', '__package__': None, '__loader__': None, '__spec__': None, '__builtin__': <module 'builtins' (built-in)>, '__builtins__': <module 'builtins' (built-in)>, '_ih': ['', 'global()', 'globals()', 'a=10\\nb=100\\nprint(globals())'], '_oh': {2: {...}}, '_dh': [WindowsPath('E:/data science/Python_4_30PM')], 'In': ['', 'global()', 'globals()', 'a=10\\nb=100\\nprint(globals())'], 'Out': {2: {...}}, 'get_ipython': <bound method InteractiveShell.get_ipython of <ipykernel.zmqshell.ZMQInteractiveShell object at 0x0000025F30B0F810>>, 'exit': <IPython.core.autocall.ZMQExitAutocall object at 0x0000025F30B504D0>, 'quit': <IPython.core.autocall.ZMQExitAutocall object at 0x0000025F30B504D0>, 'open': <function open at 0x0000025F2EA83100>, '_': {...}, '__': '', '___': '', '_i': 'globals()', '_ii': 'global()', '_iii': '', '_i1': 'global()', '_i2': 'globals()', '_2': {...}, '_i3': 'a=10\\nb=100\\nprint(globals())', 'a': 10, 'b': 100}\n"
     ]
    }
   ],
   "source": [
    "a=10\n",
    "b=100\n",
    "print(globals())"
   ]
  },
  {
   "cell_type": "code",
   "execution_count": 6,
   "id": "1e274f14",
   "metadata": {},
   "outputs": [
    {
     "name": "stdout",
     "output_type": "stream",
     "text": [
      "Enter Percentage92\n"
     ]
    },
    {
     "data": {
      "text/plain": [
       "'A'"
      ]
     },
     "execution_count": 6,
     "metadata": {},
     "output_type": "execute_result"
    }
   ],
   "source": [
    "a=lambda per:'A' if per>90 else 'B' if per>80 else 'C' if per>70 else 'D' if per >60 else 'Fail'\n",
    "a(int(input('Enter Percentage')))"
   ]
  },
  {
   "cell_type": "code",
   "execution_count": null,
   "id": "cb419954",
   "metadata": {},
   "outputs": [],
   "source": []
  },
  {
   "cell_type": "code",
   "execution_count": null,
   "id": "5440800c",
   "metadata": {},
   "outputs": [],
   "source": []
  }
 ],
 "metadata": {
  "kernelspec": {
   "display_name": "Python 3 (ipykernel)",
   "language": "python",
   "name": "python3"
  },
  "language_info": {
   "codemirror_mode": {
    "name": "ipython",
    "version": 3
   },
   "file_extension": ".py",
   "mimetype": "text/x-python",
   "name": "python",
   "nbconvert_exporter": "python",
   "pygments_lexer": "ipython3",
   "version": "3.11.5"
  }
 },
 "nbformat": 4,
 "nbformat_minor": 5
}
