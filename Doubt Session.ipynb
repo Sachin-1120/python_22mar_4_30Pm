{
 "cells": [
  {
   "cell_type": "code",
   "execution_count": null,
   "id": "ef692517",
   "metadata": {},
   "outputs": [],
   "source": [
    "    5 5 5 5 5 5 5 5 5 \n",
    "    5 4 4 4 4 4 4 4 5 \n",
    "    5 4 3 3 3 3 3 4 5 \n",
    "    5 4 3 2 2 2 3 4 5 \n",
    "    5 4 3 2 1 2 3 4 5 \n",
    "    5 4 3 2 2 2 3 4 5 \n",
    "    5 4 3 3 3 3 3 4 5 \n",
    "    5 4 4 4 4 4 4 4 5 \n",
    "    5 5 5 5 5 5 5 5 5\n",
    "\n",
    "\n",
    "\n"
   ]
  },
  {
   "cell_type": "code",
   "execution_count": 59,
   "id": "d1c6c16c",
   "metadata": {},
   "outputs": [
    {
     "name": "stdout",
     "output_type": "stream",
     "text": [
      "Enter number5\n"
     ]
    }
   ],
   "source": [
    "n=int(input('Enter number'))\n",
    "l=[[0 for i in range(0,2*n-1)]for j in range(0,2*n-1)]"
   ]
  },
  {
   "cell_type": "code",
   "execution_count": 60,
   "id": "b4a0fe88",
   "metadata": {},
   "outputs": [
    {
     "data": {
      "text/plain": [
       "[[0, 0, 0, 0, 0, 0, 0, 0, 0],\n",
       " [0, 0, 0, 0, 0, 0, 0, 0, 0],\n",
       " [0, 0, 0, 0, 0, 0, 0, 0, 0],\n",
       " [0, 0, 0, 0, 0, 0, 0, 0, 0],\n",
       " [0, 0, 0, 0, 0, 0, 0, 0, 0],\n",
       " [0, 0, 0, 0, 0, 0, 0, 0, 0],\n",
       " [0, 0, 0, 0, 0, 0, 0, 0, 0],\n",
       " [0, 0, 0, 0, 0, 0, 0, 0, 0],\n",
       " [0, 0, 0, 0, 0, 0, 0, 0, 0]]"
      ]
     },
     "execution_count": 60,
     "metadata": {},
     "output_type": "execute_result"
    }
   ],
   "source": [
    "l"
   ]
  },
  {
   "cell_type": "code",
   "execution_count": 75,
   "id": "f537a337",
   "metadata": {},
   "outputs": [
    {
     "name": "stdout",
     "output_type": "stream",
     "text": [
      "Enter number8\n",
      "8 8 8 8 8 8 8 8 8 8 8 8 8 8 8\n",
      "8 7 7 7 7 7 7 7 7 7 7 7 7 7 8\n",
      "8 7 6 6 6 6 6 6 6 6 6 6 6 7 8\n",
      "8 7 6 5 5 5 5 5 5 5 5 5 6 7 8\n",
      "8 7 6 5 4 4 4 4 4 4 4 5 6 7 8\n",
      "8 7 6 5 4 3 3 3 3 3 4 5 6 7 8\n",
      "8 7 6 5 4 3 2 2 2 3 4 5 6 7 8\n",
      "8 7 6 5 4 3 2 1 2 3 4 5 6 7 8\n",
      "8 7 6 5 4 3 2 2 2 3 4 5 6 7 8\n",
      "8 7 6 5 4 3 3 3 3 3 4 5 6 7 8\n",
      "8 7 6 5 4 4 4 4 4 4 4 5 6 7 8\n",
      "8 7 6 5 5 5 5 5 5 5 5 5 6 7 8\n",
      "8 7 6 6 6 6 6 6 6 6 6 6 6 7 8\n",
      "8 7 7 7 7 7 7 7 7 7 7 7 7 7 8\n",
      "8 8 8 8 8 8 8 8 8 8 8 8 8 8 8\n"
     ]
    }
   ],
   "source": [
    "n=int(input('Enter number'))\n",
    "l=[[0 for i in range(0,2*n-1)]for j in range(0,2*n-1)]\n",
    "k=n\n",
    "for i in range(0,n):\n",
    "    for j in range(i,2*n-1-i):\n",
    "        l[i][j]=k\n",
    "        l[j][i]=k\n",
    "        l[2*n-2-i][j]=k\n",
    "        l[j][2*n-2-i]=k\n",
    "    k-=1\n",
    "for i in l:\n",
    "    print(*i)\n",
    "    "
   ]
  },
  {
   "cell_type": "code",
   "execution_count": 68,
   "id": "c3c4b8a6",
   "metadata": {
    "scrolled": true
   },
   "outputs": [
    {
     "data": {
      "text/plain": [
       "[[5, 5, 5, 5, 5, 5, 5, 5, 5],\n",
       " [5, 4, 4, 4, 4, 4, 4, 4, 5],\n",
       " [5, 4, 3, 3, 3, 3, 3, 4, 5],\n",
       " [5, 4, 3, 2, 2, 2, 3, 4, 5],\n",
       " [5, 4, 3, 2, 1, 2, 3, 4, 5],\n",
       " [5, 4, 3, 2, 2, 2, 3, 4, 5],\n",
       " [5, 4, 3, 3, 3, 3, 3, 4, 5],\n",
       " [5, 4, 4, 4, 4, 4, 4, 4, 5],\n",
       " [5, 5, 5, 5, 5, 5, 5, 5, 5]]"
      ]
     },
     "execution_count": 68,
     "metadata": {},
     "output_type": "execute_result"
    }
   ],
   "source": [
    "l\n"
   ]
  },
  {
   "cell_type": "code",
   "execution_count": 46,
   "id": "2d86d479",
   "metadata": {},
   "outputs": [
    {
     "ename": "SyntaxError",
     "evalue": "incomplete input (1243032593.py, line 5)",
     "output_type": "error",
     "traceback": [
      "\u001b[1;36m  Cell \u001b[1;32mIn[46], line 5\u001b[1;36m\u001b[0m\n\u001b[1;33m    \u001b[0m\n\u001b[1;37m    ^\u001b[0m\n\u001b[1;31mSyntaxError\u001b[0m\u001b[1;31m:\u001b[0m incomplete input\n"
     ]
    }
   ],
   "source": [
    "i=0\n",
    "while i<n:\n",
    "    j=0\n",
    "    while j<2*n-1:\n",
    "        "
   ]
  },
  {
   "cell_type": "code",
   "execution_count": 80,
   "id": "a1e7a76d",
   "metadata": {},
   "outputs": [
    {
     "data": {
      "text/plain": [
       "[1, 2, 3, 1, 2, 'sac', 1]"
      ]
     },
     "execution_count": 80,
     "metadata": {},
     "output_type": "execute_result"
    }
   ],
   "source": [
    "l=[[1,2,3],[1,2],'sac',1]\n",
    "[j for i in l for j in (i if isinstance(i,list) else [i])]"
   ]
  },
  {
   "cell_type": "code",
   "execution_count": 84,
   "id": "5a0dc24a",
   "metadata": {},
   "outputs": [
    {
     "data": {
      "text/plain": [
       "[1, 2, 3, 1, 2, 'sac', 1]"
      ]
     },
     "execution_count": 84,
     "metadata": {},
     "output_type": "execute_result"
    }
   ],
   "source": [
    "[j for i in l for j in (i if type(i)==list else [i])]"
   ]
  },
  {
   "cell_type": "code",
   "execution_count": null,
   "id": "9f5b23fe",
   "metadata": {},
   "outputs": [],
   "source": []
  }
 ],
 "metadata": {
  "kernelspec": {
   "display_name": "Python 3 (ipykernel)",
   "language": "python",
   "name": "python3"
  },
  "language_info": {
   "codemirror_mode": {
    "name": "ipython",
    "version": 3
   },
   "file_extension": ".py",
   "mimetype": "text/x-python",
   "name": "python",
   "nbconvert_exporter": "python",
   "pygments_lexer": "ipython3",
   "version": "3.11.5"
  }
 },
 "nbformat": 4,
 "nbformat_minor": 5
}
