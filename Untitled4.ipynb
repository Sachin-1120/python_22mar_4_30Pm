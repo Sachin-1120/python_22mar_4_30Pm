{
 "cells": [
  {
   "cell_type": "code",
   "execution_count": 19,
   "id": "5cd5fe61",
   "metadata": {},
   "outputs": [
    {
     "name": "stdout",
     "output_type": "stream",
     "text": [
      "270\n",
      "hello world\n"
     ]
    }
   ],
   "source": [
    "a =10\n",
    "def fun():\n",
    "    a= 30\n",
    "    def fun1():\n",
    "        a = 40\n",
    "        def fun2():\n",
    "            nonlocal a\n",
    "            a+=230\n",
    "            print(a)\n",
    "            print('hello world')\n",
    "           \n",
    "        fun2()\n",
    "    fun1()\n",
    "fun()"
   ]
  },
  {
   "cell_type": "code",
   "execution_count": 14,
   "id": "0b6959ae",
   "metadata": {},
   "outputs": [
    {
     "name": "stdout",
     "output_type": "stream",
     "text": [
      "40\n"
     ]
    }
   ],
   "source": [
    "a = 10\n",
    "def fun():\n",
    "    a = 20\n",
    "    def fun2():\n",
    "\n",
    "        nonlocal a\n",
    "\n",
    "        a +=20\n",
    "        print(a)\n",
    "    fun2()\n",
    "fun()"
   ]
  },
  {
   "cell_type": "code",
   "execution_count": 3,
   "id": "2992aec1",
   "metadata": {},
   "outputs": [
    {
     "data": {
      "text/plain": [
       "True"
      ]
     },
     "execution_count": 3,
     "metadata": {},
     "output_type": "execute_result"
    }
   ],
   "source": [
    "class A:\n",
    "    pass\n",
    "class B(A):\n",
    "    pass\n",
    "issubclass(B,A)"
   ]
  },
  {
   "cell_type": "code",
   "execution_count": 4,
   "id": "86375a5f",
   "metadata": {},
   "outputs": [
    {
     "data": {
      "text/plain": [
       "False"
      ]
     },
     "execution_count": 4,
     "metadata": {},
     "output_type": "execute_result"
    }
   ],
   "source": [
    "issubclass(float,int)"
   ]
  },
  {
   "cell_type": "code",
   "execution_count": null,
   "id": "37e18a70",
   "metadata": {},
   "outputs": [],
   "source": []
  }
 ],
 "metadata": {
  "kernelspec": {
   "display_name": "Python 3 (ipykernel)",
   "language": "python",
   "name": "python3"
  },
  "language_info": {
   "codemirror_mode": {
    "name": "ipython",
    "version": 3
   },
   "file_extension": ".py",
   "mimetype": "text/x-python",
   "name": "python",
   "nbconvert_exporter": "python",
   "pygments_lexer": "ipython3",
   "version": "3.11.5"
  }
 },
 "nbformat": 4,
 "nbformat_minor": 5
}
