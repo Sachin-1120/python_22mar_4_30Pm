{
 "cells": [
  {
   "cell_type": "code",
   "execution_count": 11,
   "id": "045f4ef6",
   "metadata": {},
   "outputs": [
    {
     "name": "stdout",
     "output_type": "stream",
     "text": [
      "Walking\n",
      "Eating\n",
      "Walking\n"
     ]
    }
   ],
   "source": [
    "class Person:\n",
    "    def walk(self):\n",
    "        print('Walking')\n",
    "    def eat(self):\n",
    "        print('Eating')\n",
    "p1=Person()\n",
    "p2=Person()\n",
    "Person.walk(p2)\n",
    "p1.eat()\n",
    "p3=''\n",
    "Person.walk('hello')"
   ]
  },
  {
   "cell_type": "code",
   "execution_count": 12,
   "id": "b67c26a7",
   "metadata": {},
   "outputs": [
    {
     "data": {
      "text/plain": [
       "False"
      ]
     },
     "execution_count": 12,
     "metadata": {},
     "output_type": "execute_result"
    }
   ],
   "source": [
    "isinstance(p3,Person)"
   ]
  },
  {
   "cell_type": "code",
   "execution_count": 17,
   "id": "8809f505",
   "metadata": {},
   "outputs": [
    {
     "data": {
      "text/plain": [
       "False"
      ]
     },
     "execution_count": 17,
     "metadata": {},
     "output_type": "execute_result"
    }
   ],
   "source": [
    "p3.__class__==Person"
   ]
  },
  {
   "cell_type": "code",
   "execution_count": 18,
   "id": "3a85b22a",
   "metadata": {},
   "outputs": [
    {
     "name": "stdout",
     "output_type": "stream",
     "text": [
      "Hello from  1326963810384\n",
      "Hello from  1326963813648\n"
     ]
    }
   ],
   "source": [
    "class A:\n",
    "    def __init__(self):\n",
    "            print('Hello from ',id(self))\n",
    "p1=A()\n",
    "p2=A()"
   ]
  },
  {
   "cell_type": "code",
   "execution_count": 19,
   "id": "8ec70cc5",
   "metadata": {},
   "outputs": [
    {
     "data": {
      "text/plain": [
       "1326963810384"
      ]
     },
     "execution_count": 19,
     "metadata": {},
     "output_type": "execute_result"
    }
   ],
   "source": [
    "id(p1)"
   ]
  },
  {
   "cell_type": "code",
   "execution_count": 20,
   "id": "ffcdacee",
   "metadata": {},
   "outputs": [
    {
     "data": {
      "text/plain": [
       "1326963813648"
      ]
     },
     "execution_count": 20,
     "metadata": {},
     "output_type": "execute_result"
    }
   ],
   "source": [
    "id(p2)"
   ]
  },
  {
   "cell_type": "code",
   "execution_count": 22,
   "id": "b0e50db1",
   "metadata": {},
   "outputs": [
    {
     "name": "stdout",
     "output_type": "stream",
     "text": [
      "Hello  Sachin\n",
      "Hello  Vansh\n"
     ]
    }
   ],
   "source": [
    "class A:\n",
    "    def __init__(self,name,number):\n",
    "        self.name=name\n",
    "        self.number=number\n",
    "        print('Hello ',self.name)\n",
    "p1=A('Sachin',7878012779)\n",
    "p2=A('Vansh',7878012779)\n"
   ]
  },
  {
   "cell_type": "code",
   "execution_count": 23,
   "id": "f910f234",
   "metadata": {},
   "outputs": [
    {
     "data": {
      "text/plain": [
       "'Sachin'"
      ]
     },
     "execution_count": 23,
     "metadata": {},
     "output_type": "execute_result"
    }
   ],
   "source": [
    "p1.name"
   ]
  },
  {
   "cell_type": "code",
   "execution_count": 24,
   "id": "44cbe253",
   "metadata": {},
   "outputs": [
    {
     "data": {
      "text/plain": [
       "7878012779"
      ]
     },
     "execution_count": 24,
     "metadata": {},
     "output_type": "execute_result"
    }
   ],
   "source": [
    "p2.number"
   ]
  },
  {
   "cell_type": "code",
   "execution_count": 25,
   "id": "f948ceef",
   "metadata": {},
   "outputs": [
    {
     "data": {
      "text/plain": [
       "'Vansh'"
      ]
     },
     "execution_count": 25,
     "metadata": {},
     "output_type": "execute_result"
    }
   ],
   "source": [
    "p2.name"
   ]
  },
  {
   "cell_type": "code",
   "execution_count": 26,
   "id": "f90afd5e",
   "metadata": {},
   "outputs": [],
   "source": [
    "p1.name='Arun'"
   ]
  },
  {
   "cell_type": "code",
   "execution_count": 27,
   "id": "6f69e0aa",
   "metadata": {},
   "outputs": [
    {
     "data": {
      "text/plain": [
       "'Vansh'"
      ]
     },
     "execution_count": 27,
     "metadata": {},
     "output_type": "execute_result"
    }
   ],
   "source": [
    "p2.name"
   ]
  },
  {
   "cell_type": "code",
   "execution_count": 28,
   "id": "d1b8eaf2",
   "metadata": {},
   "outputs": [
    {
     "data": {
      "text/plain": [
       "'Arun'"
      ]
     },
     "execution_count": 28,
     "metadata": {},
     "output_type": "execute_result"
    }
   ],
   "source": [
    "p1.name"
   ]
  },
  {
   "cell_type": "code",
   "execution_count": 29,
   "id": "af492334",
   "metadata": {},
   "outputs": [],
   "source": [
    "p1.city='Jaipur'"
   ]
  },
  {
   "cell_type": "code",
   "execution_count": 30,
   "id": "c481d6ae",
   "metadata": {},
   "outputs": [
    {
     "data": {
      "text/plain": [
       "'Vansh'"
      ]
     },
     "execution_count": 30,
     "metadata": {},
     "output_type": "execute_result"
    }
   ],
   "source": [
    "p2.name"
   ]
  },
  {
   "cell_type": "code",
   "execution_count": 31,
   "id": "e49f2470",
   "metadata": {},
   "outputs": [
    {
     "data": {
      "text/plain": [
       "mappingproxy({'__module__': '__main__',\n",
       "              '__init__': <function __main__.A.__init__(self, name, number)>,\n",
       "              '__dict__': <attribute '__dict__' of 'A' objects>,\n",
       "              '__weakref__': <attribute '__weakref__' of 'A' objects>,\n",
       "              '__doc__': None})"
      ]
     },
     "execution_count": 31,
     "metadata": {},
     "output_type": "execute_result"
    }
   ],
   "source": [
    "A.__dict__"
   ]
  },
  {
   "cell_type": "code",
   "execution_count": 32,
   "id": "094e6d78",
   "metadata": {},
   "outputs": [
    {
     "data": {
      "text/plain": [
       "{'name': 'Arun', 'number': 7878012779, 'city': 'Jaipur'}"
      ]
     },
     "execution_count": 32,
     "metadata": {},
     "output_type": "execute_result"
    }
   ],
   "source": [
    "p1.__dict__"
   ]
  },
  {
   "cell_type": "code",
   "execution_count": 34,
   "id": "d64d1589",
   "metadata": {},
   "outputs": [
    {
     "data": {
      "text/plain": [
       "{'name': 'Vansh', 'number': 7878012779}"
      ]
     },
     "execution_count": 34,
     "metadata": {},
     "output_type": "execute_result"
    }
   ],
   "source": [
    "p2.__dict__"
   ]
  },
  {
   "cell_type": "code",
   "execution_count": 49,
   "id": "d7f75d6f",
   "metadata": {},
   "outputs": [
    {
     "name": "stdout",
     "output_type": "stream",
     "text": [
      "Hello sachin\n",
      "bye sachin\n",
      "Hello sachin\n"
     ]
    }
   ],
   "source": [
    "class A:\n",
    "    def __init__(self):\n",
    "        self.name='sachin'\n",
    "        self.print_alpha()\n",
    "        self.get_alpha()\n",
    "        self.print_alpha()\n",
    "    def print_alpha(self=None):\n",
    "        print('Hello',self.name)\n",
    "    def get_alpha(self):\n",
    "        print('bye',self.name)\n",
    "        \n",
    "ob1=A()"
   ]
  },
  {
   "cell_type": "markdown",
   "id": "d01dfd24",
   "metadata": {},
   "source": []
  },
  {
   "cell_type": "code",
   "execution_count": 50,
   "id": "bd4b9db2",
   "metadata": {},
   "outputs": [
    {
     "name": "stdout",
     "output_type": "stream",
     "text": [
      "Welcome to grras solution\n"
     ]
    }
   ],
   "source": [
    "class A:\n",
    "    def hello(self):\n",
    "        print('Welcome to grras solution')\n",
    "ob1=A()\n",
    "ob1.hello()"
   ]
  },
  {
   "cell_type": "markdown",
   "id": "3e062469",
   "metadata": {},
   "source": [
    "`class method`"
   ]
  },
  {
   "cell_type": "code",
   "execution_count": 61,
   "id": "bb0d9bd7",
   "metadata": {},
   "outputs": [
    {
     "name": "stdout",
     "output_type": "stream",
     "text": [
      "1326926618272\n",
      "Hello sachin\n"
     ]
    },
    {
     "data": {
      "text/plain": [
       "'Varun'"
      ]
     },
     "execution_count": 61,
     "metadata": {},
     "output_type": "execute_result"
    }
   ],
   "source": [
    "class A:\n",
    "    name='sachin'\n",
    "    @classmethod\n",
    "    def print_alpha(cls):\n",
    "        print(id(cls))\n",
    "        print('Hello',cls.name)\n",
    "        cls.name='Varun'\n",
    "ob=A()\n",
    "ob.print_alpha()\n",
    "A.name"
   ]
  },
  {
   "cell_type": "code",
   "execution_count": 55,
   "id": "db903e93",
   "metadata": {},
   "outputs": [
    {
     "name": "stdout",
     "output_type": "stream",
     "text": [
      "1326926592896\n",
      "Hello sachin\n"
     ]
    }
   ],
   "source": [
    "ob.print_alpha()"
   ]
  },
  {
   "cell_type": "code",
   "execution_count": 53,
   "id": "706cb400",
   "metadata": {},
   "outputs": [
    {
     "data": {
      "text/plain": [
       "1326967835408"
      ]
     },
     "execution_count": 53,
     "metadata": {},
     "output_type": "execute_result"
    }
   ],
   "source": [
    "id(ob)"
   ]
  },
  {
   "cell_type": "code",
   "execution_count": 56,
   "id": "8e9167a7",
   "metadata": {},
   "outputs": [
    {
     "data": {
      "text/plain": [
       "1326926592896"
      ]
     },
     "execution_count": 56,
     "metadata": {},
     "output_type": "execute_result"
    }
   ],
   "source": [
    "id(A)"
   ]
  },
  {
   "cell_type": "code",
   "execution_count": 59,
   "id": "754e1269",
   "metadata": {},
   "outputs": [
    {
     "name": "stdout",
     "output_type": "stream",
     "text": [
      "name Sachin\n",
      "name Varun\n"
     ]
    },
    {
     "data": {
      "text/plain": [
       "'Sachin'"
      ]
     },
     "execution_count": 59,
     "metadata": {},
     "output_type": "execute_result"
    }
   ],
   "source": [
    "class A:\n",
    "    name='Sachin'\n",
    "    def print_alpha(self):\n",
    "        print('name',self.name)\n",
    "        self.name='Varun'\n",
    "    def get_alpha(self):\n",
    "        print('name',self.name)\n",
    "ob=A()\n",
    "ob.print_alpha()\n",
    "ob.get_alpha()\n",
    "A.name"
   ]
  },
  {
   "cell_type": "code",
   "execution_count": null,
   "id": "2e8b9fb9",
   "metadata": {},
   "outputs": [],
   "source": []
  },
  {
   "cell_type": "code",
   "execution_count": 68,
   "id": "00be65cb",
   "metadata": {},
   "outputs": [
    {
     "name": "stdout",
     "output_type": "stream",
     "text": [
      "name --> sachin\n",
      "age --> 23\n"
     ]
    }
   ],
   "source": [
    "class A:\n",
    "    def __init__(self,name,age):\n",
    "        self.name=name\n",
    "        self.age=age\n",
    "        self.print_alpha()\n",
    "    def print_alpha(self):\n",
    "        print('name -->',self.name)\n",
    "        print('age -->',self.age)\n",
    "    @classmethod\n",
    "    def gen(cls):\n",
    "        print('hello i am in class method ')\n",
    "        return cls('Varun',24)\n",
    "ob=A('sachin',23)"
   ]
  },
  {
   "cell_type": "code",
   "execution_count": 71,
   "id": "87efb4a6",
   "metadata": {},
   "outputs": [
    {
     "name": "stdout",
     "output_type": "stream",
     "text": [
      "hello i am in class method \n",
      "name --> Varun\n",
      "age --> 24\n"
     ]
    }
   ],
   "source": [
    "a=ob.gen()"
   ]
  },
  {
   "cell_type": "code",
   "execution_count": 72,
   "id": "e0975991",
   "metadata": {},
   "outputs": [
    {
     "data": {
      "text/plain": [
       "24"
      ]
     },
     "execution_count": 72,
     "metadata": {},
     "output_type": "execute_result"
    }
   ],
   "source": [
    "a.age"
   ]
  },
  {
   "cell_type": "code",
   "execution_count": 73,
   "id": "c6a3b8b1",
   "metadata": {},
   "outputs": [
    {
     "data": {
      "text/plain": [
       "'Varun'"
      ]
     },
     "execution_count": 73,
     "metadata": {},
     "output_type": "execute_result"
    }
   ],
   "source": [
    "a.name"
   ]
  },
  {
   "cell_type": "code",
   "execution_count": 29,
   "id": "2799d1a5",
   "metadata": {},
   "outputs": [
    {
     "name": "stdout",
     "output_type": "stream",
     "text": [
      "['__class__', '__delattr__', '__dict__', '__dir__', '__doc__', '__eq__', '__format__', '__ge__', '__getattribute__', '__getstate__', '__gt__', '__hash__', '__init__', '__init_subclass__', '__le__', '__lt__', '__module__', '__ne__', '__new__', '__reduce__', '__reduce_ex__', '__repr__', '__setattr__', '__sizeof__', '__str__', '__subclasshook__', '__weakref__', 'print_info']\n"
     ]
    }
   ],
   "source": [
    "#static Method \n",
    "class A:\n",
    "    @staticmethod\n",
    "    def print_info():\n",
    "        print('welcome to grras Solution')\n",
    "a=A()\n",
    "    \n",
    "print(dir(A))"
   ]
  },
  {
   "cell_type": "code",
   "execution_count": 10,
   "id": "5e5b96c7",
   "metadata": {},
   "outputs": [
    {
     "name": "stdout",
     "output_type": "stream",
     "text": [
      "welcome to grras Solution\n"
     ]
    }
   ],
   "source": [
    "A.print_info()"
   ]
  },
  {
   "cell_type": "code",
   "execution_count": 26,
   "id": "679e4193",
   "metadata": {},
   "outputs": [
    {
     "name": "stdout",
     "output_type": "stream",
     "text": [
      "In New Constructor \n",
      "In INIT Constructor \n"
     ]
    }
   ],
   "source": [
    "class B:\n",
    "    def print_alpha(self):\n",
    "        print('Hello')\n",
    "class A(B):\n",
    "    def __new__(cls):\n",
    "        print('In New Constructor ')\n",
    "        return super().__new__(cls)\n",
    "    def __init__(self):\n",
    "        print('In INIT Constructor ')\n",
    "ob=A()"
   ]
  },
  {
   "cell_type": "code",
   "execution_count": 22,
   "id": "5f8afc08",
   "metadata": {},
   "outputs": [
    {
     "name": "stdout",
     "output_type": "stream",
     "text": [
      "<__main__.A object at 0x000001405B5F00D0>\n"
     ]
    }
   ],
   "source": [
    "print(ob)"
   ]
  },
  {
   "cell_type": "code",
   "execution_count": 25,
   "id": "6e47706b",
   "metadata": {},
   "outputs": [
    {
     "name": "stdout",
     "output_type": "stream",
     "text": [
      "['__class__', '__delattr__', '__dict__', '__dir__', '__doc__', '__eq__', '__format__', '__ge__', '__getattribute__', '__getstate__', '__gt__', '__hash__', '__init__', '__init_subclass__', '__le__', '__lt__', '__module__', '__ne__', '__new__', '__reduce__', '__reduce_ex__', '__repr__', '__setattr__', '__sizeof__', '__str__', '__subclasshook__', '__weakref__', 'print_alpha']\n"
     ]
    }
   ],
   "source": [
    "print(dir(B))"
   ]
  },
  {
   "cell_type": "code",
   "execution_count": 27,
   "id": "a2367692",
   "metadata": {},
   "outputs": [
    {
     "name": "stdout",
     "output_type": "stream",
     "text": [
      "['__class__', '__delattr__', '__dict__', '__dir__', '__doc__', '__eq__', '__format__', '__ge__', '__getattribute__', '__getstate__', '__gt__', '__hash__', '__init__', '__init_subclass__', '__le__', '__lt__', '__module__', '__ne__', '__new__', '__reduce__', '__reduce_ex__', '__repr__', '__setattr__', '__sizeof__', '__str__', '__subclasshook__', '__weakref__']\n"
     ]
    }
   ],
   "source": [
    "class C:\n",
    "    pass\n",
    "print(dir(C))"
   ]
  },
  {
   "cell_type": "code",
   "execution_count": 28,
   "id": "ab872d5d",
   "metadata": {},
   "outputs": [
    {
     "name": "stdout",
     "output_type": "stream",
     "text": [
      "['__abs__', '__add__', '__and__', '__bool__', '__ceil__', '__class__', '__delattr__', '__dir__', '__divmod__', '__doc__', '__eq__', '__float__', '__floor__', '__floordiv__', '__format__', '__ge__', '__getattribute__', '__getnewargs__', '__getstate__', '__gt__', '__hash__', '__index__', '__init__', '__init_subclass__', '__int__', '__invert__', '__le__', '__lshift__', '__lt__', '__mod__', '__mul__', '__ne__', '__neg__', '__new__', '__or__', '__pos__', '__pow__', '__radd__', '__rand__', '__rdivmod__', '__reduce__', '__reduce_ex__', '__repr__', '__rfloordiv__', '__rlshift__', '__rmod__', '__rmul__', '__ror__', '__round__', '__rpow__', '__rrshift__', '__rshift__', '__rsub__', '__rtruediv__', '__rxor__', '__setattr__', '__sizeof__', '__str__', '__sub__', '__subclasshook__', '__truediv__', '__trunc__', '__xor__', 'as_integer_ratio', 'bit_count', 'bit_length', 'conjugate', 'denominator', 'from_bytes', 'imag', 'numerator', 'real', 'to_bytes']\n"
     ]
    }
   ],
   "source": [
    "print(dir(int))"
   ]
  },
  {
   "cell_type": "code",
   "execution_count": null,
   "id": "e85060ad",
   "metadata": {},
   "outputs": [],
   "source": [
    "5+3# __add__\n",
    "dir() # __dir__"
   ]
  },
  {
   "cell_type": "code",
   "execution_count": null,
   "id": "df407be4",
   "metadata": {},
   "outputs": [],
   "source": []
  },
  {
   "cell_type": "code",
   "execution_count": 30,
   "id": "4074e665",
   "metadata": {},
   "outputs": [
    {
     "name": "stdout",
     "output_type": "stream",
     "text": [
      "['__class__', '__delattr__', '__dir__', '__doc__', '__eq__', '__format__', '__ge__', '__getattribute__', '__getstate__', '__gt__', '__hash__', '__init__', '__init_subclass__', '__le__', '__lt__', '__ne__', '__new__', '__reduce__', '__reduce_ex__', '__repr__', '__setattr__', '__sizeof__', '__str__', '__subclasshook__']\n"
     ]
    }
   ],
   "source": [
    "#object  class \n",
    "print(dir(object))"
   ]
  },
  {
   "cell_type": "code",
   "execution_count": 34,
   "id": "27e62d04",
   "metadata": {},
   "outputs": [],
   "source": [
    "s='sachin'"
   ]
  },
  {
   "cell_type": "code",
   "execution_count": 36,
   "id": "831e2d62",
   "metadata": {},
   "outputs": [
    {
     "name": "stdout",
     "output_type": "stream",
     "text": [
      "Constructor Calling\n"
     ]
    }
   ],
   "source": [
    "class A:\n",
    "    def __init__(self):\n",
    "        print('Constructor Calling')\n",
    "    def __del__(self):\n",
    "        print('Deleting object ')\n",
    "        del self\n",
    "\n",
    "ob=A()\n"
   ]
  },
  {
   "cell_type": "code",
   "execution_count": 37,
   "id": "35c370f7",
   "metadata": {},
   "outputs": [
    {
     "name": "stdout",
     "output_type": "stream",
     "text": [
      "Deleting object \n"
     ]
    }
   ],
   "source": [
    "del ob"
   ]
  },
  {
   "cell_type": "code",
   "execution_count": 38,
   "id": "a19e2d28",
   "metadata": {},
   "outputs": [],
   "source": [
    "s='Sachin'\n"
   ]
  },
  {
   "cell_type": "code",
   "execution_count": 39,
   "id": "9a2e5caf",
   "metadata": {},
   "outputs": [
    {
     "data": {
      "text/plain": [
       "'Sachin'"
      ]
     },
     "execution_count": 39,
     "metadata": {},
     "output_type": "execute_result"
    }
   ],
   "source": [
    "s"
   ]
  },
  {
   "cell_type": "code",
   "execution_count": 40,
   "id": "14410b12",
   "metadata": {},
   "outputs": [
    {
     "name": "stdout",
     "output_type": "stream",
     "text": [
      "Sachin\n"
     ]
    }
   ],
   "source": [
    "print(s)"
   ]
  },
  {
   "cell_type": "code",
   "execution_count": 64,
   "id": "5297c4dc",
   "metadata": {},
   "outputs": [],
   "source": [
    "class A:\n",
    "    name='sachin'\n",
    "    def __str__(self):\n",
    "        return f'hello {self.name}'\n",
    "    def __repr__(self):\n",
    "        return f\"'hi {self.name}'\"\n",
    "\n",
    "ob=A()"
   ]
  },
  {
   "cell_type": "code",
   "execution_count": 65,
   "id": "363081a8",
   "metadata": {},
   "outputs": [
    {
     "name": "stdout",
     "output_type": "stream",
     "text": [
      "hello sachin\n"
     ]
    }
   ],
   "source": [
    "#it only works with standard ouput\n",
    "print(ob)"
   ]
  },
  {
   "cell_type": "code",
   "execution_count": 66,
   "id": "aaa0f49b",
   "metadata": {},
   "outputs": [
    {
     "data": {
      "text/plain": [
       "'hi sachin'"
      ]
     },
     "execution_count": 66,
     "metadata": {},
     "output_type": "execute_result"
    }
   ],
   "source": [
    "ob"
   ]
  },
  {
   "cell_type": "code",
   "execution_count": null,
   "id": "8935d635",
   "metadata": {},
   "outputs": [],
   "source": []
  }
 ],
 "metadata": {
  "kernelspec": {
   "display_name": "Python 3 (ipykernel)",
   "language": "python",
   "name": "python3"
  },
  "language_info": {
   "codemirror_mode": {
    "name": "ipython",
    "version": 3
   },
   "file_extension": ".py",
   "mimetype": "text/x-python",
   "name": "python",
   "nbconvert_exporter": "python",
   "pygments_lexer": "ipython3",
   "version": "3.11.5"
  }
 },
 "nbformat": 4,
 "nbformat_minor": 5
}
