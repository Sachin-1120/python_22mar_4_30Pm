{
 "cells": [
  {
   "cell_type": "code",
   "execution_count": 5,
   "id": "c84329b5",
   "metadata": {},
   "outputs": [
    {
     "data": {
      "text/plain": [
       "(['Sachin', 100], ['Ravi', 200], ['Simran', 300])"
      ]
     },
     "execution_count": 5,
     "metadata": {},
     "output_type": "execute_result"
    }
   ],
   "source": [
    "t=(['Sachin',100],['Ravi',200])\n",
    "t=list(t)\n",
    "t.append(['Simran',300])\n",
    "tuple(t)\n"
   ]
  },
  {
   "cell_type": "code",
   "execution_count": 9,
   "id": "3fcb33b5",
   "metadata": {},
   "outputs": [
    {
     "ename": "TypeError",
     "evalue": "'NoneType' object is not iterable",
     "output_type": "error",
     "traceback": [
      "\u001b[1;31m---------------------------------------------------------------------------\u001b[0m",
      "\u001b[1;31mTypeError\u001b[0m                                 Traceback (most recent call last)",
      "Cell \u001b[1;32mIn[9], line 2\u001b[0m\n\u001b[0;32m      1\u001b[0m t\u001b[38;5;241m=\u001b[39m([\u001b[38;5;124m'\u001b[39m\u001b[38;5;124mSachin\u001b[39m\u001b[38;5;124m'\u001b[39m,\u001b[38;5;241m100\u001b[39m],[\u001b[38;5;124m'\u001b[39m\u001b[38;5;124mRavi\u001b[39m\u001b[38;5;124m'\u001b[39m,\u001b[38;5;241m200\u001b[39m])\n\u001b[1;32m----> 2\u001b[0m \u001b[38;5;28mprint\u001b[39m(\u001b[38;5;28mtuple\u001b[39m(\u001b[38;5;28mlist\u001b[39m(t)\u001b[38;5;241m.\u001b[39mappend([\u001b[38;5;124m'\u001b[39m\u001b[38;5;124mSimran\u001b[39m\u001b[38;5;124m'\u001b[39m,\u001b[38;5;241m300\u001b[39m])))\n",
      "\u001b[1;31mTypeError\u001b[0m: 'NoneType' object is not iterable"
     ]
    }
   ],
   "source": [
    "t=(['Sachin',100],['Ravi',200])\n",
    "print(tuple(list(t).append(['Simran',300])))"
   ]
  },
  {
   "cell_type": "code",
   "execution_count": 10,
   "id": "714f30a2",
   "metadata": {},
   "outputs": [
    {
     "data": {
      "text/plain": [
       "dict"
      ]
     },
     "execution_count": 10,
     "metadata": {},
     "output_type": "execute_result"
    }
   ],
   "source": [
    "d={}\n",
    "type(d)"
   ]
  },
  {
   "cell_type": "code",
   "execution_count": 11,
   "id": "3d0d5589",
   "metadata": {},
   "outputs": [],
   "source": [
    "d={'a':10,5:15,'C':[1,2,3]}"
   ]
  },
  {
   "cell_type": "code",
   "execution_count": 13,
   "id": "43e14e06",
   "metadata": {},
   "outputs": [
    {
     "data": {
      "text/plain": [
       "dict"
      ]
     },
     "execution_count": 13,
     "metadata": {},
     "output_type": "execute_result"
    }
   ],
   "source": [
    "type(d)"
   ]
  },
  {
   "cell_type": "code",
   "execution_count": 14,
   "id": "bb6e6894",
   "metadata": {},
   "outputs": [],
   "source": [
    "d={'a':5,'a':10}"
   ]
  },
  {
   "cell_type": "code",
   "execution_count": 15,
   "id": "7bff5204",
   "metadata": {},
   "outputs": [
    {
     "data": {
      "text/plain": [
       "{'a': 10}"
      ]
     },
     "execution_count": 15,
     "metadata": {},
     "output_type": "execute_result"
    }
   ],
   "source": [
    "d"
   ]
  },
  {
   "cell_type": "code",
   "execution_count": 18,
   "id": "b346fc48",
   "metadata": {},
   "outputs": [],
   "source": [
    "d={'a':10,5:15,'C':[1,2,3]}"
   ]
  },
  {
   "cell_type": "code",
   "execution_count": 19,
   "id": "fd8319d1",
   "metadata": {},
   "outputs": [
    {
     "data": {
      "text/plain": [
       "10"
      ]
     },
     "execution_count": 19,
     "metadata": {},
     "output_type": "execute_result"
    }
   ],
   "source": [
    "d['a']"
   ]
  },
  {
   "cell_type": "code",
   "execution_count": 20,
   "id": "9c027592",
   "metadata": {},
   "outputs": [
    {
     "data": {
      "text/plain": [
       "15"
      ]
     },
     "execution_count": 20,
     "metadata": {},
     "output_type": "execute_result"
    }
   ],
   "source": [
    "d[5]"
   ]
  },
  {
   "cell_type": "code",
   "execution_count": 22,
   "id": "e675394f",
   "metadata": {},
   "outputs": [
    {
     "data": {
      "text/plain": [
       "[1, 2]"
      ]
     },
     "execution_count": 22,
     "metadata": {},
     "output_type": "execute_result"
    }
   ],
   "source": [
    "d['C'][:2]"
   ]
  },
  {
   "cell_type": "code",
   "execution_count": 26,
   "id": "d47a6d4e",
   "metadata": {},
   "outputs": [
    {
     "name": "stdout",
     "output_type": "stream",
     "text": [
      "10\n"
     ]
    }
   ],
   "source": [
    "print(d.get('a'))"
   ]
  },
  {
   "cell_type": "code",
   "execution_count": 28,
   "id": "c171f7aa",
   "metadata": {},
   "outputs": [
    {
     "name": "stdout",
     "output_type": "stream",
     "text": [
      "['__class__', '__class_getitem__', '__contains__', '__delattr__', '__delitem__', '__dir__', '__doc__', '__eq__', '__format__', '__ge__', '__getattribute__', '__getitem__', '__getstate__', '__gt__', '__hash__', '__init__', '__init_subclass__', '__ior__', '__iter__', '__le__', '__len__', '__lt__', '__ne__', '__new__', '__or__', '__reduce__', '__reduce_ex__', '__repr__', '__reversed__', '__ror__', '__setattr__', '__setitem__', '__sizeof__', '__str__', '__subclasshook__', 'clear', 'copy', 'fromkeys', 'get', 'items', 'keys', 'pop', 'popitem', 'setdefault', 'update', 'values']\n"
     ]
    }
   ],
   "source": [
    "print(dir(dict))"
   ]
  },
  {
   "cell_type": "code",
   "execution_count": 29,
   "id": "66ee7d0c",
   "metadata": {},
   "outputs": [
    {
     "data": {
      "text/plain": [
       "{'a': 10, 5: 15, 'C': [1, 2, 3]}"
      ]
     },
     "execution_count": 29,
     "metadata": {},
     "output_type": "execute_result"
    }
   ],
   "source": [
    "d"
   ]
  },
  {
   "cell_type": "code",
   "execution_count": 31,
   "id": "14e01113",
   "metadata": {},
   "outputs": [],
   "source": [
    "a=d.items()\n"
   ]
  },
  {
   "cell_type": "code",
   "execution_count": 34,
   "id": "568e66e6",
   "metadata": {},
   "outputs": [],
   "source": [
    "a=list(a)"
   ]
  },
  {
   "cell_type": "code",
   "execution_count": 35,
   "id": "fb71d784",
   "metadata": {},
   "outputs": [
    {
     "data": {
      "text/plain": [
       "[('a', 10), (5, 15), ('C', [1, 2, 3])]"
      ]
     },
     "execution_count": 35,
     "metadata": {},
     "output_type": "execute_result"
    }
   ],
   "source": [
    "a"
   ]
  },
  {
   "cell_type": "code",
   "execution_count": 36,
   "id": "d66aca12",
   "metadata": {},
   "outputs": [
    {
     "data": {
      "text/plain": [
       "'a'"
      ]
     },
     "execution_count": 36,
     "metadata": {},
     "output_type": "execute_result"
    }
   ],
   "source": [
    "a[0][0]"
   ]
  },
  {
   "cell_type": "code",
   "execution_count": 37,
   "id": "298ef646",
   "metadata": {},
   "outputs": [
    {
     "data": {
      "text/plain": [
       "dict_keys(['a', 5, 'C'])"
      ]
     },
     "execution_count": 37,
     "metadata": {},
     "output_type": "execute_result"
    }
   ],
   "source": [
    "d.keys()"
   ]
  },
  {
   "cell_type": "code",
   "execution_count": 38,
   "id": "ae1454cb",
   "metadata": {},
   "outputs": [
    {
     "data": {
      "text/plain": [
       "dict_values([10, 15, [1, 2, 3]])"
      ]
     },
     "execution_count": 38,
     "metadata": {},
     "output_type": "execute_result"
    }
   ],
   "source": [
    "d.values()"
   ]
  },
  {
   "cell_type": "code",
   "execution_count": 39,
   "id": "fa4e577f",
   "metadata": {},
   "outputs": [],
   "source": [
    "d={\n",
    "    'Rohit':{\n",
    "             'Run':500,\n",
    "             'Role':'Batsman',\n",
    "             '4':50,\n",
    "             '6':30,\n",
    "             'Best Score':70\n",
    "                    },\n",
    "    'Virat':{\n",
    "            'Run':600,\n",
    "            'Role':'Batsman',\n",
    "            '4':50,\n",
    "            '6':30,\n",
    "            'Best Score':70\n",
    "                }\n",
    "}"
   ]
  },
  {
   "cell_type": "code",
   "execution_count": 40,
   "id": "543a5244",
   "metadata": {},
   "outputs": [
    {
     "data": {
      "text/plain": [
       "{'Rohit': {'Run': 500, 'Role': 'Batsman', '4': 50, '6': 30, 'Best Score': 70},\n",
       " 'Virat': {'Run': 600, 'Role': 'Batsman', '4': 50, '6': 30, 'Best Score': 70}}"
      ]
     },
     "execution_count": 40,
     "metadata": {},
     "output_type": "execute_result"
    }
   ],
   "source": [
    "d"
   ]
  },
  {
   "cell_type": "code",
   "execution_count": 44,
   "id": "7b368f06",
   "metadata": {},
   "outputs": [
    {
     "data": {
      "text/plain": [
       "30"
      ]
     },
     "execution_count": 44,
     "metadata": {},
     "output_type": "execute_result"
    }
   ],
   "source": [
    "d['Rohit']['6']"
   ]
  },
  {
   "cell_type": "code",
   "execution_count": 45,
   "id": "62d9e5f4",
   "metadata": {},
   "outputs": [
    {
     "data": {
      "text/plain": [
       "{'Run': 600, 'Role': 'Batsman', '4': 50, '6': 30, 'Best Score': 70}"
      ]
     },
     "execution_count": 45,
     "metadata": {},
     "output_type": "execute_result"
    }
   ],
   "source": [
    "d['Virat']"
   ]
  },
  {
   "cell_type": "code",
   "execution_count": 46,
   "id": "155011fd",
   "metadata": {},
   "outputs": [],
   "source": [
    "d={\n",
    "  \"coord\": {\n",
    "    \"lon\": 10.99,\n",
    "    \"lat\": 44.34\n",
    "  },\n",
    "  \"weather\": [\n",
    "    {\n",
    "      \"id\": 501,\n",
    "      \"main\": \"Rain\",\n",
    "      \"description\": \"moderate rain\",\n",
    "      \"icon\": \"10d\"\n",
    "    }\n",
    "  ],\n",
    "  \"base\": \"stations\",\n",
    "  \"main\": {\n",
    "    \"temp\": 298.48,\n",
    "    \"feels_like\": 298.74,\n",
    "    \"temp_min\": 297.56,\n",
    "    \"temp_max\": 300.05,\n",
    "    \"pressure\": 1015,\n",
    "    \"humidity\": 64,\n",
    "    \"sea_level\": 1015,\n",
    "    \"grnd_level\": 933\n",
    "  },\n",
    "  \"visibility\": 10000,\n",
    "  \"wind\": {\n",
    "    \"speed\": 0.62,\n",
    "    \"deg\": 349,\n",
    "    \"gust\": 1.18\n",
    "  },\n",
    "  \"rain\": {\n",
    "    \"1h\": 3.16\n",
    "  },\n",
    "  \"clouds\": {\n",
    "    \"all\": 100\n",
    "  },\n",
    "  \"dt\": 1661870592,\n",
    "  \"sys\": {\n",
    "    \"type\": 2,\n",
    "    \"id\": 2075663,\n",
    "    \"country\": \"IT\",\n",
    "    \"sunrise\": 1661834187,\n",
    "    \"sunset\": 1661882248\n",
    "  },\n",
    "  \"timezone\": 7200,\n",
    "  \"id\": 3163858,\n",
    "  \"name\": \"Zocca\",\n",
    "  \"cod\": 200\n",
    "}  \n",
    "\n",
    "\n",
    "#Country , Timezone ,Pressure ,Description , Temp, Wind speed"
   ]
  },
  {
   "cell_type": "code",
   "execution_count": 62,
   "id": "11a45a4b",
   "metadata": {},
   "outputs": [
    {
     "name": "stdout",
     "output_type": "stream",
     "text": [
      "Country--> IT \n",
      " timezone--> 7200 \n",
      " Description--> moderate rain\n"
     ]
    }
   ],
   "source": [
    "print('Country-->',d['sys']['country'],'\\n','timezone-->',d['timezone'],'\\n','Description-->',d['weather'][0]['description'])"
   ]
  },
  {
   "cell_type": "code",
   "execution_count": 60,
   "id": "1f727814",
   "metadata": {},
   "outputs": [
    {
     "data": {
      "text/plain": [
       "'moderate rain'"
      ]
     },
     "execution_count": 60,
     "metadata": {},
     "output_type": "execute_result"
    }
   ],
   "source": [
    "\n"
   ]
  },
  {
   "cell_type": "code",
   "execution_count": 63,
   "id": "f36fd2ce",
   "metadata": {},
   "outputs": [
    {
     "data": {
      "text/plain": [
       "{'coord': {'lon': 10.99, 'lat': 44.34},\n",
       " 'weather': [{'id': 501,\n",
       "   'main': 'Rain',\n",
       "   'description': 'moderate rain',\n",
       "   'icon': '10d'}],\n",
       " 'base': 'stations',\n",
       " 'main': {'temp': 298.48,\n",
       "  'feels_like': 298.74,\n",
       "  'temp_min': 297.56,\n",
       "  'temp_max': 300.05,\n",
       "  'pressure': 1015,\n",
       "  'humidity': 64,\n",
       "  'sea_level': 1015,\n",
       "  'grnd_level': 933},\n",
       " 'visibility': 10000,\n",
       " 'wind': {'speed': 0.62, 'deg': 349, 'gust': 1.18},\n",
       " 'rain': {'1h': 3.16},\n",
       " 'clouds': {'all': 100},\n",
       " 'dt': 1661870592,\n",
       " 'sys': {'type': 2,\n",
       "  'id': 2075663,\n",
       "  'country': 'IT',\n",
       "  'sunrise': 1661834187,\n",
       "  'sunset': 1661882248},\n",
       " 'timezone': 7200,\n",
       " 'id': 3163858,\n",
       " 'name': 'Zocca',\n",
       " 'cod': 200}"
      ]
     },
     "execution_count": 63,
     "metadata": {},
     "output_type": "execute_result"
    }
   ],
   "source": [
    "d"
   ]
  },
  {
   "cell_type": "code",
   "execution_count": null,
   "id": "3ba6d9f5",
   "metadata": {},
   "outputs": [],
   "source": []
  },
  {
   "cell_type": "code",
   "execution_count": null,
   "id": "486a4293",
   "metadata": {},
   "outputs": [],
   "source": []
  },
  {
   "cell_type": "code",
   "execution_count": null,
   "id": "6172acaf",
   "metadata": {},
   "outputs": [],
   "source": []
  },
  {
   "cell_type": "code",
   "execution_count": null,
   "id": "c7ca2477",
   "metadata": {},
   "outputs": [],
   "source": []
  },
  {
   "cell_type": "code",
   "execution_count": null,
   "id": "947ed04d",
   "metadata": {},
   "outputs": [],
   "source": []
  },
  {
   "cell_type": "code",
   "execution_count": null,
   "id": "d7c54d68",
   "metadata": {},
   "outputs": [],
   "source": []
  },
  {
   "cell_type": "code",
   "execution_count": null,
   "id": "7d14ac87",
   "metadata": {},
   "outputs": [],
   "source": []
  },
  {
   "cell_type": "code",
   "execution_count": null,
   "id": "b49763f3",
   "metadata": {},
   "outputs": [],
   "source": []
  },
  {
   "cell_type": "code",
   "execution_count": 1,
   "id": "d68ff233",
   "metadata": {},
   "outputs": [],
   "source": [
    "d={'a':100,'b':80,'c':70}"
   ]
  },
  {
   "cell_type": "code",
   "execution_count": 2,
   "id": "bd1d042c",
   "metadata": {},
   "outputs": [
    {
     "data": {
      "text/plain": [
       "100"
      ]
     },
     "execution_count": 2,
     "metadata": {},
     "output_type": "execute_result"
    }
   ],
   "source": [
    "d['a']"
   ]
  },
  {
   "cell_type": "code",
   "execution_count": 13,
   "id": "d1945e28",
   "metadata": {},
   "outputs": [
    {
     "data": {
      "text/plain": [
       "dict_items([('a', 100), ('b', 80), ('c', 70)])"
      ]
     },
     "execution_count": 13,
     "metadata": {},
     "output_type": "execute_result"
    }
   ],
   "source": [
    "d.items()"
   ]
  },
  {
   "cell_type": "code",
   "execution_count": 6,
   "id": "9f450901",
   "metadata": {},
   "outputs": [],
   "source": [
    "a=list(a)"
   ]
  },
  {
   "cell_type": "code",
   "execution_count": 7,
   "id": "c1db0c5c",
   "metadata": {},
   "outputs": [
    {
     "data": {
      "text/plain": [
       "[('a', 100), ('b', 80), ('c', 70)]"
      ]
     },
     "execution_count": 7,
     "metadata": {},
     "output_type": "execute_result"
    }
   ],
   "source": [
    "a"
   ]
  },
  {
   "cell_type": "code",
   "execution_count": null,
   "id": "cb3cff56",
   "metadata": {},
   "outputs": [],
   "source": []
  },
  {
   "cell_type": "code",
   "execution_count": null,
   "id": "d8da5021",
   "metadata": {},
   "outputs": [],
   "source": [
    "zip()"
   ]
  },
  {
   "cell_type": "code",
   "execution_count": 12,
   "id": "62cc9876",
   "metadata": {},
   "outputs": [
    {
     "data": {
      "text/plain": [
       "{'a': 10, 'b': 11, 'c': 12}"
      ]
     },
     "execution_count": 12,
     "metadata": {},
     "output_type": "execute_result"
    }
   ],
   "source": [
    "x1=['a','b','c']\n",
    "x2=[10,11,12]\n",
    "dict(zip(x1,x2))"
   ]
  },
  {
   "cell_type": "code",
   "execution_count": 16,
   "id": "0abe322a",
   "metadata": {},
   "outputs": [
    {
     "data": {
      "text/plain": [
       "{'a': 10, 'b': 11, 'c': 12}"
      ]
     },
     "execution_count": 16,
     "metadata": {},
     "output_type": "execute_result"
    }
   ],
   "source": [
    "dict(zip(x1,x2))"
   ]
  },
  {
   "cell_type": "code",
   "execution_count": null,
   "id": "24b876d5",
   "metadata": {},
   "outputs": [],
   "source": []
  },
  {
   "cell_type": "code",
   "execution_count": null,
   "id": "318d09dd",
   "metadata": {},
   "outputs": [],
   "source": []
  },
  {
   "cell_type": "code",
   "execution_count": null,
   "id": "a10767cb",
   "metadata": {},
   "outputs": [],
   "source": []
  },
  {
   "cell_type": "code",
   "execution_count": 1,
   "id": "b4f5ac3d",
   "metadata": {},
   "outputs": [],
   "source": [
    "d={'a':1,'b':2}"
   ]
  },
  {
   "cell_type": "code",
   "execution_count": 2,
   "id": "f2159a2f",
   "metadata": {},
   "outputs": [],
   "source": [
    "d['c']=3"
   ]
  },
  {
   "cell_type": "code",
   "execution_count": 3,
   "id": "e7bf5cd1",
   "metadata": {},
   "outputs": [
    {
     "data": {
      "text/plain": [
       "{'a': 1, 'b': 2, 'c': 3}"
      ]
     },
     "execution_count": 3,
     "metadata": {},
     "output_type": "execute_result"
    }
   ],
   "source": [
    "d"
   ]
  },
  {
   "cell_type": "code",
   "execution_count": 8,
   "id": "1b898ff3",
   "metadata": {},
   "outputs": [
    {
     "name": "stdout",
     "output_type": "stream",
     "text": [
      "None\n"
     ]
    }
   ],
   "source": [
    "print(d.update({'a':4,'d':7}))"
   ]
  },
  {
   "cell_type": "code",
   "execution_count": 6,
   "id": "adfdfb97",
   "metadata": {},
   "outputs": [
    {
     "data": {
      "text/plain": [
       "{'a': 4, 'b': 2, 'c': 3, 'd': 7}"
      ]
     },
     "execution_count": 6,
     "metadata": {},
     "output_type": "execute_result"
    }
   ],
   "source": [
    "d"
   ]
  },
  {
   "cell_type": "code",
   "execution_count": 7,
   "id": "845bb9e5",
   "metadata": {},
   "outputs": [
    {
     "data": {
      "text/plain": [
       "2"
      ]
     },
     "execution_count": 7,
     "metadata": {},
     "output_type": "execute_result"
    }
   ],
   "source": [
    "l=[1,3,2]\n",
    "l.pop()"
   ]
  },
  {
   "cell_type": "code",
   "execution_count": 9,
   "id": "312a1c8f",
   "metadata": {},
   "outputs": [
    {
     "data": {
      "text/plain": [
       "[1, 2, 3, 4, 5]"
      ]
     },
     "execution_count": 9,
     "metadata": {},
     "output_type": "execute_result"
    }
   ],
   "source": [
    "list((1,2,3,4,5))"
   ]
  },
  {
   "cell_type": "code",
   "execution_count": 11,
   "id": "a322369f",
   "metadata": {},
   "outputs": [
    {
     "name": "stdout",
     "output_type": "stream",
     "text": [
      "None\n"
     ]
    }
   ],
   "source": [
    "print(l.append(5))"
   ]
  },
  {
   "cell_type": "code",
   "execution_count": null,
   "id": "680ae94c",
   "metadata": {},
   "outputs": [],
   "source": [
    "d.clear()"
   ]
  },
  {
   "cell_type": "code",
   "execution_count": 12,
   "id": "7e3e938a",
   "metadata": {},
   "outputs": [
    {
     "data": {
      "text/plain": [
       "{'a': 4, 'b': 2, 'c': 3, 'd': 7}"
      ]
     },
     "execution_count": 12,
     "metadata": {},
     "output_type": "execute_result"
    }
   ],
   "source": [
    "d"
   ]
  },
  {
   "cell_type": "code",
   "execution_count": 13,
   "id": "8e939836",
   "metadata": {},
   "outputs": [],
   "source": [
    "del d['d']"
   ]
  },
  {
   "cell_type": "code",
   "execution_count": 16,
   "id": "460b5a65",
   "metadata": {},
   "outputs": [
    {
     "data": {
      "text/plain": [
       "{'a': 4, 'b': 2, 'c': 3}"
      ]
     },
     "execution_count": 16,
     "metadata": {},
     "output_type": "execute_result"
    }
   ],
   "source": [
    "d"
   ]
  },
  {
   "cell_type": "code",
   "execution_count": 17,
   "id": "0cac1505",
   "metadata": {},
   "outputs": [
    {
     "data": {
      "text/plain": [
       "3"
      ]
     },
     "execution_count": 17,
     "metadata": {},
     "output_type": "execute_result"
    }
   ],
   "source": [
    "d.pop('c')"
   ]
  },
  {
   "cell_type": "code",
   "execution_count": 19,
   "id": "aa48eb20",
   "metadata": {},
   "outputs": [
    {
     "data": {
      "text/plain": [
       "{'a': 4, 'b': 2}"
      ]
     },
     "execution_count": 19,
     "metadata": {},
     "output_type": "execute_result"
    }
   ],
   "source": [
    "d"
   ]
  },
  {
   "cell_type": "code",
   "execution_count": 23,
   "id": "1c20a40b",
   "metadata": {},
   "outputs": [
    {
     "data": {
      "text/plain": [
       "('a', 4)"
      ]
     },
     "execution_count": 23,
     "metadata": {},
     "output_type": "execute_result"
    }
   ],
   "source": [
    "d.popitem()"
   ]
  },
  {
   "cell_type": "code",
   "execution_count": 24,
   "id": "8e3f69a3",
   "metadata": {},
   "outputs": [
    {
     "data": {
      "text/plain": [
       "{}"
      ]
     },
     "execution_count": 24,
     "metadata": {},
     "output_type": "execute_result"
    }
   ],
   "source": [
    "d"
   ]
  },
  {
   "cell_type": "code",
   "execution_count": 25,
   "id": "2b5fcaae",
   "metadata": {},
   "outputs": [],
   "source": []
  },
  {
   "cell_type": "code",
   "execution_count": 26,
   "id": "b1f74bd9",
   "metadata": {},
   "outputs": [
    {
     "data": {
      "text/plain": [
       "{'A01': 10, 'A02': 10, 'A03': 10}"
      ]
     },
     "execution_count": 26,
     "metadata": {},
     "output_type": "execute_result"
    }
   ],
   "source": [
    "d={}\n",
    "l=['A01','A02','A03']\n",
    "d.fromkeys(l,10)"
   ]
  },
  {
   "cell_type": "code",
   "execution_count": 31,
   "id": "a27f93a6",
   "metadata": {},
   "outputs": [
    {
     "data": {
      "text/plain": [
       "{'a04': [0, 1, 1],\n",
       " 'a05': [0, 1, 1],\n",
       " 'A01': [0, 0, 0],\n",
       " 'A02': [0, 0, 0],\n",
       " 'A03': [0, 0, 0]}"
      ]
     },
     "execution_count": 31,
     "metadata": {},
     "output_type": "execute_result"
    }
   ],
   "source": [
    "d={'a04':[0,1,1],'a05':[0,1,1]}\n",
    "l=['A01','A02','A03']\n",
    "d.update(d.fromkeys(l,[0,0,0]))\n",
    "d"
   ]
  },
  {
   "cell_type": "code",
   "execution_count": 29,
   "id": "58d2d62b",
   "metadata": {},
   "outputs": [
    {
     "data": {
      "text/plain": [
       "[1, 2, 3]"
      ]
     },
     "execution_count": 29,
     "metadata": {},
     "output_type": "execute_result"
    }
   ],
   "source": [
    "t=(1,2,3)\n",
    "list(t)"
   ]
  },
  {
   "cell_type": "code",
   "execution_count": 33,
   "id": "dfda162b",
   "metadata": {},
   "outputs": [
    {
     "data": {
      "text/plain": [
       "{1: 2, 3: 4, 5: 10, 6: 10, 7: 10, 8: 10}"
      ]
     },
     "execution_count": 33,
     "metadata": {},
     "output_type": "execute_result"
    }
   ],
   "source": [
    "d={1:2,3:4}\n",
    "l=[5,6]\n",
    "l.extend([7,8])\n",
    "d.update(d.fromkeys(l,10))\n",
    "d"
   ]
  },
  {
   "cell_type": "code",
   "execution_count": 34,
   "id": "f805b304",
   "metadata": {},
   "outputs": [
    {
     "data": {
      "text/plain": [
       "{'A01': [10, 1, 5], 'A02': [10, 1, 5], 'A03': [10, 1, 5]}"
      ]
     },
     "execution_count": 34,
     "metadata": {},
     "output_type": "execute_result"
    }
   ],
   "source": [
    "d={}\n",
    "l=['A01','A02','A03']\n",
    "d.fromkeys(l,[10,1,5])"
   ]
  },
  {
   "cell_type": "code",
   "execution_count": 41,
   "id": "f4039bd1",
   "metadata": {},
   "outputs": [
    {
     "data": {
      "text/plain": [
       "{'model': 'Af', 'year': 2015, 'Type': 'SUV', 'Color': None}"
      ]
     },
     "execution_count": 41,
     "metadata": {},
     "output_type": "execute_result"
    }
   ],
   "source": [
    "d={'model':'Af','year':2015,'Type':'SUV'}\n",
    "d.setdefault('Color')\n",
    "d\n"
   ]
  },
  {
   "cell_type": "code",
   "execution_count": 52,
   "id": "dd77747b",
   "metadata": {},
   "outputs": [
    {
     "data": {
      "text/plain": [
       "[('a', 50, 60), ('b', 60, 80), ('c', 70, 90)]"
      ]
     },
     "execution_count": 52,
     "metadata": {},
     "output_type": "execute_result"
    }
   ],
   "source": [
    "name=['a','b','c']\n",
    "science=[50,60,70]\n",
    "math=[60,80,90]\n",
    "list(zip(name,science,math))"
   ]
  },
  {
   "cell_type": "code",
   "execution_count": 53,
   "id": "ed8965b3",
   "metadata": {},
   "outputs": [
    {
     "data": {
      "text/plain": [
       "dict_items([('A01', [10, 20, 30, 40]), ('A02', [50, 10, 20, 30]), ('A03', [60, 10, 25, 30])])"
      ]
     },
     "execution_count": 53,
     "metadata": {},
     "output_type": "execute_result"
    }
   ],
   "source": [
    "d={'A01': [10,20,30,40], 'A02': [50,10,20,30], 'A03': [60,10,25,30]}\n",
    "d.items()"
   ]
  },
  {
   "cell_type": "code",
   "execution_count": 54,
   "id": "87eb38c9",
   "metadata": {},
   "outputs": [
    {
     "data": {
      "text/plain": [
       "{'Akshat': [10, 20, 26, 28, 22],\n",
       " 'Anjali': [10, 20, 26, 8, 22],\n",
       " 'Namiya': [10, 21, 16, 20, 24],\n",
       " 'Gaurav': [19, 28, 16, 18, 12]}"
      ]
     },
     "execution_count": 54,
     "metadata": {},
     "output_type": "execute_result"
    }
   ],
   "source": [
    "d  = [\"Akshat\",\"Anjali\",\"Namiya\",\"Gaurav\"]\n",
    "m = [\n",
    "    [10,20,26,28,22]\n",
    "     ,[10,20,26,8,22]\n",
    "     ,[10,21,16,20,24],\n",
    "     [19,28,16,18,12]\n",
    "     ,[15,26,16,22,28]\n",
    "]\n",
    "dict(zip(d,m))"
   ]
  },
  {
   "cell_type": "code",
   "execution_count": 55,
   "id": "eb62a50b",
   "metadata": {},
   "outputs": [
    {
     "data": {
      "text/plain": [
       "[('Akshat', [10, 20, 26, 28, 22]),\n",
       " ('Anjali', [10, 20, 26, 8, 22]),\n",
       " ('Namiya', [10, 21, 16, 20, 24]),\n",
       " ('Gaurav', [19, 28, 16, 18, 12])]"
      ]
     },
     "execution_count": 55,
     "metadata": {},
     "output_type": "execute_result"
    }
   ],
   "source": [
    "d  = [\"Akshat\",\"Anjali\",\"Namiya\",\"Gaurav\"]\n",
    "m = [\n",
    "    [10,20,26,28,22]\n",
    "     ,[10,20,26,8,22]\n",
    "     ,[10,21,16,20,24],\n",
    "     [19,28,16,18,12]\n",
    "     ,[15,26,16,22,28]\n",
    "]\n",
    "list(zip(d,m))"
   ]
  },
  {
   "cell_type": "code",
   "execution_count": 58,
   "id": "83dc1a80",
   "metadata": {},
   "outputs": [
    {
     "data": {
      "text/plain": [
       "[('a', 50, 60, 90, 90), ('b', 60, 80, 80, 90), ('c', 70, 90, 70, 90)]"
      ]
     },
     "execution_count": 58,
     "metadata": {},
     "output_type": "execute_result"
    }
   ],
   "source": [
    "name=['a','b','c']\n",
    "science=[50,60,70]\n",
    "math=[60,80,90]\n",
    "english=[90,80,70]\n",
    "sst=[90,90,90]\n",
    "list(zip(name,science,math,english,sst))"
   ]
  },
  {
   "cell_type": "code",
   "execution_count": 59,
   "id": "f9ea6afe",
   "metadata": {},
   "outputs": [
    {
     "data": {
      "text/plain": [
       "80"
      ]
     },
     "execution_count": 59,
     "metadata": {},
     "output_type": "execute_result"
    }
   ],
   "source": [
    "sampleDict = { \n",
    "   \"class\":{ \n",
    "             \"student\":{ \n",
    "                 \"name\":\"Mike\",\n",
    "                    \"marks\":{ \n",
    "                            \"physics\":70,\n",
    "                            \"history\":80\n",
    "         }\n",
    "      }\n",
    "   }\n",
    "}\n",
    "sampleDict['class']['student']['marks']['history']"
   ]
  },
  {
   "cell_type": "code",
   "execution_count": 64,
   "id": "205f07d2",
   "metadata": {},
   "outputs": [],
   "source": [
    "d = {\n",
    "  \"name\": \"Kelly\",\n",
    "  \"age\":25,\n",
    "  \"salary\": 8000,\n",
    "  \"city\": \"New york\"\n",
    "}"
   ]
  },
  {
   "cell_type": "code",
   "execution_count": 65,
   "id": "1e81893a",
   "metadata": {},
   "outputs": [],
   "source": [
    "d.update({'Location':d.pop('city'),'income':d.pop('salary')})"
   ]
  },
  {
   "cell_type": "code",
   "execution_count": 66,
   "id": "1c2d5a5c",
   "metadata": {},
   "outputs": [
    {
     "data": {
      "text/plain": [
       "{'name': 'Kelly', 'age': 25, 'Location': 'New york', 'income': 8000}"
      ]
     },
     "execution_count": 66,
     "metadata": {},
     "output_type": "execute_result"
    }
   ],
   "source": [
    "d"
   ]
  },
  {
   "cell_type": "code",
   "execution_count": null,
   "id": "1a83ad2a",
   "metadata": {},
   "outputs": [],
   "source": []
  }
 ],
 "metadata": {
  "kernelspec": {
   "display_name": "Python 3 (ipykernel)",
   "language": "python",
   "name": "python3"
  },
  "language_info": {
   "codemirror_mode": {
    "name": "ipython",
    "version": 3
   },
   "file_extension": ".py",
   "mimetype": "text/x-python",
   "name": "python",
   "nbconvert_exporter": "python",
   "pygments_lexer": "ipython3",
   "version": "3.11.5"
  }
 },
 "nbformat": 4,
 "nbformat_minor": 5
}
