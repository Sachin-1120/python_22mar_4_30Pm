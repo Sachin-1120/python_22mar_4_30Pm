{
 "cells": [
  {
   "cell_type": "code",
   "execution_count": 8,
   "id": "9e98dd17",
   "metadata": {},
   "outputs": [
    {
     "name": "stdout",
     "output_type": "stream",
     "text": [
      "[0, 1, 4, 9, 16, 25, 36, 49, 64, 81, 100]\n"
     ]
    }
   ],
   "source": [
    "l=[i for i in range(11)]\n",
    "def square(n):\n",
    "    return n*n\n",
    "print(list(map(square,l)))"
   ]
  },
  {
   "cell_type": "code",
   "execution_count": 9,
   "id": "a49a768c",
   "metadata": {},
   "outputs": [
    {
     "data": {
      "text/plain": [
       "[0, 1, 2, 3, 4, 5, 6, 7, 8, 9, 10]"
      ]
     },
     "execution_count": 9,
     "metadata": {},
     "output_type": "execute_result"
    }
   ],
   "source": [
    "l"
   ]
  },
  {
   "cell_type": "code",
   "execution_count": 11,
   "id": "e4dd77c0",
   "metadata": {},
   "outputs": [
    {
     "name": "stdout",
     "output_type": "stream",
     "text": [
      "0 1 2 3 4 5 6 7 8 9 10\n"
     ]
    }
   ],
   "source": [
    "print(*l)"
   ]
  },
  {
   "cell_type": "code",
   "execution_count": 13,
   "id": "eb153c53",
   "metadata": {},
   "outputs": [
    {
     "name": "stdout",
     "output_type": "stream",
     "text": [
      "s a c h i n\n"
     ]
    }
   ],
   "source": [
    "print(*'sachin')"
   ]
  },
  {
   "cell_type": "code",
   "execution_count": 14,
   "id": "8b408f33",
   "metadata": {},
   "outputs": [
    {
     "data": {
      "text/plain": [
       "[1, 4, 9, 16]"
      ]
     },
     "execution_count": 14,
     "metadata": {},
     "output_type": "execute_result"
    }
   ],
   "source": [
    "def square(n):\n",
    "    return n*n\n",
    "def mapl(func,itr):\n",
    "    l=[]\n",
    "    for i in itr:\n",
    "        l.append(func(i))\n",
    "    return l\n",
    "mapl(square,[1,2,3,4])"
   ]
  },
  {
   "cell_type": "code",
   "execution_count": null,
   "id": "4d3e1d0b",
   "metadata": {},
   "outputs": [],
   "source": [
    "10 numbers "
   ]
  },
  {
   "cell_type": "code",
   "execution_count": 15,
   "id": "94c131ac",
   "metadata": {},
   "outputs": [
    {
     "name": "stdout",
     "output_type": "stream",
     "text": [
      "Enter number1 2 3 4 \n"
     ]
    }
   ],
   "source": [
    "a=input('Enter number').split()"
   ]
  },
  {
   "cell_type": "code",
   "execution_count": 16,
   "id": "52d9237f",
   "metadata": {},
   "outputs": [
    {
     "data": {
      "text/plain": [
       "['1', '2', '3', '4']"
      ]
     },
     "execution_count": 16,
     "metadata": {},
     "output_type": "execute_result"
    }
   ],
   "source": [
    "a"
   ]
  },
  {
   "cell_type": "code",
   "execution_count": 17,
   "id": "f4ebb2e4",
   "metadata": {},
   "outputs": [
    {
     "data": {
      "text/plain": [
       "5"
      ]
     },
     "execution_count": 17,
     "metadata": {},
     "output_type": "execute_result"
    }
   ],
   "source": [
    "int('5')"
   ]
  },
  {
   "cell_type": "code",
   "execution_count": 19,
   "id": "9047e7e2",
   "metadata": {},
   "outputs": [
    {
     "data": {
      "text/plain": [
       "[1, 2, 3, 4]"
      ]
     },
     "execution_count": 19,
     "metadata": {},
     "output_type": "execute_result"
    }
   ],
   "source": [
    "list(map(int,a))"
   ]
  },
  {
   "cell_type": "code",
   "execution_count": 20,
   "id": "7491319e",
   "metadata": {},
   "outputs": [
    {
     "name": "stdout",
     "output_type": "stream",
     "text": [
      "Enter number1 2 3 4 5 6 7 8 9\n"
     ]
    }
   ],
   "source": [
    "a=list(map(int,input('Enter number').split()))"
   ]
  },
  {
   "cell_type": "code",
   "execution_count": 21,
   "id": "3c0db333",
   "metadata": {},
   "outputs": [
    {
     "data": {
      "text/plain": [
       "[1, 2, 3, 4, 5, 6, 7, 8, 9]"
      ]
     },
     "execution_count": 21,
     "metadata": {},
     "output_type": "execute_result"
    }
   ],
   "source": [
    "a"
   ]
  },
  {
   "cell_type": "code",
   "execution_count": 23,
   "id": "3432b447",
   "metadata": {},
   "outputs": [
    {
     "name": "stdout",
     "output_type": "stream",
     "text": [
      "Enter number1 2 8 7 4 5 9\n"
     ]
    },
    {
     "data": {
      "text/plain": [
       "['Odd', 'Even', 'Even', 'Odd', 'Even', 'Odd', 'Odd']"
      ]
     },
     "execution_count": 23,
     "metadata": {},
     "output_type": "execute_result"
    }
   ],
   "source": [
    "# list of numbers \n",
    "#-->check nos even odd\n",
    "a=list(map(int,input('Enter number').split()))\n",
    "#b=lambda i:'Even' if i%2==0 else 'Odd'\n",
    "def b(n):\n",
    "    if n%2==0:\n",
    "        return 'Even'\n",
    "    else:\n",
    "        return 'Odd'\n",
    "    \n",
    "list(map(b,a))"
   ]
  },
  {
   "cell_type": "code",
   "execution_count": 27,
   "id": "c9641bbf",
   "metadata": {
    "scrolled": true
   },
   "outputs": [
    {
     "data": {
      "text/plain": [
       "[False, False, False, True, False, True, True]"
      ]
     },
     "execution_count": 27,
     "metadata": {},
     "output_type": "execute_result"
    }
   ],
   "source": [
    "#filter\n",
    "l=[1,2,3,5,7,6,5]\n",
    "a=lambda i:i>4 and i<=6\n",
    "list(map(a,l))"
   ]
  },
  {
   "cell_type": "code",
   "execution_count": 28,
   "id": "3e1f36ff",
   "metadata": {},
   "outputs": [
    {
     "data": {
      "text/plain": [
       "[5, 6, 5]"
      ]
     },
     "execution_count": 28,
     "metadata": {},
     "output_type": "execute_result"
    }
   ],
   "source": [
    "#filter\n",
    "l=[1,2,3,5,7,6,5]\n",
    "a=lambda i:i>4 and i<=6\n",
    "list(filter(a,l))"
   ]
  },
  {
   "cell_type": "code",
   "execution_count": 31,
   "id": "ce03c513",
   "metadata": {},
   "outputs": [
    {
     "data": {
      "text/plain": [
       "[2, 4, 6, 8, 10]"
      ]
     },
     "execution_count": 31,
     "metadata": {},
     "output_type": "execute_result"
    }
   ],
   "source": [
    "a=[1,2,3,4,5,6,7,8,9,10]\n",
    "b=lambda i:'Even' if i%2==0 else ''\n",
    "list(filter(b,a))"
   ]
  },
  {
   "cell_type": "code",
   "execution_count": 33,
   "id": "8939c29b",
   "metadata": {},
   "outputs": [
    {
     "data": {
      "text/plain": [
       "['', 'Even', '', 'Even', '', 'Even', '', 'Even', '', 'Even']"
      ]
     },
     "execution_count": 33,
     "metadata": {},
     "output_type": "execute_result"
    }
   ],
   "source": [
    "a=[1,2,3,4,5,6,7,8,9,10]\n",
    "b=lambda i:'Even' if i%2==0 else ''\n",
    "list(map(b,a))"
   ]
  },
  {
   "cell_type": "code",
   "execution_count": 43,
   "id": "40ff83cc",
   "metadata": {},
   "outputs": [
    {
     "name": "stdout",
     "output_type": "stream",
     "text": [
      "Enter total no of studrents5\n",
      "Enter marks of subject separated by space10 70 80\n",
      "Enter marks of subject separated by space20 10 20\n",
      "Enter marks of subject separated by space70 78 95\n",
      "Enter marks of subject separated by space58 45 65\n",
      "Enter marks of subject separated by space20 30 10\n",
      "1\n"
     ]
    }
   ],
   "source": [
    "l=[\n",
    "    list(map(int,input('Enter marks of subject separated by space').split()))\n",
    "for i in range(int(input('Enter total no of studrents')))\n",
    "]\n",
    "b=lambda i:'A'if (sum(i)/3)>=90 else 'B' if (sum(i)/3)>=80 else 'C' if (sum(i)/3)>=70 else 'Fail'\n",
    "a=list(map(b,l))\n",
    "z=lambda i:True if i=='B' else False\n",
    "print(len(list(filter(z,a))))"
   ]
  },
  {
   "cell_type": "code",
   "execution_count": 44,
   "id": "aa06eb35",
   "metadata": {},
   "outputs": [
    {
     "data": {
      "text/plain": [
       "['Fail', 'Fail', 'B', 'Fail', 'Fail']"
      ]
     },
     "execution_count": 44,
     "metadata": {},
     "output_type": "execute_result"
    }
   ],
   "source": [
    "a"
   ]
  },
  {
   "cell_type": "code",
   "execution_count": 2,
   "id": "cdfa9194",
   "metadata": {},
   "outputs": [
    {
     "data": {
      "text/plain": [
       "1373609"
      ]
     },
     "execution_count": 2,
     "metadata": {},
     "output_type": "execute_result"
    }
   ],
   "source": [
    "l=[1,2,3,4,5]\n",
    "a=lambda i,j:i**2+j**2\n",
    "from functools import reduce\n",
    "reduce(a,l)"
   ]
  },
  {
   "cell_type": "code",
   "execution_count": 6,
   "id": "762b9d6b",
   "metadata": {},
   "outputs": [
    {
     "data": {
      "text/plain": [
       "28"
      ]
     },
     "execution_count": 6,
     "metadata": {},
     "output_type": "execute_result"
    }
   ],
   "source": [
    "l=[1,2,3,4,5,6,7]\n",
    "a=lambda i=0,j=0,k=0:i+j+k\n",
    "reduce(a,l)"
   ]
  },
  {
   "cell_type": "code",
   "execution_count": 9,
   "id": "da5e1d44",
   "metadata": {},
   "outputs": [
    {
     "data": {
      "text/plain": [
       "[1, 2, 3, 4, 5, 6, 7]"
      ]
     },
     "execution_count": 9,
     "metadata": {},
     "output_type": "execute_result"
    }
   ],
   "source": [
    "l=[1,2,3,4,5,6,7]\n",
    "a=lambda i,j=0,k=0:i+j+k\n",
    "list(map(a,l))"
   ]
  },
  {
   "cell_type": "code",
   "execution_count": 17,
   "id": "500c5e33",
   "metadata": {},
   "outputs": [
    {
     "data": {
      "text/plain": [
       "6674371628840253717909933647281227494623676960349679049094324591950797476717670206609639583965759072248643033643275154213751061320064957031870508809699695568976208237445345201764631666"
      ]
     },
     "execution_count": 17,
     "metadata": {},
     "output_type": "execute_result"
    }
   ],
   "source": [
    "l=[i for i in range(1,10)]\n",
    "b1=lambda i:True if i%2==0 else True if i%3==0 else True if i%5==0 else True if i%7==0 else False\n",
    "l1=list(filter(b1,l))\n",
    "b2=lambda i:i**2 if i%2==0 else i**3\n",
    "l2=list(map(b2,l1))\n",
    "b3=lambda i,j:i**2 + j**2\n",
    "\n",
    "reduce(b3,l2)"
   ]
  },
  {
   "cell_type": "code",
   "execution_count": 14,
   "id": "4721bfee",
   "metadata": {},
   "outputs": [
    {
     "data": {
      "text/plain": [
       "[4,\n",
       " 27,\n",
       " 16,\n",
       " 125,\n",
       " 36,\n",
       " 343,\n",
       " 64,\n",
       " 729,\n",
       " 100,\n",
       " 144,\n",
       " 196,\n",
       " 3375,\n",
       " 256,\n",
       " 324,\n",
       " 400,\n",
       " 9261,\n",
       " 484,\n",
       " 576,\n",
       " 15625]"
      ]
     },
     "execution_count": 14,
     "metadata": {},
     "output_type": "execute_result"
    }
   ],
   "source": []
  },
  {
   "cell_type": "code",
   "execution_count": 5,
   "id": "06c43591",
   "metadata": {},
   "outputs": [
    {
     "data": {
      "text/plain": [
       "[(0, 'Sachin'), (1, 'Ravi'), (2, 'Simran')]"
      ]
     },
     "execution_count": 5,
     "metadata": {},
     "output_type": "execute_result"
    }
   ],
   "source": [
    "l=['Sachin','Ravi','Simran']\n",
    "list(enumerate(l))"
   ]
  },
  {
   "cell_type": "code",
   "execution_count": null,
   "id": "6374c3de",
   "metadata": {},
   "outputs": [],
   "source": []
  }
 ],
 "metadata": {
  "kernelspec": {
   "display_name": "Python 3 (ipykernel)",
   "language": "python",
   "name": "python3"
  },
  "language_info": {
   "codemirror_mode": {
    "name": "ipython",
    "version": 3
   },
   "file_extension": ".py",
   "mimetype": "text/x-python",
   "name": "python",
   "nbconvert_exporter": "python",
   "pygments_lexer": "ipython3",
   "version": "3.11.5"
  }
 },
 "nbformat": 4,
 "nbformat_minor": 5
}
