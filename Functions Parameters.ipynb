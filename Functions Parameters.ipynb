{
 "cells": [
  {
   "cell_type": "code",
   "execution_count": null,
   "id": "7d636dff",
   "metadata": {},
   "outputs": [],
   "source": [
    "1^1+0 , 2^2+1 ,3^3+2 ,    ..... ......."
   ]
  },
  {
   "cell_type": "code",
   "execution_count": 3,
   "id": "8532e727",
   "metadata": {},
   "outputs": [
    {
     "name": "stdout",
     "output_type": "stream",
     "text": [
      "Enter Number5\n",
      "1\n",
      "5\n",
      "29\n",
      "259\n",
      "3129\n"
     ]
    }
   ],
   "source": [
    "n=int(input('Enter Number'))\n",
    "i=1\n",
    "while i<=n:\n",
    "    print(i**i+(i-1))\n",
    "    i+=1"
   ]
  },
  {
   "cell_type": "code",
   "execution_count": null,
   "id": "c10d30de",
   "metadata": {},
   "outputs": [],
   "source": []
  },
  {
   "cell_type": "code",
   "execution_count": null,
   "id": "29834f02",
   "metadata": {},
   "outputs": [],
   "source": [
    "l=[1,2,3,4,5]\n",
    "l.sort(reverse=)"
   ]
  },
  {
   "cell_type": "code",
   "execution_count": 12,
   "id": "73c75c87",
   "metadata": {},
   "outputs": [
    {
     "name": "stdout",
     "output_type": "stream",
     "text": [
      "a-->5\n",
      "b-->6\n",
      "c-->7\n"
     ]
    },
    {
     "data": {
      "text/plain": [
       "18"
      ]
     },
     "execution_count": 12,
     "metadata": {},
     "output_type": "execute_result"
    }
   ],
   "source": [
    "def add(a,b,c):\n",
    "    print(f'a-->{a}')\n",
    "    print(f'b-->{b}')\n",
    "    print(f'c-->{c}')\n",
    "    \n",
    "    return a+b+c\n",
    "add(5,6,7)"
   ]
  },
  {
   "cell_type": "code",
   "execution_count": 13,
   "id": "fb6677b5",
   "metadata": {},
   "outputs": [
    {
     "name": "stdout",
     "output_type": "stream",
     "text": [
      "a-->6\n",
      "b-->5\n",
      "c-->7\n"
     ]
    },
    {
     "data": {
      "text/plain": [
       "18"
      ]
     },
     "execution_count": 13,
     "metadata": {},
     "output_type": "execute_result"
    }
   ],
   "source": [
    "def add(a,b,c):\n",
    "    print(f'a-->{a}')\n",
    "    print(f'b-->{b}')\n",
    "    print(f'c-->{c}')\n",
    "    \n",
    "    return a+b+c\n",
    "add(b=5,a=6,c=7)"
   ]
  },
  {
   "cell_type": "code",
   "execution_count": 14,
   "id": "a7b00500",
   "metadata": {},
   "outputs": [
    {
     "data": {
      "text/plain": [
       "0"
      ]
     },
     "execution_count": 14,
     "metadata": {},
     "output_type": "execute_result"
    }
   ],
   "source": [
    "def add(a=0,b=0,c=0):\n",
    "    return a+b+c\n",
    "add()"
   ]
  },
  {
   "cell_type": "code",
   "execution_count": 15,
   "id": "f2f2e737",
   "metadata": {},
   "outputs": [
    {
     "data": {
      "text/plain": [
       "5"
      ]
     },
     "execution_count": 15,
     "metadata": {},
     "output_type": "execute_result"
    }
   ],
   "source": [
    "def add(a=0,b=0,c=0):\n",
    "    return a+b+c\n",
    "add(5)"
   ]
  },
  {
   "cell_type": "code",
   "execution_count": 16,
   "id": "829b920d",
   "metadata": {},
   "outputs": [
    {
     "data": {
      "text/plain": [
       "12"
      ]
     },
     "execution_count": 16,
     "metadata": {},
     "output_type": "execute_result"
    }
   ],
   "source": [
    "def add(a=0,b=0,c=0):\n",
    "    return a+b+c\n",
    "add(5,7)"
   ]
  },
  {
   "cell_type": "code",
   "execution_count": 17,
   "id": "f2eda0c1",
   "metadata": {},
   "outputs": [
    {
     "data": {
      "text/plain": [
       "30"
      ]
     },
     "execution_count": 17,
     "metadata": {},
     "output_type": "execute_result"
    }
   ],
   "source": [
    "add(10,10,10)"
   ]
  },
  {
   "cell_type": "code",
   "execution_count": 23,
   "id": "d1da5b98",
   "metadata": {},
   "outputs": [
    {
     "ename": "TypeError",
     "evalue": "add() missing 1 required positional argument: 'c'",
     "output_type": "error",
     "traceback": [
      "\u001b[1;31m---------------------------------------------------------------------------\u001b[0m",
      "\u001b[1;31mTypeError\u001b[0m                                 Traceback (most recent call last)",
      "Cell \u001b[1;32mIn[23], line 3\u001b[0m\n\u001b[0;32m      1\u001b[0m \u001b[38;5;28;01mdef\u001b[39;00m \u001b[38;5;21madd\u001b[39m(c,a\u001b[38;5;241m=\u001b[39m\u001b[38;5;241m0\u001b[39m,b\u001b[38;5;241m=\u001b[39m\u001b[38;5;241m0\u001b[39m):\n\u001b[0;32m      2\u001b[0m     \u001b[38;5;28;01mreturn\u001b[39;00m a\u001b[38;5;241m+\u001b[39mb\u001b[38;5;241m+\u001b[39mc\n\u001b[1;32m----> 3\u001b[0m add()\n",
      "\u001b[1;31mTypeError\u001b[0m: add() missing 1 required positional argument: 'c'"
     ]
    }
   ],
   "source": [
    "def add(c,a=0,b=0):\n",
    "    return a+b+c\n",
    "add()"
   ]
  },
  {
   "cell_type": "code",
   "execution_count": 25,
   "id": "5ef52fed",
   "metadata": {},
   "outputs": [
    {
     "data": {
      "text/plain": [
       "21"
      ]
     },
     "execution_count": 25,
     "metadata": {},
     "output_type": "execute_result"
    }
   ],
   "source": [
    "#Arbitrary Arguments\n",
    "\n",
    "def add(*a):\n",
    "    result=0\n",
    "    for i in a:\n",
    "        result+=i# result=result+i\n",
    "    return result\n",
    " \n",
    "    \n",
    "add(1,2,3,4,5,6,)"
   ]
  },
  {
   "cell_type": "code",
   "execution_count": 38,
   "id": "acd52236",
   "metadata": {},
   "outputs": [
    {
     "name": "stdout",
     "output_type": "stream",
     "text": [
      "name-->Sachin\n",
      "no-->7878012779\n",
      "company-->Grras\n"
     ]
    }
   ],
   "source": [
    "def print_detail(**detail):\n",
    "    for key,value in detail.items():\n",
    "        print(f'{key}-->{value}')\n",
    "    \n",
    "print_detail(name='Sachin',no=7878012779,company='Grras')"
   ]
  },
  {
   "cell_type": "code",
   "execution_count": 39,
   "id": "747f3b99",
   "metadata": {},
   "outputs": [],
   "source": [
    "d={'a':10,'b':20,'c':30}\n",
    "l=list(d.items())"
   ]
  },
  {
   "cell_type": "code",
   "execution_count": 40,
   "id": "ec887f5c",
   "metadata": {},
   "outputs": [],
   "source": [
    "a,b=l[0]"
   ]
  },
  {
   "cell_type": "code",
   "execution_count": 41,
   "id": "12671f66",
   "metadata": {},
   "outputs": [
    {
     "data": {
      "text/plain": [
       "'a'"
      ]
     },
     "execution_count": 41,
     "metadata": {},
     "output_type": "execute_result"
    }
   ],
   "source": [
    "a"
   ]
  },
  {
   "cell_type": "code",
   "execution_count": 42,
   "id": "4c3b154f",
   "metadata": {},
   "outputs": [
    {
     "data": {
      "text/plain": [
       "10"
      ]
     },
     "execution_count": 42,
     "metadata": {},
     "output_type": "execute_result"
    }
   ],
   "source": [
    "b"
   ]
  },
  {
   "cell_type": "code",
   "execution_count": 43,
   "id": "feb8294a",
   "metadata": {},
   "outputs": [
    {
     "data": {
      "text/plain": [
       "[('a', 10), ('b', 20), ('c', 30)]"
      ]
     },
     "execution_count": 43,
     "metadata": {},
     "output_type": "execute_result"
    }
   ],
   "source": [
    "l"
   ]
  },
  {
   "cell_type": "code",
   "execution_count": null,
   "id": "c1bc95e5",
   "metadata": {},
   "outputs": [],
   "source": []
  },
  {
   "cell_type": "code",
   "execution_count": null,
   "id": "0885dd6c",
   "metadata": {},
   "outputs": [],
   "source": [
    "(1,2,3,4,5,6,7,a=50,b=60)\n"
   ]
  },
  {
   "cell_type": "code",
   "execution_count": 56,
   "id": "6562f3e7",
   "metadata": {},
   "outputs": [
    {
     "data": {
      "text/plain": [
       "688"
      ]
     },
     "execution_count": 56,
     "metadata": {},
     "output_type": "execute_result"
    }
   ],
   "source": [
    "def add(*a,**b):\n",
    "    result=0\n",
    "    for i in a:\n",
    "        result+=i\n",
    "    for i in b.values():\n",
    "        result+=i\n",
    "    return result\n",
    "add(10,2,3,4,5,6,7,a=50,b=601)    "
   ]
  },
  {
   "cell_type": "code",
   "execution_count": null,
   "id": "5e8c42c2",
   "metadata": {},
   "outputs": [],
   "source": []
  },
  {
   "cell_type": "code",
   "execution_count": null,
   "id": "0e353b1e",
   "metadata": {},
   "outputs": [],
   "source": []
  }
 ],
 "metadata": {
  "kernelspec": {
   "display_name": "Python 3 (ipykernel)",
   "language": "python",
   "name": "python3"
  },
  "language_info": {
   "codemirror_mode": {
    "name": "ipython",
    "version": 3
   },
   "file_extension": ".py",
   "mimetype": "text/x-python",
   "name": "python",
   "nbconvert_exporter": "python",
   "pygments_lexer": "ipython3",
   "version": "3.11.5"
  }
 },
 "nbformat": 4,
 "nbformat_minor": 5
}
