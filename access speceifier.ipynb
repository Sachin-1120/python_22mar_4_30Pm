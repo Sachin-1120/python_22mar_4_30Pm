{
 "cells": [
  {
   "cell_type": "code",
   "execution_count": 16,
   "id": "2bf4361c",
   "metadata": {},
   "outputs": [
    {
     "data": {
      "text/plain": [
       "'sachin'"
      ]
     },
     "execution_count": 16,
     "metadata": {},
     "output_type": "execute_result"
    }
   ],
   "source": [
    "class A:\n",
    "    __name='sachin'\n",
    "    def print_alpha(self):\n",
    "        print('hello')\n",
    "        print(self.__name)\n",
    "    \n",
    "a=A()\n",
    "#a.print_alpha()\n",
    "A._A__name"
   ]
  },
  {
   "cell_type": "code",
   "execution_count": 12,
   "id": "858ba22d",
   "metadata": {},
   "outputs": [
    {
     "data": {
      "text/plain": [
       "{}"
      ]
     },
     "execution_count": 12,
     "metadata": {},
     "output_type": "execute_result"
    }
   ],
   "source": [
    "a.__dict__"
   ]
  },
  {
   "cell_type": "code",
   "execution_count": 13,
   "id": "8ecbff12",
   "metadata": {},
   "outputs": [
    {
     "data": {
      "text/plain": [
       "mappingproxy({'__module__': '__main__',\n",
       "              '_A__name': 'sachin',\n",
       "              'print_alpha': <function __main__.A.print_alpha(self)>,\n",
       "              '__dict__': <attribute '__dict__' of 'A' objects>,\n",
       "              '__weakref__': <attribute '__weakref__' of 'A' objects>,\n",
       "              '__doc__': None})"
      ]
     },
     "execution_count": 13,
     "metadata": {},
     "output_type": "execute_result"
    }
   ],
   "source": [
    "A.__dict__"
   ]
  },
  {
   "cell_type": "code",
   "execution_count": 14,
   "id": "fa20eb37",
   "metadata": {},
   "outputs": [],
   "source": [
    "#__name=_A__name"
   ]
  },
  {
   "cell_type": "code",
   "execution_count": 18,
   "id": "987fb7c5",
   "metadata": {},
   "outputs": [
    {
     "ename": "AttributeError",
     "evalue": "'A' object has no attribute '__print_alpha'",
     "output_type": "error",
     "traceback": [
      "\u001b[1;31m---------------------------------------------------------------------------\u001b[0m",
      "\u001b[1;31mAttributeError\u001b[0m                            Traceback (most recent call last)",
      "Cell \u001b[1;32mIn[18], line 8\u001b[0m\n\u001b[0;32m      5\u001b[0m         \u001b[38;5;28mprint\u001b[39m(\u001b[38;5;28mself\u001b[39m\u001b[38;5;241m.\u001b[39m__name)\n\u001b[0;32m      7\u001b[0m a\u001b[38;5;241m=\u001b[39mA()\n\u001b[1;32m----> 8\u001b[0m a\u001b[38;5;241m.\u001b[39m__print_alpha()\n",
      "\u001b[1;31mAttributeError\u001b[0m: 'A' object has no attribute '__print_alpha'"
     ]
    }
   ],
   "source": [
    "class A:\n",
    "    __name='sachin'\n",
    "    def __print_alpha(self):\n",
    "        print('hello')\n",
    "        print(self.__name)\n",
    "    \n",
    "a=A()\n",
    "a.__print_alpha()"
   ]
  },
  {
   "cell_type": "code",
   "execution_count": 19,
   "id": "eca70b55",
   "metadata": {},
   "outputs": [
    {
     "data": {
      "text/plain": [
       "mappingproxy({'__module__': '__main__',\n",
       "              '_A__name': 'sachin',\n",
       "              '_A__print_alpha': <function __main__.A.__print_alpha(self)>,\n",
       "              '__dict__': <attribute '__dict__' of 'A' objects>,\n",
       "              '__weakref__': <attribute '__weakref__' of 'A' objects>,\n",
       "              '__doc__': None})"
      ]
     },
     "execution_count": 19,
     "metadata": {},
     "output_type": "execute_result"
    }
   ],
   "source": [
    "A.__dict__"
   ]
  },
  {
   "cell_type": "code",
   "execution_count": 22,
   "id": "e64c656c",
   "metadata": {},
   "outputs": [],
   "source": [
    "class A:\n",
    "    _name='SAchin'\n",
    "    def print_alpha(self):\n",
    "        print('hello')\n",
    "        print(self._name)\n",
    "a=A()"
   ]
  },
  {
   "cell_type": "code",
   "execution_count": 23,
   "id": "84f70f70",
   "metadata": {},
   "outputs": [
    {
     "name": "stdout",
     "output_type": "stream",
     "text": [
      "hello\n",
      "SAchin\n"
     ]
    }
   ],
   "source": [
    "a.print_alpha()"
   ]
  },
  {
   "cell_type": "code",
   "execution_count": 24,
   "id": "16ea0d96",
   "metadata": {},
   "outputs": [
    {
     "data": {
      "text/plain": [
       "'SAchin'"
      ]
     },
     "execution_count": 24,
     "metadata": {},
     "output_type": "execute_result"
    }
   ],
   "source": [
    "a._name"
   ]
  },
  {
   "cell_type": "code",
   "execution_count": 28,
   "id": "27c56c0c",
   "metadata": {},
   "outputs": [],
   "source": [
    "class A:\n",
    "    def __init__(self):\n",
    "        self.name='sachin'\n",
    "    def get_att(self):\n",
    "        print(self.name)\n",
    "    def set_attr(self,name):\n",
    "        self.name=name\n",
    "        \n",
    "a=A()"
   ]
  },
  {
   "cell_type": "code",
   "execution_count": 31,
   "id": "3f73e6a7",
   "metadata": {},
   "outputs": [
    {
     "name": "stdout",
     "output_type": "stream",
     "text": [
      "gourav\n"
     ]
    }
   ],
   "source": [
    "a.get_att()"
   ]
  },
  {
   "cell_type": "code",
   "execution_count": 30,
   "id": "7d922cdc",
   "metadata": {},
   "outputs": [],
   "source": [
    "a.set_attr('gourav')"
   ]
  },
  {
   "cell_type": "code",
   "execution_count": 32,
   "id": "1069e183",
   "metadata": {},
   "outputs": [
    {
     "data": {
      "text/plain": [
       "{'name': 'gourav'}"
      ]
     },
     "execution_count": 32,
     "metadata": {},
     "output_type": "execute_result"
    }
   ],
   "source": [
    "a.__dict__"
   ]
  },
  {
   "cell_type": "code",
   "execution_count": 35,
   "id": "0d9e37c7",
   "metadata": {},
   "outputs": [
    {
     "data": {
      "text/plain": [
       "'sachin'"
      ]
     },
     "execution_count": 35,
     "metadata": {},
     "output_type": "execute_result"
    }
   ],
   "source": [
    "getattr(a,'name')"
   ]
  },
  {
   "cell_type": "code",
   "execution_count": 34,
   "id": "9b3bdc14",
   "metadata": {},
   "outputs": [],
   "source": [
    "setattr(a,'name','sachin')"
   ]
  },
  {
   "cell_type": "code",
   "execution_count": null,
   "id": "cf2b94ad",
   "metadata": {},
   "outputs": [],
   "source": []
  },
  {
   "cell_type": "code",
   "execution_count": 47,
   "id": "1da6c77c",
   "metadata": {},
   "outputs": [
    {
     "data": {
      "text/plain": [
       "'this device has 8Gb space and price is 8000'"
      ]
     },
     "execution_count": 47,
     "metadata": {},
     "output_type": "execute_result"
    }
   ],
   "source": [
    "class Phone:\n",
    "    def __init__(self):\n",
    "        self.ram='4GB'\n",
    "        self.price='8000'\n",
    "        \n",
    "    @property\n",
    "    def print_info(self):\n",
    "        self.info=f'this device has {self.ram} space and price is {self.price}'\n",
    "        return self.info\n",
    "a=Phone()\n",
    "a.ram='8Gb'\n",
    "a.print_info"
   ]
  },
  {
   "cell_type": "code",
   "execution_count": 39,
   "id": "22745cfa",
   "metadata": {},
   "outputs": [
    {
     "name": "stdout",
     "output_type": "stream",
     "text": [
      "this device has 6GB space and price is 8000\n"
     ]
    }
   ],
   "source": [
    "a.ram='6GB'\n"
   ]
  },
  {
   "cell_type": "code",
   "execution_count": 40,
   "id": "f82bb814",
   "metadata": {},
   "outputs": [],
   "source": []
  },
  {
   "cell_type": "code",
   "execution_count": 44,
   "id": "e17ba794",
   "metadata": {},
   "outputs": [
    {
     "data": {
      "text/plain": [
       "<bound method Phone.print_info of <__main__.Phone object at 0x0000019AC9E8BE50>>"
      ]
     },
     "execution_count": 44,
     "metadata": {},
     "output_type": "execute_result"
    }
   ],
   "source": [
    "a.print_info"
   ]
  },
  {
   "cell_type": "code",
   "execution_count": null,
   "id": "df492238",
   "metadata": {},
   "outputs": [],
   "source": []
  },
  {
   "cell_type": "code",
   "execution_count": null,
   "id": "a4432ee8",
   "metadata": {},
   "outputs": [],
   "source": []
  },
  {
   "cell_type": "code",
   "execution_count": 20,
   "id": "910d7784",
   "metadata": {},
   "outputs": [],
   "source": [
    "class A:\n",
    "    __name='sachin'\n",
    "    def __init__(self,age):\n",
    "        self.__age=age\n",
    "    def __print_alpha(self):\n",
    "        print('hello',self.__name)\n",
    "a=A(23)\n"
   ]
  },
  {
   "cell_type": "code",
   "execution_count": 21,
   "id": "acac0500",
   "metadata": {},
   "outputs": [
    {
     "data": {
      "text/plain": [
       "{'_A__age': 23}"
      ]
     },
     "execution_count": 21,
     "metadata": {},
     "output_type": "execute_result"
    }
   ],
   "source": [
    "a.__dict__"
   ]
  },
  {
   "cell_type": "code",
   "execution_count": 22,
   "id": "b42c4134",
   "metadata": {},
   "outputs": [
    {
     "data": {
      "text/plain": [
       "23"
      ]
     },
     "execution_count": 22,
     "metadata": {},
     "output_type": "execute_result"
    }
   ],
   "source": [
    "a._A__age"
   ]
  },
  {
   "cell_type": "markdown",
   "id": "6561be2b",
   "metadata": {},
   "source": [
    "# Duck Typing"
   ]
  },
  {
   "cell_type": "code",
   "execution_count": 26,
   "id": "cb2bb908",
   "metadata": {},
   "outputs": [],
   "source": [
    "class VsCode:\n",
    "    def compile_i(self):\n",
    "        print('Compile Successfully')\n",
    "    def execute(self):\n",
    "        print('Executed Successfully')\n",
    "    def run(self):\n",
    "        self.compile_i()\n",
    "        self.execute()\n",
    "        \n",
    "class Jupyter:\n",
    "    def spell_check(self):\n",
    "        print('Spelling check successfully')\n",
    "    def compile_i(self):\n",
    "        print('Compile Successfully')\n",
    "    def execute(self):\n",
    "        print('Executed Successfully')\n",
    "    def run(self):\n",
    "        self.spell_check()\n",
    "        self.compile_i()\n",
    "        self.execute()\n",
    "    \n",
    "class code:\n",
    "    def run(self,ide):\n",
    "        ide.run()\n",
    "        "
   ]
  },
  {
   "cell_type": "code",
   "execution_count": 27,
   "id": "3a72e403",
   "metadata": {},
   "outputs": [],
   "source": [
    "j=Jupyter()\n",
    "vs=VsCode()\n",
    "ob=code()"
   ]
  },
  {
   "cell_type": "code",
   "execution_count": 29,
   "id": "a3b50ba4",
   "metadata": {},
   "outputs": [
    {
     "name": "stdout",
     "output_type": "stream",
     "text": [
      "Spelling check successfully\n",
      "Compile Successfully\n",
      "Executed Successfully\n"
     ]
    }
   ],
   "source": [
    "ob.run(j)"
   ]
  },
  {
   "cell_type": "code",
   "execution_count": 32,
   "id": "d2bfb8d0",
   "metadata": {},
   "outputs": [
    {
     "name": "stdout",
     "output_type": "stream",
     "text": [
      "in Parent class\n"
     ]
    }
   ],
   "source": [
    "class A:\n",
    "    def __init__(self):\n",
    "        print('in Parent class')\n",
    "class B(A):\n",
    "    def print_alpha(self):\n",
    "        print('In B Class')\n",
    "\n",
    "        ob=B()"
   ]
  },
  {
   "cell_type": "code",
   "execution_count": 33,
   "id": "93934908",
   "metadata": {},
   "outputs": [],
   "source": [
    "from abc import ABC,abstractmethod"
   ]
  },
  {
   "cell_type": "code",
   "execution_count": 50,
   "id": "8d7662c4",
   "metadata": {},
   "outputs": [],
   "source": [
    "class Phone(ABC):\n",
    "    @abstractmethod\n",
    "    def call(self):\n",
    "        print('Calling')\n",
    "    @abstractmethod\n",
    "    def msg(self):\n",
    "        print('messaging')\n",
    "class Apple(Phone):\n",
    "    def call(self):\n",
    "        print('Apple calling')\n",
    "    def msg(self):\n",
    "        print('Apple Messaging')"
   ]
  },
  {
   "cell_type": "code",
   "execution_count": 51,
   "id": "a4e40450",
   "metadata": {},
   "outputs": [],
   "source": [
    "ob=Apple()"
   ]
  },
  {
   "cell_type": "code",
   "execution_count": 52,
   "id": "b878058c",
   "metadata": {},
   "outputs": [
    {
     "name": "stdout",
     "output_type": "stream",
     "text": [
      "Apple calling\n"
     ]
    }
   ],
   "source": [
    "ob.call()"
   ]
  },
  {
   "cell_type": "code",
   "execution_count": 53,
   "id": "a6bc7149",
   "metadata": {},
   "outputs": [
    {
     "name": "stdout",
     "output_type": "stream",
     "text": [
      "Apple Messaging\n"
     ]
    }
   ],
   "source": [
    "ob.msg()"
   ]
  },
  {
   "cell_type": "code",
   "execution_count": null,
   "id": "da938e5c",
   "metadata": {},
   "outputs": [],
   "source": []
  }
 ],
 "metadata": {
  "kernelspec": {
   "display_name": "Python 3 (ipykernel)",
   "language": "python",
   "name": "python3"
  },
  "language_info": {
   "codemirror_mode": {
    "name": "ipython",
    "version": 3
   },
   "file_extension": ".py",
   "mimetype": "text/x-python",
   "name": "python",
   "nbconvert_exporter": "python",
   "pygments_lexer": "ipython3",
   "version": "3.11.5"
  }
 },
 "nbformat": 4,
 "nbformat_minor": 5
}
