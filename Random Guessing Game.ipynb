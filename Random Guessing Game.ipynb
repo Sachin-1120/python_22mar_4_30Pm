{
 "cells": [
  {
   "cell_type": "code",
   "execution_count": 1,
   "id": "adf1ef67",
   "metadata": {},
   "outputs": [],
   "source": [
    "import random"
   ]
  },
  {
   "cell_type": "code",
   "execution_count": 2,
   "id": "dfd3c7cc",
   "metadata": {},
   "outputs": [
    {
     "name": "stdout",
     "output_type": "stream",
     "text": [
      "['BPF', 'LOG4', 'NV_MAGICCONST', 'RECIP_BPF', 'Random', 'SG_MAGICCONST', 'SystemRandom', 'TWOPI', '_ONE', '_Sequence', '_Set', '__all__', '__builtins__', '__cached__', '__doc__', '__file__', '__loader__', '__name__', '__package__', '__spec__', '_accumulate', '_acos', '_bisect', '_ceil', '_cos', '_e', '_exp', '_floor', '_index', '_inst', '_isfinite', '_log', '_os', '_pi', '_random', '_repeat', '_sha512', '_sin', '_sqrt', '_test', '_test_generator', '_urandom', '_warn', 'betavariate', 'choice', 'choices', 'expovariate', 'gammavariate', 'gauss', 'getrandbits', 'getstate', 'lognormvariate', 'normalvariate', 'paretovariate', 'randbytes', 'randint', 'random', 'randrange', 'sample', 'seed', 'setstate', 'shuffle', 'triangular', 'uniform', 'vonmisesvariate', 'weibullvariate']\n"
     ]
    }
   ],
   "source": [
    "print(dir(random))"
   ]
  },
  {
   "cell_type": "code",
   "execution_count": 7,
   "id": "f1c3f1a7",
   "metadata": {},
   "outputs": [
    {
     "data": {
      "text/plain": [
       "0.8412642713002695"
      ]
     },
     "execution_count": 7,
     "metadata": {},
     "output_type": "execute_result"
    }
   ],
   "source": [
    "random.random()  # random float value between 0 & 1"
   ]
  },
  {
   "cell_type": "code",
   "execution_count": 9,
   "id": "075a62d3",
   "metadata": {},
   "outputs": [
    {
     "data": {
      "text/plain": [
       "26.729223973372424"
      ]
     },
     "execution_count": 9,
     "metadata": {},
     "output_type": "execute_result"
    }
   ],
   "source": [
    "random.uniform(10,50) # used to generate random value between  a and b"
   ]
  },
  {
   "cell_type": "code",
   "execution_count": 61,
   "id": "54f3f048",
   "metadata": {},
   "outputs": [
    {
     "data": {
      "text/plain": [
       "28"
      ]
     },
     "execution_count": 61,
     "metadata": {},
     "output_type": "execute_result"
    }
   ],
   "source": [
    "random.randint(10,50)"
   ]
  },
  {
   "cell_type": "code",
   "execution_count": 32,
   "id": "4188b7a3",
   "metadata": {},
   "outputs": [
    {
     "data": {
      "text/plain": [
       "40"
      ]
     },
     "execution_count": 32,
     "metadata": {},
     "output_type": "execute_result"
    }
   ],
   "source": [
    "random.randrange(10,50,10)"
   ]
  },
  {
   "cell_type": "code",
   "execution_count": 28,
   "id": "91eb2e27",
   "metadata": {},
   "outputs": [
    {
     "data": {
      "text/plain": [
       "[10, 20, 30, 40]"
      ]
     },
     "execution_count": 28,
     "metadata": {},
     "output_type": "execute_result"
    }
   ],
   "source": [
    "[i for i in range(10,50,10)]"
   ]
  },
  {
   "cell_type": "code",
   "execution_count": null,
   "id": "28414295",
   "metadata": {},
   "outputs": [],
   "source": [
    "\n"
   ]
  },
  {
   "cell_type": "code",
   "execution_count": null,
   "id": "afd8bfd8",
   "metadata": {},
   "outputs": [],
   "source": [
    "computer ---> 1 to 100    56\n",
    "\n",
    "player    till 10 chances \n",
    "\n",
    "1--> 20 ------>very far\n",
    "2--->90 -------> very far\n",
    "3->55            very close\n",
    "\n",
    "\n",
    "10 you lose and the number is 56\n",
    "\n"
   ]
  },
  {
   "cell_type": "code",
   "execution_count": 38,
   "id": "211daef5",
   "metadata": {},
   "outputs": [
    {
     "name": "stdout",
     "output_type": "stream",
     "text": [
      "********** Random Guessing Game **********\n",
      "Enter Your Choice\n",
      "51\n",
      "Delhi abhi Dur hai🚑🚑🚑\n",
      "********** Random Guessing Game **********\n",
      "Enter Your Choice\n",
      "20\n",
      "Majil Jyada Dur Nahi😎😎\n",
      "********** Random Guessing Game **********\n",
      "Enter Your Choice\n",
      "23\n",
      "Majil Jyada Dur Nahi😎😎\n",
      "********** Random Guessing Game **********\n",
      "Enter Your Choice\n",
      "24\n",
      "Majil Jyada Dur Nahi😎😎\n",
      "********** Random Guessing Game **********\n",
      "Enter Your Choice\n",
      "27\n",
      "Majil Jyada Dur Nahi😎😎\n",
      "********** Random Guessing Game **********\n",
      "Enter Your Choice\n",
      "28\n",
      "Majil Jyada Dur Nahi😎😎\n",
      "********** Random Guessing Game **********\n",
      "Enter Your Choice\n",
      "31\n",
      "Majil Jyada Dur Nahi😎😎\n",
      "********** Random Guessing Game **********\n",
      "Enter Your Choice\n",
      "33\n",
      "Majil Jyada Dur Nahi😎😎\n",
      "********** Random Guessing Game **********\n",
      "Enter Your Choice\n",
      "35\n",
      "Majil Jyada Dur Nahi😎😎\n",
      "********** Random Guessing Game **********\n",
      "Enter Your Choice\n",
      "37\n",
      "Delhi abhi Dur hai🚑🚑🚑\n",
      "Tujhse nahi ho payega😓😓 The Number if 25\n",
      "********** Game Ends  **********\n"
     ]
    }
   ],
   "source": [
    "computer=random.randint(1,100)\n",
    "for i in range (0,10):\n",
    "    print('*'*10,'Random Guessing Game','*'*10)\n",
    "    player=int(input('Enter Your Choice\\n'))\n",
    "    if computer==player:\n",
    "        print('Jeet Gaye 😀😀')\n",
    "    elif abs(computer-player)<=10:\n",
    "        print('Majil Jyada Dur Nahi😎😎')\n",
    "    else:\n",
    "        print('Delhi abhi Dur hai🚑🚑🚑')\n",
    "else:\n",
    "    print('Tujhse nahi ho payega😓😓',f'The Number if {computer}')\n",
    "print('*'*10,'Game Ends ','*'*10)\n",
    "        "
   ]
  },
  {
   "cell_type": "code",
   "execution_count": null,
   "id": "0f6eee22",
   "metadata": {},
   "outputs": [],
   "source": [
    "#random password generator-->16\n",
    "alphabets(Lower and Upper)\n",
    "special symbols\n",
    "numbers\n"
   ]
  },
  {
   "cell_type": "code",
   "execution_count": 46,
   "id": "33657088",
   "metadata": {},
   "outputs": [
    {
     "data": {
      "text/plain": [
       "'Apple'"
      ]
     },
     "execution_count": 46,
     "metadata": {},
     "output_type": "execute_result"
    }
   ],
   "source": [
    "l=['a','b','c','Apple']\n",
    "random.choice(l)  #List Of Elements 1 Element"
   ]
  },
  {
   "cell_type": "code",
   "execution_count": 47,
   "id": "66cf5fe9",
   "metadata": {},
   "outputs": [
    {
     "data": {
      "text/plain": [
       "['c',\n",
       " 'a',\n",
       " 'Apple',\n",
       " 'Apple',\n",
       " 'a',\n",
       " 'Apple',\n",
       " 'Apple',\n",
       " 'b',\n",
       " 'b',\n",
       " 'a',\n",
       " 'b',\n",
       " 'a',\n",
       " 'c',\n",
       " 'Apple',\n",
       " 'c']"
      ]
     },
     "execution_count": 47,
     "metadata": {},
     "output_type": "execute_result"
    }
   ],
   "source": [
    "l=['a','b','c','Apple']\n",
    "random.choices(l,k=15)"
   ]
  },
  {
   "cell_type": "code",
   "execution_count": 49,
   "id": "41ce7af9",
   "metadata": {},
   "outputs": [
    {
     "data": {
      "text/plain": [
       "['a', 'Apple', 'Apple', 'Apple', 'b', 'Apple', 'c', 'c', 'Apple', 'Apple']"
      ]
     },
     "execution_count": 49,
     "metadata": {},
     "output_type": "execute_result"
    }
   ],
   "source": [
    "l=['a','b','c','Apple']\n",
    "random.choices(l,weights=[2,2,2,50],k=10)"
   ]
  },
  {
   "cell_type": "code",
   "execution_count": 52,
   "id": "495c5de5",
   "metadata": {},
   "outputs": [],
   "source": [
    "l=['Apple','Banana','Chiku']\n",
    "random.shuffle(l)"
   ]
  },
  {
   "cell_type": "code",
   "execution_count": 53,
   "id": "60e54d46",
   "metadata": {},
   "outputs": [
    {
     "data": {
      "text/plain": [
       "['Chiku', 'Apple', 'Banana']"
      ]
     },
     "execution_count": 53,
     "metadata": {},
     "output_type": "execute_result"
    }
   ],
   "source": [
    "l"
   ]
  },
  {
   "cell_type": "code",
   "execution_count": null,
   "id": "388d97a2",
   "metadata": {},
   "outputs": [],
   "source": []
  },
  {
   "cell_type": "code",
   "execution_count": 54,
   "id": "006469cc",
   "metadata": {},
   "outputs": [],
   "source": [
    "import numpy as np"
   ]
  },
  {
   "cell_type": "code",
   "execution_count": 59,
   "id": "4e37062e",
   "metadata": {},
   "outputs": [
    {
     "data": {
      "text/plain": [
       "array([0.66974821, 0.4964245 , 0.59678719, 0.50419582, 0.98291669,\n",
       "       0.44460501, 0.32221833, 0.6081153 , 0.88009196, 0.81477488])"
      ]
     },
     "execution_count": 59,
     "metadata": {},
     "output_type": "execute_result"
    }
   ],
   "source": [
    "np.random.random(10)"
   ]
  },
  {
   "cell_type": "code",
   "execution_count": 58,
   "id": "3293430b",
   "metadata": {},
   "outputs": [
    {
     "data": {
      "text/plain": [
       "array([16,  3, 20, 69, 66, 97, 38, 30, 39,  8, 13, 89, 39,  5, 94])"
      ]
     },
     "execution_count": 58,
     "metadata": {},
     "output_type": "execute_result"
    }
   ],
   "source": [
    "np.random.randint(1,100,15)"
   ]
  },
  {
   "cell_type": "code",
   "execution_count": 67,
   "id": "65c6acba",
   "metadata": {},
   "outputs": [
    {
     "data": {
      "text/plain": [
       "array(['Apple', 'Banana', 'Apple', 'Banana', 'Banana', 'Banana', 'Chiku',\n",
       "       'Chiku', 'Apple', 'Banana'], dtype='<U6')"
      ]
     },
     "execution_count": 67,
     "metadata": {},
     "output_type": "execute_result"
    }
   ],
   "source": [
    "l=['Apple','Banana','Chiku']\n",
    "np.random.choice(l,10)\n"
   ]
  },
  {
   "cell_type": "code",
   "execution_count": null,
   "id": "13a7be22",
   "metadata": {},
   "outputs": [],
   "source": []
  },
  {
   "cell_type": "code",
   "execution_count": null,
   "id": "9f54dfbb",
   "metadata": {},
   "outputs": [],
   "source": []
  },
  {
   "cell_type": "code",
   "execution_count": null,
   "id": "dd578818",
   "metadata": {},
   "outputs": [],
   "source": []
  }
 ],
 "metadata": {
  "kernelspec": {
   "display_name": "Python 3 (ipykernel)",
   "language": "python",
   "name": "python3"
  },
  "language_info": {
   "codemirror_mode": {
    "name": "ipython",
    "version": 3
   },
   "file_extension": ".py",
   "mimetype": "text/x-python",
   "name": "python",
   "nbconvert_exporter": "python",
   "pygments_lexer": "ipython3",
   "version": "3.11.5"
  }
 },
 "nbformat": 4,
 "nbformat_minor": 5
}
