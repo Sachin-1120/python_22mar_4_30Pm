{
 "cells": [
  {
   "cell_type": "code",
   "execution_count": 10,
   "id": "1dd3154e",
   "metadata": {},
   "outputs": [
    {
     "data": {
      "text/plain": [
       "[{1: 'a', 2: 'b', 3: 'c'}]"
      ]
     },
     "execution_count": 10,
     "metadata": {},
     "output_type": "execute_result"
    }
   ],
   "source": [
    "l=[1,2,3]\n",
    "l1=['a','b','c']\n",
    "\n",
    "[{l[i]:l1[i] for i in range(0,3)}]\n"
   ]
  },
  {
   "cell_type": "code",
   "execution_count": 11,
   "id": "a26974ae",
   "metadata": {},
   "outputs": [
    {
     "name": "stdout",
     "output_type": "stream",
     "text": [
      "Enter nameSAchin Sharma\n"
     ]
    },
    {
     "data": {
      "text/plain": [
       "['A', 'i', 'a', 'a']"
      ]
     },
     "execution_count": 11,
     "metadata": {},
     "output_type": "execute_result"
    }
   ],
   "source": [
    "name=input('Enter name')\n",
    "\n",
    "[i for i in name if i.lower() in ['a','e','i','o','u']]"
   ]
  },
  {
   "cell_type": "code",
   "execution_count": 12,
   "id": "ca9baf85",
   "metadata": {},
   "outputs": [
    {
     "data": {
      "text/plain": [
       "[3, 4, 6]"
      ]
     },
     "execution_count": 12,
     "metadata": {},
     "output_type": "execute_result"
    }
   ],
   "source": [
    "l=[1,2,3,1,1,4,6,2]\n",
    "[i for i in l if l.count(i)==1]"
   ]
  },
  {
   "cell_type": "code",
   "execution_count": null,
   "id": "b771b587",
   "metadata": {},
   "outputs": [],
   "source": [
    "l=[1,2,3,1,1,4,6,2]\n"
   ]
  },
  {
   "cell_type": "code",
   "execution_count": 14,
   "id": "138b7954",
   "metadata": {},
   "outputs": [
    {
     "data": {
      "text/plain": [
       "[1, 2, 3, 5, 9]"
      ]
     },
     "execution_count": 14,
     "metadata": {},
     "output_type": "execute_result"
    }
   ],
   "source": [
    "l=['d',1,'a',2,3,'t','a',5,9,'s']\n",
    "[i for i in l if type(i)==int]"
   ]
  },
  {
   "cell_type": "code",
   "execution_count": 15,
   "id": "e2fb9d58",
   "metadata": {},
   "outputs": [
    {
     "data": {
      "text/plain": [
       "[1, 2, 3, 5, 9]"
      ]
     },
     "execution_count": 15,
     "metadata": {},
     "output_type": "execute_result"
    }
   ],
   "source": [
    "[i for i in l if isinstance(i,int)]"
   ]
  },
  {
   "cell_type": "code",
   "execution_count": 18,
   "id": "88d3e8ab",
   "metadata": {},
   "outputs": [
    {
     "data": {
      "text/plain": [
       "30"
      ]
     },
     "execution_count": 18,
     "metadata": {},
     "output_type": "execute_result"
    }
   ],
   "source": [
    "l=[1,2,3,4,5,6,7,8,9,10]\n",
    "sum([i for i in l if i%2==0 ])"
   ]
  },
  {
   "cell_type": "code",
   "execution_count": 19,
   "id": "9f0100f5",
   "metadata": {},
   "outputs": [
    {
     "data": {
      "text/plain": [
       "25"
      ]
     },
     "execution_count": 19,
     "metadata": {},
     "output_type": "execute_result"
    }
   ],
   "source": [
    "sum([i for i in l if i%2!=0 ])"
   ]
  },
  {
   "cell_type": "code",
   "execution_count": 20,
   "id": "2617c144",
   "metadata": {},
   "outputs": [
    {
     "data": {
      "text/plain": [
       "[30, 25]"
      ]
     },
     "execution_count": 20,
     "metadata": {},
     "output_type": "execute_result"
    }
   ],
   "source": [
    "[sum([i for i in l if i%2==0] ),sum([i for i in l if i%2!=0])]"
   ]
  },
  {
   "cell_type": "code",
   "execution_count": 27,
   "id": "bc401d38",
   "metadata": {},
   "outputs": [
    {
     "ename": "SyntaxError",
     "evalue": "invalid syntax (2752642026.py, line 2)",
     "output_type": "error",
     "traceback": [
      "\u001b[1;36m  Cell \u001b[1;32mIn[27], line 2\u001b[1;36m\u001b[0m\n\u001b[1;33m    [ if i%2==0 else pass for i in l ]\u001b[0m\n\u001b[1;37m      ^\u001b[0m\n\u001b[1;31mSyntaxError\u001b[0m\u001b[1;31m:\u001b[0m invalid syntax\n"
     ]
    }
   ],
   "source": [
    "l=[1,2,3,4,5,6,7,8,9,10]\n",
    "[ if i%2==0 else pass for i in l ]"
   ]
  },
  {
   "cell_type": "code",
   "execution_count": 28,
   "id": "887de849",
   "metadata": {},
   "outputs": [
    {
     "name": "stdout",
     "output_type": "stream",
     "text": [
      "1\n",
      "2\n",
      "3\n",
      "4\n",
      "5\n",
      "6\n",
      "7\n",
      "8\n",
      "9\n"
     ]
    }
   ],
   "source": [
    "i=1\n",
    "while i<10:\n",
    "    print(i)\n",
    "    i+=1"
   ]
  },
  {
   "cell_type": "code",
   "execution_count": null,
   "id": "7f8bc3ff",
   "metadata": {},
   "outputs": [],
   "source": [
    "1 4 5 8 9 12 13 16 17 ........\n"
   ]
  },
  {
   "cell_type": "code",
   "execution_count": 29,
   "id": "7505e9d7",
   "metadata": {},
   "outputs": [
    {
     "name": "stdout",
     "output_type": "stream",
     "text": [
      "Enter number20\n",
      "1\n",
      "4\n",
      "5\n",
      "8\n",
      "9\n",
      "12\n",
      "13\n",
      "16\n",
      "17\n"
     ]
    }
   ],
   "source": [
    "n=int(input('Enter number'))\n",
    "i=1\n",
    "print(i)\n",
    "i=4\n",
    "while i<n:\n",
    "    print(i)\n",
    "    if i%2!=0:\n",
    "        i+=3\n",
    "    else:\n",
    "        i=i+1"
   ]
  },
  {
   "cell_type": "raw",
   "id": "4c166fd9",
   "metadata": {},
   "source": [
    "prime number \n",
    "palindrome (both ways)\n",
    "fabionnici series\n",
    "amstrong number\n",
    "pattern printing(4 Ques)\n"
   ]
  },
  {
   "cell_type": "code",
   "execution_count": null,
   "id": "dc635542",
   "metadata": {},
   "outputs": [],
   "source": [
    "    "
   ]
  },
  {
   "cell_type": "code",
   "execution_count": null,
   "id": "479abbc6",
   "metadata": {},
   "outputs": [],
   "source": []
  }
 ],
 "metadata": {
  "kernelspec": {
   "display_name": "Python 3 (ipykernel)",
   "language": "python",
   "name": "python3"
  },
  "language_info": {
   "codemirror_mode": {
    "name": "ipython",
    "version": 3
   },
   "file_extension": ".py",
   "mimetype": "text/x-python",
   "name": "python",
   "nbconvert_exporter": "python",
   "pygments_lexer": "ipython3",
   "version": "3.11.5"
  }
 },
 "nbformat": 4,
 "nbformat_minor": 5
}
