{
 "cells": [
  {
   "cell_type": "raw",
   "id": "f2df9cc2",
   "metadata": {},
   "source": [
    "def function_name( Paramaters):\n",
    "    pass\n",
    "\n"
   ]
  },
  {
   "cell_type": "code",
   "execution_count": 7,
   "id": "59fbad72",
   "metadata": {},
   "outputs": [],
   "source": [
    "def add(a,b):\n",
    "    c=a+b\n",
    "    return f'Sum-->{c}'"
   ]
  },
  {
   "cell_type": "code",
   "execution_count": 8,
   "id": "7c8ea3fc",
   "metadata": {},
   "outputs": [
    {
     "name": "stdout",
     "output_type": "stream",
     "text": [
      "Sum-->8\n"
     ]
    }
   ],
   "source": [
    "print(add(5,3))"
   ]
  },
  {
   "cell_type": "code",
   "execution_count": null,
   "id": "2b6371b9",
   "metadata": {},
   "outputs": [],
   "source": []
  },
  {
   "cell_type": "code",
   "execution_count": null,
   "id": "cc0c2a81",
   "metadata": {},
   "outputs": [],
   "source": []
  },
  {
   "cell_type": "code",
   "execution_count": null,
   "id": "9bcb699a",
   "metadata": {},
   "outputs": [],
   "source": [
    "#1 function with argument and with return type\n",
    "def add(a,b):\n",
    "    return a+b\n",
    "#2 function without argument and wuth return type\n",
    "\n",
    "def add():\n",
    "    a,b=input().split()\n",
    "    return int(a)+int(b)\n",
    "#3 function with argument and without return \n",
    "def add(a,b):\n",
    "    print(a+b)\n",
    "#4 functions without argumnet and without return\n",
    "\n",
    "def add():\n",
    "    a,b=input().split()\n",
    "    print(int(a)+int(b))"
   ]
  },
  {
   "cell_type": "code",
   "execution_count": 9,
   "id": "51135e68",
   "metadata": {},
   "outputs": [],
   "source": [
    "def add():\n",
    "    a,b=input().split()\n",
    "    return int(a)+int(b)"
   ]
  },
  {
   "cell_type": "code",
   "execution_count": 10,
   "id": "4e5d0ca3",
   "metadata": {},
   "outputs": [
    {
     "name": "stdout",
     "output_type": "stream",
     "text": [
      "5 6\n"
     ]
    },
    {
     "data": {
      "text/plain": [
       "11"
      ]
     },
     "execution_count": 10,
     "metadata": {},
     "output_type": "execute_result"
    }
   ],
   "source": [
    "add()"
   ]
  },
  {
   "cell_type": "code",
   "execution_count": null,
   "id": "24350bc3",
   "metadata": {},
   "outputs": [],
   "source": []
  }
 ],
 "metadata": {
  "kernelspec": {
   "display_name": "Python 3 (ipykernel)",
   "language": "python",
   "name": "python3"
  },
  "language_info": {
   "codemirror_mode": {
    "name": "ipython",
    "version": 3
   },
   "file_extension": ".py",
   "mimetype": "text/x-python",
   "name": "python",
   "nbconvert_exporter": "python",
   "pygments_lexer": "ipython3",
   "version": "3.11.5"
  }
 },
 "nbformat": 4,
 "nbformat_minor": 5
}
