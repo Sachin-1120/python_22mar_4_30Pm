{
 "cells": [
  {
   "cell_type": "code",
   "execution_count": 1,
   "id": "4b704e0a",
   "metadata": {},
   "outputs": [
    {
     "data": {
      "text/plain": [
       "[2, 4, 6, 8, 10, 12, 14, 16, 18, 20, 22, 24, 26, 28, 30]"
      ]
     },
     "execution_count": 1,
     "metadata": {},
     "output_type": "execute_result"
    }
   ],
   "source": [
    "num=[]\n",
    "for i in range(2,31,2):\n",
    "    num.append(i)\n",
    "num"
   ]
  },
  {
   "cell_type": "code",
   "execution_count": 3,
   "id": "22d76a8a",
   "metadata": {},
   "outputs": [
    {
     "data": {
      "text/plain": [
       "[1, 2, 3, 4, 5, 6, 7, 8, 9, 10]"
      ]
     },
     "execution_count": 3,
     "metadata": {},
     "output_type": "execute_result"
    }
   ],
   "source": [
    "[i for i in range(1,11,1)]"
   ]
  },
  {
   "cell_type": "code",
   "execution_count": 4,
   "id": "8055b638",
   "metadata": {},
   "outputs": [],
   "source": [
    "num=[]\n",
    "for i in range(1,11):\n",
    "    if i%2==0:\n",
    "        num.append(i)\n",
    "    else:\n",
    "        num.append(i**2)"
   ]
  },
  {
   "cell_type": "code",
   "execution_count": 5,
   "id": "6e364fe8",
   "metadata": {},
   "outputs": [
    {
     "data": {
      "text/plain": [
       "[1, 2, 9, 4, 25, 6, 49, 8, 81, 10]"
      ]
     },
     "execution_count": 5,
     "metadata": {},
     "output_type": "execute_result"
    }
   ],
   "source": [
    "num"
   ]
  },
  {
   "cell_type": "code",
   "execution_count": 6,
   "id": "9a999489",
   "metadata": {},
   "outputs": [
    {
     "data": {
      "text/plain": [
       "[1, 2, 9, 4, 25, 6, 49, 8, 81, 10]"
      ]
     },
     "execution_count": 6,
     "metadata": {},
     "output_type": "execute_result"
    }
   ],
   "source": [
    "[i if i%2==0 else i**2 for i in range(1,11)]"
   ]
  },
  {
   "cell_type": "code",
   "execution_count": 7,
   "id": "67f29da9",
   "metadata": {},
   "outputs": [
    {
     "data": {
      "text/plain": [
       "[2,\n",
       " 4,\n",
       " 6,\n",
       " 8,\n",
       " 10,\n",
       " 12,\n",
       " 14,\n",
       " 16,\n",
       " 18,\n",
       " 20,\n",
       " 22,\n",
       " 24,\n",
       " 26,\n",
       " 28,\n",
       " 30,\n",
       " 32,\n",
       " 34,\n",
       " 36,\n",
       " 38,\n",
       " 40,\n",
       " 42,\n",
       " 44,\n",
       " 46,\n",
       " 48,\n",
       " 50]"
      ]
     },
     "execution_count": 7,
     "metadata": {},
     "output_type": "execute_result"
    }
   ],
   "source": [
    "[i for i in range(1,51) if i%2==0]"
   ]
  },
  {
   "cell_type": "code",
   "execution_count": 12,
   "id": "51545c84",
   "metadata": {},
   "outputs": [],
   "source": [
    "l=['Sachin','Ravi','Deepratan','Gourav']\n",
    "a=[]\n",
    "for i in l:\n",
    "    b=[]\n",
    "    for j in i:\n",
    "        b.append(j)\n",
    "    a.append(b)"
   ]
  },
  {
   "cell_type": "code",
   "execution_count": 13,
   "id": "63b4a028",
   "metadata": {},
   "outputs": [
    {
     "data": {
      "text/plain": [
       "[['S', 'a', 'c', 'h', 'i', 'n'],\n",
       " ['R', 'a', 'v', 'i'],\n",
       " ['D', 'e', 'e', 'p', 'r', 'a', 't', 'a', 'n'],\n",
       " ['G', 'o', 'u', 'r', 'a', 'v']]"
      ]
     },
     "execution_count": 13,
     "metadata": {},
     "output_type": "execute_result"
    }
   ],
   "source": [
    "a"
   ]
  },
  {
   "cell_type": "code",
   "execution_count": 15,
   "id": "43c713a3",
   "metadata": {},
   "outputs": [
    {
     "data": {
      "text/plain": [
       "[['S', 'a', 'c', 'h', 'i', 'n'],\n",
       " ['R', 'a', 'v', 'i'],\n",
       " ['D', 'e', 'e', 'p', 'r', 'a', 't', 'a', 'n'],\n",
       " ['G', 'o', 'u', 'r', 'a', 'v']]"
      ]
     },
     "execution_count": 15,
     "metadata": {},
     "output_type": "execute_result"
    }
   ],
   "source": [
    "l=['Sachin','Ravi','Deepratan','Gourav']\n",
    "[[j for j in i] for i in l ]"
   ]
  },
  {
   "cell_type": "code",
   "execution_count": 16,
   "id": "6c6d4cbe",
   "metadata": {},
   "outputs": [
    {
     "name": "stdout",
     "output_type": "stream",
     "text": [
      "Enter Password to checkSachin@grras\n"
     ]
    },
    {
     "data": {
      "text/plain": [
       "{'@', 'S', 'a', 'c', 'g', 'h', 'i', 'n', 'r', 's'}"
      ]
     },
     "execution_count": 16,
     "metadata": {},
     "output_type": "execute_result"
    }
   ],
   "source": [
    "#password Checker\n",
    "\n",
    "set(password)"
   ]
  },
  {
   "cell_type": "code",
   "execution_count": 20,
   "id": "6b3dfe04",
   "metadata": {},
   "outputs": [],
   "source": [
    "d=dict.fromkeys(set(password),0)"
   ]
  },
  {
   "cell_type": "code",
   "execution_count": 21,
   "id": "f67094c1",
   "metadata": {},
   "outputs": [
    {
     "data": {
      "text/plain": [
       "{'c': 0,\n",
       " 'S': 0,\n",
       " 's': 0,\n",
       " 'h': 0,\n",
       " '@': 0,\n",
       " 'g': 0,\n",
       " 'a': 0,\n",
       " 'r': 0,\n",
       " 'n': 0,\n",
       " 'i': 0}"
      ]
     },
     "execution_count": 21,
     "metadata": {},
     "output_type": "execute_result"
    }
   ],
   "source": [
    "d"
   ]
  },
  {
   "cell_type": "code",
   "execution_count": 23,
   "id": "96d1aaf7",
   "metadata": {},
   "outputs": [],
   "source": [
    "for i in password:\n",
    "    d[i]+=1\n"
   ]
  },
  {
   "cell_type": "code",
   "execution_count": 24,
   "id": "98239537",
   "metadata": {},
   "outputs": [
    {
     "data": {
      "text/plain": [
       "{'c': 1,\n",
       " 'S': 1,\n",
       " 's': 1,\n",
       " 'h': 1,\n",
       " '@': 1,\n",
       " 'g': 1,\n",
       " 'a': 2,\n",
       " 'r': 2,\n",
       " 'n': 1,\n",
       " 'i': 1}"
      ]
     },
     "execution_count": 24,
     "metadata": {},
     "output_type": "execute_result"
    }
   ],
   "source": [
    "d"
   ]
  },
  {
   "cell_type": "code",
   "execution_count": 28,
   "id": "d3ab8558",
   "metadata": {},
   "outputs": [
    {
     "name": "stdout",
     "output_type": "stream",
     "text": [
      "Enter Password to checkSachin@Grras12\n",
      "Very Strong Password\n"
     ]
    }
   ],
   "source": [
    "password=input('Enter Password to check')\n",
    "#d=dict.fromkeys(set(password),0)\n",
    "characters='abcdefghijklmnopqrstuvwxyz'\n",
    "special='@#$!%'\n",
    "number='0123456789'\n",
    "a,b,c,d=0,0,0,0\n",
    "\n",
    "for i in set(password):\n",
    "    if i in characters:\n",
    "        a=1\n",
    "    elif i in characters.upper():\n",
    "        b=1\n",
    "    elif i in special:\n",
    "        c=1\n",
    "    elif i in number:\n",
    "        d=1\n",
    "if a+b+c+d==4 and len(password)>=8:\n",
    "    print('Very Strong Password')\n",
    "elif a+b+c+d==3 and len(password)>=8:\n",
    "    print('Password either not contain Upper Character or special characters or number')\n",
    "elif a+b+c+d<=2 and len(password)>=8:\n",
    "    print('Very Weak Password need to add some Special Symbols')\n",
    "elif len(password)<8:\n",
    "    print('Password Should have atleast 8 Characters')\n",
    "        \n",
    "    \n",
    "    \n",
    "        "
   ]
  },
  {
   "cell_type": "code",
   "execution_count": 37,
   "id": "0aacfffc",
   "metadata": {},
   "outputs": [
    {
     "name": "stdout",
     "output_type": "stream",
     "text": [
      "Enter Number3\n",
      "----c----\n",
      "----\n",
      "\n",
      "--*-*-*--\n",
      "----*----\n"
     ]
    }
   ],
   "source": [
    "n=int(input('Enter Number'))\n",
    "dash=2*n-2\n",
    "pattern=1\n",
    "for i in range(0,2*n-1):\n",
    "    if i<n:\n",
    "        print('-'*dash+'-'.join(list((a[n-1:n-1-pattern:-1])))+'-'*dash)\n",
    "        dash-=2\n",
    "        pattern+=2\n",
    "    else:\n",
    "        dash+=2\n",
    "        pattern-=2\n",
    "        print('-'*dash+'-'.join(list(('*'*pattern)))+'-'*dash)\n",
    "    if i==n-1:\n",
    "        dash+=2\n",
    "        pattern-=2\n",
    "       \n",
    "    "
   ]
  },
  {
   "cell_type": "code",
   "execution_count": 36,
   "id": "c7a760e0",
   "metadata": {},
   "outputs": [
    {
     "data": {
      "text/plain": [
       "'cba'"
      ]
     },
     "execution_count": 36,
     "metadata": {},
     "output_type": "execute_result"
    }
   ],
   "source": [
    "a='abcdefghijklmnopqrstuvwxyz'\n",
    "a[3-1::-1]"
   ]
  },
  {
   "cell_type": "code",
   "execution_count": null,
   "id": "b3ca60b7",
   "metadata": {},
   "outputs": [],
   "source": []
  },
  {
   "cell_type": "code",
   "execution_count": 50,
   "id": "e90d4e75",
   "metadata": {},
   "outputs": [
    {
     "name": "stdout",
     "output_type": "stream",
     "text": [
      "Enter Number10\n",
      "------------------j------------------\n",
      "----------------j-i-j----------------\n",
      "--------------j-i-h-i-j--------------\n",
      "------------j-i-h-g-h-i-j------------\n",
      "----------j-i-h-g-f-g-h-i-j----------\n",
      "--------j-i-h-g-f-e-f-g-h-i-j--------\n",
      "------j-i-h-g-f-e-d-e-f-g-h-i-j------\n",
      "----j-i-h-g-f-e-d-c-d-e-f-g-h-i-j----\n",
      "--j-i-h-g-f-e-d-c-b-c-d-e-f-g-h-i-j--\n",
      "j-i-h-g-f-e-d-c-b-a-b-c-d-e-f-g-h-i-j\n",
      "--j-i-h-g-f-e-d-c-b-c-d-e-f-g-h-i-j--\n",
      "----j-i-h-g-f-e-d-c-d-e-f-g-h-i-j----\n",
      "------j-i-h-g-f-e-d-e-f-g-h-i-j------\n",
      "--------j-i-h-g-f-e-f-g-h-i-j--------\n",
      "----------j-i-h-g-f-g-h-i-j----------\n",
      "------------j-i-h-g-h-i-j------------\n",
      "--------------j-i-h-i-j--------------\n",
      "----------------j-i-j----------------\n",
      "------------------j------------------\n"
     ]
    }
   ],
   "source": [
    "n=int(input('Enter Number'))\n",
    "dash=2*n-2\n",
    "alpha=1\n",
    "a='abcdefghijklmnopqrstuvwxyz'\n",
    "for i in range(0,n):\n",
    "    print('-'*dash+'-'.join(list(a[n-alpha:n:1][::-1]+a[n+1-alpha:n]))+'-'*dash)\n",
    "    dash-=2\n",
    "    alpha+=1\n",
    "dash+=4\n",
    "alpha-=2\n",
    "for i in range(0,n-1):\n",
    "    print('-'*dash+'-'.join(list(a[n-alpha:n:1][::-1]+a[n+1-alpha:n]))+'-'*dash)\n",
    "    dash+=2\n",
    "    alpha-=1\n",
    "    "
   ]
  },
  {
   "cell_type": "code",
   "execution_count": 39,
   "id": "7b7d653d",
   "metadata": {},
   "outputs": [
    {
     "data": {
      "text/plain": [
       "'*-*-*'"
      ]
     },
     "execution_count": 39,
     "metadata": {},
     "output_type": "execute_result"
    }
   ],
   "source": [
    "'-'.join(list('***'))"
   ]
  },
  {
   "cell_type": "code",
   "execution_count": null,
   "id": "2a66c457",
   "metadata": {},
   "outputs": [],
   "source": []
  }
 ],
 "metadata": {
  "kernelspec": {
   "display_name": "Python 3 (ipykernel)",
   "language": "python",
   "name": "python3"
  },
  "language_info": {
   "codemirror_mode": {
    "name": "ipython",
    "version": 3
   },
   "file_extension": ".py",
   "mimetype": "text/x-python",
   "name": "python",
   "nbconvert_exporter": "python",
   "pygments_lexer": "ipython3",
   "version": "3.11.5"
  }
 },
 "nbformat": 4,
 "nbformat_minor": 5
}
