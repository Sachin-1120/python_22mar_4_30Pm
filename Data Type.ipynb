{
 "cells": [
  {
   "cell_type": "code",
   "execution_count": 2,
   "id": "95782dcd",
   "metadata": {},
   "outputs": [
    {
     "data": {
      "text/plain": [
       "8"
      ]
     },
     "execution_count": 2,
     "metadata": {},
     "output_type": "execute_result"
    }
   ],
   "source": [
    "a=5\n",
    "b=15\n",
    "a.bit_count() * b.bit_count()"
   ]
  },
  {
   "cell_type": "code",
   "execution_count": 10,
   "id": "54a0dfd8",
   "metadata": {},
   "outputs": [],
   "source": [
    "a=5.259+3j"
   ]
  },
  {
   "cell_type": "code",
   "execution_count": 11,
   "id": "d05cd3cd",
   "metadata": {},
   "outputs": [
    {
     "data": {
      "text/plain": [
       "5.259"
      ]
     },
     "execution_count": 11,
     "metadata": {},
     "output_type": "execute_result"
    }
   ],
   "source": [
    "a.real"
   ]
  },
  {
   "cell_type": "code",
   "execution_count": 15,
   "id": "8006aed6",
   "metadata": {},
   "outputs": [
    {
     "name": "stdout",
     "output_type": "stream",
     "text": [
      "Hello\n",
      "Bye\n"
     ]
    }
   ],
   "source": [
    "#hello print statement\n",
    "\n",
    "'''\n",
    "\n",
    " kmlnihioh\n",
    " bjkbj\n",
    " njbkbkn\n",
    "'''\n",
    "print('Hello')\n",
    "print('Bye')"
   ]
  },
  {
   "cell_type": "code",
   "execution_count": 22,
   "id": "f9518afb",
   "metadata": {},
   "outputs": [
    {
     "name": "stdout",
     "output_type": "stream",
     "text": [
      "\n",
      "\n",
      "th5vor\n",
      "cr4njbr4\n",
      "\n",
      "\n",
      "\n"
     ]
    }
   ],
   "source": [
    "a='Sachin'\n",
    "a=\"Sachin\"\n",
    "a='''\n",
    "\n",
    "th5vor\n",
    "cr4njbr4\n",
    "\n",
    "\n",
    "'''\n",
    "print(a)"
   ]
  },
  {
   "cell_type": "code",
   "execution_count": 18,
   "id": "ae24b06c",
   "metadata": {},
   "outputs": [
    {
     "name": "stdout",
     "output_type": "stream",
     "text": [
      "\n",
      "uhioh\n",
      "njrf4jk\n",
      "\n",
      "\n",
      "\n"
     ]
    }
   ],
   "source": [
    "\n",
    "a=\"\"\"\n",
    "uhioh\n",
    "njrf4jk\n",
    "\n",
    "\n",
    "\"\"\"\n",
    "print(a)"
   ]
  },
  {
   "cell_type": "code",
   "execution_count": 23,
   "id": "aef8becd",
   "metadata": {},
   "outputs": [
    {
     "data": {
      "text/plain": [
       "'o'"
      ]
     },
     "execution_count": 23,
     "metadata": {},
     "output_type": "execute_result"
    }
   ],
   "source": [
    "s='Hello Everyone'\n",
    "s[4]"
   ]
  },
  {
   "cell_type": "code",
   "execution_count": 24,
   "id": "c094199f",
   "metadata": {},
   "outputs": [
    {
     "data": {
      "text/plain": [
       "'d'"
      ]
     },
     "execution_count": 24,
     "metadata": {},
     "output_type": "execute_result"
    }
   ],
   "source": [
    "s='Good Evening'\n",
    "s[3]"
   ]
  },
  {
   "cell_type": "code",
   "execution_count": 28,
   "id": "4df8051c",
   "metadata": {},
   "outputs": [
    {
     "data": {
      "text/plain": [
       "'Gd'"
      ]
     },
     "execution_count": 28,
     "metadata": {},
     "output_type": "execute_result"
    }
   ],
   "source": [
    "s[0]+s[3]"
   ]
  },
  {
   "cell_type": "code",
   "execution_count": 29,
   "id": "d6489e1c",
   "metadata": {},
   "outputs": [
    {
     "data": {
      "text/plain": [
       "'llo Ev'"
      ]
     },
     "execution_count": 29,
     "metadata": {},
     "output_type": "execute_result"
    }
   ],
   "source": [
    "s='Hello Everyone'\n",
    "s[2:8:]"
   ]
  },
  {
   "cell_type": "code",
   "execution_count": 30,
   "id": "31e5c084",
   "metadata": {},
   "outputs": [
    {
     "data": {
      "text/plain": [
       "'ng Py'"
      ]
     },
     "execution_count": 30,
     "metadata": {},
     "output_type": "execute_result"
    }
   ],
   "source": [
    "s='Good Evening Python Students'\n"
   ]
  },
  {
   "cell_type": "code",
   "execution_count": 33,
   "id": "0be9b61d",
   "metadata": {},
   "outputs": [
    {
     "data": {
      "text/plain": [
       "'loE'"
      ]
     },
     "execution_count": 33,
     "metadata": {},
     "output_type": "execute_result"
    }
   ],
   "source": [
    "s='Hello Everyone'\n",
    "s[2:8:2]"
   ]
  },
  {
   "cell_type": "code",
   "execution_count": 39,
   "id": "0d26ab56",
   "metadata": {},
   "outputs": [
    {
     "data": {
      "text/plain": [
       "''"
      ]
     },
     "execution_count": 39,
     "metadata": {},
     "output_type": "execute_result"
    }
   ],
   "source": [
    "s='Hello Everyone'\n",
    "s[2:5:-2]"
   ]
  },
  {
   "cell_type": "code",
   "execution_count": 37,
   "id": "e7b695c1",
   "metadata": {},
   "outputs": [
    {
     "data": {
      "text/plain": [
       "'e'"
      ]
     },
     "execution_count": 37,
     "metadata": {},
     "output_type": "execute_result"
    }
   ],
   "source": [
    "s[-1]"
   ]
  },
  {
   "cell_type": "code",
   "execution_count": 41,
   "id": "8a1bf69f",
   "metadata": {},
   "outputs": [
    {
     "data": {
      "text/plain": [
       "'Engyt'"
      ]
     },
     "execution_count": 41,
     "metadata": {},
     "output_type": "execute_result"
    }
   ],
   "source": [
    "s='Good Evening Python Students'\n",
    "s[5:15:3]+s[15:14:-1]+s[2:5:-2]"
   ]
  },
  {
   "cell_type": "code",
   "execution_count": 40,
   "id": "819fe99e",
   "metadata": {},
   "outputs": [
    {
     "data": {
      "text/plain": [
       "'Sa'"
      ]
     },
     "execution_count": 40,
     "metadata": {},
     "output_type": "execute_result"
    }
   ],
   "source": [
    "''+'Sa'"
   ]
  },
  {
   "cell_type": "code",
   "execution_count": 42,
   "id": "e30ffd11",
   "metadata": {},
   "outputs": [
    {
     "data": {
      "text/plain": [
       "'nSue'"
      ]
     },
     "execution_count": 42,
     "metadata": {},
     "output_type": "execute_result"
    }
   ],
   "source": [
    "s='Good Evening Python Students'\n",
    "s[-10:-2:2]"
   ]
  },
  {
   "cell_type": "code",
   "execution_count": 3,
   "id": "a823c211",
   "metadata": {},
   "outputs": [
    {
     "data": {
      "text/plain": [
       "str"
      ]
     },
     "execution_count": 3,
     "metadata": {},
     "output_type": "execute_result"
    }
   ],
   "source": [
    "type('5')"
   ]
  },
  {
   "cell_type": "code",
   "execution_count": 4,
   "id": "6eebbe45",
   "metadata": {},
   "outputs": [
    {
     "data": {
      "text/plain": [
       "'53'"
      ]
     },
     "execution_count": 4,
     "metadata": {},
     "output_type": "execute_result"
    }
   ],
   "source": [
    "'5'+'3'"
   ]
  },
  {
   "cell_type": "code",
   "execution_count": 5,
   "id": "8e934dc6",
   "metadata": {},
   "outputs": [
    {
     "data": {
      "text/plain": [
       "8"
      ]
     },
     "execution_count": 5,
     "metadata": {},
     "output_type": "execute_result"
    }
   ],
   "source": [
    "5+3"
   ]
  },
  {
   "cell_type": "code",
   "execution_count": 8,
   "id": "d7672c7d",
   "metadata": {},
   "outputs": [],
   "source": [
    "a='''\n",
    "sds;x,fp,ds\n",
    "\n",
    "\n",
    "'''"
   ]
  },
  {
   "cell_type": "code",
   "execution_count": 9,
   "id": "4db6cd52",
   "metadata": {},
   "outputs": [
    {
     "name": "stdout",
     "output_type": "stream",
     "text": [
      "Hello Everyone Sachin \n"
     ]
    }
   ],
   "source": [
    "var='Sachin'\n",
    "s=f'Hello Everyone {var}'\n",
    "print(s)"
   ]
  },
  {
   "cell_type": "code",
   "execution_count": 11,
   "id": "d026f555",
   "metadata": {},
   "outputs": [
    {
     "name": "stdout",
     "output_type": "stream",
     "text": [
      "Hello Sachin    ,  Hello Everyone Sachin \n"
     ]
    }
   ],
   "source": [
    "print(f'Hello {var}    ,  {s}')"
   ]
  },
  {
   "cell_type": "code",
   "execution_count": 12,
   "id": "f0b9d63d",
   "metadata": {},
   "outputs": [
    {
     "name": "stdout",
     "output_type": "stream",
     "text": [
      "SachinSachinSachinSachinSachinSachinSachinSachinSachinSachinSachinSachinSachinSachinSachinSachinSachinSachinSachinSachin\n"
     ]
    }
   ],
   "source": [
    "print('Sachin'*20)"
   ]
  },
  {
   "cell_type": "code",
   "execution_count": 13,
   "id": "6c415d9c",
   "metadata": {},
   "outputs": [
    {
     "name": "stdout",
     "output_type": "stream",
     "text": [
      "******************************\n"
     ]
    }
   ],
   "source": [
    "print('*'*30)"
   ]
  },
  {
   "cell_type": "code",
   "execution_count": null,
   "id": "cfbad570",
   "metadata": {},
   "outputs": [],
   "source": []
  },
  {
   "cell_type": "code",
   "execution_count": null,
   "id": "27f2db7c",
   "metadata": {},
   "outputs": [],
   "source": []
  },
  {
   "cell_type": "code",
   "execution_count": 17,
   "id": "04064da5",
   "metadata": {},
   "outputs": [
    {
     "name": "stdout",
     "output_type": "stream",
     "text": [
      "Enter Boarding StationJaipur\n",
      "Enter Destination StationDElhi\n",
      "Enter Total Kms Travel280\n"
     ]
    }
   ],
   "source": [
    "board=input('Enter Boarding Station')\n",
    "dest=input('Enter Destination Station')\n",
    "distance=int(input('Enter Total Kms Travel'))"
   ]
  },
  {
   "cell_type": "code",
   "execution_count": 25,
   "id": "ad86ed02",
   "metadata": {},
   "outputs": [
    {
     "name": "stdout",
     "output_type": "stream",
     "text": [
      "-------------------------\n",
      "| \tJaipur\t\t|\n",
      "|\t  | \t\t|\n",
      "|\t  | \t\t|\n",
      "|\t  | \t\t|\n",
      "| \tDElhi\t\t|\n",
      "| Total fare=3360 \t|\n",
      "-------------------------\n"
     ]
    }
   ],
   "source": [
    "print('-'*25)\n",
    "print('|',f'\\t{board}\\t\\t|')\n",
    "print('|\\t  | \\t\\t|')\n",
    "print('|\\t  | \\t\\t|')\n",
    "print('|\\t  | \\t\\t|')\n",
    "print('|',f'\\t{dest}\\t\\t|')\n",
    "print('|',f'Total fare={12*distance} \\t|')\n",
    "print('-'*25)\n",
    "\n",
    "\n"
   ]
  },
  {
   "cell_type": "code",
   "execution_count": null,
   "id": "f842a7fe",
   "metadata": {},
   "outputs": [],
   "source": [
    "s='Hello Everyone Welcome to Python Programming'\n",
    "\n",
    "'come ot mmarg olleH'"
   ]
  },
  {
   "cell_type": "code",
   "execution_count": 26,
   "id": "333a9e0d",
   "metadata": {},
   "outputs": [],
   "source": [
    "s='Hello Everyone Welcome to Python Programming'\n",
    "\n"
   ]
  },
  {
   "cell_type": "code",
   "execution_count": 35,
   "id": "506d7847",
   "metadata": {},
   "outputs": [
    {
     "data": {
      "text/plain": [
       "'comeot mmarg  olleH'"
      ]
     },
     "execution_count": 35,
     "metadata": {},
     "output_type": "execute_result"
    }
   ],
   "source": [
    "s[18:22]+''+s[24:22:-1]+' '+s[-4:-9:-1]+' '+s[5::-1]"
   ]
  },
  {
   "cell_type": "code",
   "execution_count": 37,
   "id": "2377356e",
   "metadata": {},
   "outputs": [
    {
     "data": {
      "text/plain": [
       "'olleH'"
      ]
     },
     "execution_count": 37,
     "metadata": {},
     "output_type": "execute_result"
    }
   ],
   "source": [
    "s='Hello'\n",
    "s[::-1]"
   ]
  },
  {
   "cell_type": "code",
   "execution_count": null,
   "id": "dcf6a03a",
   "metadata": {},
   "outputs": [],
   "source": []
  }
 ],
 "metadata": {
  "kernelspec": {
   "display_name": "Python 3 (ipykernel)",
   "language": "python",
   "name": "python3"
  },
  "language_info": {
   "codemirror_mode": {
    "name": "ipython",
    "version": 3
   },
   "file_extension": ".py",
   "mimetype": "text/x-python",
   "name": "python",
   "nbconvert_exporter": "python",
   "pygments_lexer": "ipython3",
   "version": "3.11.5"
  }
 },
 "nbformat": 4,
 "nbformat_minor": 5
}
