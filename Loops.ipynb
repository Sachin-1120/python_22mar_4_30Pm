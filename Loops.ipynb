{
 "cells": [
  {
   "cell_type": "code",
   "execution_count": 1,
   "id": "b89ffffe",
   "metadata": {},
   "outputs": [],
   "source": [
    "# WAP to check whether a year is leap year or not. "
   ]
  },
  {
   "cell_type": "code",
   "execution_count": 5,
   "id": "6de2d4fa",
   "metadata": {},
   "outputs": [
    {
     "name": "stdout",
     "output_type": "stream",
     "text": [
      "Share the year:2000\n",
      "2000 is not a leap year\n"
     ]
    }
   ],
   "source": [
    "year = int(input(\"Share the year:\"))\n",
    " \n",
    "if year % 100 == 0:\n",
    "    print(f'{year} is not a leap year')\n",
    "elif year%4 == 0:\n",
    "    print(f'{year} is a leap year')\n",
    "else:\n",
    "    print(\"not a leap year\")"
   ]
  },
  {
   "cell_type": "code",
   "execution_count": 6,
   "id": "13c088a2",
   "metadata": {},
   "outputs": [
    {
     "name": "stdout",
     "output_type": "stream",
     "text": [
      "enter a number1700\n",
      "its a leap year\n"
     ]
    }
   ],
   "source": [
    "year=int(input('enter a number'))\n",
    "if year%4== 0:\n",
    "    print('its a leap year')\n",
    "else:\n",
    "    print('its not a leap year')"
   ]
  },
  {
   "cell_type": "code",
   "execution_count": 8,
   "id": "e210ba0e",
   "metadata": {},
   "outputs": [
    {
     "name": "stdout",
     "output_type": "stream",
     "text": [
      "Enter a year: 2000\n",
      "Not a Leap Year\n"
     ]
    }
   ],
   "source": [
    "\n",
    "year = int(input(\"Enter a year: \"))\n",
    " \n",
    "if year / 400 == 0:\n",
    "\n",
    "    print(\"Leap Year\")\n",
    "\n",
    "elif year / 100 == 0:\n",
    "\n",
    "    print(\"Not a Leap Year\")\n",
    "\n",
    "elif year / 4 == 0:\n",
    "\n",
    "    print(\"Leap Year\")\n",
    "\n",
    "else:\n",
    "\n",
    "    print(\"Not a Leap Year\")\n"
   ]
  },
  {
   "cell_type": "code",
   "execution_count": 9,
   "id": "4f95c9ec",
   "metadata": {},
   "outputs": [
    {
     "name": "stdout",
     "output_type": "stream",
     "text": [
      "Share the year:1700\n",
      "1700 is a leap year\n"
     ]
    }
   ],
   "source": [
    "year = int(input(\"Share the year:\"))\n",
    " \n",
    "if year%4 == 0 or year%400 == 0:\n",
    "    print(f'{year} is a leap year')\n",
    "elif year % 100 == 0:\n",
    "    print(f'{year} is not a leap year')\n",
    "else:\n",
    "    print(\"not a leap year\")"
   ]
  },
  {
   "cell_type": "code",
   "execution_count": 15,
   "id": "58f3319c",
   "metadata": {},
   "outputs": [
    {
     "name": "stdout",
     "output_type": "stream",
     "text": [
      "Enter a year: 1600\n",
      "Leap Year\n"
     ]
    }
   ],
   "source": [
    "year = int(input(\"Enter a year: \"))\n",
    " \n",
    "if year % 400== 0:\n",
    "    print(\"Leap Year\")\n",
    "elif year % 100 == 0:\n",
    "    print(\"Not a Leap Year\")\n",
    "elif year % 4 == 0:\n",
    "    print(\"Leap Year\")\n",
    "else:\n",
    "    print(\"Not a Leap Year\")"
   ]
  },
  {
   "cell_type": "code",
   "execution_count": 20,
   "id": "574397d1",
   "metadata": {},
   "outputs": [
    {
     "name": "stdout",
     "output_type": "stream",
     "text": [
      "Enter a year700\n",
      "Not a Leap Year\n"
     ]
    }
   ],
   "source": [
    "year=int(input('Enter a year'))\n",
    "if year%4==0:\n",
    "    if year%100==0:\n",
    "        if year % 400 ==0:\n",
    "            print('Leap Year')\n",
    "        else:\n",
    "            print('Not a Leap Year')\n",
    "    else:\n",
    "        print('Leap Year')\n",
    "else:\n",
    "    print('Not a Leap Year')"
   ]
  },
  {
   "cell_type": "code",
   "execution_count": 29,
   "id": "93dcb6f8",
   "metadata": {},
   "outputs": [
    {
     "name": "stdout",
     "output_type": "stream",
     "text": [
      "Choose Rock as r, paper as p, scissor as s\n",
      "s\n",
      "Choose Rock as r, paper as p, scissor as s\n",
      "r\n",
      "Player Two Wins\n"
     ]
    }
   ],
   "source": [
    "pl1=input('Choose Rock as r, paper as p, scissor as s\\n')\n",
    "pl2=input('Choose Rock as r, paper as p, scissor as s\\n')\n",
    "d={'r':'s','p':'r','s':'p'}\n",
    "if pl1.lower()==pl2.lower():\n",
    "    print('Game Tied')\n",
    "elif d[pl1.lower()]==pl2.lower():\n",
    "    print('Player one Wins')\n",
    "else:\n",
    "    print('Player Two Wins')"
   ]
  },
  {
   "cell_type": "code",
   "execution_count": 30,
   "id": "aeeab15d",
   "metadata": {},
   "outputs": [],
   "source": [
    "#Looping Statemets"
   ]
  },
  {
   "cell_type": "code",
   "execution_count": 1,
   "id": "f561f29b",
   "metadata": {},
   "outputs": [
    {
     "name": "stdout",
     "output_type": "stream",
     "text": [
      "1\n",
      "2\n",
      "3\n",
      "4\n"
     ]
    }
   ],
   "source": [
    "i=1\n",
    "while i<5:\n",
    "    print(i)\n",
    "    i+=1"
   ]
  },
  {
   "cell_type": "code",
   "execution_count": 7,
   "id": "5ea3f53f",
   "metadata": {},
   "outputs": [
    {
     "name": "stdout",
     "output_type": "stream",
     "text": [
      "Enter number5\n",
      "5 * 1 = 5\n",
      "5 * 2 = 10\n",
      "5 * 3 = 15\n",
      "5 * 4 = 20\n",
      "5 * 5 = 25\n",
      "5 * 6 = 30\n",
      "5 * 7 = 35\n",
      "5 * 8 = 40\n",
      "5 * 9 = 45\n",
      "5 * 10 = 50\n",
      "Table Executed Successfully\n"
     ]
    }
   ],
   "source": [
    "n=int(input('Enter number'))\n",
    "i=1\n",
    "while i<=10:\n",
    "    print(f'{n} * {i} = {n*i}')\n",
    "    i+=1\n",
    "    \n",
    "else:\n",
    "    print('Table Executed Successfully')"
   ]
  },
  {
   "cell_type": "code",
   "execution_count": 9,
   "id": "622185eb",
   "metadata": {},
   "outputs": [
    {
     "name": "stdout",
     "output_type": "stream",
     "text": [
      "2 is even\n",
      "4 is even\n",
      "5 is odd\n",
      "66 is even\n",
      "8 is even\n",
      "2 is even\n",
      "3 is odd\n"
     ]
    }
   ],
   "source": [
    "l=[2,4,5,66,8,2,3]\n",
    "i=0\n",
    "while i<len(l):\n",
    "    if l[i]%2==0:\n",
    "        print(f'{l[i]} is even')\n",
    "    else:\n",
    "        print(f'{l[i]} is odd')\n",
    "    i+=1  "
   ]
  },
  {
   "cell_type": "code",
   "execution_count": 2,
   "id": "cb460480",
   "metadata": {},
   "outputs": [
    {
     "name": "stdout",
     "output_type": "stream",
     "text": [
      "Enter number123\n",
      "Not Palindrome\n"
     ]
    }
   ],
   "source": [
    "n=int(input('Enter number'))\n",
    "i=n\n",
    "palindrome=0\n",
    "while i!=0:\n",
    "    palindrome=palindrome*10+i%10\n",
    "    i=i//10 \n",
    "if palindrome==n:\n",
    "    print('Palindrome')\n",
    "else :\n",
    "    print('Not Palindrome')\n"
   ]
  },
  {
   "cell_type": "code",
   "execution_count": null,
   "id": "ad4df2e7",
   "metadata": {},
   "outputs": [],
   "source": [
    "# Wap to Check a number is armstrong number or not"
   ]
  },
  {
   "cell_type": "code",
   "execution_count": 4,
   "id": "5589475b",
   "metadata": {},
   "outputs": [
    {
     "name": "stdout",
     "output_type": "stream",
     "text": [
      "2 is even\n",
      "3 is odd\n",
      "5 is odd\n",
      "66 is even\n",
      "8 is even\n",
      "2 is even\n",
      "3 is odd\n"
     ]
    }
   ],
   "source": [
    "l=[2,3,5,66,8,2,3]\n",
    "i=0\n",
    "while i<len(l):\n",
    "    if l[i]%2==0:\n",
    "        print(f'{l[i]} is even')\n",
    "    else:\n",
    "        print(f'{l[i]} is odd')\n",
    "    i+=1"
   ]
  },
  {
   "cell_type": "code",
   "execution_count": 8,
   "id": "499b5952",
   "metadata": {},
   "outputs": [
    {
     "name": "stdout",
     "output_type": "stream",
     "text": [
      "Enter Total Unit Burnt250\n",
      "Total Bill--> 1000\n"
     ]
    }
   ],
   "source": [
    "n=int(input('Enter Total Unit Burnt'))\n",
    "if n<100:\n",
    "    print('Total Bill-->',0)\n",
    "elif n<200:\n",
    "    print('Total Bill-->',(n-100)*5)\n",
    "else:\n",
    "    print('Total Bill-->',(n-200)*10+500)\n"
   ]
  },
  {
   "cell_type": "code",
   "execution_count": null,
   "id": "eb2fe8f7",
   "metadata": {},
   "outputs": [],
   "source": []
  },
  {
   "cell_type": "code",
   "execution_count": 2,
   "id": "ee277bff",
   "metadata": {},
   "outputs": [
    {
     "name": "stdout",
     "output_type": "stream",
     "text": [
      "Bye\n"
     ]
    }
   ],
   "source": [
    "print('Hello') if 5>6 else print('Bye')"
   ]
  },
  {
   "cell_type": "code",
   "execution_count": 4,
   "id": "4929988e",
   "metadata": {},
   "outputs": [
    {
     "name": "stdout",
     "output_type": "stream",
     "text": [
      "6\n"
     ]
    }
   ],
   "source": [
    "a=5\n",
    "b=6\n",
    "c=1\n",
    "print(f'{a}') if a>b and a>c else print(f'{b}') if b>a and b>c else print(f'{c}')"
   ]
  },
  {
   "cell_type": "code",
   "execution_count": 6,
   "id": "3ea20d1e",
   "metadata": {},
   "outputs": [
    {
     "name": "stdout",
     "output_type": "stream",
     "text": [
      "Enter Number 5\n"
     ]
    },
    {
     "data": {
      "text/plain": [
       "'Odd'"
      ]
     },
     "execution_count": 6,
     "metadata": {},
     "output_type": "execute_result"
    }
   ],
   "source": [
    "#single line if-else even odd check\n",
    "n=int(input('Enter Number '))\n",
    "'Even' if n%2==0 else 'Odd'"
   ]
  },
  {
   "cell_type": "code",
   "execution_count": 20,
   "id": "ee4904ef",
   "metadata": {},
   "outputs": [
    {
     "name": "stdout",
     "output_type": "stream",
     "text": [
      "Enter Number123\n"
     ]
    }
   ],
   "source": [
    "n=int(input('Enter Number'))\n",
    "l=[]\n",
    "k=0\n",
    "while n!=0:\n",
    "    l.append(n%10)\n",
    "    k=k*10+n%10\n",
    "    n=n//10"
   ]
  },
  {
   "cell_type": "code",
   "execution_count": 21,
   "id": "94f1c708",
   "metadata": {},
   "outputs": [
    {
     "data": {
      "text/plain": [
       "[3, 2, 1]"
      ]
     },
     "execution_count": 21,
     "metadata": {},
     "output_type": "execute_result"
    }
   ],
   "source": [
    "l"
   ]
  },
  {
   "cell_type": "code",
   "execution_count": 22,
   "id": "b3a87791",
   "metadata": {},
   "outputs": [
    {
     "data": {
      "text/plain": [
       "321"
      ]
     },
     "execution_count": 22,
     "metadata": {},
     "output_type": "execute_result"
    }
   ],
   "source": [
    "k"
   ]
  },
  {
   "cell_type": "code",
   "execution_count": 16,
   "id": "f6ee460e",
   "metadata": {},
   "outputs": [
    {
     "data": {
      "text/plain": [
       "321"
      ]
     },
     "execution_count": 16,
     "metadata": {},
     "output_type": "execute_result"
    }
   ],
   "source": [
    "3*100+2*10+1*1"
   ]
  },
  {
   "cell_type": "code",
   "execution_count": 18,
   "id": "33809536",
   "metadata": {},
   "outputs": [
    {
     "data": {
      "text/plain": [
       "32"
      ]
     },
     "execution_count": 18,
     "metadata": {},
     "output_type": "execute_result"
    }
   ],
   "source": [
    "3*10+2"
   ]
  },
  {
   "cell_type": "code",
   "execution_count": 19,
   "id": "fcf1820b",
   "metadata": {},
   "outputs": [
    {
     "data": {
      "text/plain": [
       "320"
      ]
     },
     "execution_count": 19,
     "metadata": {},
     "output_type": "execute_result"
    }
   ],
   "source": [
    "32*10"
   ]
  },
  {
   "cell_type": "code",
   "execution_count": 30,
   "id": "14364820",
   "metadata": {},
   "outputs": [
    {
     "name": "stdout",
     "output_type": "stream",
     "text": [
      "Enter a number25\n",
      "Not Armstrong\n"
     ]
    }
   ],
   "source": [
    "# Wap to Check a number is armstrong number or not #len  str\n",
    "n=int(input('Enter a number'))\n",
    "i=n\n",
    "result=0\n",
    "while i!=0:\n",
    "    result=result+((i%10)**len(str(n)))\n",
    "    i=i//10\n",
    "if result==n:\n",
    "    print('Armstrong')\n",
    "else:\n",
    "    print('Not Armstrong')"
   ]
  },
  {
   "cell_type": "code",
   "execution_count": 33,
   "id": "6cd21919",
   "metadata": {},
   "outputs": [
    {
     "name": "stdout",
     "output_type": "stream",
     "text": [
      "Enter a number13\n",
      "Prime\n"
     ]
    }
   ],
   "source": [
    "# WAP to check a number is prime or not\n",
    "n=int(input('Enter a number'))\n",
    "i=2\n",
    "while i<n:\n",
    "    if n%i==0:\n",
    "        print('Not Prime')\n",
    "        break\n",
    "    i+=1\n",
    "else:\n",
    "    print('Prime') "
   ]
  },
  {
   "cell_type": "code",
   "execution_count": null,
   "id": "fdea41e4",
   "metadata": {},
   "outputs": [],
   "source": [
    "#wap to print all number divisible by 3 and 5 between 1 to 100"
   ]
  },
  {
   "cell_type": "code",
   "execution_count": 34,
   "id": "05c4d010",
   "metadata": {},
   "outputs": [
    {
     "name": "stdout",
     "output_type": "stream",
     "text": [
      "15\n",
      "30\n",
      "45\n",
      "60\n",
      "75\n",
      "90\n"
     ]
    }
   ],
   "source": [
    "i=1\n",
    "while i<=100:\n",
    "    if i%3==0 and i%5==0:\n",
    "        print(i)\n",
    "    i+=1"
   ]
  },
  {
   "cell_type": "code",
   "execution_count": 5,
   "id": "263afd5e",
   "metadata": {},
   "outputs": [
    {
     "name": "stdout",
     "output_type": "stream",
     "text": [
      "Enter a number12345\n",
      "120\n"
     ]
    }
   ],
   "source": [
    "n=int(input('Enter a number'))\n",
    "result=1\n",
    "while n!=0:\n",
    "    result=result*(n%10)\n",
    "    n=n//10\n",
    "print(result)"
   ]
  },
  {
   "cell_type": "code",
   "execution_count": 6,
   "id": "54131a1e",
   "metadata": {},
   "outputs": [
    {
     "data": {
      "text/plain": [
       "0"
      ]
     },
     "execution_count": 6,
     "metadata": {},
     "output_type": "execute_result"
    }
   ],
   "source": [
    "1//10"
   ]
  },
  {
   "cell_type": "code",
   "execution_count": 7,
   "id": "075105a9",
   "metadata": {},
   "outputs": [
    {
     "data": {
      "text/plain": [
       "0"
      ]
     },
     "execution_count": 7,
     "metadata": {},
     "output_type": "execute_result"
    }
   ],
   "source": [
    "0//10"
   ]
  },
  {
   "cell_type": "code",
   "execution_count": 9,
   "id": "50663d10",
   "metadata": {},
   "outputs": [
    {
     "name": "stdout",
     "output_type": "stream",
     "text": [
      "Enter number2587\n",
      "178\n"
     ]
    }
   ],
   "source": [
    "n=int(input('Enter number'))\n",
    "result=0\n",
    "while n!=0:\n",
    "    if n%2==0:\n",
    "        result=result+(n%10)**2\n",
    "    elif n%3==0 or n%5==0:\n",
    "        result=result+(n%10)**3\n",
    "    else:\n",
    "        result=result-15\n",
    "    n=n//10\n",
    "print(result)"
   ]
  },
  {
   "cell_type": "code",
   "execution_count": 13,
   "id": "ff64a0b6",
   "metadata": {},
   "outputs": [],
   "source": [
    "if 5>4:\n",
    "    pass\n"
   ]
  },
  {
   "cell_type": "code",
   "execution_count": 15,
   "id": "a2961ab7",
   "metadata": {},
   "outputs": [
    {
     "name": "stdout",
     "output_type": "stream",
     "text": [
      "Hi\n"
     ]
    }
   ],
   "source": [
    "if 5>4:\n",
    "    print('Hi')\n",
    "else:\n",
    "    print('Bye')"
   ]
  },
  {
   "cell_type": "code",
   "execution_count": 17,
   "id": "69f536b8",
   "metadata": {},
   "outputs": [
    {
     "name": "stdout",
     "output_type": "stream",
     "text": [
      "Hi\n",
      "bye\n"
     ]
    }
   ],
   "source": [
    "if 5>4:\n",
    "    print('Hi')\n",
    "    print('bye')\n",
    "else:\n",
    "    print('Byebye')\n",
    "    "
   ]
  },
  {
   "cell_type": "code",
   "execution_count": 20,
   "id": "bde681f4",
   "metadata": {},
   "outputs": [
    {
     "name": "stdout",
     "output_type": "stream",
     "text": [
      "hi\n",
      "hi\n"
     ]
    }
   ],
   "source": [
    "i=6\n",
    "while i>4:\n",
    "    print('hi')\n",
    "    i+=1\n",
    "    if i==8:\n",
    "        i=3\n",
    "    continue\n",
    "    print('bye')\n",
    "   "
   ]
  },
  {
   "cell_type": "code",
   "execution_count": 22,
   "id": "14f0c707",
   "metadata": {},
   "outputs": [
    {
     "name": "stdout",
     "output_type": "stream",
     "text": [
      "0\n",
      "2\n",
      "4\n"
     ]
    }
   ],
   "source": [
    "for i in range(0,5,2):\n",
    "    print(i)"
   ]
  },
  {
   "cell_type": "code",
   "execution_count": 23,
   "id": "9debcd63",
   "metadata": {},
   "outputs": [
    {
     "name": "stdout",
     "output_type": "stream",
     "text": [
      "0\n",
      "1\n",
      "2\n",
      "3\n",
      "4\n",
      "5\n",
      "6\n",
      "7\n",
      "8\n",
      "9\n"
     ]
    }
   ],
   "source": [
    "for i in range(0,10):\n",
    "    print(i)"
   ]
  },
  {
   "cell_type": "code",
   "execution_count": 24,
   "id": "895be28e",
   "metadata": {},
   "outputs": [
    {
     "name": "stdout",
     "output_type": "stream",
     "text": [
      "4\n",
      "5\n",
      "6\n",
      "8\n",
      "2\n"
     ]
    }
   ],
   "source": [
    "l=[4,5,6,8,2]\n",
    "for i in l:\n",
    "    print(i)"
   ]
  },
  {
   "cell_type": "code",
   "execution_count": 25,
   "id": "039de67d",
   "metadata": {},
   "outputs": [
    {
     "name": "stdout",
     "output_type": "stream",
     "text": [
      "Enter number5\n",
      "5 * 1 --> 5\n",
      "5 * 2 --> 10\n",
      "5 * 3 --> 15\n",
      "5 * 4 --> 20\n",
      "5 * 5 --> 25\n",
      "5 * 6 --> 30\n",
      "5 * 7 --> 35\n",
      "5 * 8 --> 40\n",
      "5 * 9 --> 45\n",
      "5 * 10 --> 50\n"
     ]
    }
   ],
   "source": [
    "n=int(input('Enter number'))\n",
    "for i in range(1,11):\n",
    "    print(f'{n} * {i} --> {n*i}')"
   ]
  },
  {
   "cell_type": "code",
   "execution_count": 26,
   "id": "a09ec7f9",
   "metadata": {},
   "outputs": [
    {
     "name": "stdout",
     "output_type": "stream",
     "text": [
      "S\n",
      "a\n",
      "c\n",
      "h\n",
      "i\n",
      "n\n"
     ]
    }
   ],
   "source": [
    "for i in 'Sachin':\n",
    "    print(i)"
   ]
  },
  {
   "cell_type": "code",
   "execution_count": null,
   "id": "ec29ddb8",
   "metadata": {},
   "outputs": [],
   "source": [
    "#list of number user:\n",
    "#Even Odd \n",
    "#Count of Even Odd"
   ]
  },
  {
   "cell_type": "code",
   "execution_count": 28,
   "id": "4c1c41c7",
   "metadata": {},
   "outputs": [
    {
     "name": "stdout",
     "output_type": "stream",
     "text": [
      "Enter number4 5 6 8 7 9 2\n"
     ]
    }
   ],
   "source": [
    "a=list(input('Enter number').split())"
   ]
  },
  {
   "cell_type": "code",
   "execution_count": 29,
   "id": "d07eb112",
   "metadata": {},
   "outputs": [
    {
     "data": {
      "text/plain": [
       "['4', '5', '6', '8', '7', '9', '2']"
      ]
     },
     "execution_count": 29,
     "metadata": {},
     "output_type": "execute_result"
    }
   ],
   "source": [
    "a"
   ]
  },
  {
   "cell_type": "code",
   "execution_count": 30,
   "id": "a00dd683",
   "metadata": {},
   "outputs": [
    {
     "name": "stdout",
     "output_type": "stream",
     "text": [
      "Even\n",
      "odd\n",
      "Even\n",
      "Even\n",
      "odd\n",
      "odd\n",
      "Even\n",
      "Total Even--> 4\n",
      "Total Odd--> 3\n"
     ]
    }
   ],
   "source": [
    "d={'even':0,'odd':0}\n",
    "for i in a:\n",
    "    i=int(i)\n",
    "    if i%2==0:\n",
    "        print('Even')\n",
    "        d['even']+=1\n",
    "    else:\n",
    "        print('odd')\n",
    "        d['odd']+=1\n",
    "print('Total Even-->',d['beeven'])\n",
    "print('Total Odd-->',d['odd'])\n"
   ]
  },
  {
   "cell_type": "code",
   "execution_count": null,
   "id": "ebab3687",
   "metadata": {},
   "outputs": [],
   "source": []
  },
  {
   "cell_type": "code",
   "execution_count": null,
   "id": "4a9d15b8",
   "metadata": {},
   "outputs": [],
   "source": [
    "# WAP to Find the Factorial of a number using for loop"
   ]
  },
  {
   "cell_type": "code",
   "execution_count": 31,
   "id": "c390a460",
   "metadata": {},
   "outputs": [
    {
     "name": "stdout",
     "output_type": "stream",
     "text": [
      "Enter a number5\n",
      "Factorial of 5 --> 120\n"
     ]
    }
   ],
   "source": [
    "n=int(input('Enter a number'))\n",
    "fact=1\n",
    "for i in range(1,n+1):\n",
    "    fact=fact*i\n",
    "print(f'Factorial of {n} --> {fact}')"
   ]
  },
  {
   "cell_type": "code",
   "execution_count": 33,
   "id": "3533247c",
   "metadata": {},
   "outputs": [
    {
     "name": "stdout",
     "output_type": "stream",
     "text": [
      "Enter a number13\n",
      "Prime\n"
     ]
    }
   ],
   "source": [
    "n=int(input('Enter a number'))\n",
    "for i in range(2,n):\n",
    "    if n%i==0:\n",
    "        print('Not Prime')\n",
    "        break\n",
    "else:\n",
    "    print('Prime')"
   ]
  },
  {
   "cell_type": "code",
   "execution_count": null,
   "id": "9a52de08",
   "metadata": {},
   "outputs": [],
   "source": []
  }
 ],
 "metadata": {
  "kernelspec": {
   "display_name": "Python 3 (ipykernel)",
   "language": "python",
   "name": "python3"
  },
  "language_info": {
   "codemirror_mode": {
    "name": "ipython",
    "version": 3
   },
   "file_extension": ".py",
   "mimetype": "text/x-python",
   "name": "python",
   "nbconvert_exporter": "python",
   "pygments_lexer": "ipython3",
   "version": "3.11.5"
  }
 },
 "nbformat": 4,
 "nbformat_minor": 5
}
